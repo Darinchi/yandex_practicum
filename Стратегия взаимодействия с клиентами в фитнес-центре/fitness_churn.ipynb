{
 "cells": [
  {
   "cell_type": "markdown",
   "metadata": {},
   "source": [
    "# Стратегия взаимодействия с клиентами в фитнес-центре"
   ]
  },
  {
   "cell_type": "markdown",
   "metadata": {},
   "source": [
    "Сеть фитнес-центров «Культурист-датасаентист» разрабатывает стратегию взаимодействия с клиентами.\n",
    "\n",
    "Наша задача — провести анализ и подготовить план действий по удержанию клиентов. Для этого нам предоcтавили данные на месяц до оттока и факт оттока на определённый месяц.\n",
    "\n",
    "План проекта:\n",
    "\n",
    "1. спрогнозировать вероятность оттока (на уровне следующего месяца) для каждого клиента;\n",
    "\n",
    "2. сформировать типичные портреты пользователей: выделить несколько наиболее ярких групп и охарактеризовать их основные свойства;\n",
    "\n",
    "3. проанализировать основные признаки, наиболее сильно влияющие на отток;\n",
    "\n",
    "4. сформулировать основные выводы и разработать рекомендации по повышению качества работы с клиентами:\n",
    "\n",
    "  1) выделить целевые группы клиентов;\n",
    "  \n",
    "  2) предложить меры по снижению оттока;\n",
    "  \n",
    "  3) определить другие особенности взаимодействия с клиентами."
   ]
  },
  {
   "cell_type": "markdown",
   "metadata": {},
   "source": [
    "<h1>Содержание<span class=\"tocSkip\"></span></h1>\n",
    "\n",
    "\n",
    "<div class=\"toc\"><ul class=\"toc-item\"><li><span><a href=\"#Изучение-и-предобработка-данных\" data-toc-modified-id=\"Изучение-и-предобработка-данных-1\"><span class=\"toc-item-num\">1&nbsp;&nbsp;</span>Изучение и предобработка данных</a></span></li><li><span><a href=\"#Исследовательский-анализ-данных-(EDA)\" data-toc-modified-id=\"Исследовательский-анализ-данных-(EDA)-2\"><span class=\"toc-item-num\">2&nbsp;&nbsp;</span>Исследовательский анализ данных (EDA)</a></span></li><li><span><a href=\"#Модель-прогнозирования-оттока-клиентов\" data-toc-modified-id=\"Модель-прогнозирования-оттока-клиентов-3\"><span class=\"toc-item-num\">3&nbsp;&nbsp;</span>Модель прогнозирования оттока клиентов</a></span></li><li><span><a href=\"#Кластеризация-клиентов\" data-toc-modified-id=\"Кластеризация-клиентов-4\"><span class=\"toc-item-num\">4&nbsp;&nbsp;</span>Кластеризация клиентов</a></span></li><li><span><a href=\"#Общие-выводы\" data-toc-modified-id=\"Общие-выводы-5\"><span class=\"toc-item-num\">5&nbsp;&nbsp;</span>Общие выводы</a></span></li>"
   ]
  },
  {
   "cell_type": "markdown",
   "metadata": {},
   "source": [
    "## Изучение и предобработка данных"
   ]
  },
  {
   "cell_type": "code",
   "execution_count": 1,
   "metadata": {},
   "outputs": [],
   "source": [
    "import pandas as pd\n",
    "import numpy as np\n",
    "import matplotlib.pyplot as plt\n",
    "import seaborn as sns\n",
    "import sklearn\n",
    "from sklearn.model_selection import train_test_split\n",
    "from sklearn.preprocessing import StandardScaler\n",
    "from sklearn.linear_model import LogisticRegression\n",
    "from sklearn.ensemble import RandomForestClassifier\n",
    "from sklearn.metrics import accuracy_score, precision_score, recall_score, f1_score, roc_auc_score\n",
    "\n",
    "from scipy.cluster.hierarchy import dendrogram, linkage\n",
    "from sklearn.cluster import KMeans\n",
    "\n",
    "#устраним красные предупреждения\n",
    "import warnings\n",
    "warnings.filterwarnings(action='ignore')"
   ]
  },
  {
   "cell_type": "code",
   "execution_count": 2,
   "metadata": {},
   "outputs": [
    {
     "data": {
      "text/html": [
       "<div>\n",
       "<style scoped>\n",
       "    .dataframe tbody tr th:only-of-type {\n",
       "        vertical-align: middle;\n",
       "    }\n",
       "\n",
       "    .dataframe tbody tr th {\n",
       "        vertical-align: top;\n",
       "    }\n",
       "\n",
       "    .dataframe thead th {\n",
       "        text-align: right;\n",
       "    }\n",
       "</style>\n",
       "<table border=\"1\" class=\"dataframe\">\n",
       "  <thead>\n",
       "    <tr style=\"text-align: right;\">\n",
       "      <th></th>\n",
       "      <th>0</th>\n",
       "      <th>1</th>\n",
       "      <th>2</th>\n",
       "      <th>3</th>\n",
       "      <th>4</th>\n",
       "    </tr>\n",
       "  </thead>\n",
       "  <tbody>\n",
       "    <tr>\n",
       "      <th>gender</th>\n",
       "      <td>1.000000</td>\n",
       "      <td>0.000000</td>\n",
       "      <td>0.000000</td>\n",
       "      <td>0.000000</td>\n",
       "      <td>1.000000</td>\n",
       "    </tr>\n",
       "    <tr>\n",
       "      <th>Near_Location</th>\n",
       "      <td>1.000000</td>\n",
       "      <td>1.000000</td>\n",
       "      <td>1.000000</td>\n",
       "      <td>1.000000</td>\n",
       "      <td>1.000000</td>\n",
       "    </tr>\n",
       "    <tr>\n",
       "      <th>Partner</th>\n",
       "      <td>1.000000</td>\n",
       "      <td>0.000000</td>\n",
       "      <td>1.000000</td>\n",
       "      <td>1.000000</td>\n",
       "      <td>1.000000</td>\n",
       "    </tr>\n",
       "    <tr>\n",
       "      <th>Promo_friends</th>\n",
       "      <td>1.000000</td>\n",
       "      <td>0.000000</td>\n",
       "      <td>0.000000</td>\n",
       "      <td>1.000000</td>\n",
       "      <td>1.000000</td>\n",
       "    </tr>\n",
       "    <tr>\n",
       "      <th>Phone</th>\n",
       "      <td>0.000000</td>\n",
       "      <td>1.000000</td>\n",
       "      <td>1.000000</td>\n",
       "      <td>1.000000</td>\n",
       "      <td>1.000000</td>\n",
       "    </tr>\n",
       "    <tr>\n",
       "      <th>Contract_period</th>\n",
       "      <td>6.000000</td>\n",
       "      <td>12.000000</td>\n",
       "      <td>1.000000</td>\n",
       "      <td>12.000000</td>\n",
       "      <td>1.000000</td>\n",
       "    </tr>\n",
       "    <tr>\n",
       "      <th>Group_visits</th>\n",
       "      <td>1.000000</td>\n",
       "      <td>1.000000</td>\n",
       "      <td>0.000000</td>\n",
       "      <td>1.000000</td>\n",
       "      <td>0.000000</td>\n",
       "    </tr>\n",
       "    <tr>\n",
       "      <th>Age</th>\n",
       "      <td>29.000000</td>\n",
       "      <td>31.000000</td>\n",
       "      <td>28.000000</td>\n",
       "      <td>33.000000</td>\n",
       "      <td>26.000000</td>\n",
       "    </tr>\n",
       "    <tr>\n",
       "      <th>Avg_additional_charges_total</th>\n",
       "      <td>14.227470</td>\n",
       "      <td>113.202938</td>\n",
       "      <td>129.448479</td>\n",
       "      <td>62.669863</td>\n",
       "      <td>198.362265</td>\n",
       "    </tr>\n",
       "    <tr>\n",
       "      <th>Month_to_end_contract</th>\n",
       "      <td>5.000000</td>\n",
       "      <td>12.000000</td>\n",
       "      <td>1.000000</td>\n",
       "      <td>12.000000</td>\n",
       "      <td>1.000000</td>\n",
       "    </tr>\n",
       "    <tr>\n",
       "      <th>Lifetime</th>\n",
       "      <td>3.000000</td>\n",
       "      <td>7.000000</td>\n",
       "      <td>2.000000</td>\n",
       "      <td>2.000000</td>\n",
       "      <td>3.000000</td>\n",
       "    </tr>\n",
       "    <tr>\n",
       "      <th>Avg_class_frequency_total</th>\n",
       "      <td>0.020398</td>\n",
       "      <td>1.922936</td>\n",
       "      <td>1.859098</td>\n",
       "      <td>3.205633</td>\n",
       "      <td>1.113884</td>\n",
       "    </tr>\n",
       "    <tr>\n",
       "      <th>Avg_class_frequency_current_month</th>\n",
       "      <td>0.000000</td>\n",
       "      <td>1.910244</td>\n",
       "      <td>1.736502</td>\n",
       "      <td>3.357215</td>\n",
       "      <td>1.120078</td>\n",
       "    </tr>\n",
       "    <tr>\n",
       "      <th>Churn</th>\n",
       "      <td>0.000000</td>\n",
       "      <td>0.000000</td>\n",
       "      <td>0.000000</td>\n",
       "      <td>0.000000</td>\n",
       "      <td>0.000000</td>\n",
       "    </tr>\n",
       "  </tbody>\n",
       "</table>\n",
       "</div>"
      ],
      "text/plain": [
       "                                           0           1           2  \\\n",
       "gender                              1.000000    0.000000    0.000000   \n",
       "Near_Location                       1.000000    1.000000    1.000000   \n",
       "Partner                             1.000000    0.000000    1.000000   \n",
       "Promo_friends                       1.000000    0.000000    0.000000   \n",
       "Phone                               0.000000    1.000000    1.000000   \n",
       "Contract_period                     6.000000   12.000000    1.000000   \n",
       "Group_visits                        1.000000    1.000000    0.000000   \n",
       "Age                                29.000000   31.000000   28.000000   \n",
       "Avg_additional_charges_total       14.227470  113.202938  129.448479   \n",
       "Month_to_end_contract               5.000000   12.000000    1.000000   \n",
       "Lifetime                            3.000000    7.000000    2.000000   \n",
       "Avg_class_frequency_total           0.020398    1.922936    1.859098   \n",
       "Avg_class_frequency_current_month   0.000000    1.910244    1.736502   \n",
       "Churn                               0.000000    0.000000    0.000000   \n",
       "\n",
       "                                           3           4  \n",
       "gender                              0.000000    1.000000  \n",
       "Near_Location                       1.000000    1.000000  \n",
       "Partner                             1.000000    1.000000  \n",
       "Promo_friends                       1.000000    1.000000  \n",
       "Phone                               1.000000    1.000000  \n",
       "Contract_period                    12.000000    1.000000  \n",
       "Group_visits                        1.000000    0.000000  \n",
       "Age                                33.000000   26.000000  \n",
       "Avg_additional_charges_total       62.669863  198.362265  \n",
       "Month_to_end_contract              12.000000    1.000000  \n",
       "Lifetime                            2.000000    3.000000  \n",
       "Avg_class_frequency_total           3.205633    1.113884  \n",
       "Avg_class_frequency_current_month   3.357215    1.120078  \n",
       "Churn                               0.000000    0.000000  "
      ]
     },
     "execution_count": 2,
     "metadata": {},
     "output_type": "execute_result"
    }
   ],
   "source": [
    "# загрузка исходных данных и вывод первых строк(развернем таблицу, чтобы видеть все признаки)\n",
    "gym = pd.read_csv('datasets/gym_churn.csv')\n",
    "gym.head().transpose()"
   ]
  },
  {
   "cell_type": "markdown",
   "metadata": {},
   "source": [
    "**Описание данных**\n",
    "\n",
    "Фитнес-клуб предоставил сведения в csv-файле.\n",
    "\n",
    "В таблице содержатся данные на месяц до оттока и факт оттока на определённый месяц:\n",
    "\n",
    "*Данные клиента за предыдущий до проверки факта оттока месяц:*\n",
    "\n",
    "    'gender' — пол;\n",
    "    'Near_Location' — проживание или работа в районе, где находится фитнес-центр;\n",
    "    'Partner' — сотрудник компании-партнёра клуба;\n",
    "    Promo_friends — факт первоначальной записи в рамках акции «приведи друга» ;\n",
    "    'Phone' — наличие контактного телефона;\n",
    "    'Age' — возраст;\n",
    "    'Lifetime' — время с момента первого обращения в фитнес-центр (в месяцах).\n",
    "    \n",
    "*Информация на основе журнала посещений, покупок и информация о текущем статусе абонемента клиента:*\n",
    "\n",
    "    'Contract_period' — длительность текущего действующего абонемента (месяц, 6 месяцев, год);\n",
    "    'Month_to_end_contract' — срок до окончания текущего действующего абонемента (в месяцах);\n",
    "    'Group_visits' — факт посещения групповых занятий;\n",
    "    'Avg_class_frequency_total' — средняя частота посещений в неделю за все время с начала действия абонемента;\n",
    "    'Avg_class_frequency_current_month' — средняя частота посещений в неделю за предыдущий месяц;\n",
    "    'Avg_additional_charges_total' — суммарная выручка от других услуг фитнес-центра: кафе, спорттовары, косметический и    \n",
    "    массажный салон.\n",
    "    'Churn' — факт оттока в текущем месяце."
   ]
  },
  {
   "cell_type": "code",
   "execution_count": 3,
   "metadata": {},
   "outputs": [],
   "source": [
    "# для удобства переименовываем столбцы\n",
    "\n",
    "gym = gym.rename(columns={\n",
    "    'Near_Location':'near_loc',\n",
    "    'Partner':'partner', \n",
    "    'Promo_friends':'promo', \n",
    "    'Phone':'phone',\n",
    "    'Contract_period':'contract_period', \n",
    "    'Group_visits':'group_visits', \n",
    "    'Age':'age',\n",
    "    'Avg_additional_charges_total':'avg_add_charges_total', \n",
    "    'Month_to_end_contract':'month_to_end', \n",
    "    'Lifetime':'lifetime',\n",
    "    'Avg_class_frequency_total':'avg_class_total', \n",
    "    'Avg_class_frequency_current_month':'avg_class_cur_month',\n",
    "    'Churn':'churn'      \n",
    "})"
   ]
  },
  {
   "cell_type": "code",
   "execution_count": 4,
   "metadata": {},
   "outputs": [
    {
     "name": "stdout",
     "output_type": "stream",
     "text": [
      "<class 'pandas.core.frame.DataFrame'>\n",
      "RangeIndex: 4000 entries, 0 to 3999\n",
      "Data columns (total 14 columns):\n",
      " #   Column                 Non-Null Count  Dtype  \n",
      "---  ------                 --------------  -----  \n",
      " 0   gender                 4000 non-null   int64  \n",
      " 1   near_loc               4000 non-null   int64  \n",
      " 2   partner                4000 non-null   int64  \n",
      " 3   promo                  4000 non-null   int64  \n",
      " 4   phone                  4000 non-null   int64  \n",
      " 5   contract_period        4000 non-null   int64  \n",
      " 6   group_visits           4000 non-null   int64  \n",
      " 7   age                    4000 non-null   int64  \n",
      " 8   avg_add_charges_total  4000 non-null   float64\n",
      " 9   month_to_end           4000 non-null   float64\n",
      " 10  lifetime               4000 non-null   int64  \n",
      " 11  avg_class_total        4000 non-null   float64\n",
      " 12  avg_class_cur_month    4000 non-null   float64\n",
      " 13  churn                  4000 non-null   int64  \n",
      "dtypes: float64(4), int64(10)\n",
      "memory usage: 437.6 KB\n"
     ]
    }
   ],
   "source": [
    "# выведем общую информацию о данных\n",
    "gym.info()"
   ]
  },
  {
   "cell_type": "code",
   "execution_count": 5,
   "metadata": {},
   "outputs": [
    {
     "name": "stdout",
     "output_type": "stream",
     "text": [
      "<class 'pandas.core.frame.DataFrame'>\n",
      "RangeIndex: 4000 entries, 0 to 3999\n",
      "Data columns (total 14 columns):\n",
      " #   Column                 Non-Null Count  Dtype  \n",
      "---  ------                 --------------  -----  \n",
      " 0   gender                 4000 non-null   int64  \n",
      " 1   near_loc               4000 non-null   int64  \n",
      " 2   partner                4000 non-null   int64  \n",
      " 3   promo                  4000 non-null   int64  \n",
      " 4   phone                  4000 non-null   int64  \n",
      " 5   contract_period        4000 non-null   int64  \n",
      " 6   group_visits           4000 non-null   int64  \n",
      " 7   age                    4000 non-null   int64  \n",
      " 8   avg_add_charges_total  4000 non-null   float32\n",
      " 9   month_to_end           4000 non-null   int32  \n",
      " 10  lifetime               4000 non-null   int64  \n",
      " 11  avg_class_total        4000 non-null   float32\n",
      " 12  avg_class_cur_month    4000 non-null   float32\n",
      " 13  churn                  4000 non-null   int64  \n",
      "dtypes: float32(3), int32(1), int64(10)\n",
      "memory usage: 375.1 KB\n"
     ]
    }
   ],
   "source": [
    "# заменим тип данных у признака \"срок до окончания абонемента\" на int, т.к. там только целые числа\n",
    "\n",
    "gym['month_to_end'] = gym['month_to_end'].astype('int32')\n",
    "\n",
    "# заменим тип данных у признаков с float64 на float32 для экономии памяти\n",
    "\n",
    "columns_for_astype = ['avg_add_charges_total',\n",
    "                     'avg_class_total',\n",
    "                      'avg_class_cur_month']\n",
    "\n",
    "for col in columns_for_astype:\n",
    "    gym[col] = gym[col].astype('float32')\n",
    "gym.info()"
   ]
  },
  {
   "cell_type": "code",
   "execution_count": 6,
   "metadata": {},
   "outputs": [
    {
     "data": {
      "text/plain": [
       "gender                   0.0\n",
       "near_loc                 0.0\n",
       "partner                  0.0\n",
       "promo                    0.0\n",
       "phone                    0.0\n",
       "contract_period          0.0\n",
       "group_visits             0.0\n",
       "age                      0.0\n",
       "avg_add_charges_total    0.0\n",
       "month_to_end             0.0\n",
       "lifetime                 0.0\n",
       "avg_class_total          0.0\n",
       "avg_class_cur_month      0.0\n",
       "churn                    0.0\n",
       "dtype: float64"
      ]
     },
     "execution_count": 6,
     "metadata": {},
     "output_type": "execute_result"
    }
   ],
   "source": [
    "# Выведем процент пропусков\n",
    "round((gym.isna().mean()*100),2)"
   ]
  },
  {
   "cell_type": "code",
   "execution_count": 7,
   "metadata": {},
   "outputs": [
    {
     "name": "stdout",
     "output_type": "stream",
     "text": [
      "Обнаружено дубликатов: 0\n"
     ]
    }
   ],
   "source": [
    "#Проверим наличие дубликатов \n",
    "print('Обнаружено дубликатов:', gym.duplicated().sum())"
   ]
  },
  {
   "cell_type": "markdown",
   "metadata": {},
   "source": [
    "**Вывод**\n",
    "\n",
    "На этапе предобработки данных мы изучили данные из файлов, привели названия столбцов таблиц к одному стилю, заменили тип данных, где это необходимо.\n",
    "Пропусков в данных не обнаружено, строковые значения признаков уже преобразованы в числовые до нас."
   ]
  },
  {
   "cell_type": "markdown",
   "metadata": {},
   "source": [
    "## Исследовательский анализ данных (EDA)"
   ]
  },
  {
   "cell_type": "markdown",
   "metadata": {},
   "source": [
    "**Изучение признаков, средних значений и стандартных отклонений**"
   ]
  },
  {
   "cell_type": "code",
   "execution_count": 8,
   "metadata": {},
   "outputs": [
    {
     "data": {
      "text/html": [
       "<div>\n",
       "<style scoped>\n",
       "    .dataframe tbody tr th:only-of-type {\n",
       "        vertical-align: middle;\n",
       "    }\n",
       "\n",
       "    .dataframe tbody tr th {\n",
       "        vertical-align: top;\n",
       "    }\n",
       "\n",
       "    .dataframe thead th {\n",
       "        text-align: right;\n",
       "    }\n",
       "</style>\n",
       "<table border=\"1\" class=\"dataframe\">\n",
       "  <thead>\n",
       "    <tr style=\"text-align: right;\">\n",
       "      <th></th>\n",
       "      <th>count</th>\n",
       "      <th>mean</th>\n",
       "      <th>std</th>\n",
       "      <th>min</th>\n",
       "      <th>25%</th>\n",
       "      <th>50%</th>\n",
       "      <th>75%</th>\n",
       "      <th>max</th>\n",
       "    </tr>\n",
       "  </thead>\n",
       "  <tbody>\n",
       "    <tr>\n",
       "      <th>gender</th>\n",
       "      <td>4000.0</td>\n",
       "      <td>0.510250</td>\n",
       "      <td>0.499957</td>\n",
       "      <td>0.000000</td>\n",
       "      <td>0.000000</td>\n",
       "      <td>1.000000</td>\n",
       "      <td>1.000000</td>\n",
       "      <td>1.000000</td>\n",
       "    </tr>\n",
       "    <tr>\n",
       "      <th>near_loc</th>\n",
       "      <td>4000.0</td>\n",
       "      <td>0.845250</td>\n",
       "      <td>0.361711</td>\n",
       "      <td>0.000000</td>\n",
       "      <td>1.000000</td>\n",
       "      <td>1.000000</td>\n",
       "      <td>1.000000</td>\n",
       "      <td>1.000000</td>\n",
       "    </tr>\n",
       "    <tr>\n",
       "      <th>partner</th>\n",
       "      <td>4000.0</td>\n",
       "      <td>0.486750</td>\n",
       "      <td>0.499887</td>\n",
       "      <td>0.000000</td>\n",
       "      <td>0.000000</td>\n",
       "      <td>0.000000</td>\n",
       "      <td>1.000000</td>\n",
       "      <td>1.000000</td>\n",
       "    </tr>\n",
       "    <tr>\n",
       "      <th>promo</th>\n",
       "      <td>4000.0</td>\n",
       "      <td>0.308500</td>\n",
       "      <td>0.461932</td>\n",
       "      <td>0.000000</td>\n",
       "      <td>0.000000</td>\n",
       "      <td>0.000000</td>\n",
       "      <td>1.000000</td>\n",
       "      <td>1.000000</td>\n",
       "    </tr>\n",
       "    <tr>\n",
       "      <th>phone</th>\n",
       "      <td>4000.0</td>\n",
       "      <td>0.903500</td>\n",
       "      <td>0.295313</td>\n",
       "      <td>0.000000</td>\n",
       "      <td>1.000000</td>\n",
       "      <td>1.000000</td>\n",
       "      <td>1.000000</td>\n",
       "      <td>1.000000</td>\n",
       "    </tr>\n",
       "    <tr>\n",
       "      <th>contract_period</th>\n",
       "      <td>4000.0</td>\n",
       "      <td>4.681250</td>\n",
       "      <td>4.549706</td>\n",
       "      <td>1.000000</td>\n",
       "      <td>1.000000</td>\n",
       "      <td>1.000000</td>\n",
       "      <td>6.000000</td>\n",
       "      <td>12.000000</td>\n",
       "    </tr>\n",
       "    <tr>\n",
       "      <th>group_visits</th>\n",
       "      <td>4000.0</td>\n",
       "      <td>0.412250</td>\n",
       "      <td>0.492301</td>\n",
       "      <td>0.000000</td>\n",
       "      <td>0.000000</td>\n",
       "      <td>0.000000</td>\n",
       "      <td>1.000000</td>\n",
       "      <td>1.000000</td>\n",
       "    </tr>\n",
       "    <tr>\n",
       "      <th>age</th>\n",
       "      <td>4000.0</td>\n",
       "      <td>29.184250</td>\n",
       "      <td>3.258367</td>\n",
       "      <td>18.000000</td>\n",
       "      <td>27.000000</td>\n",
       "      <td>29.000000</td>\n",
       "      <td>31.000000</td>\n",
       "      <td>41.000000</td>\n",
       "    </tr>\n",
       "    <tr>\n",
       "      <th>avg_add_charges_total</th>\n",
       "      <td>4000.0</td>\n",
       "      <td>146.943649</td>\n",
       "      <td>96.355606</td>\n",
       "      <td>0.148205</td>\n",
       "      <td>68.868832</td>\n",
       "      <td>136.220161</td>\n",
       "      <td>210.949619</td>\n",
       "      <td>552.590759</td>\n",
       "    </tr>\n",
       "    <tr>\n",
       "      <th>month_to_end</th>\n",
       "      <td>4000.0</td>\n",
       "      <td>4.322750</td>\n",
       "      <td>4.191297</td>\n",
       "      <td>1.000000</td>\n",
       "      <td>1.000000</td>\n",
       "      <td>1.000000</td>\n",
       "      <td>6.000000</td>\n",
       "      <td>12.000000</td>\n",
       "    </tr>\n",
       "    <tr>\n",
       "      <th>lifetime</th>\n",
       "      <td>4000.0</td>\n",
       "      <td>3.724750</td>\n",
       "      <td>3.749267</td>\n",
       "      <td>0.000000</td>\n",
       "      <td>1.000000</td>\n",
       "      <td>3.000000</td>\n",
       "      <td>5.000000</td>\n",
       "      <td>31.000000</td>\n",
       "    </tr>\n",
       "    <tr>\n",
       "      <th>avg_class_total</th>\n",
       "      <td>4000.0</td>\n",
       "      <td>1.879020</td>\n",
       "      <td>0.972245</td>\n",
       "      <td>0.000000</td>\n",
       "      <td>1.180875</td>\n",
       "      <td>1.832768</td>\n",
       "      <td>2.536078</td>\n",
       "      <td>6.023668</td>\n",
       "    </tr>\n",
       "    <tr>\n",
       "      <th>avg_class_cur_month</th>\n",
       "      <td>4000.0</td>\n",
       "      <td>1.767051</td>\n",
       "      <td>1.052906</td>\n",
       "      <td>0.000000</td>\n",
       "      <td>0.963003</td>\n",
       "      <td>1.719574</td>\n",
       "      <td>2.510336</td>\n",
       "      <td>6.146783</td>\n",
       "    </tr>\n",
       "    <tr>\n",
       "      <th>churn</th>\n",
       "      <td>4000.0</td>\n",
       "      <td>0.265250</td>\n",
       "      <td>0.441521</td>\n",
       "      <td>0.000000</td>\n",
       "      <td>0.000000</td>\n",
       "      <td>0.000000</td>\n",
       "      <td>1.000000</td>\n",
       "      <td>1.000000</td>\n",
       "    </tr>\n",
       "  </tbody>\n",
       "</table>\n",
       "</div>"
      ],
      "text/plain": [
       "                        count        mean        std        min        25%  \\\n",
       "gender                 4000.0    0.510250   0.499957   0.000000   0.000000   \n",
       "near_loc               4000.0    0.845250   0.361711   0.000000   1.000000   \n",
       "partner                4000.0    0.486750   0.499887   0.000000   0.000000   \n",
       "promo                  4000.0    0.308500   0.461932   0.000000   0.000000   \n",
       "phone                  4000.0    0.903500   0.295313   0.000000   1.000000   \n",
       "contract_period        4000.0    4.681250   4.549706   1.000000   1.000000   \n",
       "group_visits           4000.0    0.412250   0.492301   0.000000   0.000000   \n",
       "age                    4000.0   29.184250   3.258367  18.000000  27.000000   \n",
       "avg_add_charges_total  4000.0  146.943649  96.355606   0.148205  68.868832   \n",
       "month_to_end           4000.0    4.322750   4.191297   1.000000   1.000000   \n",
       "lifetime               4000.0    3.724750   3.749267   0.000000   1.000000   \n",
       "avg_class_total        4000.0    1.879020   0.972245   0.000000   1.180875   \n",
       "avg_class_cur_month    4000.0    1.767051   1.052906   0.000000   0.963003   \n",
       "churn                  4000.0    0.265250   0.441521   0.000000   0.000000   \n",
       "\n",
       "                              50%         75%         max  \n",
       "gender                   1.000000    1.000000    1.000000  \n",
       "near_loc                 1.000000    1.000000    1.000000  \n",
       "partner                  0.000000    1.000000    1.000000  \n",
       "promo                    0.000000    1.000000    1.000000  \n",
       "phone                    1.000000    1.000000    1.000000  \n",
       "contract_period          1.000000    6.000000   12.000000  \n",
       "group_visits             0.000000    1.000000    1.000000  \n",
       "age                     29.000000   31.000000   41.000000  \n",
       "avg_add_charges_total  136.220161  210.949619  552.590759  \n",
       "month_to_end             1.000000    6.000000   12.000000  \n",
       "lifetime                 3.000000    5.000000   31.000000  \n",
       "avg_class_total          1.832768    2.536078    6.023668  \n",
       "avg_class_cur_month      1.719574    2.510336    6.146783  \n",
       "churn                    0.000000    1.000000    1.000000  "
      ]
     },
     "execution_count": 8,
     "metadata": {},
     "output_type": "execute_result"
    }
   ],
   "source": [
    "# выведем статистику по признакам\n",
    "gym.describe().transpose()"
   ]
  },
  {
   "cell_type": "markdown",
   "metadata": {},
   "source": [
    "В целом, данные равномерные, стандартные отклонения не велики. Возможно будут выбросы для признака 'Avg_additional_charges_total' — суммарная выручка от других услуг фитнес-центра. Интересные данные в Лайфтайм: при среднем сроке 4 мес, есть клиенты, которые занимаются и 2.5 года. \n",
    "\n",
    "Посмотрим данные подробнее."
   ]
  },
  {
   "cell_type": "markdown",
   "metadata": {},
   "source": [
    "**Средние значения признаков в двух группах, разделенных по факту оттока**"
   ]
  },
  {
   "cell_type": "code",
   "execution_count": 9,
   "metadata": {},
   "outputs": [],
   "source": [
    "gym_clients = (\n",
    "    gym.groupby(['churn']) #группируем по факту оттока\n",
    "    .mean()\n",
    ")"
   ]
  },
  {
   "cell_type": "code",
   "execution_count": 10,
   "metadata": {},
   "outputs": [
    {
     "data": {
      "text/html": [
       "<div>\n",
       "<style scoped>\n",
       "    .dataframe tbody tr th:only-of-type {\n",
       "        vertical-align: middle;\n",
       "    }\n",
       "\n",
       "    .dataframe tbody tr th {\n",
       "        vertical-align: top;\n",
       "    }\n",
       "\n",
       "    .dataframe thead th {\n",
       "        text-align: right;\n",
       "    }\n",
       "</style>\n",
       "<table border=\"1\" class=\"dataframe\">\n",
       "  <thead>\n",
       "    <tr style=\"text-align: right;\">\n",
       "      <th>churn</th>\n",
       "      <th>0</th>\n",
       "      <th>1</th>\n",
       "    </tr>\n",
       "  </thead>\n",
       "  <tbody>\n",
       "    <tr>\n",
       "      <th>gender</th>\n",
       "      <td>0.510037</td>\n",
       "      <td>0.510839</td>\n",
       "    </tr>\n",
       "    <tr>\n",
       "      <th>near_loc</th>\n",
       "      <td>0.873086</td>\n",
       "      <td>0.768143</td>\n",
       "    </tr>\n",
       "    <tr>\n",
       "      <th>partner</th>\n",
       "      <td>0.534195</td>\n",
       "      <td>0.355325</td>\n",
       "    </tr>\n",
       "    <tr>\n",
       "      <th>promo</th>\n",
       "      <td>0.353522</td>\n",
       "      <td>0.183789</td>\n",
       "    </tr>\n",
       "    <tr>\n",
       "      <th>phone</th>\n",
       "      <td>0.903709</td>\n",
       "      <td>0.902922</td>\n",
       "    </tr>\n",
       "    <tr>\n",
       "      <th>contract_period</th>\n",
       "      <td>5.747193</td>\n",
       "      <td>1.728558</td>\n",
       "    </tr>\n",
       "    <tr>\n",
       "      <th>group_visits</th>\n",
       "      <td>0.464103</td>\n",
       "      <td>0.268615</td>\n",
       "    </tr>\n",
       "    <tr>\n",
       "      <th>age</th>\n",
       "      <td>29.976523</td>\n",
       "      <td>26.989632</td>\n",
       "    </tr>\n",
       "    <tr>\n",
       "      <th>avg_add_charges_total</th>\n",
       "      <td>158.445709</td>\n",
       "      <td>115.082901</td>\n",
       "    </tr>\n",
       "    <tr>\n",
       "      <th>month_to_end</th>\n",
       "      <td>5.283089</td>\n",
       "      <td>1.662582</td>\n",
       "    </tr>\n",
       "    <tr>\n",
       "      <th>lifetime</th>\n",
       "      <td>4.711807</td>\n",
       "      <td>0.990575</td>\n",
       "    </tr>\n",
       "    <tr>\n",
       "      <th>avg_class_total</th>\n",
       "      <td>2.024876</td>\n",
       "      <td>1.474995</td>\n",
       "    </tr>\n",
       "    <tr>\n",
       "      <th>avg_class_cur_month</th>\n",
       "      <td>2.027882</td>\n",
       "      <td>1.044546</td>\n",
       "    </tr>\n",
       "  </tbody>\n",
       "</table>\n",
       "</div>"
      ],
      "text/plain": [
       "churn                           0           1\n",
       "gender                   0.510037    0.510839\n",
       "near_loc                 0.873086    0.768143\n",
       "partner                  0.534195    0.355325\n",
       "promo                    0.353522    0.183789\n",
       "phone                    0.903709    0.902922\n",
       "contract_period          5.747193    1.728558\n",
       "group_visits             0.464103    0.268615\n",
       "age                     29.976523   26.989632\n",
       "avg_add_charges_total  158.445709  115.082901\n",
       "month_to_end             5.283089    1.662582\n",
       "lifetime                 4.711807    0.990575\n",
       "avg_class_total          2.024876    1.474995\n",
       "avg_class_cur_month      2.027882    1.044546"
      ]
     },
     "execution_count": 10,
     "metadata": {},
     "output_type": "execute_result"
    }
   ],
   "source": [
    "gym_clients.transpose()"
   ]
  },
  {
   "cell_type": "markdown",
   "metadata": {},
   "source": [
    "Для клиенты, которые уходят, характерно:\n",
    "\n",
    "- гораздо меньшая частота посещения (1 раз в неделю), \n",
    "\n",
    "- они более молодые (средний возраст 27 против 30 лет), \n",
    "\n",
    "- они почти в два раза реже занимаются в группах, \n",
    "\n",
    "- занимаются недавно - в среднем 1 месяц,\n",
    "\n",
    "- имеют более короткие абонементы (1,7 мес. против 5,7 мес.). \n",
    "\n",
    "Наличие контактного телефона, близость локации на отток не влияют."
   ]
  },
  {
   "cell_type": "markdown",
   "metadata": {},
   "source": [
    "**Столбчатые гистограммы и распределения признаков**"
   ]
  },
  {
   "cell_type": "code",
   "execution_count": 11,
   "metadata": {},
   "outputs": [],
   "source": [
    "# разделим на группы по оттоку\n",
    "lost_clients = gym[gym['churn']==1]\n",
    "left_clients = gym[gym['churn']==0]"
   ]
  },
  {
   "cell_type": "code",
   "execution_count": 12,
   "metadata": {
    "scrolled": true
   },
   "outputs": [
    {
     "data": {
      "image/png": "[encoded data removed]",
      "text/plain": [
       "<Figure size 720x360 with 1 Axes>"
      ]
     },
     "metadata": {
      "needs_background": "light"
     },
     "output_type": "display_data"
    },
    {
     "data": {
      "image/png": "[encoded data removed]",
      "text/plain": [
       "<Figure size 720x360 with 1 Axes>"
      ]
     },
     "metadata": {
      "needs_background": "light"
     },
     "output_type": "display_data"
    },
    {
     "data": {
      "image/png": "[encoded data removed]",
      "text/plain": [
       "<Figure size 720x360 with 1 Axes>"
      ]
     },
     "metadata": {
      "needs_background": "light"
     },
     "output_type": "display_data"
    },
    {
     "data": {
      "image/png": "[encoded data removed]",
      "text/plain": [
       "<Figure size 720x360 with 1 Axes>"
      ]
     },
     "metadata": {
      "needs_background": "light"
     },
     "output_type": "display_data"
    },
    {
     "data": {
      "image/png": "[encoded data removed]",
      "text/plain": [
       "<Figure size 720x360 with 1 Axes>"
      ]
     },
     "metadata": {
      "needs_background": "light"
     },
     "output_type": "display_data"
    },
    {
     "data": {
      "image/png": "[encoded data removed]",
      "text/plain": [
       "<Figure size 720x360 with 1 Axes>"
      ]
     },
     "metadata": {
      "needs_background": "light"
     },
     "output_type": "display_data"
    },
    {
     "data": {
      "image/png": "[encoded data removed]",
      "text/plain": [
       "<Figure size 720x360 with 1 Axes>"
      ]
     },
     "metadata": {
      "needs_background": "light"
     },
     "output_type": "display_data"
    }
   ],
   "source": [
    "# Построим гистограммы для числовых признаков\n",
    "\n",
    "hist_columns = ['avg_add_charges_total', \n",
    "                    'avg_class_total', \n",
    "                    'avg_class_cur_month', \n",
    "                    'lifetime', \n",
    "                    'age', \n",
    "                    'contract_period', \n",
    "                    'month_to_end']\n",
    "\n",
    "\n",
    "for col in hist_columns:\n",
    "    fig, ax = plt.subplots(figsize=(10, 5)) \n",
    "    plt.title('Распределение признака '+ col)\n",
    "    sns.histplot(lost_clients[col], color=\"r\", kde=True)\n",
    "    sns.histplot(left_clients[col], kde=True)\n",
    "    plt.legend(['Ушедшие', 'Оставшиеся'])\n",
    "    plt.grid()\n",
    "    plt.show()"
   ]
  },
  {
   "cell_type": "markdown",
   "metadata": {},
   "source": [
    "Распределение средней выручки от других услуг фитнес-центра для обоих групп клиентов смещено влево, приэтом те, кто остаются, тратят больше на доп.услуги.\n",
    "\n",
    "Распределение средней частоты посещений в неделю за всё время действия абонемента в обоих группах является нормальным. Для лояльной группы оно немного смещено влево, а для группы уходящих в отток имеется сильное смещение влево. Аналогичные различия между группами наблюдаются и для распределений средней частоты посещений в неделю за месяц. Стоит также обратить внимание, на большое число клиентов, которые вообще не посещали фитнес-центр в предыдущем месяце среди тех, кто ушёл. \n",
    "\n",
    "Распределение времени с момента первого обращения в фитнес-центр для обоих групп сильно смещено влево,но для оставшихся клиентов принимает более высокие значения, т.е. это постоянные клиенты.\n",
    "\n",
    "По возрасту обе группы имеют нормальное распределение, но распределение возраста оставшихся клиентов немного смещёно вправо, а  ушедших клиентов - влево, что подтверждает вывод о том, что уходят более молодые клиенты.\n",
    "\n",
    "Распределение длительности действующего абонемента по группам различается. Среди ушедших клиентов наиболее популярны абонементы сроком на 1 месяц, как и для оставшихся клиентов, но в отличии от оставшихся среди них очень мало долгосрочны абонементов: на 6 месяцев оформляют абонементы очень малое число клиентов и практически нет абонементов на 12 месяцев. Различия в распределении групп по сроку до окончания действующего абонемента такие же, как и в распределениях по длительности абонемента.\n"
   ]
  },
  {
   "cell_type": "code",
   "execution_count": 13,
   "metadata": {
    "scrolled": true
   },
   "outputs": [
    {
     "data": {
      "image/png": "[encoded data removed]",
      "text/plain": [
       "<Figure size 432x288 with 1 Axes>"
      ]
     },
     "metadata": {
      "needs_background": "light"
     },
     "output_type": "display_data"
    },
    {
     "data": {
      "image/png": "[encoded data removed]",
      "text/plain": [
       "<Figure size 432x288 with 1 Axes>"
      ]
     },
     "metadata": {
      "needs_background": "light"
     },
     "output_type": "display_data"
    },
    {
     "data": {
      "image/png": "[encoded data removed]",
      "text/plain": [
       "<Figure size 432x288 with 1 Axes>"
      ]
     },
     "metadata": {
      "needs_background": "light"
     },
     "output_type": "display_data"
    },
    {
     "data": {
      "image/png": "[encoded data removed]",
      "text/plain": [
       "<Figure size 432x288 with 1 Axes>"
      ]
     },
     "metadata": {
      "needs_background": "light"
     },
     "output_type": "display_data"
    },
    {
     "data": {
      "image/png": "[encoded data removed]",
      "text/plain": [
       "<Figure size 432x288 with 1 Axes>"
      ]
     },
     "metadata": {
      "needs_background": "light"
     },
     "output_type": "display_data"
    },
    {
     "data": {
      "image/png": "[encoded data removed]",
      "text/plain": [
       "<Figure size 432x288 with 1 Axes>"
      ]
     },
     "metadata": {
      "needs_background": "light"
     },
     "output_type": "display_data"
    }
   ],
   "source": [
    "# Построим столбчатые гистограммы для категориальных признаков\n",
    "\n",
    "for col in gym.drop('churn', axis = 1).columns:\n",
    "    if col not in hist_columns:\n",
    "        plt.title('Распределение признака '+ col)\n",
    "        plt.xlabel(col)\n",
    "        gym.groupby('churn')[col].hist()\n",
    "        plt.legend(['Оставшиеся', 'Ушедшие'])\n",
    "        plt.show()"
   ]
  },
  {
   "cell_type": "markdown",
   "metadata": {},
   "source": [
    "По полу, близости к фитнес-центру, наличию контактного телефона обе группы имеют схожее равномерное распределение.\n",
    "\n",
    "Есть различия в распределении групп между теми, кто является сотрудником компании-партнёра клуба и не является. В группе лояльных клиентов число имеющих отношение к компании-партнёра сотрудников явно больше, чем среди тех, кто уходит. Различия в распределении групп по посещению групповых занятий такие же, как и в распределениях по принадлежности к компании-партнёру.\n",
    "\n",
    "Среди тех, кто остался, по промо-акции \"Приведи друга\" клиентов немного больше, но распределения схожи."
   ]
  },
  {
   "cell_type": "code",
   "execution_count": 14,
   "metadata": {},
   "outputs": [],
   "source": [
    "cm = gym.corr() #вычисляем матрицу корреляций\n"
   ]
  },
  {
   "cell_type": "code",
   "execution_count": 15,
   "metadata": {},
   "outputs": [
    {
     "data": {
      "image/png": "[encoded data removed]",
      "text/plain": [
       "<Figure size 864x504 with 2 Axes>"
      ]
     },
     "metadata": {
      "needs_background": "light"
     },
     "output_type": "display_data"
    }
   ],
   "source": [
    "fig, ax = plt.subplots(figsize=(12, 7))\n",
    "#нарисуем тепловую карту с подписями для матрицы корреляций\n",
    "sns.heatmap(cm, annot=True, fmt='0.2f', cmap=\"Blues\")\n",
    "plt.title('Тепловая карта')\n",
    "plt.show()\n"
   ]
  },
  {
   "cell_type": "markdown",
   "metadata": {},
   "source": [
    "Тепловая карта показала, что на отток влияют:\n",
    "\n",
    "-  длительность текущего действующего абонемента (в месяцах),\n",
    "-  возраст клиентов,\n",
    "- срок до окончания текущего действующего абонемента (в месяцах),\n",
    "- время с момента первого обращения в фитнес-центр (в месяцах),\n",
    "- средняя частота посещений в неделю за предыдущий месяц.\n",
    "\n",
    "Чем больше данные признаки, тем меньше отток."
   ]
  },
  {
   "cell_type": "markdown",
   "metadata": {},
   "source": [
    "**Вывод**\n",
    "\n",
    "Исследовательский анализ позволил выявить характерные оособенности клиентов, склонных к оттоку:\n",
    "\n",
    "1. молодые люди в возрасте 25-30 лет;\n",
    "2. те, кто занимается в фитнес-центре недавно - в среднем  месяц,\n",
    "3. реже посещают фитнес-центр - в среднем 1 раз в неделю,\n",
    "4. почти в 2 раза реже занимаются на групповых занятиях,\n",
    "5. имеют более короткие абонементы (очень редко более 6 месяцев),\n",
    "6. тратят меньше на доп.услуги фитнес-центра: кафе, спорттовары, косметический и массажный салон.\n",
    "\n",
    "\n",
    "Также были выделены признаки, которые имеют наибольшее влияние на отток и которые могут быть наиболее ценными для модели исходя из корреляций. Это признаки:\n",
    "\n",
    "1. длительность текущего действующего абонемента (в месяцах),\n",
    "2. возраст клиентов,\n",
    "3. срок до окончания текущего действующего абонемента (в месяцах),\n",
    "4. время с момента первого обращения в фитнес-центр (в месяцах),\n",
    "5. средняя частота посещений в неделю за предыдущий месяц.\n",
    "\n",
    "На тепловой карте ещё можно выделить и сильно скоррелированные признаки (коэффициент корреляции больше 0,8):\n",
    "1. длительность абонемента и срок до окончания действия абонемента клиентов,\n",
    "2. средняя частота посещений в неделю за все время с начала действия абонемента и средняя частота посещений в неделю за предыдущий месяц.\n",
    "\n",
    "В таком случае оставим только признаки, корреляция между которыми не превышает порога 0,8, иначе с нашей моделью линейной регресии могут возникнуть проблемы, а именно: нерепрезентативные веса и переобученная под эти признаки модель. \n"
   ]
  },
  {
   "cell_type": "code",
   "execution_count": 16,
   "metadata": {},
   "outputs": [],
   "source": [
    "gym = gym.drop(columns = ['month_to_end', 'avg_class_cur_month'],axis = 1)   "
   ]
  },
  {
   "cell_type": "markdown",
   "metadata": {},
   "source": [
    "## Модель прогнозирования оттока клиентов"
   ]
  },
  {
   "cell_type": "markdown",
   "metadata": {},
   "source": [
    "Построим модель бинарной классификации клиентов, где целевой признак — факт оттока клиента в следующем месяце"
   ]
  },
  {
   "cell_type": "markdown",
   "metadata": {},
   "source": [
    "**Разделим данные на обучающую и валидационную выборку**"
   ]
  },
  {
   "cell_type": "code",
   "execution_count": 17,
   "metadata": {},
   "outputs": [],
   "source": [
    "#Разделим данные на признаки (матрица x) и целевую переменную (y)\n",
    "x = gym.drop('churn', axis = 1)\n",
    "y = gym['churn']\n",
    "\n",
    "#Разделим выборку на обучающую 80% и валидационную 20%\n",
    "x_train, x_test, y_train, y_test = train_test_split(x, y, test_size=0.2, random_state=0, stratify=y)\n",
    "\n",
    "#Cтандартизируем данные\n",
    "scaler = StandardScaler()\n",
    "scaler.fit(x_train)\n",
    "\n",
    "x_train_st = scaler.transform(x_train)\n",
    "x_test_st = scaler.transform(x_test)"
   ]
  },
  {
   "cell_type": "markdown",
   "metadata": {},
   "source": [
    "**Обучение моделей \"Логистическая регрессия\" и \"Случайный лес\"**"
   ]
  },
  {
   "cell_type": "markdown",
   "metadata": {},
   "source": [
    "**Построим модель способом \"Логистическая регрессия\"**"
   ]
  },
  {
   "cell_type": "code",
   "execution_count": 18,
   "metadata": {},
   "outputs": [],
   "source": [
    "#Зададим алгоритм для модели\n",
    "logreg_model = LogisticRegression(random_state=0)\n",
    "\n",
    "#Обучим модель\n",
    "logreg_model.fit(x_train, y_train)\n",
    "\n",
    "#Воспользуемся обученной моделью, чтобы сделать прогнозы\n",
    "logreg_predictions = logreg_model.predict(x_test)\n",
    "logreg_probabilities = logreg_model.predict_proba(x_test)[:,1]"
   ]
  },
  {
   "cell_type": "markdown",
   "metadata": {},
   "source": [
    "**Построим модель способом \"Случайный лес\"**"
   ]
  },
  {
   "cell_type": "code",
   "execution_count": 19,
   "metadata": {},
   "outputs": [],
   "source": [
    "#Зададим алгоритм для модели\n",
    "randfor_model = RandomForestClassifier(random_state=0)\n",
    "\n",
    "#Обучим модель\n",
    "randfor_model.fit(x_train, y_train)\n",
    "\n",
    "#Воспользуемся обученной моделью, чтобы сделать прогнозы\n",
    "randfor_predictions = randfor_model.predict(x_test)\n",
    "randfor_probabilities = randfor_model.predict_proba(x_test)[:,1]"
   ]
  },
  {
   "cell_type": "markdown",
   "metadata": {},
   "source": [
    "**Cравнение моделей \"Логистическая регрессия\" и \"Случайный лес\"**"
   ]
  },
  {
   "cell_type": "code",
   "execution_count": 20,
   "metadata": {},
   "outputs": [],
   "source": [
    "#Напишем функцию для вывода метрики\n",
    "def print_metrics(y_true, y_pred, y_proba, model_name):\n",
    "    print(\"Метрики для модели \"+model_name)\n",
    "    print('Accuracy: {:.2f}'.format(accuracy_score(y_true, y_pred)))\n",
    "    print('Precision: {:.2f}'.format(precision_score(y_true, y_pred)))\n",
    "    print('Recall: {:.2f}'.format(recall_score(y_true, y_pred)))\n",
    "    print('F1: {:.2f}'.format(f1_score(y_true, y_pred)))\n",
    "    print('ROC_AUC: {:.2f}'.format(roc_auc_score(y_true, y_proba)))"
   ]
  },
  {
   "cell_type": "code",
   "execution_count": 21,
   "metadata": {},
   "outputs": [
    {
     "name": "stdout",
     "output_type": "stream",
     "text": [
      "Метрики для модели Логистическая регрессия\n",
      "Accuracy: 0.88\n",
      "Precision: 0.79\n",
      "Recall: 0.76\n",
      "F1: 0.77\n",
      "ROC_AUC: 0.94\n",
      "\n",
      "Метрики для модели Случайный лес\n",
      "Accuracy: 0.89\n",
      "Precision: 0.81\n",
      "Recall: 0.79\n",
      "F1: 0.80\n",
      "ROC_AUC: 0.95\n"
     ]
    }
   ],
   "source": [
    "#Вывод метрик для модели Логистическая регрессия\n",
    "print_metrics(y_test, logreg_predictions, logreg_probabilities, 'Логистическая регрессия')\n",
    "print()\n",
    "#Вывод метрик для модели случайного леса\n",
    "print_metrics(y_test, randfor_predictions, randfor_probabilities, 'Случайный лес')"
   ]
  },
  {
   "cell_type": "markdown",
   "metadata": {},
   "source": [
    "**Вывод**\n",
    "\n",
    "Мы разделили данные на обучащую и валидационную выборку стандартно в соотношении 80:20 и стандартизировали данные.\n",
    "Затем построили и обучили 2 модели: методом логистической регрессии и случайного леса.\n",
    "\n",
    "Стоит отменить, что у обеих моделей хорошие показатели метрик, и каждую из них можно было бы использовать для прогноза.\n",
    "Но всё же модель методом случайный лес показывает себя лучше по метрикам:\n",
    "\n",
    "Accuracy (доля правильных ответов в пределах класса) - 0.89\n",
    "\n",
    "Precision (точность прогнозирования) - 0.81\n",
    "\n",
    "Recall (полнота) - 0.79\n",
    "\n",
    "F1 (сводная метрика) - 0.80\n",
    "\n",
    "ROC_AUC (оценка качества классификатора) - 0.95"
   ]
  },
  {
   "cell_type": "markdown",
   "metadata": {},
   "source": [
    "## Кластеризация клиентов"
   ]
  },
  {
   "cell_type": "markdown",
   "metadata": {},
   "source": [
    "**Стандартизация данных**"
   ]
  },
  {
   "cell_type": "code",
   "execution_count": 22,
   "metadata": {},
   "outputs": [],
   "source": [
    "scaler = StandardScaler()\n",
    "x_st = scaler.fit_transform(x)"
   ]
  },
  {
   "cell_type": "markdown",
   "metadata": {},
   "source": [
    "**Матрица расстояний и дендрограмма**"
   ]
  },
  {
   "cell_type": "code",
   "execution_count": 23,
   "metadata": {},
   "outputs": [
    {
     "data": {
      "image/png": "[encoded data removed]",
      "text/plain": [
       "<Figure size 1080x720 with 1 Axes>"
      ]
     },
     "metadata": {
      "needs_background": "light"
     },
     "output_type": "display_data"
    }
   ],
   "source": [
    "#Сохраним матрицу расстояний\n",
    "links = linkage(x_st, method = 'ward')\n",
    "\n",
    "#Построим дендрограмму\n",
    "plt.figure(figsize=(15, 10))\n",
    "plt.title('Кластеризация клиентов фитнес-центра')\n",
    "dendrogram(links, orientation='top')\n",
    "plt.show()"
   ]
  },
  {
   "cell_type": "markdown",
   "metadata": {},
   "source": [
    "Согласно дендрограмме оптимально создание 4 кластеров, но 1 из них потенциально можно разделить еще на несколько."
   ]
  },
  {
   "cell_type": "markdown",
   "metadata": {},
   "source": [
    "**Кластеризации по алгоритму K-Means и прогнозирование кластеров клиентов**"
   ]
  },
  {
   "cell_type": "markdown",
   "metadata": {},
   "source": [
    "Обучим модель кластеризации на основании алгоритма K-Means и спрогнозируем кластеры клиентов.\n",
    "Согласно условиям проекта, за число кластеров принимаем n=5."
   ]
  },
  {
   "cell_type": "code",
   "execution_count": 24,
   "metadata": {},
   "outputs": [
    {
     "data": {
      "text/html": [
       "<div>\n",
       "<style scoped>\n",
       "    .dataframe tbody tr th:only-of-type {\n",
       "        vertical-align: middle;\n",
       "    }\n",
       "\n",
       "    .dataframe tbody tr th {\n",
       "        vertical-align: top;\n",
       "    }\n",
       "\n",
       "    .dataframe thead th {\n",
       "        text-align: right;\n",
       "    }\n",
       "</style>\n",
       "<table border=\"1\" class=\"dataframe\">\n",
       "  <thead>\n",
       "    <tr style=\"text-align: right;\">\n",
       "      <th></th>\n",
       "      <th>0</th>\n",
       "      <th>1</th>\n",
       "      <th>2</th>\n",
       "      <th>3</th>\n",
       "      <th>4</th>\n",
       "    </tr>\n",
       "  </thead>\n",
       "  <tbody>\n",
       "    <tr>\n",
       "      <th>gender</th>\n",
       "      <td>1.000000</td>\n",
       "      <td>0.000000</td>\n",
       "      <td>0.000000</td>\n",
       "      <td>0.000000</td>\n",
       "      <td>1.000000</td>\n",
       "    </tr>\n",
       "    <tr>\n",
       "      <th>near_loc</th>\n",
       "      <td>1.000000</td>\n",
       "      <td>1.000000</td>\n",
       "      <td>1.000000</td>\n",
       "      <td>1.000000</td>\n",
       "      <td>1.000000</td>\n",
       "    </tr>\n",
       "    <tr>\n",
       "      <th>partner</th>\n",
       "      <td>1.000000</td>\n",
       "      <td>0.000000</td>\n",
       "      <td>1.000000</td>\n",
       "      <td>1.000000</td>\n",
       "      <td>1.000000</td>\n",
       "    </tr>\n",
       "    <tr>\n",
       "      <th>promo</th>\n",
       "      <td>1.000000</td>\n",
       "      <td>0.000000</td>\n",
       "      <td>0.000000</td>\n",
       "      <td>1.000000</td>\n",
       "      <td>1.000000</td>\n",
       "    </tr>\n",
       "    <tr>\n",
       "      <th>phone</th>\n",
       "      <td>0.000000</td>\n",
       "      <td>1.000000</td>\n",
       "      <td>1.000000</td>\n",
       "      <td>1.000000</td>\n",
       "      <td>1.000000</td>\n",
       "    </tr>\n",
       "    <tr>\n",
       "      <th>contract_period</th>\n",
       "      <td>6.000000</td>\n",
       "      <td>12.000000</td>\n",
       "      <td>1.000000</td>\n",
       "      <td>12.000000</td>\n",
       "      <td>1.000000</td>\n",
       "    </tr>\n",
       "    <tr>\n",
       "      <th>group_visits</th>\n",
       "      <td>1.000000</td>\n",
       "      <td>1.000000</td>\n",
       "      <td>0.000000</td>\n",
       "      <td>1.000000</td>\n",
       "      <td>0.000000</td>\n",
       "    </tr>\n",
       "    <tr>\n",
       "      <th>age</th>\n",
       "      <td>29.000000</td>\n",
       "      <td>31.000000</td>\n",
       "      <td>28.000000</td>\n",
       "      <td>33.000000</td>\n",
       "      <td>26.000000</td>\n",
       "    </tr>\n",
       "    <tr>\n",
       "      <th>avg_add_charges_total</th>\n",
       "      <td>14.227470</td>\n",
       "      <td>113.202934</td>\n",
       "      <td>129.448486</td>\n",
       "      <td>62.669865</td>\n",
       "      <td>198.362259</td>\n",
       "    </tr>\n",
       "    <tr>\n",
       "      <th>lifetime</th>\n",
       "      <td>3.000000</td>\n",
       "      <td>7.000000</td>\n",
       "      <td>2.000000</td>\n",
       "      <td>2.000000</td>\n",
       "      <td>3.000000</td>\n",
       "    </tr>\n",
       "    <tr>\n",
       "      <th>avg_class_total</th>\n",
       "      <td>0.020398</td>\n",
       "      <td>1.922936</td>\n",
       "      <td>1.859098</td>\n",
       "      <td>3.205633</td>\n",
       "      <td>1.113884</td>\n",
       "    </tr>\n",
       "    <tr>\n",
       "      <th>churn</th>\n",
       "      <td>0.000000</td>\n",
       "      <td>0.000000</td>\n",
       "      <td>0.000000</td>\n",
       "      <td>0.000000</td>\n",
       "      <td>0.000000</td>\n",
       "    </tr>\n",
       "    <tr>\n",
       "      <th>cluster</th>\n",
       "      <td>4.000000</td>\n",
       "      <td>3.000000</td>\n",
       "      <td>2.000000</td>\n",
       "      <td>1.000000</td>\n",
       "      <td>1.000000</td>\n",
       "    </tr>\n",
       "  </tbody>\n",
       "</table>\n",
       "</div>"
      ],
      "text/plain": [
       "                               0           1           2          3  \\\n",
       "gender                  1.000000    0.000000    0.000000   0.000000   \n",
       "near_loc                1.000000    1.000000    1.000000   1.000000   \n",
       "partner                 1.000000    0.000000    1.000000   1.000000   \n",
       "promo                   1.000000    0.000000    0.000000   1.000000   \n",
       "phone                   0.000000    1.000000    1.000000   1.000000   \n",
       "contract_period         6.000000   12.000000    1.000000  12.000000   \n",
       "group_visits            1.000000    1.000000    0.000000   1.000000   \n",
       "age                    29.000000   31.000000   28.000000  33.000000   \n",
       "avg_add_charges_total  14.227470  113.202934  129.448486  62.669865   \n",
       "lifetime                3.000000    7.000000    2.000000   2.000000   \n",
       "avg_class_total         0.020398    1.922936    1.859098   3.205633   \n",
       "churn                   0.000000    0.000000    0.000000   0.000000   \n",
       "cluster                 4.000000    3.000000    2.000000   1.000000   \n",
       "\n",
       "                                4  \n",
       "gender                   1.000000  \n",
       "near_loc                 1.000000  \n",
       "partner                  1.000000  \n",
       "promo                    1.000000  \n",
       "phone                    1.000000  \n",
       "contract_period          1.000000  \n",
       "group_visits             0.000000  \n",
       "age                     26.000000  \n",
       "avg_add_charges_total  198.362259  \n",
       "lifetime                 3.000000  \n",
       "avg_class_total          1.113884  \n",
       "churn                    0.000000  \n",
       "cluster                  1.000000  "
      ]
     },
     "execution_count": 24,
     "metadata": {},
     "output_type": "execute_result"
    }
   ],
   "source": [
    "km = KMeans(n_clusters = 5, random_state = 0) #Задаём число кластеров, равное 5\n",
    "labels = km.fit_predict(x_st) #Применяем алгоритм K-Means к данным и формируем вектор кластеров\n",
    "gym['cluster'] = labels #Добавим столбец с номерами кластеров в исходный датафрейм\n",
    "gym.head().transpose()"
   ]
  },
  {
   "cell_type": "code",
   "execution_count": 25,
   "metadata": {},
   "outputs": [
    {
     "data": {
      "text/html": [
       "<div>\n",
       "<style scoped>\n",
       "    .dataframe tbody tr th:only-of-type {\n",
       "        vertical-align: middle;\n",
       "    }\n",
       "\n",
       "    .dataframe tbody tr th {\n",
       "        vertical-align: top;\n",
       "    }\n",
       "\n",
       "    .dataframe thead th {\n",
       "        text-align: right;\n",
       "    }\n",
       "</style>\n",
       "<table border=\"1\" class=\"dataframe\">\n",
       "  <thead>\n",
       "    <tr style=\"text-align: right;\">\n",
       "      <th>cluster</th>\n",
       "      <th>0</th>\n",
       "      <th>1</th>\n",
       "      <th>2</th>\n",
       "      <th>3</th>\n",
       "      <th>4</th>\n",
       "    </tr>\n",
       "  </thead>\n",
       "  <tbody>\n",
       "    <tr>\n",
       "      <th>gender</th>\n",
       "      <td>0.499109</td>\n",
       "      <td>0.488571</td>\n",
       "      <td>0.505300</td>\n",
       "      <td>0.544202</td>\n",
       "      <td>0.523316</td>\n",
       "    </tr>\n",
       "    <tr>\n",
       "      <th>near_loc</th>\n",
       "      <td>0.000000</td>\n",
       "      <td>0.995238</td>\n",
       "      <td>1.000000</td>\n",
       "      <td>1.000000</td>\n",
       "      <td>0.862694</td>\n",
       "    </tr>\n",
       "    <tr>\n",
       "      <th>partner</th>\n",
       "      <td>0.488414</td>\n",
       "      <td>0.955238</td>\n",
       "      <td>0.238516</td>\n",
       "      <td>0.250287</td>\n",
       "      <td>0.471503</td>\n",
       "    </tr>\n",
       "    <tr>\n",
       "      <th>promo</th>\n",
       "      <td>0.076649</td>\n",
       "      <td>0.892381</td>\n",
       "      <td>0.059187</td>\n",
       "      <td>0.079219</td>\n",
       "      <td>0.305699</td>\n",
       "    </tr>\n",
       "    <tr>\n",
       "      <th>phone</th>\n",
       "      <td>1.000000</td>\n",
       "      <td>1.000000</td>\n",
       "      <td>1.000000</td>\n",
       "      <td>1.000000</td>\n",
       "      <td>0.000000</td>\n",
       "    </tr>\n",
       "    <tr>\n",
       "      <th>contract_period</th>\n",
       "      <td>3.032086</td>\n",
       "      <td>7.660952</td>\n",
       "      <td>2.819788</td>\n",
       "      <td>4.528129</td>\n",
       "      <td>4.777202</td>\n",
       "    </tr>\n",
       "    <tr>\n",
       "      <th>group_visits</th>\n",
       "      <td>0.235294</td>\n",
       "      <td>0.458095</td>\n",
       "      <td>0.000000</td>\n",
       "      <td>1.000000</td>\n",
       "      <td>0.427461</td>\n",
       "    </tr>\n",
       "    <tr>\n",
       "      <th>age</th>\n",
       "      <td>28.721925</td>\n",
       "      <td>29.543810</td>\n",
       "      <td>28.770318</td>\n",
       "      <td>29.536165</td>\n",
       "      <td>29.297927</td>\n",
       "    </tr>\n",
       "    <tr>\n",
       "      <th>avg_add_charges_total</th>\n",
       "      <td>137.540009</td>\n",
       "      <td>155.861435</td>\n",
       "      <td>143.383987</td>\n",
       "      <td>148.088898</td>\n",
       "      <td>144.208176</td>\n",
       "    </tr>\n",
       "    <tr>\n",
       "      <th>lifetime</th>\n",
       "      <td>3.060606</td>\n",
       "      <td>4.380952</td>\n",
       "      <td>3.343640</td>\n",
       "      <td>3.761194</td>\n",
       "      <td>3.940415</td>\n",
       "    </tr>\n",
       "    <tr>\n",
       "      <th>avg_class_total</th>\n",
       "      <td>1.770413</td>\n",
       "      <td>1.978963</td>\n",
       "      <td>1.800647</td>\n",
       "      <td>1.941342</td>\n",
       "      <td>1.854210</td>\n",
       "    </tr>\n",
       "    <tr>\n",
       "      <th>churn</th>\n",
       "      <td>0.399287</td>\n",
       "      <td>0.120952</td>\n",
       "      <td>0.381625</td>\n",
       "      <td>0.200918</td>\n",
       "      <td>0.266839</td>\n",
       "    </tr>\n",
       "  </tbody>\n",
       "</table>\n",
       "</div>"
      ],
      "text/plain": [
       "cluster                         0           1           2           3  \\\n",
       "gender                   0.499109    0.488571    0.505300    0.544202   \n",
       "near_loc                 0.000000    0.995238    1.000000    1.000000   \n",
       "partner                  0.488414    0.955238    0.238516    0.250287   \n",
       "promo                    0.076649    0.892381    0.059187    0.079219   \n",
       "phone                    1.000000    1.000000    1.000000    1.000000   \n",
       "contract_period          3.032086    7.660952    2.819788    4.528129   \n",
       "group_visits             0.235294    0.458095    0.000000    1.000000   \n",
       "age                     28.721925   29.543810   28.770318   29.536165   \n",
       "avg_add_charges_total  137.540009  155.861435  143.383987  148.088898   \n",
       "lifetime                 3.060606    4.380952    3.343640    3.761194   \n",
       "avg_class_total          1.770413    1.978963    1.800647    1.941342   \n",
       "churn                    0.399287    0.120952    0.381625    0.200918   \n",
       "\n",
       "cluster                         4  \n",
       "gender                   0.523316  \n",
       "near_loc                 0.862694  \n",
       "partner                  0.471503  \n",
       "promo                    0.305699  \n",
       "phone                    0.000000  \n",
       "contract_period          4.777202  \n",
       "group_visits             0.427461  \n",
       "age                     29.297927  \n",
       "avg_add_charges_total  144.208176  \n",
       "lifetime                 3.940415  \n",
       "avg_class_total          1.854210  \n",
       "churn                    0.266839  "
      ]
     },
     "execution_count": 25,
     "metadata": {},
     "output_type": "execute_result"
    }
   ],
   "source": [
    "#Выведем средние значения признаков для кластеров\n",
    "gym.groupby('cluster').mean().transpose()"
   ]
  },
  {
   "cell_type": "markdown",
   "metadata": {},
   "source": [
    "Более всего склонны к оттоку клиенты кластеров №0 и №2. Рассмотрим распределение признаков клиентов по кластерам подробнее."
   ]
  },
  {
   "cell_type": "code",
   "execution_count": 26,
   "metadata": {},
   "outputs": [
    {
     "data": {
      "text/plain": [
       "2    1132\n",
       "1    1050\n",
       "3     871\n",
       "0     561\n",
       "4     386\n",
       "Name: cluster, dtype: int64"
      ]
     },
     "execution_count": 26,
     "metadata": {},
     "output_type": "execute_result"
    }
   ],
   "source": [
    "#Посмотрим на численность кластеров\n",
    "gym.cluster.value_counts()"
   ]
  },
  {
   "cell_type": "markdown",
   "metadata": {},
   "source": [
    "Видим, что кластер №2 ещё и самый крупный, значит нужно уделить ему особое внимание."
   ]
  },
  {
   "cell_type": "markdown",
   "metadata": {},
   "source": [
    "**Распределения признаков для кластеров**"
   ]
  },
  {
   "cell_type": "markdown",
   "metadata": {},
   "source": [
    "Для анализа распределения признаков кластеров построим:\n",
    "\n",
    "- столбчатые диаграммы для бинарных значений признаков,\n",
    "- боксплоты для непрерывных переменных."
   ]
  },
  {
   "cell_type": "code",
   "execution_count": 27,
   "metadata": {},
   "outputs": [
    {
     "data": {
      "image/png": "[encoded data removed]",
      "text/plain": [
       "<Figure size 432x432 with 1 Axes>"
      ]
     },
     "metadata": {
      "needs_background": "light"
     },
     "output_type": "display_data"
    },
    {
     "data": {
      "image/png": "[encoded data removed]",
      "text/plain": [
       "<Figure size 432x432 with 1 Axes>"
      ]
     },
     "metadata": {
      "needs_background": "light"
     },
     "output_type": "display_data"
    },
    {
     "data": {
      "image/png": "[encoded data removed]",
      "text/plain": [
       "<Figure size 432x432 with 1 Axes>"
      ]
     },
     "metadata": {
      "needs_background": "light"
     },
     "output_type": "display_data"
    },
    {
     "data": {
      "image/png": "[encoded data removed]",
      "text/plain": [
       "<Figure size 432x432 with 1 Axes>"
      ]
     },
     "metadata": {
      "needs_background": "light"
     },
     "output_type": "display_data"
    },
    {
     "data": {
      "image/png": "[encoded data removed]",
      "text/plain": [
       "<Figure size 432x432 with 1 Axes>"
      ]
     },
     "metadata": {
      "needs_background": "light"
     },
     "output_type": "display_data"
    },
    {
     "data": {
      "image/png": "[encoded data removed]",
      "text/plain": [
       "<Figure size 432x432 with 1 Axes>"
      ]
     },
     "metadata": {
      "needs_background": "light"
     },
     "output_type": "display_data"
    }
   ],
   "source": [
    "#Построим countplot-графики для бинарных признаков\n",
    "countpot_columns = ['gender', \n",
    "                    'near_loc', \n",
    "                    'partner', \n",
    "                    'promo', \n",
    "                    'phone', \n",
    "                    'group_visits']\n",
    "\n",
    "for col in countpot_columns:\n",
    "    plt.figure(figsize=(6, 6))\n",
    "    plt.title('Распределение признака '+ col)\n",
    "    plt.xlabel(col)\n",
    "    sns.countplot(x = gym[col], hue='cluster', data=gym, palette=\"Set2\")\n",
    "    plt.show()"
   ]
  },
  {
   "cell_type": "markdown",
   "metadata": {},
   "source": [
    "- Кластеры практически одинаково распределены по полу;\n",
    "- По близости от фитнес-центра больше всего выделяется кластер №2, а дальше всего находятся клиенты кластера №0.\n",
    "- В кластер №1 входят больше всего сотрудников компаний-партнёров клуба. А в кластер №2 наоборот - очень мало.\n",
    "- Клиентов, привлеченных с помощью акции \"приведи друга\" больше всего в кластере №1.\n",
    "- Клиенты всех кластеров, кроме №4 оставляют свои контакты.\n",
    "- Групповые занятия меньше всего посещают клиенты кластера №2, а больше всего - клиенты кластера №3.\n"
   ]
  },
  {
   "cell_type": "code",
   "execution_count": 28,
   "metadata": {
    "scrolled": true
   },
   "outputs": [
    {
     "data": {
      "image/png": "[encoded data removed]",
      "text/plain": [
       "<Figure size 504x432 with 1 Axes>"
      ]
     },
     "metadata": {
      "needs_background": "light"
     },
     "output_type": "display_data"
    },
    {
     "data": {
      "image/png": "[encoded data removed]",
      "text/plain": [
       "<Figure size 504x432 with 1 Axes>"
      ]
     },
     "metadata": {
      "needs_background": "light"
     },
     "output_type": "display_data"
    },
    {
     "data": {
      "image/png": "[encoded data removed]",
      "text/plain": [
       "<Figure size 504x432 with 1 Axes>"
      ]
     },
     "metadata": {
      "needs_background": "light"
     },
     "output_type": "display_data"
    },
    {
     "data": {
      "image/png": "[encoded data removed]",
      "text/plain": [
       "<Figure size 504x432 with 1 Axes>"
      ]
     },
     "metadata": {
      "needs_background": "light"
     },
     "output_type": "display_data"
    }
   ],
   "source": [
    "#Построим графики для непрерывных переменных\n",
    "boxplot_columns = ['age', \n",
    "                   'lifetime',\n",
    "                   'avg_class_total',\n",
    "                   'avg_add_charges_total']\n",
    "\n",
    "for col in boxplot_columns:\n",
    "    plt.figure(figsize=(7, 6))\n",
    "    plt.title(\"Распределение по кластерам признака \"+col)\n",
    "    sns.boxplot(x='cluster',y=col, data=gym, palette=\"rainbow\")\n",
    "    plt.xlabel('Кластеры')\n",
    "    plt.ylabel('Значение признака')\n",
    "    plt.show()\n"
   ]
  },
  {
   "cell_type": "markdown",
   "metadata": {},
   "source": [
    "- Средний возраст клиентов разных кластеров примерно одинаковый, но чуть выше в кластерах №1 и №3. \n",
    "- Дольше всего в фитнес-центре занимаются клиенты кластера №1,№3 и №4, а клиенты кластера №0 и №2 меньше всех.\n",
    "- За всё время действия абонемента в среднем в зал чаще ходят клиенты кластера №1 и №3 (почти 3 раза в неделю, и даже есть те, кто ходит и 6 раз в неделю), реже всего в кластере №0. За предыдущий месяц ситуация идентичная.\n",
    "- Наибольшую выручку за доп.услуги фитнес-центра в среднем приносит кластер №1, а меньше всех- кластер №0"
   ]
  },
  {
   "cell_type": "markdown",
   "metadata": {},
   "source": [
    "Выделим отдельно характерные особенности клиентов кластеров №0 и №2, которые более склонны к оттоку:\n",
    "- Клиенты более молодые.\n",
    "- Среди клиентов данных кластеров больше всего тех, кто занимается в фитнес-центре недавно.\n",
    "- Клиенты  данных кластеров посещают фитнес-центр реже всех в неделю.\n",
    "- Клиенты кластера №2 живут или работают близко от фитнес-центра, а клиенты кластера №0 - наборот дальше всех.\n",
    "- В кластер №2 входит очень мало сотрудников компаний-партнеров в отличии от других кластеров, в кластер №0 - не больше и не меньше, чем в других кластерах.\n",
    "- Среди клиентов кластеров №0 и №2 немного привлеченных с помощью акции \"приведи друга\".\n",
    "- Клиенты кластеров №0 и №2 оставляют свои контакты.\n",
    "- Клиенты кластера №2 посещают групповые занятия меньше других, а клиенты кластера №0 - не больше и не меньше, чем в других кластерах."
   ]
  },
  {
   "cell_type": "markdown",
   "metadata": {},
   "source": [
    "**Доли оттока в кластерах**"
   ]
  },
  {
   "cell_type": "markdown",
   "metadata": {},
   "source": [
    "Для каждого полученного кластера посчитаем долю оттока."
   ]
  },
  {
   "cell_type": "code",
   "execution_count": 29,
   "metadata": {},
   "outputs": [
    {
     "name": "stdout",
     "output_type": "stream",
     "text": [
      "Доля ушедших клиентов в cluster\n",
      "0    0.399287\n",
      "1    0.120952\n",
      "2    0.381625\n",
      "3    0.200918\n",
      "4    0.266839\n",
      "Name: churn, dtype: float64 \n",
      "\n",
      "Доля ушедших клиентов, приходяшихся на cluster\n",
      "0    0.211122\n",
      "1    0.119698\n",
      "2    0.407163\n",
      "3    0.164939\n",
      "4    0.097078\n",
      "Name: churn, dtype: float64 \n"
     ]
    }
   ],
   "source": [
    "print('Доля ушедших клиентов в {} \\n'.format(gym.groupby('cluster')['churn'].mean()))\n",
    "\n",
    "#Так как количество клиентов в кластерах неодинаковое, то нужно смотреть распределение оттока относительно всех клиентов\n",
    "print('Доля ушедших клиентов, приходяшихся на {} '.format(gym.groupby('cluster')['churn'].sum()/gym['churn'].sum()))"
   ]
  },
  {
   "cell_type": "markdown",
   "metadata": {},
   "source": [
    "Самый большой отток клиентов идет по кластеру №0 - 39.9% и по кластеру №2 - 38,2%.\n",
    "\n",
    "Самые лояльные клиенты из кластера №1, и №4 тут отток 9-12%, что подтверждает ранее полученные выводы."
   ]
  },
  {
   "cell_type": "markdown",
   "metadata": {},
   "source": [
    "**Вывод**\n",
    "\n",
    "Кластеризация позволила определить 5 групп с характерными особенностями признаков и проанализировать показатели оттока по каждой. \n",
    "\n",
    "Самый большой отток клиентов был выявлен среди клиентов кластера №0 и №2.\n",
    "\n",
    "Для них характерно:\n",
    "\n",
    "- Клиенты более молодые.\n",
    "- Среди клиентов данных кластеров больше всего тех, кто занимается в фитнес-центре недавно.\n",
    "- Клиенты  данных кластеров посещают фитнес-центр реже всех в неделю.\n",
    "- Клиенты кластера №2 живут или работают близко от фитнес-центра, а клиенты кластера №0 - наборот дальше всех.\n",
    "- В кластер №2 входит очень мало сотрудников компаний-партнеров в отличии от других кластеров, в кластер №0 - не больше и не меньше, чем в других кластерах.\n",
    "- Среди клиентов кластеров №0 и №2 немного привлеченных с помощью акции \"приведи друга\".\n",
    "- Клиенты кластеров №0 и №2 оставляют свои контакты.\n",
    "- Клиенты кластера №2 посещают групповые занятия меньше других, а клиенты кластера №0 - не больше и не меньше, чем в других кластерах.\n",
    "\n",
    "Самые лояльные клиенты из кластера №1, тут отток чуть меньше 12%."
   ]
  },
  {
   "cell_type": "markdown",
   "metadata": {},
   "source": [
    "## Общие выводы"
   ]
  },
  {
   "cell_type": "markdown",
   "metadata": {},
   "source": [
    "В проектной работе был проведен анализ для подготовки стратегии по удержанию клиентов.\n",
    "\n",
    "В предоставленных данных пропущенных значений нет, а строковые значения признаков уже преобразованы в числовые до нас. Поэтому на этапе предобработки данных мы только привели названия столбцов таблиц к одному стилю и заменили тип данных для экономии памяти.\n",
    "\n",
    "Исследовательский анализ позволил выявить характерные оособенности клиентов, склонных к оттоку:\n",
    "\n",
    "1. молодые люди в возрасте 25-30 лет;\n",
    "2. те, кто занимается в фитнес-центре недавно - в среднем месяц,\n",
    "3. реже посещают фитнес-центр - в среднем 1 раз в неделю,\n",
    "4. почти в 2 раза реже занимаются на групповых занятиях,\n",
    "5. имеют более короткие абонементы (очень редко более 6 месяцев),\n",
    "6. тратят меньше на доп.услуги фитнес-центра: кафе, спорттовары, косметический и массажный салон.\n",
    "\n",
    "Также были выделены признаки, которые имеют наибольшее влияние на отток:\n",
    "\n",
    "1. длительность текущего действующего абонемента (в месяцах),\n",
    "2. возраст клиентов,\n",
    "3. срок до окончания текущего действующего абонемента (в месяцах),\n",
    "4. время с момента первого обращения в фитнес-центр (в месяцах),\n",
    "5. средняя частота посещений в неделю за предыдущий месяц.\n",
    "\n",
    "С помощью матрицы корреляции ещё были выявлены и сильно скоррелированные признаки (коэффициент корреляции больше 0,8):\n",
    "1. длительность абонемента и срок до окончания действия абонемента клиентов,\n",
    "2. средняя частота посещений в неделю за все время с начала действия абонемента и средняя частота посещений в неделю за предыдущий месяц.\n",
    "\n",
    "Было принято решение удалить сильно скоррелированные признаки, чтобы не возникло проблем при построении модели прогнозирования.\n",
    "\n",
    "Далее были построены модели прогнозирования оттока клиентов способами \"Логистическая регрессия\" и \"Случайный лес\", обе из которых показали хорошие результаты и могут использоваться в дальнейшей аналитической работе фитнес-центра. Но всё же модель методом случайный лес показывает себя лучше по  метрикам: Accuracy, Precision, Recall, F1 и ROC_AUC.\n",
    "\n",
    "В рамках проекта также была обучена модель кластеризации на основании алгоритма K-Means и спрогнозированы кластеры клиентов. \n",
    "В итоге были определены 5 кластеров с характерными особенностями признаков. \n",
    "\n",
    "Самый большой отток клиентов был выявлен среди клиентов кластера №0 и №2. Самые лояльные клиенты из кластера №1, тут отток чуть меньше 12%.\n",
    "\n",
    "\n",
    "Следовательно, для удержания клиентов фитнес-центра рекомендуем:\n",
    "\n",
    "1. новых клиентов центра в первое время уделить особое внимание. Например, предлагать первое бесплатное занятие с личным тренером, рассказывать обо всех имеющихся услугах фитнес-центра, назначить встречу и показать весь фитнес-центр и ответить на вопросы клиента.\n",
    "\n",
    "2. продолжать участвовать в партнерских программах и промо-акциях. Они приносят много лояльных клиентов фитнес-центру.\n",
    "\n",
    "3. привлекать клиентов, живущих и работающих поблизости с фитнес-центром. Например, проводить акции с компаниями-партнерами, расположенными рядом, или раздавать листовки в районе фитнес-центра.\n",
    "\n",
    "4. стимулировать клиентов к покупке абонемента сроком пользования 6 месяцев и более. \n",
    "\n",
    "5. проанализировать услуги фитнес-центра и уточнить, что можно улучшить для того, чтобы удержать более молодых клиентов, которые более склонны к оттоку. Например, устроить занятия по более современным направлениям.\n"
   ]
  }
 ],
 "metadata": {
  "ExecuteTimeLog": [
   {
    "duration": 44,
    "start_time": "2022-06-19T21:22:54.163Z"
   },
   {
    "duration": 1274,
    "start_time": "2022-06-19T21:23:14.824Z"
   },
   {
    "duration": 82,
    "start_time": "2022-06-19T21:23:16.883Z"
   },
   {
    "duration": 41,
    "start_time": "2022-06-19T21:24:11.852Z"
   },
   {
    "duration": 12,
    "start_time": "2022-06-19T21:24:22.756Z"
   },
   {
    "duration": 1363,
    "start_time": "2022-06-20T09:02:40.362Z"
   },
   {
    "duration": 157,
    "start_time": "2022-06-20T09:02:41.727Z"
   },
   {
    "duration": 13,
    "start_time": "2022-06-20T09:02:41.886Z"
   },
   {
    "duration": 108,
    "start_time": "2022-06-20T09:02:41.901Z"
   },
   {
    "duration": 8,
    "start_time": "2022-06-20T09:02:50.160Z"
   },
   {
    "duration": 13,
    "start_time": "2022-06-20T09:03:02.921Z"
   },
   {
    "duration": 6,
    "start_time": "2022-06-20T09:07:18.203Z"
   },
   {
    "duration": 11,
    "start_time": "2022-06-20T09:08:58.712Z"
   },
   {
    "duration": 14,
    "start_time": "2022-06-20T09:09:02.613Z"
   },
   {
    "duration": 17,
    "start_time": "2022-06-20T09:09:15.120Z"
   },
   {
    "duration": 55,
    "start_time": "2022-06-20T09:10:08.720Z"
   },
   {
    "duration": 61,
    "start_time": "2022-06-20T09:10:17.533Z"
   },
   {
    "duration": 52,
    "start_time": "2022-06-20T09:10:39.137Z"
   },
   {
    "duration": 8,
    "start_time": "2022-06-20T09:21:07.122Z"
   },
   {
    "duration": 6,
    "start_time": "2022-06-20T09:21:15.100Z"
   },
   {
    "duration": 7,
    "start_time": "2022-06-20T09:21:29.370Z"
   },
   {
    "duration": 15,
    "start_time": "2022-06-20T09:21:34.441Z"
   },
   {
    "duration": 9,
    "start_time": "2022-06-20T09:21:36.592Z"
   },
   {
    "duration": 10,
    "start_time": "2022-06-20T09:21:49.073Z"
   },
   {
    "duration": 19,
    "start_time": "2022-06-20T09:21:51.001Z"
   },
   {
    "duration": 16,
    "start_time": "2022-06-20T09:21:58.672Z"
   },
   {
    "duration": 65,
    "start_time": "2022-06-20T09:22:20.012Z"
   },
   {
    "duration": 80,
    "start_time": "2022-06-20T09:22:26.946Z"
   },
   {
    "duration": 36,
    "start_time": "2022-06-20T09:22:29.898Z"
   },
   {
    "duration": 62,
    "start_time": "2022-06-20T09:22:32.469Z"
   },
   {
    "duration": 46,
    "start_time": "2022-06-20T09:22:39.613Z"
   },
   {
    "duration": 74,
    "start_time": "2022-06-20T09:22:42.341Z"
   },
   {
    "duration": 53,
    "start_time": "2022-06-20T09:22:57.884Z"
   },
   {
    "duration": 87,
    "start_time": "2022-06-20T09:23:17.013Z"
   },
   {
    "duration": 69,
    "start_time": "2022-06-20T09:23:49.222Z"
   },
   {
    "duration": 11,
    "start_time": "2022-06-20T10:02:58.613Z"
   },
   {
    "duration": 9,
    "start_time": "2022-06-20T10:03:13.644Z"
   },
   {
    "duration": 110,
    "start_time": "2022-06-20T10:09:11.481Z"
   },
   {
    "duration": 1480,
    "start_time": "2022-06-20T10:10:28.003Z"
   },
   {
    "duration": 1403,
    "start_time": "2022-06-20T10:10:46.973Z"
   },
   {
    "duration": 1592,
    "start_time": "2022-06-20T10:10:55.035Z"
   },
   {
    "duration": 1423,
    "start_time": "2022-06-20T10:11:04.953Z"
   },
   {
    "duration": 1382,
    "start_time": "2022-06-20T10:11:11.884Z"
   },
   {
    "duration": 1460,
    "start_time": "2022-06-20T10:11:15.741Z"
   },
   {
    "duration": 1574,
    "start_time": "2022-06-20T10:11:21.453Z"
   },
   {
    "duration": 1428,
    "start_time": "2022-06-20T10:11:29.614Z"
   },
   {
    "duration": 1502,
    "start_time": "2022-06-20T10:11:46.517Z"
   },
   {
    "duration": 1568,
    "start_time": "2022-06-20T10:12:33.520Z"
   },
   {
    "duration": 1420,
    "start_time": "2022-06-20T10:12:57.445Z"
   },
   {
    "duration": 1160,
    "start_time": "2022-06-20T10:13:12.272Z"
   },
   {
    "duration": 46,
    "start_time": "2022-06-20T10:13:13.434Z"
   },
   {
    "duration": 12,
    "start_time": "2022-06-20T10:13:13.482Z"
   },
   {
    "duration": 7,
    "start_time": "2022-06-20T10:13:13.496Z"
   },
   {
    "duration": 23,
    "start_time": "2022-06-20T10:13:13.505Z"
   },
   {
    "duration": 10,
    "start_time": "2022-06-20T10:13:13.530Z"
   },
   {
    "duration": 43,
    "start_time": "2022-06-20T10:13:13.542Z"
   },
   {
    "duration": 6,
    "start_time": "2022-06-20T10:13:13.587Z"
   },
   {
    "duration": 10,
    "start_time": "2022-06-20T10:13:13.594Z"
   },
   {
    "duration": 8,
    "start_time": "2022-06-20T10:13:13.606Z"
   },
   {
    "duration": 1529,
    "start_time": "2022-06-20T10:13:13.616Z"
   },
   {
    "duration": 3484,
    "start_time": "2022-06-20T10:13:25.616Z"
   },
   {
    "duration": 1411,
    "start_time": "2022-06-20T10:13:38.763Z"
   },
   {
    "duration": 1757,
    "start_time": "2022-06-20T10:13:41.160Z"
   },
   {
    "duration": 1408,
    "start_time": "2022-06-20T10:13:48.194Z"
   },
   {
    "duration": 85,
    "start_time": "2022-06-20T10:13:56.145Z"
   },
   {
    "duration": 1402,
    "start_time": "2022-06-20T10:13:59.617Z"
   },
   {
    "duration": 1471,
    "start_time": "2022-06-20T10:14:06.483Z"
   },
   {
    "duration": 1554,
    "start_time": "2022-06-20T10:14:12.204Z"
   },
   {
    "duration": 8,
    "start_time": "2022-06-20T10:19:36.851Z"
   },
   {
    "duration": 3452,
    "start_time": "2022-06-20T10:21:33.163Z"
   },
   {
    "duration": 3714,
    "start_time": "2022-06-20T10:22:05.943Z"
   },
   {
    "duration": 1392,
    "start_time": "2022-06-20T10:22:52.083Z"
   },
   {
    "duration": 1524,
    "start_time": "2022-06-20T10:23:09.584Z"
   },
   {
    "duration": 1420,
    "start_time": "2022-06-20T10:23:26.581Z"
   },
   {
    "duration": 1507,
    "start_time": "2022-06-20T10:23:37.500Z"
   },
   {
    "duration": 1424,
    "start_time": "2022-06-20T10:25:18.871Z"
   },
   {
    "duration": 1477,
    "start_time": "2022-06-20T10:25:46.042Z"
   },
   {
    "duration": 1354,
    "start_time": "2022-06-20T10:26:05.025Z"
   },
   {
    "duration": 11,
    "start_time": "2022-06-20T10:45:51.348Z"
   },
   {
    "duration": 400,
    "start_time": "2022-06-20T10:46:15.895Z"
   },
   {
    "duration": 25,
    "start_time": "2022-06-20T10:46:20.567Z"
   },
   {
    "duration": 3,
    "start_time": "2022-06-20T10:46:41.719Z"
   },
   {
    "duration": 14,
    "start_time": "2022-06-20T10:46:45.332Z"
   },
   {
    "duration": 10,
    "start_time": "2022-06-20T10:47:48.239Z"
   },
   {
    "duration": 47,
    "start_time": "2022-06-20T10:48:11.000Z"
   },
   {
    "duration": 33,
    "start_time": "2022-06-20T10:48:16.412Z"
   },
   {
    "duration": 105,
    "start_time": "2022-06-20T10:48:30.254Z"
   },
   {
    "duration": 362,
    "start_time": "2022-06-20T10:48:45.680Z"
   },
   {
    "duration": 4,
    "start_time": "2022-06-20T10:49:57.148Z"
   },
   {
    "duration": 23,
    "start_time": "2022-06-20T10:50:00.318Z"
   },
   {
    "duration": 4,
    "start_time": "2022-06-20T10:50:38.460Z"
   },
   {
    "duration": 19,
    "start_time": "2022-06-20T10:50:41.932Z"
   },
   {
    "duration": 9,
    "start_time": "2022-06-20T11:11:56.940Z"
   },
   {
    "duration": 11,
    "start_time": "2022-06-20T11:12:28.200Z"
   },
   {
    "duration": 20,
    "start_time": "2022-06-20T11:12:52.940Z"
   },
   {
    "duration": 114262,
    "start_time": "2022-06-20T11:14:52.576Z"
   },
   {
    "duration": 0,
    "start_time": "2022-06-20T11:16:48.146Z"
   },
   {
    "duration": 0,
    "start_time": "2022-06-20T11:16:48.148Z"
   },
   {
    "duration": 0,
    "start_time": "2022-06-20T11:16:48.150Z"
   },
   {
    "duration": 125,
    "start_time": "2022-06-20T11:17:17.468Z"
   },
   {
    "duration": 1497,
    "start_time": "2022-06-20T11:17:23.049Z"
   },
   {
    "duration": 16,
    "start_time": "2022-06-20T11:17:24.548Z"
   },
   {
    "duration": 6,
    "start_time": "2022-06-20T11:17:24.821Z"
   },
   {
    "duration": 118,
    "start_time": "2022-06-20T11:17:32.221Z"
   },
   {
    "duration": 1967,
    "start_time": "2022-06-20T11:17:41.697Z"
   },
   {
    "duration": 10,
    "start_time": "2022-06-20T11:19:35.442Z"
   },
   {
    "duration": 1341,
    "start_time": "2022-06-20T13:41:34.670Z"
   },
   {
    "duration": 286,
    "start_time": "2022-06-20T13:41:36.013Z"
   },
   {
    "duration": 84,
    "start_time": "2022-06-20T13:41:36.301Z"
   },
   {
    "duration": 12,
    "start_time": "2022-06-20T13:41:36.386Z"
   },
   {
    "duration": 6,
    "start_time": "2022-06-20T13:41:36.401Z"
   },
   {
    "duration": 13,
    "start_time": "2022-06-20T13:41:36.409Z"
   },
   {
    "duration": 8,
    "start_time": "2022-06-20T13:41:36.424Z"
   },
   {
    "duration": 64,
    "start_time": "2022-06-20T13:41:36.434Z"
   },
   {
    "duration": 7,
    "start_time": "2022-06-20T13:41:36.500Z"
   },
   {
    "duration": 10,
    "start_time": "2022-06-20T13:41:36.509Z"
   },
   {
    "duration": 11,
    "start_time": "2022-06-20T13:41:36.521Z"
   },
   {
    "duration": 3739,
    "start_time": "2022-06-20T13:41:36.534Z"
   },
   {
    "duration": 5,
    "start_time": "2022-06-20T13:41:40.277Z"
   },
   {
    "duration": 1452,
    "start_time": "2022-06-20T13:41:40.284Z"
   },
   {
    "duration": 14,
    "start_time": "2022-06-20T13:41:41.737Z"
   },
   {
    "duration": 333,
    "start_time": "2022-06-20T13:41:41.752Z"
   },
   {
    "duration": 440,
    "start_time": "2022-06-20T13:41:42.161Z"
   },
   {
    "duration": 4,
    "start_time": "2022-06-20T13:41:42.603Z"
   },
   {
    "duration": 18,
    "start_time": "2022-06-20T13:41:42.609Z"
   },
   {
    "duration": 7,
    "start_time": "2022-06-20T13:41:42.628Z"
   },
   {
    "duration": 112398,
    "start_time": "2022-06-20T13:41:42.637Z"
   },
   {
    "duration": 1026,
    "start_time": "2022-06-20T13:43:35.036Z"
   },
   {
    "duration": 14,
    "start_time": "2022-06-20T13:43:36.074Z"
   },
   {
    "duration": 5,
    "start_time": "2022-06-20T13:43:36.090Z"
   },
   {
    "duration": 1363,
    "start_time": "2022-06-20T13:43:36.097Z"
   },
   {
    "duration": 0,
    "start_time": "2022-06-20T13:43:37.462Z"
   },
   {
    "duration": 0,
    "start_time": "2022-06-20T13:43:37.463Z"
   },
   {
    "duration": 12,
    "start_time": "2022-06-20T13:43:49.095Z"
   },
   {
    "duration": 2380,
    "start_time": "2022-06-20T13:55:39.709Z"
   },
   {
    "duration": 11,
    "start_time": "2022-06-20T13:58:01.296Z"
   },
   {
    "duration": 1341,
    "start_time": "2022-06-20T13:58:10.857Z"
   },
   {
    "duration": 11,
    "start_time": "2022-06-20T14:38:41.614Z"
   },
   {
    "duration": 5,
    "start_time": "2022-06-20T14:38:49.155Z"
   },
   {
    "duration": 7,
    "start_time": "2022-06-20T14:40:21.294Z"
   },
   {
    "duration": 66,
    "start_time": "2022-06-20T14:46:05.324Z"
   },
   {
    "duration": 7,
    "start_time": "2022-06-20T14:46:22.368Z"
   },
   {
    "duration": 11,
    "start_time": "2022-06-20T14:46:30.099Z"
   },
   {
    "duration": 14,
    "start_time": "2022-06-20T14:46:52.029Z"
   },
   {
    "duration": 22,
    "start_time": "2022-06-20T14:47:24.745Z"
   },
   {
    "duration": 1236,
    "start_time": "2022-06-20T20:52:56.320Z"
   },
   {
    "duration": 286,
    "start_time": "2022-06-20T20:52:57.558Z"
   },
   {
    "duration": 151,
    "start_time": "2022-06-20T20:52:57.846Z"
   },
   {
    "duration": 4,
    "start_time": "2022-06-20T20:52:57.999Z"
   },
   {
    "duration": 15,
    "start_time": "2022-06-20T20:52:58.005Z"
   },
   {
    "duration": 101,
    "start_time": "2022-06-20T20:52:58.021Z"
   },
   {
    "duration": 0,
    "start_time": "2022-06-20T20:52:58.124Z"
   },
   {
    "duration": 0,
    "start_time": "2022-06-20T20:52:58.125Z"
   },
   {
    "duration": 0,
    "start_time": "2022-06-20T20:52:58.126Z"
   },
   {
    "duration": 0,
    "start_time": "2022-06-20T20:52:58.128Z"
   },
   {
    "duration": 0,
    "start_time": "2022-06-20T20:52:58.129Z"
   },
   {
    "duration": 0,
    "start_time": "2022-06-20T20:52:58.130Z"
   },
   {
    "duration": 0,
    "start_time": "2022-06-20T20:52:58.131Z"
   },
   {
    "duration": 0,
    "start_time": "2022-06-20T20:52:58.132Z"
   },
   {
    "duration": 0,
    "start_time": "2022-06-20T20:52:58.133Z"
   },
   {
    "duration": 0,
    "start_time": "2022-06-20T20:52:58.134Z"
   },
   {
    "duration": 0,
    "start_time": "2022-06-20T20:52:58.135Z"
   },
   {
    "duration": 0,
    "start_time": "2022-06-20T20:52:58.153Z"
   },
   {
    "duration": 0,
    "start_time": "2022-06-20T20:52:58.154Z"
   },
   {
    "duration": 0,
    "start_time": "2022-06-20T20:52:58.155Z"
   },
   {
    "duration": 0,
    "start_time": "2022-06-20T20:52:58.156Z"
   },
   {
    "duration": 0,
    "start_time": "2022-06-20T20:52:58.157Z"
   },
   {
    "duration": 0,
    "start_time": "2022-06-20T20:52:58.158Z"
   },
   {
    "duration": 0,
    "start_time": "2022-06-20T20:52:58.159Z"
   },
   {
    "duration": 0,
    "start_time": "2022-06-20T20:52:58.160Z"
   },
   {
    "duration": 0,
    "start_time": "2022-06-20T20:52:58.160Z"
   },
   {
    "duration": 0,
    "start_time": "2022-06-20T20:52:58.161Z"
   },
   {
    "duration": 0,
    "start_time": "2022-06-20T20:52:58.162Z"
   },
   {
    "duration": 12,
    "start_time": "2022-06-20T20:55:22.032Z"
   },
   {
    "duration": 8,
    "start_time": "2022-06-20T20:55:25.462Z"
   },
   {
    "duration": 6,
    "start_time": "2022-06-20T20:55:26.770Z"
   },
   {
    "duration": 43,
    "start_time": "2022-06-20T20:55:29.688Z"
   },
   {
    "duration": 6,
    "start_time": "2022-06-20T20:56:55.935Z"
   },
   {
    "duration": 9,
    "start_time": "2022-06-20T20:56:57.237Z"
   },
   {
    "duration": 2004,
    "start_time": "2022-06-20T21:01:13.706Z"
   },
   {
    "duration": 1065,
    "start_time": "2022-06-20T21:09:15.671Z"
   },
   {
    "duration": 263,
    "start_time": "2022-06-20T21:09:16.738Z"
   },
   {
    "duration": 46,
    "start_time": "2022-06-20T21:09:17.002Z"
   },
   {
    "duration": 4,
    "start_time": "2022-06-20T21:09:17.050Z"
   },
   {
    "duration": 14,
    "start_time": "2022-06-20T21:09:17.055Z"
   },
   {
    "duration": 13,
    "start_time": "2022-06-20T21:09:17.070Z"
   },
   {
    "duration": 14,
    "start_time": "2022-06-20T21:09:17.084Z"
   },
   {
    "duration": 7,
    "start_time": "2022-06-20T21:09:17.099Z"
   },
   {
    "duration": 54,
    "start_time": "2022-06-20T21:09:17.108Z"
   },
   {
    "duration": 5,
    "start_time": "2022-06-20T21:09:17.164Z"
   },
   {
    "duration": 12,
    "start_time": "2022-06-20T21:09:17.170Z"
   },
   {
    "duration": 8,
    "start_time": "2022-06-20T21:09:17.183Z"
   },
   {
    "duration": 1995,
    "start_time": "2022-06-20T21:09:17.193Z"
   },
   {
    "duration": 1108,
    "start_time": "2022-06-20T21:09:19.190Z"
   },
   {
    "duration": 5,
    "start_time": "2022-06-20T21:09:20.300Z"
   },
   {
    "duration": 1378,
    "start_time": "2022-06-20T21:09:20.306Z"
   },
   {
    "duration": 14,
    "start_time": "2022-06-20T21:09:21.686Z"
   },
   {
    "duration": 152,
    "start_time": "2022-06-20T21:09:21.701Z"
   },
   {
    "duration": 442,
    "start_time": "2022-06-20T21:09:21.856Z"
   },
   {
    "duration": 4,
    "start_time": "2022-06-20T21:09:22.300Z"
   },
   {
    "duration": 18,
    "start_time": "2022-06-20T21:09:22.305Z"
   },
   {
    "duration": 7,
    "start_time": "2022-06-20T21:09:22.325Z"
   },
   {
    "duration": 1095,
    "start_time": "2022-06-20T21:09:44.569Z"
   },
   {
    "duration": 262,
    "start_time": "2022-06-20T21:09:45.665Z"
   },
   {
    "duration": 46,
    "start_time": "2022-06-20T21:09:45.929Z"
   },
   {
    "duration": 4,
    "start_time": "2022-06-20T21:09:45.977Z"
   },
   {
    "duration": 18,
    "start_time": "2022-06-20T21:09:45.982Z"
   },
   {
    "duration": 13,
    "start_time": "2022-06-20T21:09:46.001Z"
   },
   {
    "duration": 9,
    "start_time": "2022-06-20T21:09:46.015Z"
   },
   {
    "duration": 31,
    "start_time": "2022-06-20T21:09:46.025Z"
   },
   {
    "duration": 41,
    "start_time": "2022-06-20T21:09:46.058Z"
   },
   {
    "duration": 5,
    "start_time": "2022-06-20T21:09:46.102Z"
   },
   {
    "duration": 12,
    "start_time": "2022-06-20T21:09:46.108Z"
   },
   {
    "duration": 7,
    "start_time": "2022-06-20T21:09:46.122Z"
   },
   {
    "duration": 1993,
    "start_time": "2022-06-20T21:09:46.131Z"
   },
   {
    "duration": 1149,
    "start_time": "2022-06-20T21:09:48.126Z"
   },
   {
    "duration": 6,
    "start_time": "2022-06-20T21:09:49.276Z"
   },
   {
    "duration": 1321,
    "start_time": "2022-06-20T21:09:49.283Z"
   },
   {
    "duration": 14,
    "start_time": "2022-06-20T21:09:50.606Z"
   },
   {
    "duration": 140,
    "start_time": "2022-06-20T21:09:50.621Z"
   },
   {
    "duration": 479,
    "start_time": "2022-06-20T21:09:50.854Z"
   },
   {
    "duration": 4,
    "start_time": "2022-06-20T21:09:51.334Z"
   },
   {
    "duration": 25,
    "start_time": "2022-06-20T21:09:51.340Z"
   },
   {
    "duration": 8,
    "start_time": "2022-06-20T21:09:51.367Z"
   },
   {
    "duration": 106860,
    "start_time": "2022-06-20T21:09:51.377Z"
   },
   {
    "duration": 1418,
    "start_time": "2022-06-20T21:11:38.239Z"
   },
   {
    "duration": 15,
    "start_time": "2022-06-20T21:11:39.659Z"
   },
   {
    "duration": 5,
    "start_time": "2022-06-20T21:11:39.675Z"
   },
   {
    "duration": 1681,
    "start_time": "2022-06-20T21:11:39.681Z"
   },
   {
    "duration": 0,
    "start_time": "2022-06-20T21:11:41.363Z"
   },
   {
    "duration": 0,
    "start_time": "2022-06-20T21:11:41.364Z"
   },
   {
    "duration": 1127,
    "start_time": "2022-06-20T21:33:32.629Z"
   },
   {
    "duration": 278,
    "start_time": "2022-06-20T21:33:33.758Z"
   },
   {
    "duration": 47,
    "start_time": "2022-06-20T21:33:34.038Z"
   },
   {
    "duration": 4,
    "start_time": "2022-06-20T21:33:34.087Z"
   },
   {
    "duration": 14,
    "start_time": "2022-06-20T21:33:34.092Z"
   },
   {
    "duration": 14,
    "start_time": "2022-06-20T21:33:34.107Z"
   },
   {
    "duration": 7,
    "start_time": "2022-06-20T21:33:34.123Z"
   },
   {
    "duration": 23,
    "start_time": "2022-06-20T21:33:34.132Z"
   },
   {
    "duration": 41,
    "start_time": "2022-06-20T21:33:34.157Z"
   },
   {
    "duration": 6,
    "start_time": "2022-06-20T21:33:34.200Z"
   },
   {
    "duration": 11,
    "start_time": "2022-06-20T21:33:34.207Z"
   },
   {
    "duration": 7,
    "start_time": "2022-06-20T21:33:34.219Z"
   },
   {
    "duration": 2109,
    "start_time": "2022-06-20T21:33:34.228Z"
   },
   {
    "duration": 1171,
    "start_time": "2022-06-20T21:33:36.339Z"
   },
   {
    "duration": 6,
    "start_time": "2022-06-20T21:33:37.512Z"
   },
   {
    "duration": 1409,
    "start_time": "2022-06-20T21:33:37.520Z"
   },
   {
    "duration": 14,
    "start_time": "2022-06-20T21:33:38.931Z"
   },
   {
    "duration": 113,
    "start_time": "2022-06-20T21:33:38.947Z"
   },
   {
    "duration": 550,
    "start_time": "2022-06-20T21:33:39.062Z"
   },
   {
    "duration": 5,
    "start_time": "2022-06-20T21:33:39.614Z"
   },
   {
    "duration": 20,
    "start_time": "2022-06-20T21:33:39.621Z"
   },
   {
    "duration": 9,
    "start_time": "2022-06-20T21:33:39.653Z"
   },
   {
    "duration": 106407,
    "start_time": "2022-06-20T21:33:39.663Z"
   },
   {
    "duration": 1583,
    "start_time": "2022-06-20T21:35:26.071Z"
   },
   {
    "duration": 15,
    "start_time": "2022-06-20T21:35:27.656Z"
   },
   {
    "duration": 5,
    "start_time": "2022-06-20T21:35:27.672Z"
   },
   {
    "duration": 8782,
    "start_time": "2022-06-20T21:35:27.678Z"
   },
   {
    "duration": 0,
    "start_time": "2022-06-20T21:35:36.462Z"
   },
   {
    "duration": 1477,
    "start_time": "2022-06-21T12:53:12.925Z"
   },
   {
    "duration": 374,
    "start_time": "2022-06-21T12:53:14.404Z"
   },
   {
    "duration": 154,
    "start_time": "2022-06-21T12:53:14.779Z"
   },
   {
    "duration": 5,
    "start_time": "2022-06-21T12:53:14.935Z"
   },
   {
    "duration": 20,
    "start_time": "2022-06-21T12:53:14.942Z"
   },
   {
    "duration": 26,
    "start_time": "2022-06-21T12:53:14.966Z"
   },
   {
    "duration": 13,
    "start_time": "2022-06-21T12:53:14.994Z"
   },
   {
    "duration": 12,
    "start_time": "2022-06-21T12:53:15.009Z"
   },
   {
    "duration": 78,
    "start_time": "2022-06-21T12:53:15.024Z"
   },
   {
    "duration": 6,
    "start_time": "2022-06-21T12:53:15.104Z"
   },
   {
    "duration": 17,
    "start_time": "2022-06-21T12:53:15.112Z"
   },
   {
    "duration": 25,
    "start_time": "2022-06-21T12:53:15.131Z"
   },
   {
    "duration": 2451,
    "start_time": "2022-06-21T12:53:15.158Z"
   },
   {
    "duration": 1429,
    "start_time": "2022-06-21T12:53:17.612Z"
   },
   {
    "duration": 15,
    "start_time": "2022-06-21T12:53:19.043Z"
   },
   {
    "duration": 1555,
    "start_time": "2022-06-21T12:53:19.062Z"
   },
   {
    "duration": 14,
    "start_time": "2022-06-21T12:53:20.619Z"
   },
   {
    "duration": 620,
    "start_time": "2022-06-21T12:53:20.634Z"
   },
   {
    "duration": 544,
    "start_time": "2022-06-21T12:53:21.256Z"
   },
   {
    "duration": 5,
    "start_time": "2022-06-21T12:53:21.801Z"
   },
   {
    "duration": 21,
    "start_time": "2022-06-21T12:53:21.807Z"
   },
   {
    "duration": 24,
    "start_time": "2022-06-21T12:53:21.829Z"
   },
   {
    "duration": 127975,
    "start_time": "2022-06-21T12:53:21.856Z"
   },
   {
    "duration": 1334,
    "start_time": "2022-06-21T12:55:29.834Z"
   },
   {
    "duration": 27,
    "start_time": "2022-06-21T12:55:31.170Z"
   },
   {
    "duration": 13,
    "start_time": "2022-06-21T12:55:31.199Z"
   },
   {
    "duration": 2005,
    "start_time": "2022-06-21T12:55:31.215Z"
   },
   {
    "duration": 0,
    "start_time": "2022-06-21T12:55:33.222Z"
   },
   {
    "duration": 9,
    "start_time": "2022-06-21T13:22:45.438Z"
   },
   {
    "duration": 1912,
    "start_time": "2022-06-21T13:23:14.183Z"
   },
   {
    "duration": 1202,
    "start_time": "2022-06-21T13:23:24.219Z"
   },
   {
    "duration": 908,
    "start_time": "2022-06-21T13:45:08.785Z"
   },
   {
    "duration": 1096,
    "start_time": "2022-06-21T13:45:18.177Z"
   },
   {
    "duration": 954,
    "start_time": "2022-06-21T13:45:32.693Z"
   },
   {
    "duration": 12,
    "start_time": "2022-06-21T13:46:09.988Z"
   },
   {
    "duration": 216,
    "start_time": "2022-06-21T13:46:18.785Z"
   },
   {
    "duration": 577,
    "start_time": "2022-06-21T13:46:25.681Z"
   },
   {
    "duration": 624,
    "start_time": "2022-06-21T13:46:36.893Z"
   },
   {
    "duration": 686,
    "start_time": "2022-06-21T13:46:58.780Z"
   },
   {
    "duration": 13,
    "start_time": "2022-06-21T13:47:30.994Z"
   },
   {
    "duration": 737,
    "start_time": "2022-06-21T13:47:58.007Z"
   },
   {
    "duration": 798,
    "start_time": "2022-06-21T14:23:11.247Z"
   },
   {
    "duration": 14,
    "start_time": "2022-06-21T14:23:24.615Z"
   },
   {
    "duration": 978,
    "start_time": "2022-06-21T14:23:35.704Z"
   },
   {
    "duration": 1258,
    "start_time": "2022-06-21T16:19:55.781Z"
   },
   {
    "duration": 310,
    "start_time": "2022-06-21T16:19:57.041Z"
   },
   {
    "duration": 163,
    "start_time": "2022-06-21T16:19:57.352Z"
   },
   {
    "duration": 6,
    "start_time": "2022-06-21T16:19:57.518Z"
   },
   {
    "duration": 13,
    "start_time": "2022-06-21T16:19:57.526Z"
   },
   {
    "duration": 22,
    "start_time": "2022-06-21T16:19:57.541Z"
   },
   {
    "duration": 22,
    "start_time": "2022-06-21T16:19:57.564Z"
   },
   {
    "duration": 8,
    "start_time": "2022-06-21T16:19:57.587Z"
   },
   {
    "duration": 43,
    "start_time": "2022-06-21T16:19:57.596Z"
   },
   {
    "duration": 5,
    "start_time": "2022-06-21T16:19:57.642Z"
   },
   {
    "duration": 30,
    "start_time": "2022-06-21T16:19:57.648Z"
   },
   {
    "duration": 6,
    "start_time": "2022-06-21T16:19:57.679Z"
   },
   {
    "duration": 2222,
    "start_time": "2022-06-21T16:19:57.686Z"
   },
   {
    "duration": 1293,
    "start_time": "2022-06-21T16:19:59.910Z"
   },
   {
    "duration": 6,
    "start_time": "2022-06-21T16:20:01.205Z"
   },
   {
    "duration": 1559,
    "start_time": "2022-06-21T16:20:01.213Z"
   },
   {
    "duration": 15,
    "start_time": "2022-06-21T16:20:02.774Z"
   },
   {
    "duration": 182,
    "start_time": "2022-06-21T16:20:02.791Z"
   },
   {
    "duration": 568,
    "start_time": "2022-06-21T16:20:02.977Z"
   },
   {
    "duration": 15,
    "start_time": "2022-06-21T16:20:03.547Z"
   },
   {
    "duration": 31,
    "start_time": "2022-06-21T16:20:03.564Z"
   },
   {
    "duration": 8,
    "start_time": "2022-06-21T16:20:03.596Z"
   },
   {
    "duration": 119690,
    "start_time": "2022-06-21T16:20:03.606Z"
   },
   {
    "duration": 958,
    "start_time": "2022-06-21T16:22:03.298Z"
   },
   {
    "duration": 17,
    "start_time": "2022-06-21T16:22:04.257Z"
   },
   {
    "duration": 6,
    "start_time": "2022-06-21T16:22:04.275Z"
   },
   {
    "duration": 1019,
    "start_time": "2022-06-21T16:22:04.283Z"
   },
   {
    "duration": 992,
    "start_time": "2022-06-21T16:22:05.304Z"
   },
   {
    "duration": 9,
    "start_time": "2022-06-21T16:22:06.298Z"
   },
   {
    "duration": 8,
    "start_time": "2022-06-21T16:43:01.583Z"
   },
   {
    "duration": 15,
    "start_time": "2022-06-21T16:43:04.951Z"
   },
   {
    "duration": 9,
    "start_time": "2022-06-21T16:43:11.707Z"
   },
   {
    "duration": 1197,
    "start_time": "2022-06-21T16:58:43.344Z"
   },
   {
    "duration": 361,
    "start_time": "2022-06-21T16:58:44.543Z"
   },
   {
    "duration": 130,
    "start_time": "2022-06-21T16:58:44.906Z"
   },
   {
    "duration": 5,
    "start_time": "2022-06-21T16:58:45.038Z"
   },
   {
    "duration": 33,
    "start_time": "2022-06-21T16:58:45.044Z"
   },
   {
    "duration": 12,
    "start_time": "2022-06-21T16:58:45.079Z"
   },
   {
    "duration": 11,
    "start_time": "2022-06-21T16:58:45.093Z"
   },
   {
    "duration": 7,
    "start_time": "2022-06-21T16:58:45.106Z"
   },
   {
    "duration": 58,
    "start_time": "2022-06-21T16:58:45.115Z"
   },
   {
    "duration": 5,
    "start_time": "2022-06-21T16:58:45.176Z"
   },
   {
    "duration": 13,
    "start_time": "2022-06-21T16:58:45.182Z"
   },
   {
    "duration": 7,
    "start_time": "2022-06-21T16:58:45.197Z"
   },
   {
    "duration": 2227,
    "start_time": "2022-06-21T16:58:45.205Z"
   },
   {
    "duration": 1390,
    "start_time": "2022-06-21T16:58:47.433Z"
   },
   {
    "duration": 6,
    "start_time": "2022-06-21T16:58:48.826Z"
   },
   {
    "duration": 1473,
    "start_time": "2022-06-21T16:58:48.834Z"
   },
   {
    "duration": 14,
    "start_time": "2022-06-21T16:58:50.308Z"
   },
   {
    "duration": 539,
    "start_time": "2022-06-21T16:58:50.324Z"
   },
   {
    "duration": 599,
    "start_time": "2022-06-21T16:58:50.867Z"
   },
   {
    "duration": 4,
    "start_time": "2022-06-21T16:58:51.468Z"
   },
   {
    "duration": 20,
    "start_time": "2022-06-21T16:58:51.474Z"
   },
   {
    "duration": 9,
    "start_time": "2022-06-21T16:58:51.496Z"
   },
   {
    "duration": 118028,
    "start_time": "2022-06-21T16:58:51.506Z"
   },
   {
    "duration": 1435,
    "start_time": "2022-06-21T17:00:49.535Z"
   },
   {
    "duration": 16,
    "start_time": "2022-06-21T17:00:50.977Z"
   },
   {
    "duration": 5,
    "start_time": "2022-06-21T17:00:50.995Z"
   },
   {
    "duration": 1186,
    "start_time": "2022-06-21T17:00:51.001Z"
   },
   {
    "duration": 1082,
    "start_time": "2022-06-21T17:00:52.190Z"
   },
   {
    "duration": 9,
    "start_time": "2022-06-21T17:00:53.274Z"
   },
   {
    "duration": 114,
    "start_time": "2022-06-21T22:44:53.501Z"
   },
   {
    "duration": 1089,
    "start_time": "2022-06-22T09:37:47.845Z"
   },
   {
    "duration": 314,
    "start_time": "2022-06-22T09:37:48.936Z"
   },
   {
    "duration": 47,
    "start_time": "2022-06-22T09:37:49.252Z"
   },
   {
    "duration": 4,
    "start_time": "2022-06-22T09:37:49.300Z"
   },
   {
    "duration": 23,
    "start_time": "2022-06-22T09:37:49.306Z"
   },
   {
    "duration": 15,
    "start_time": "2022-06-22T09:37:49.330Z"
   },
   {
    "duration": 8,
    "start_time": "2022-06-22T09:37:49.346Z"
   },
   {
    "duration": 6,
    "start_time": "2022-06-22T09:37:49.356Z"
   },
   {
    "duration": 40,
    "start_time": "2022-06-22T09:37:49.364Z"
   },
   {
    "duration": 5,
    "start_time": "2022-06-22T09:37:49.406Z"
   },
   {
    "duration": 18,
    "start_time": "2022-06-22T09:37:49.413Z"
   },
   {
    "duration": 8,
    "start_time": "2022-06-22T09:37:49.433Z"
   },
   {
    "duration": 1941,
    "start_time": "2022-06-22T09:37:49.442Z"
   },
   {
    "duration": 1097,
    "start_time": "2022-06-22T09:37:51.385Z"
   },
   {
    "duration": 6,
    "start_time": "2022-06-22T09:37:52.483Z"
   },
   {
    "duration": 1337,
    "start_time": "2022-06-22T09:37:52.491Z"
   },
   {
    "duration": 13,
    "start_time": "2022-06-22T09:37:53.830Z"
   },
   {
    "duration": 121,
    "start_time": "2022-06-22T09:37:53.844Z"
   },
   {
    "duration": 556,
    "start_time": "2022-06-22T09:37:53.968Z"
   },
   {
    "duration": 4,
    "start_time": "2022-06-22T09:37:54.526Z"
   },
   {
    "duration": 29,
    "start_time": "2022-06-22T09:37:54.531Z"
   },
   {
    "duration": 8,
    "start_time": "2022-06-22T09:37:54.562Z"
   },
   {
    "duration": 108182,
    "start_time": "2022-06-22T09:37:54.571Z"
   },
   {
    "duration": 1206,
    "start_time": "2022-06-22T09:39:42.760Z"
   },
   {
    "duration": 14,
    "start_time": "2022-06-22T09:39:43.968Z"
   },
   {
    "duration": 6,
    "start_time": "2022-06-22T09:39:43.984Z"
   },
   {
    "duration": 976,
    "start_time": "2022-06-22T09:39:43.992Z"
   },
   {
    "duration": 1020,
    "start_time": "2022-06-22T09:39:44.969Z"
   },
   {
    "duration": 7,
    "start_time": "2022-06-22T09:39:45.991Z"
   },
   {
    "duration": 1645,
    "start_time": "2022-06-22T21:14:52.951Z"
   },
   {
    "duration": 99,
    "start_time": "2022-06-22T21:14:54.599Z"
   },
   {
    "duration": 5,
    "start_time": "2022-06-22T21:14:54.701Z"
   },
   {
    "duration": 35,
    "start_time": "2022-06-22T21:14:54.708Z"
   },
   {
    "duration": 25,
    "start_time": "2022-06-22T21:14:54.745Z"
   },
   {
    "duration": 8,
    "start_time": "2022-06-22T21:14:54.772Z"
   },
   {
    "duration": 6,
    "start_time": "2022-06-22T21:14:54.781Z"
   },
   {
    "duration": 55,
    "start_time": "2022-06-22T21:14:54.789Z"
   },
   {
    "duration": 10,
    "start_time": "2022-06-22T21:14:54.848Z"
   },
   {
    "duration": 18,
    "start_time": "2022-06-22T21:14:54.860Z"
   },
   {
    "duration": 8,
    "start_time": "2022-06-22T21:14:54.879Z"
   },
   {
    "duration": 2167,
    "start_time": "2022-06-22T21:14:54.889Z"
   },
   {
    "duration": 1207,
    "start_time": "2022-06-22T21:14:57.057Z"
   },
   {
    "duration": 6,
    "start_time": "2022-06-22T21:14:58.268Z"
   },
   {
    "duration": 1475,
    "start_time": "2022-06-22T21:14:58.275Z"
   },
   {
    "duration": 14,
    "start_time": "2022-06-22T21:14:59.752Z"
   },
   {
    "duration": 580,
    "start_time": "2022-06-22T21:14:59.768Z"
   },
   {
    "duration": 539,
    "start_time": "2022-06-22T21:15:00.350Z"
   },
   {
    "duration": 4,
    "start_time": "2022-06-22T21:15:00.891Z"
   },
   {
    "duration": 35,
    "start_time": "2022-06-22T21:15:00.896Z"
   },
   {
    "duration": 35,
    "start_time": "2022-06-22T21:15:00.933Z"
   },
   {
    "duration": 120512,
    "start_time": "2022-06-22T21:15:00.969Z"
   },
   {
    "duration": 761,
    "start_time": "2022-06-22T21:17:01.483Z"
   },
   {
    "duration": 20,
    "start_time": "2022-06-22T21:17:02.251Z"
   },
   {
    "duration": 64,
    "start_time": "2022-06-22T21:17:02.273Z"
   },
   {
    "duration": 1378,
    "start_time": "2022-06-22T21:17:02.339Z"
   },
   {
    "duration": 863,
    "start_time": "2022-06-22T21:17:03.719Z"
   },
   {
    "duration": 10,
    "start_time": "2022-06-22T21:17:04.584Z"
   },
   {
    "duration": 15,
    "start_time": "2022-06-22T21:19:37.373Z"
   },
   {
    "duration": 119,
    "start_time": "2022-06-22T21:21:53.490Z"
   },
   {
    "duration": 10,
    "start_time": "2022-06-22T21:23:18.701Z"
   },
   {
    "duration": 44,
    "start_time": "2022-06-22T21:23:39.469Z"
   },
   {
    "duration": 6,
    "start_time": "2022-06-22T21:23:50.651Z"
   },
   {
    "duration": 52,
    "start_time": "2022-06-22T21:24:16.462Z"
   },
   {
    "duration": 11,
    "start_time": "2022-06-22T21:41:16.852Z"
   },
   {
    "duration": 16,
    "start_time": "2022-06-22T21:41:22.250Z"
   },
   {
    "duration": 26,
    "start_time": "2022-06-22T21:42:33.021Z"
   },
   {
    "duration": 7,
    "start_time": "2022-06-22T21:42:50.880Z"
   },
   {
    "duration": 14,
    "start_time": "2022-06-22T21:43:06.252Z"
   },
   {
    "duration": 191,
    "start_time": "2022-06-22T21:43:09.141Z"
   },
   {
    "duration": 332,
    "start_time": "2022-06-22T21:43:11.573Z"
   },
   {
    "duration": 14,
    "start_time": "2022-06-22T21:43:17.622Z"
   },
   {
    "duration": 17,
    "start_time": "2022-06-22T21:43:22.687Z"
   },
   {
    "duration": 1850,
    "start_time": "2022-06-22T21:52:04.088Z"
   },
   {
    "duration": 17,
    "start_time": "2022-06-22T21:52:10.197Z"
   },
   {
    "duration": 391,
    "start_time": "2022-06-22T21:52:47.497Z"
   },
   {
    "duration": 20,
    "start_time": "2022-06-22T21:52:51.742Z"
   },
   {
    "duration": 1413,
    "start_time": "2022-06-22T22:00:38.539Z"
   },
   {
    "duration": 44,
    "start_time": "2022-06-22T22:00:39.954Z"
   },
   {
    "duration": 5,
    "start_time": "2022-06-22T22:00:39.999Z"
   },
   {
    "duration": 35,
    "start_time": "2022-06-22T22:00:40.005Z"
   },
   {
    "duration": 26,
    "start_time": "2022-06-22T22:00:40.042Z"
   },
   {
    "duration": 14,
    "start_time": "2022-06-22T22:00:40.069Z"
   },
   {
    "duration": 9,
    "start_time": "2022-06-22T22:00:40.084Z"
   },
   {
    "duration": 58,
    "start_time": "2022-06-22T22:00:40.095Z"
   },
   {
    "duration": 6,
    "start_time": "2022-06-22T22:00:40.154Z"
   },
   {
    "duration": 12,
    "start_time": "2022-06-22T22:00:40.162Z"
   },
   {
    "duration": 7,
    "start_time": "2022-06-22T22:00:40.176Z"
   },
   {
    "duration": 2073,
    "start_time": "2022-06-22T22:00:40.184Z"
   },
   {
    "duration": 1200,
    "start_time": "2022-06-22T22:00:42.259Z"
   },
   {
    "duration": 7,
    "start_time": "2022-06-22T22:00:43.461Z"
   },
   {
    "duration": 1412,
    "start_time": "2022-06-22T22:00:43.469Z"
   },
   {
    "duration": 4,
    "start_time": "2022-06-22T22:00:44.883Z"
   },
   {
    "duration": 19,
    "start_time": "2022-06-22T22:00:44.889Z"
   },
   {
    "duration": 2532,
    "start_time": "2022-06-22T22:00:44.910Z"
   },
   {
    "duration": 521,
    "start_time": "2022-06-22T22:00:47.444Z"
   },
   {
    "duration": 4,
    "start_time": "2022-06-22T22:00:47.967Z"
   },
   {
    "duration": 27,
    "start_time": "2022-06-22T22:00:47.973Z"
   },
   {
    "duration": 7,
    "start_time": "2022-06-22T22:00:48.001Z"
   },
   {
    "duration": 109963,
    "start_time": "2022-06-22T22:00:48.009Z"
   },
   {
    "duration": 1069,
    "start_time": "2022-06-22T22:02:37.973Z"
   },
   {
    "duration": 15,
    "start_time": "2022-06-22T22:02:39.043Z"
   },
   {
    "duration": 5,
    "start_time": "2022-06-22T22:02:39.060Z"
   },
   {
    "duration": 1037,
    "start_time": "2022-06-22T22:02:39.067Z"
   },
   {
    "duration": 1001,
    "start_time": "2022-06-22T22:02:40.107Z"
   },
   {
    "duration": 0,
    "start_time": "2022-06-22T22:02:41.110Z"
   },
   {
    "duration": 10,
    "start_time": "2022-06-22T22:04:39.347Z"
   },
   {
    "duration": 17,
    "start_time": "2022-06-22T22:04:55.894Z"
   },
   {
    "duration": 11,
    "start_time": "2022-06-22T22:05:16.848Z"
   },
   {
    "duration": 1422,
    "start_time": "2022-06-22T22:05:58.038Z"
   },
   {
    "duration": 45,
    "start_time": "2022-06-22T22:05:59.462Z"
   },
   {
    "duration": 4,
    "start_time": "2022-06-22T22:05:59.508Z"
   },
   {
    "duration": 32,
    "start_time": "2022-06-22T22:05:59.514Z"
   },
   {
    "duration": 22,
    "start_time": "2022-06-22T22:05:59.547Z"
   },
   {
    "duration": 10,
    "start_time": "2022-06-22T22:05:59.571Z"
   },
   {
    "duration": 7,
    "start_time": "2022-06-22T22:05:59.583Z"
   },
   {
    "duration": 55,
    "start_time": "2022-06-22T22:05:59.592Z"
   },
   {
    "duration": 6,
    "start_time": "2022-06-22T22:05:59.649Z"
   },
   {
    "duration": 11,
    "start_time": "2022-06-22T22:05:59.658Z"
   },
   {
    "duration": 19,
    "start_time": "2022-06-22T22:05:59.671Z"
   },
   {
    "duration": 2093,
    "start_time": "2022-06-22T22:05:59.692Z"
   },
   {
    "duration": 1184,
    "start_time": "2022-06-22T22:06:01.787Z"
   },
   {
    "duration": 6,
    "start_time": "2022-06-22T22:06:02.973Z"
   },
   {
    "duration": 1433,
    "start_time": "2022-06-22T22:06:02.981Z"
   },
   {
    "duration": 6,
    "start_time": "2022-06-22T22:06:04.416Z"
   },
   {
    "duration": 147,
    "start_time": "2022-06-22T22:06:04.424Z"
   },
   {
    "duration": 0,
    "start_time": "2022-06-22T22:06:04.573Z"
   },
   {
    "duration": 0,
    "start_time": "2022-06-22T22:06:04.574Z"
   },
   {
    "duration": 0,
    "start_time": "2022-06-22T22:06:04.576Z"
   },
   {
    "duration": 0,
    "start_time": "2022-06-22T22:06:04.578Z"
   },
   {
    "duration": 0,
    "start_time": "2022-06-22T22:06:04.579Z"
   },
   {
    "duration": 0,
    "start_time": "2022-06-22T22:06:04.581Z"
   },
   {
    "duration": 0,
    "start_time": "2022-06-22T22:06:04.582Z"
   },
   {
    "duration": 0,
    "start_time": "2022-06-22T22:06:04.583Z"
   },
   {
    "duration": 0,
    "start_time": "2022-06-22T22:06:04.585Z"
   },
   {
    "duration": 0,
    "start_time": "2022-06-22T22:06:04.587Z"
   },
   {
    "duration": 0,
    "start_time": "2022-06-22T22:06:04.589Z"
   },
   {
    "duration": 0,
    "start_time": "2022-06-22T22:06:04.590Z"
   },
   {
    "duration": 3,
    "start_time": "2022-06-22T22:12:48.438Z"
   },
   {
    "duration": 10,
    "start_time": "2022-06-22T22:12:58.561Z"
   },
   {
    "duration": 20,
    "start_time": "2022-06-22T22:13:41.573Z"
   },
   {
    "duration": 1370,
    "start_time": "2022-06-22T22:13:52.417Z"
   },
   {
    "duration": 46,
    "start_time": "2022-06-22T22:13:53.790Z"
   },
   {
    "duration": 4,
    "start_time": "2022-06-22T22:13:53.838Z"
   },
   {
    "duration": 14,
    "start_time": "2022-06-22T22:13:53.843Z"
   },
   {
    "duration": 13,
    "start_time": "2022-06-22T22:13:53.859Z"
   },
   {
    "duration": 8,
    "start_time": "2022-06-22T22:13:53.873Z"
   },
   {
    "duration": 8,
    "start_time": "2022-06-22T22:13:53.883Z"
   },
   {
    "duration": 74,
    "start_time": "2022-06-22T22:13:53.892Z"
   },
   {
    "duration": 6,
    "start_time": "2022-06-22T22:13:53.967Z"
   },
   {
    "duration": 11,
    "start_time": "2022-06-22T22:13:53.974Z"
   },
   {
    "duration": 8,
    "start_time": "2022-06-22T22:13:53.986Z"
   },
   {
    "duration": 2050,
    "start_time": "2022-06-22T22:13:53.995Z"
   },
   {
    "duration": 1114,
    "start_time": "2022-06-22T22:13:56.046Z"
   },
   {
    "duration": 6,
    "start_time": "2022-06-22T22:13:57.162Z"
   },
   {
    "duration": 1352,
    "start_time": "2022-06-22T22:13:57.169Z"
   },
   {
    "duration": 13,
    "start_time": "2022-06-22T22:13:58.523Z"
   },
   {
    "duration": 118,
    "start_time": "2022-06-22T22:13:58.540Z"
   },
   {
    "duration": 0,
    "start_time": "2022-06-22T22:13:58.659Z"
   },
   {
    "duration": 0,
    "start_time": "2022-06-22T22:13:58.660Z"
   },
   {
    "duration": 0,
    "start_time": "2022-06-22T22:13:58.661Z"
   },
   {
    "duration": 0,
    "start_time": "2022-06-22T22:13:58.662Z"
   },
   {
    "duration": 0,
    "start_time": "2022-06-22T22:13:58.663Z"
   },
   {
    "duration": 0,
    "start_time": "2022-06-22T22:13:58.664Z"
   },
   {
    "duration": 0,
    "start_time": "2022-06-22T22:13:58.665Z"
   },
   {
    "duration": 0,
    "start_time": "2022-06-22T22:13:58.666Z"
   },
   {
    "duration": 0,
    "start_time": "2022-06-22T22:13:58.668Z"
   },
   {
    "duration": 0,
    "start_time": "2022-06-22T22:13:58.669Z"
   },
   {
    "duration": 0,
    "start_time": "2022-06-22T22:13:58.671Z"
   },
   {
    "duration": 0,
    "start_time": "2022-06-22T22:13:58.672Z"
   },
   {
    "duration": 0,
    "start_time": "2022-06-22T22:13:58.673Z"
   },
   {
    "duration": 3,
    "start_time": "2022-06-22T22:14:13.847Z"
   },
   {
    "duration": 19,
    "start_time": "2022-06-22T22:14:26.495Z"
   },
   {
    "duration": 1487,
    "start_time": "2022-06-22T22:14:34.309Z"
   },
   {
    "duration": 49,
    "start_time": "2022-06-22T22:14:35.798Z"
   },
   {
    "duration": 4,
    "start_time": "2022-06-22T22:14:35.848Z"
   },
   {
    "duration": 22,
    "start_time": "2022-06-22T22:14:35.854Z"
   },
   {
    "duration": 13,
    "start_time": "2022-06-22T22:14:35.878Z"
   },
   {
    "duration": 8,
    "start_time": "2022-06-22T22:14:35.892Z"
   },
   {
    "duration": 9,
    "start_time": "2022-06-22T22:14:35.902Z"
   },
   {
    "duration": 41,
    "start_time": "2022-06-22T22:14:35.937Z"
   },
   {
    "duration": 6,
    "start_time": "2022-06-22T22:14:35.979Z"
   },
   {
    "duration": 13,
    "start_time": "2022-06-22T22:14:35.986Z"
   },
   {
    "duration": 9,
    "start_time": "2022-06-22T22:14:36.001Z"
   },
   {
    "duration": 2080,
    "start_time": "2022-06-22T22:14:36.011Z"
   },
   {
    "duration": 1193,
    "start_time": "2022-06-22T22:14:38.093Z"
   },
   {
    "duration": 6,
    "start_time": "2022-06-22T22:14:39.290Z"
   },
   {
    "duration": 1411,
    "start_time": "2022-06-22T22:14:39.298Z"
   },
   {
    "duration": 4,
    "start_time": "2022-06-22T22:14:40.711Z"
   },
   {
    "duration": 24,
    "start_time": "2022-06-22T22:14:40.717Z"
   },
   {
    "duration": 128,
    "start_time": "2022-06-22T22:14:40.742Z"
   },
   {
    "duration": 0,
    "start_time": "2022-06-22T22:14:40.872Z"
   },
   {
    "duration": 0,
    "start_time": "2022-06-22T22:14:40.874Z"
   },
   {
    "duration": 0,
    "start_time": "2022-06-22T22:14:40.875Z"
   },
   {
    "duration": 0,
    "start_time": "2022-06-22T22:14:40.876Z"
   },
   {
    "duration": 0,
    "start_time": "2022-06-22T22:14:40.877Z"
   },
   {
    "duration": 0,
    "start_time": "2022-06-22T22:14:40.878Z"
   },
   {
    "duration": 0,
    "start_time": "2022-06-22T22:14:40.879Z"
   },
   {
    "duration": 0,
    "start_time": "2022-06-22T22:14:40.879Z"
   },
   {
    "duration": 0,
    "start_time": "2022-06-22T22:14:40.881Z"
   },
   {
    "duration": 0,
    "start_time": "2022-06-22T22:14:40.881Z"
   },
   {
    "duration": 0,
    "start_time": "2022-06-22T22:14:40.882Z"
   },
   {
    "duration": 0,
    "start_time": "2022-06-22T22:14:40.883Z"
   },
   {
    "duration": 1559,
    "start_time": "2022-06-22T22:15:13.505Z"
   },
   {
    "duration": 48,
    "start_time": "2022-06-22T22:15:15.066Z"
   },
   {
    "duration": 4,
    "start_time": "2022-06-22T22:15:15.116Z"
   },
   {
    "duration": 29,
    "start_time": "2022-06-22T22:15:15.122Z"
   },
   {
    "duration": 14,
    "start_time": "2022-06-22T22:15:15.153Z"
   },
   {
    "duration": 10,
    "start_time": "2022-06-22T22:15:15.168Z"
   },
   {
    "duration": 7,
    "start_time": "2022-06-22T22:15:15.179Z"
   },
   {
    "duration": 52,
    "start_time": "2022-06-22T22:15:15.188Z"
   },
   {
    "duration": 6,
    "start_time": "2022-06-22T22:15:15.243Z"
   },
   {
    "duration": 11,
    "start_time": "2022-06-22T22:15:15.250Z"
   },
   {
    "duration": 8,
    "start_time": "2022-06-22T22:15:15.262Z"
   },
   {
    "duration": 2173,
    "start_time": "2022-06-22T22:15:15.271Z"
   },
   {
    "duration": 1200,
    "start_time": "2022-06-22T22:15:17.445Z"
   },
   {
    "duration": 6,
    "start_time": "2022-06-22T22:15:18.648Z"
   },
   {
    "duration": 1466,
    "start_time": "2022-06-22T22:15:18.655Z"
   },
   {
    "duration": 8,
    "start_time": "2022-06-22T22:15:20.124Z"
   },
   {
    "duration": 17,
    "start_time": "2022-06-22T22:15:20.133Z"
   },
   {
    "duration": 114,
    "start_time": "2022-06-22T22:15:20.151Z"
   },
   {
    "duration": 0,
    "start_time": "2022-06-22T22:15:20.267Z"
   },
   {
    "duration": 0,
    "start_time": "2022-06-22T22:15:20.269Z"
   },
   {
    "duration": 0,
    "start_time": "2022-06-22T22:15:20.270Z"
   },
   {
    "duration": 0,
    "start_time": "2022-06-22T22:15:20.271Z"
   },
   {
    "duration": 0,
    "start_time": "2022-06-22T22:15:20.273Z"
   },
   {
    "duration": 0,
    "start_time": "2022-06-22T22:15:20.274Z"
   },
   {
    "duration": 0,
    "start_time": "2022-06-22T22:15:20.275Z"
   },
   {
    "duration": 0,
    "start_time": "2022-06-22T22:15:20.275Z"
   },
   {
    "duration": 0,
    "start_time": "2022-06-22T22:15:20.276Z"
   },
   {
    "duration": 0,
    "start_time": "2022-06-22T22:15:20.277Z"
   },
   {
    "duration": 0,
    "start_time": "2022-06-22T22:15:20.278Z"
   },
   {
    "duration": 0,
    "start_time": "2022-06-22T22:15:20.279Z"
   },
   {
    "duration": 18,
    "start_time": "2022-06-22T22:16:26.469Z"
   },
   {
    "duration": 17,
    "start_time": "2022-06-22T22:16:58.150Z"
   },
   {
    "duration": 1421,
    "start_time": "2022-06-22T22:17:07.150Z"
   },
   {
    "duration": 45,
    "start_time": "2022-06-22T22:17:08.573Z"
   },
   {
    "duration": 4,
    "start_time": "2022-06-22T22:17:08.619Z"
   },
   {
    "duration": 25,
    "start_time": "2022-06-22T22:17:08.625Z"
   },
   {
    "duration": 14,
    "start_time": "2022-06-22T22:17:08.653Z"
   },
   {
    "duration": 9,
    "start_time": "2022-06-22T22:17:08.669Z"
   },
   {
    "duration": 13,
    "start_time": "2022-06-22T22:17:08.679Z"
   },
   {
    "duration": 51,
    "start_time": "2022-06-22T22:17:08.693Z"
   },
   {
    "duration": 6,
    "start_time": "2022-06-22T22:17:08.745Z"
   },
   {
    "duration": 11,
    "start_time": "2022-06-22T22:17:08.753Z"
   },
   {
    "duration": 11,
    "start_time": "2022-06-22T22:17:08.766Z"
   },
   {
    "duration": 2044,
    "start_time": "2022-06-22T22:17:08.778Z"
   },
   {
    "duration": 1193,
    "start_time": "2022-06-22T22:17:10.828Z"
   },
   {
    "duration": 13,
    "start_time": "2022-06-22T22:17:12.027Z"
   },
   {
    "duration": 1351,
    "start_time": "2022-06-22T22:17:12.042Z"
   },
   {
    "duration": 3,
    "start_time": "2022-06-22T22:17:13.395Z"
   },
   {
    "duration": 20,
    "start_time": "2022-06-22T22:17:13.400Z"
   },
   {
    "duration": 127,
    "start_time": "2022-06-22T22:17:13.422Z"
   },
   {
    "duration": 0,
    "start_time": "2022-06-22T22:17:13.551Z"
   },
   {
    "duration": 0,
    "start_time": "2022-06-22T22:17:13.553Z"
   },
   {
    "duration": 0,
    "start_time": "2022-06-22T22:17:13.554Z"
   },
   {
    "duration": 0,
    "start_time": "2022-06-22T22:17:13.556Z"
   },
   {
    "duration": 0,
    "start_time": "2022-06-22T22:17:13.557Z"
   },
   {
    "duration": 0,
    "start_time": "2022-06-22T22:17:13.559Z"
   },
   {
    "duration": 0,
    "start_time": "2022-06-22T22:17:13.561Z"
   },
   {
    "duration": 0,
    "start_time": "2022-06-22T22:17:13.562Z"
   },
   {
    "duration": 0,
    "start_time": "2022-06-22T22:17:13.563Z"
   },
   {
    "duration": 0,
    "start_time": "2022-06-22T22:17:13.564Z"
   },
   {
    "duration": 0,
    "start_time": "2022-06-22T22:17:13.566Z"
   },
   {
    "duration": 0,
    "start_time": "2022-06-22T22:17:13.567Z"
   },
   {
    "duration": 25,
    "start_time": "2022-06-22T22:17:38.938Z"
   },
   {
    "duration": 1487,
    "start_time": "2022-06-22T22:18:07.612Z"
   },
   {
    "duration": 52,
    "start_time": "2022-06-22T22:18:09.102Z"
   },
   {
    "duration": 6,
    "start_time": "2022-06-22T22:18:09.156Z"
   },
   {
    "duration": 16,
    "start_time": "2022-06-22T22:18:09.164Z"
   },
   {
    "duration": 13,
    "start_time": "2022-06-22T22:18:09.182Z"
   },
   {
    "duration": 10,
    "start_time": "2022-06-22T22:18:09.196Z"
   },
   {
    "duration": 14,
    "start_time": "2022-06-22T22:18:09.226Z"
   },
   {
    "duration": 41,
    "start_time": "2022-06-22T22:18:09.242Z"
   },
   {
    "duration": 6,
    "start_time": "2022-06-22T22:18:09.285Z"
   },
   {
    "duration": 9,
    "start_time": "2022-06-22T22:18:09.293Z"
   },
   {
    "duration": 32,
    "start_time": "2022-06-22T22:18:09.304Z"
   },
   {
    "duration": 2063,
    "start_time": "2022-06-22T22:18:09.338Z"
   },
   {
    "duration": 1181,
    "start_time": "2022-06-22T22:18:11.402Z"
   },
   {
    "duration": 5,
    "start_time": "2022-06-22T22:18:12.585Z"
   },
   {
    "duration": 1606,
    "start_time": "2022-06-22T22:18:12.591Z"
   },
   {
    "duration": 4,
    "start_time": "2022-06-22T22:18:14.199Z"
   },
   {
    "duration": 40,
    "start_time": "2022-06-22T22:18:14.205Z"
   },
   {
    "duration": 131,
    "start_time": "2022-06-22T22:18:14.246Z"
   },
   {
    "duration": 0,
    "start_time": "2022-06-22T22:18:14.380Z"
   },
   {
    "duration": 0,
    "start_time": "2022-06-22T22:18:14.382Z"
   },
   {
    "duration": 0,
    "start_time": "2022-06-22T22:18:14.383Z"
   },
   {
    "duration": 0,
    "start_time": "2022-06-22T22:18:14.384Z"
   },
   {
    "duration": 0,
    "start_time": "2022-06-22T22:18:14.385Z"
   },
   {
    "duration": 0,
    "start_time": "2022-06-22T22:18:14.386Z"
   },
   {
    "duration": 0,
    "start_time": "2022-06-22T22:18:14.388Z"
   },
   {
    "duration": 0,
    "start_time": "2022-06-22T22:18:14.432Z"
   },
   {
    "duration": 0,
    "start_time": "2022-06-22T22:18:14.433Z"
   },
   {
    "duration": 0,
    "start_time": "2022-06-22T22:18:14.434Z"
   },
   {
    "duration": 0,
    "start_time": "2022-06-22T22:18:14.435Z"
   },
   {
    "duration": 0,
    "start_time": "2022-06-22T22:18:14.436Z"
   },
   {
    "duration": 24,
    "start_time": "2022-06-22T22:19:55.619Z"
   },
   {
    "duration": 1417,
    "start_time": "2022-06-22T22:20:02.094Z"
   },
   {
    "duration": 48,
    "start_time": "2022-06-22T22:20:03.513Z"
   },
   {
    "duration": 5,
    "start_time": "2022-06-22T22:20:03.563Z"
   },
   {
    "duration": 19,
    "start_time": "2022-06-22T22:20:03.570Z"
   },
   {
    "duration": 14,
    "start_time": "2022-06-22T22:20:03.591Z"
   },
   {
    "duration": 15,
    "start_time": "2022-06-22T22:20:03.607Z"
   },
   {
    "duration": 22,
    "start_time": "2022-06-22T22:20:03.626Z"
   },
   {
    "duration": 44,
    "start_time": "2022-06-22T22:20:03.650Z"
   },
   {
    "duration": 8,
    "start_time": "2022-06-22T22:20:03.696Z"
   },
   {
    "duration": 25,
    "start_time": "2022-06-22T22:20:03.707Z"
   },
   {
    "duration": 7,
    "start_time": "2022-06-22T22:20:03.734Z"
   },
   {
    "duration": 2175,
    "start_time": "2022-06-22T22:20:03.743Z"
   },
   {
    "duration": 1181,
    "start_time": "2022-06-22T22:20:05.920Z"
   },
   {
    "duration": 5,
    "start_time": "2022-06-22T22:20:07.102Z"
   },
   {
    "duration": 1400,
    "start_time": "2022-06-22T22:20:07.109Z"
   },
   {
    "duration": 4,
    "start_time": "2022-06-22T22:20:08.511Z"
   },
   {
    "duration": 33,
    "start_time": "2022-06-22T22:20:08.517Z"
   },
   {
    "duration": 117,
    "start_time": "2022-06-22T22:20:08.552Z"
   },
   {
    "duration": 0,
    "start_time": "2022-06-22T22:20:08.670Z"
   },
   {
    "duration": 0,
    "start_time": "2022-06-22T22:20:08.671Z"
   },
   {
    "duration": 0,
    "start_time": "2022-06-22T22:20:08.673Z"
   },
   {
    "duration": 0,
    "start_time": "2022-06-22T22:20:08.674Z"
   },
   {
    "duration": 0,
    "start_time": "2022-06-22T22:20:08.675Z"
   },
   {
    "duration": 0,
    "start_time": "2022-06-22T22:20:08.676Z"
   },
   {
    "duration": 0,
    "start_time": "2022-06-22T22:20:08.677Z"
   },
   {
    "duration": 0,
    "start_time": "2022-06-22T22:20:08.678Z"
   },
   {
    "duration": 0,
    "start_time": "2022-06-22T22:20:08.679Z"
   },
   {
    "duration": 0,
    "start_time": "2022-06-22T22:20:08.680Z"
   },
   {
    "duration": 0,
    "start_time": "2022-06-22T22:20:08.681Z"
   },
   {
    "duration": 0,
    "start_time": "2022-06-22T22:20:08.682Z"
   },
   {
    "duration": 9,
    "start_time": "2022-06-22T22:20:22.954Z"
   },
   {
    "duration": 2,
    "start_time": "2022-06-22T22:20:53.854Z"
   },
   {
    "duration": 19,
    "start_time": "2022-06-22T22:21:05.932Z"
   },
   {
    "duration": 1423,
    "start_time": "2022-06-22T22:23:36.353Z"
   },
   {
    "duration": 43,
    "start_time": "2022-06-22T22:23:37.778Z"
   },
   {
    "duration": 14,
    "start_time": "2022-06-22T22:23:37.823Z"
   },
   {
    "duration": 17,
    "start_time": "2022-06-22T22:23:37.840Z"
   },
   {
    "duration": 13,
    "start_time": "2022-06-22T22:23:37.858Z"
   },
   {
    "duration": 8,
    "start_time": "2022-06-22T22:23:37.872Z"
   },
   {
    "duration": 6,
    "start_time": "2022-06-22T22:23:37.881Z"
   },
   {
    "duration": 59,
    "start_time": "2022-06-22T22:23:37.889Z"
   },
   {
    "duration": 6,
    "start_time": "2022-06-22T22:23:37.950Z"
   },
   {
    "duration": 10,
    "start_time": "2022-06-22T22:23:37.958Z"
   },
   {
    "duration": 7,
    "start_time": "2022-06-22T22:23:37.969Z"
   },
   {
    "duration": 2067,
    "start_time": "2022-06-22T22:23:37.978Z"
   },
   {
    "duration": 1147,
    "start_time": "2022-06-22T22:23:40.046Z"
   },
   {
    "duration": 7,
    "start_time": "2022-06-22T22:23:41.195Z"
   },
   {
    "duration": 1433,
    "start_time": "2022-06-22T22:23:41.204Z"
   },
   {
    "duration": 18,
    "start_time": "2022-06-22T22:23:42.639Z"
   },
   {
    "duration": 32,
    "start_time": "2022-06-22T22:23:42.659Z"
   },
   {
    "duration": 31,
    "start_time": "2022-06-22T22:23:42.692Z"
   },
   {
    "duration": 2805,
    "start_time": "2022-06-22T22:23:42.725Z"
   },
   {
    "duration": 530,
    "start_time": "2022-06-22T22:23:45.531Z"
   },
   {
    "duration": 3,
    "start_time": "2022-06-22T22:23:46.063Z"
   },
   {
    "duration": 37,
    "start_time": "2022-06-22T22:23:46.068Z"
   },
   {
    "duration": 11,
    "start_time": "2022-06-22T22:23:46.107Z"
   },
   {
    "duration": 111604,
    "start_time": "2022-06-22T22:23:46.119Z"
   },
   {
    "duration": 1007,
    "start_time": "2022-06-22T22:25:37.726Z"
   },
   {
    "duration": 16,
    "start_time": "2022-06-22T22:25:38.734Z"
   },
   {
    "duration": 9,
    "start_time": "2022-06-22T22:25:38.752Z"
   },
   {
    "duration": 1000,
    "start_time": "2022-06-22T22:25:38.764Z"
   },
   {
    "duration": 1083,
    "start_time": "2022-06-22T22:25:39.766Z"
   },
   {
    "duration": 7,
    "start_time": "2022-06-22T22:25:40.851Z"
   },
   {
    "duration": 115,
    "start_time": "2022-06-22T22:28:43.338Z"
   },
   {
    "duration": 10,
    "start_time": "2022-06-22T22:29:00.649Z"
   },
   {
    "duration": 17,
    "start_time": "2022-06-22T22:29:09.660Z"
   },
   {
    "duration": 1360,
    "start_time": "2022-06-22T22:29:19.160Z"
   },
   {
    "duration": 48,
    "start_time": "2022-06-22T22:29:20.521Z"
   },
   {
    "duration": 4,
    "start_time": "2022-06-22T22:29:20.571Z"
   },
   {
    "duration": 19,
    "start_time": "2022-06-22T22:29:20.577Z"
   },
   {
    "duration": 13,
    "start_time": "2022-06-22T22:29:20.597Z"
   },
   {
    "duration": 7,
    "start_time": "2022-06-22T22:29:20.612Z"
   },
   {
    "duration": 16,
    "start_time": "2022-06-22T22:29:20.621Z"
   },
   {
    "duration": 44,
    "start_time": "2022-06-22T22:29:20.638Z"
   },
   {
    "duration": 5,
    "start_time": "2022-06-22T22:29:20.683Z"
   },
   {
    "duration": 10,
    "start_time": "2022-06-22T22:29:20.691Z"
   },
   {
    "duration": 10,
    "start_time": "2022-06-22T22:29:20.703Z"
   },
   {
    "duration": 1994,
    "start_time": "2022-06-22T22:29:20.714Z"
   },
   {
    "duration": 1137,
    "start_time": "2022-06-22T22:29:22.709Z"
   },
   {
    "duration": 6,
    "start_time": "2022-06-22T22:29:23.849Z"
   },
   {
    "duration": 1369,
    "start_time": "2022-06-22T22:29:23.856Z"
   },
   {
    "duration": 114,
    "start_time": "2022-06-22T22:29:25.227Z"
   },
   {
    "duration": 0,
    "start_time": "2022-06-22T22:29:25.342Z"
   },
   {
    "duration": 0,
    "start_time": "2022-06-22T22:29:25.343Z"
   },
   {
    "duration": 0,
    "start_time": "2022-06-22T22:29:25.344Z"
   },
   {
    "duration": 0,
    "start_time": "2022-06-22T22:29:25.346Z"
   },
   {
    "duration": 0,
    "start_time": "2022-06-22T22:29:25.346Z"
   },
   {
    "duration": 0,
    "start_time": "2022-06-22T22:29:25.347Z"
   },
   {
    "duration": 0,
    "start_time": "2022-06-22T22:29:25.348Z"
   },
   {
    "duration": 0,
    "start_time": "2022-06-22T22:29:25.350Z"
   },
   {
    "duration": 0,
    "start_time": "2022-06-22T22:29:25.350Z"
   },
   {
    "duration": 0,
    "start_time": "2022-06-22T22:29:25.351Z"
   },
   {
    "duration": 0,
    "start_time": "2022-06-22T22:29:25.352Z"
   },
   {
    "duration": 0,
    "start_time": "2022-06-22T22:29:25.353Z"
   },
   {
    "duration": 0,
    "start_time": "2022-06-22T22:29:25.354Z"
   },
   {
    "duration": 0,
    "start_time": "2022-06-22T22:29:25.355Z"
   },
   {
    "duration": 5,
    "start_time": "2022-06-22T22:30:15.461Z"
   },
   {
    "duration": 3,
    "start_time": "2022-06-22T22:30:19.664Z"
   },
   {
    "duration": 10,
    "start_time": "2022-06-22T22:30:28.893Z"
   },
   {
    "duration": 15,
    "start_time": "2022-06-22T22:30:40.609Z"
   },
   {
    "duration": 11,
    "start_time": "2022-06-22T22:30:56.412Z"
   },
   {
    "duration": 1318,
    "start_time": "2022-06-22T22:31:14.661Z"
   },
   {
    "duration": 53,
    "start_time": "2022-06-22T22:31:15.984Z"
   },
   {
    "duration": 4,
    "start_time": "2022-06-22T22:31:16.039Z"
   },
   {
    "duration": 16,
    "start_time": "2022-06-22T22:31:16.045Z"
   },
   {
    "duration": 21,
    "start_time": "2022-06-22T22:31:16.063Z"
   },
   {
    "duration": 16,
    "start_time": "2022-06-22T22:31:16.086Z"
   },
   {
    "duration": 67,
    "start_time": "2022-06-22T22:31:16.104Z"
   },
   {
    "duration": 60,
    "start_time": "2022-06-22T22:31:16.172Z"
   },
   {
    "duration": 7,
    "start_time": "2022-06-22T22:31:16.237Z"
   },
   {
    "duration": 19,
    "start_time": "2022-06-22T22:31:16.246Z"
   },
   {
    "duration": 33,
    "start_time": "2022-06-22T22:31:16.267Z"
   },
   {
    "duration": 1955,
    "start_time": "2022-06-22T22:31:16.302Z"
   },
   {
    "duration": 1113,
    "start_time": "2022-06-22T22:31:18.259Z"
   },
   {
    "duration": 6,
    "start_time": "2022-06-22T22:31:19.374Z"
   },
   {
    "duration": 1367,
    "start_time": "2022-06-22T22:31:19.382Z"
   },
   {
    "duration": 13,
    "start_time": "2022-06-22T22:31:20.751Z"
   },
   {
    "duration": 17,
    "start_time": "2022-06-22T22:31:20.766Z"
   },
   {
    "duration": 11,
    "start_time": "2022-06-22T22:31:20.785Z"
   },
   {
    "duration": 15,
    "start_time": "2022-06-22T22:31:20.797Z"
   },
   {
    "duration": 1628,
    "start_time": "2022-06-22T22:31:20.814Z"
   },
   {
    "duration": 528,
    "start_time": "2022-06-22T22:31:22.444Z"
   },
   {
    "duration": 4,
    "start_time": "2022-06-22T22:31:22.973Z"
   },
   {
    "duration": 25,
    "start_time": "2022-06-22T22:31:22.978Z"
   },
   {
    "duration": 7,
    "start_time": "2022-06-22T22:31:23.005Z"
   },
   {
    "duration": 108051,
    "start_time": "2022-06-22T22:31:23.013Z"
   },
   {
    "duration": 966,
    "start_time": "2022-06-22T22:33:11.065Z"
   },
   {
    "duration": 101,
    "start_time": "2022-06-22T22:33:12.035Z"
   },
   {
    "duration": 13,
    "start_time": "2022-06-22T22:33:12.139Z"
   },
   {
    "duration": 957,
    "start_time": "2022-06-22T22:33:12.153Z"
   },
   {
    "duration": 990,
    "start_time": "2022-06-22T22:33:13.111Z"
   },
   {
    "duration": 8,
    "start_time": "2022-06-22T22:33:14.103Z"
   },
   {
    "duration": 20,
    "start_time": "2022-06-22T22:33:14.112Z"
   },
   {
    "duration": 121,
    "start_time": "2022-06-22T22:33:14.133Z"
   },
   {
    "duration": 2,
    "start_time": "2022-06-22T22:33:19.654Z"
   },
   {
    "duration": 18,
    "start_time": "2022-06-22T22:33:36.541Z"
   },
   {
    "duration": 1357,
    "start_time": "2022-06-22T22:33:47.342Z"
   },
   {
    "duration": 50,
    "start_time": "2022-06-22T22:33:48.701Z"
   },
   {
    "duration": 3,
    "start_time": "2022-06-22T22:33:48.753Z"
   },
   {
    "duration": 14,
    "start_time": "2022-06-22T22:33:48.758Z"
   },
   {
    "duration": 17,
    "start_time": "2022-06-22T22:33:48.773Z"
   },
   {
    "duration": 11,
    "start_time": "2022-06-22T22:33:48.791Z"
   },
   {
    "duration": 12,
    "start_time": "2022-06-22T22:33:48.803Z"
   },
   {
    "duration": 55,
    "start_time": "2022-06-22T22:33:48.816Z"
   },
   {
    "duration": 6,
    "start_time": "2022-06-22T22:33:48.872Z"
   },
   {
    "duration": 22,
    "start_time": "2022-06-22T22:33:48.881Z"
   },
   {
    "duration": 27,
    "start_time": "2022-06-22T22:33:48.905Z"
   },
   {
    "duration": 2228,
    "start_time": "2022-06-22T22:33:48.934Z"
   },
   {
    "duration": 1212,
    "start_time": "2022-06-22T22:33:51.163Z"
   },
   {
    "duration": 6,
    "start_time": "2022-06-22T22:33:52.377Z"
   },
   {
    "duration": 1396,
    "start_time": "2022-06-22T22:33:52.385Z"
   },
   {
    "duration": 11,
    "start_time": "2022-06-22T22:33:53.783Z"
   },
   {
    "duration": 27,
    "start_time": "2022-06-22T22:33:53.796Z"
   },
   {
    "duration": 19,
    "start_time": "2022-06-22T22:33:53.825Z"
   },
   {
    "duration": 15,
    "start_time": "2022-06-22T22:33:53.845Z"
   },
   {
    "duration": 1978,
    "start_time": "2022-06-22T22:33:53.861Z"
   },
   {
    "duration": 521,
    "start_time": "2022-06-22T22:33:55.841Z"
   },
   {
    "duration": 3,
    "start_time": "2022-06-22T22:33:56.364Z"
   },
   {
    "duration": 20,
    "start_time": "2022-06-22T22:33:56.369Z"
   },
   {
    "duration": 7,
    "start_time": "2022-06-22T22:33:56.390Z"
   },
   {
    "duration": 110156,
    "start_time": "2022-06-22T22:33:56.399Z"
   },
   {
    "duration": 1278,
    "start_time": "2022-06-22T22:35:46.557Z"
   },
   {
    "duration": 14,
    "start_time": "2022-06-22T22:35:47.841Z"
   },
   {
    "duration": 83,
    "start_time": "2022-06-22T22:35:47.858Z"
   },
   {
    "duration": 959,
    "start_time": "2022-06-22T22:35:47.943Z"
   },
   {
    "duration": 1165,
    "start_time": "2022-06-22T22:35:48.904Z"
   },
   {
    "duration": 8,
    "start_time": "2022-06-22T22:35:50.071Z"
   },
   {
    "duration": 9,
    "start_time": "2022-06-22T22:35:50.080Z"
   },
   {
    "duration": 10,
    "start_time": "2022-06-22T22:35:50.090Z"
   },
   {
    "duration": 120,
    "start_time": "2022-06-22T22:37:23.082Z"
   },
   {
    "duration": 1542,
    "start_time": "2022-06-22T22:37:30.137Z"
   },
   {
    "duration": 49,
    "start_time": "2022-06-22T22:37:31.681Z"
   },
   {
    "duration": 22,
    "start_time": "2022-06-22T22:37:31.732Z"
   },
   {
    "duration": 20,
    "start_time": "2022-06-22T22:37:31.756Z"
   },
   {
    "duration": 15,
    "start_time": "2022-06-22T22:37:31.779Z"
   },
   {
    "duration": 15,
    "start_time": "2022-06-22T22:37:31.796Z"
   },
   {
    "duration": 46,
    "start_time": "2022-06-22T22:37:31.813Z"
   },
   {
    "duration": 55,
    "start_time": "2022-06-22T22:37:31.860Z"
   },
   {
    "duration": 20,
    "start_time": "2022-06-22T22:37:31.917Z"
   },
   {
    "duration": 12,
    "start_time": "2022-06-22T22:37:31.941Z"
   },
   {
    "duration": 9,
    "start_time": "2022-06-22T22:37:31.955Z"
   },
   {
    "duration": 2140,
    "start_time": "2022-06-22T22:37:31.966Z"
   },
   {
    "duration": 1197,
    "start_time": "2022-06-22T22:37:34.108Z"
   },
   {
    "duration": 5,
    "start_time": "2022-06-22T22:37:35.308Z"
   },
   {
    "duration": 1354,
    "start_time": "2022-06-22T22:37:35.315Z"
   },
   {
    "duration": 11,
    "start_time": "2022-06-22T22:37:36.671Z"
   },
   {
    "duration": 9,
    "start_time": "2022-06-22T22:37:36.683Z"
   },
   {
    "duration": 20,
    "start_time": "2022-06-22T22:37:36.693Z"
   },
   {
    "duration": 16,
    "start_time": "2022-06-22T22:37:36.715Z"
   },
   {
    "duration": 2284,
    "start_time": "2022-06-22T22:37:36.741Z"
   },
   {
    "duration": 462,
    "start_time": "2022-06-22T22:37:39.028Z"
   },
   {
    "duration": 3,
    "start_time": "2022-06-22T22:37:39.492Z"
   },
   {
    "duration": 23,
    "start_time": "2022-06-22T22:37:39.497Z"
   },
   {
    "duration": 8,
    "start_time": "2022-06-22T22:37:39.526Z"
   },
   {
    "duration": 108307,
    "start_time": "2022-06-22T22:37:39.536Z"
   },
   {
    "duration": 1297,
    "start_time": "2022-06-22T22:39:27.844Z"
   },
   {
    "duration": 98,
    "start_time": "2022-06-22T22:39:29.143Z"
   },
   {
    "duration": 5,
    "start_time": "2022-06-22T22:39:29.243Z"
   },
   {
    "duration": 1108,
    "start_time": "2022-06-22T22:39:29.250Z"
   },
   {
    "duration": 1189,
    "start_time": "2022-06-22T22:39:30.360Z"
   },
   {
    "duration": 10,
    "start_time": "2022-06-22T22:39:31.550Z"
   },
   {
    "duration": 19,
    "start_time": "2022-06-22T22:39:31.563Z"
   },
   {
    "duration": 32,
    "start_time": "2022-06-22T22:39:31.584Z"
   },
   {
    "duration": 17,
    "start_time": "2022-06-22T22:40:46.925Z"
   },
   {
    "duration": 1526,
    "start_time": "2022-06-22T22:40:51.012Z"
   },
   {
    "duration": 337,
    "start_time": "2022-06-22T22:40:53.877Z"
   },
   {
    "duration": 4,
    "start_time": "2022-06-22T22:40:58.305Z"
   },
   {
    "duration": 16,
    "start_time": "2022-06-22T22:41:00.805Z"
   },
   {
    "duration": 1452,
    "start_time": "2022-06-22T22:41:18.665Z"
   },
   {
    "duration": 50,
    "start_time": "2022-06-22T22:41:20.119Z"
   },
   {
    "duration": 4,
    "start_time": "2022-06-22T22:41:20.171Z"
   },
   {
    "duration": 13,
    "start_time": "2022-06-22T22:41:20.177Z"
   },
   {
    "duration": 13,
    "start_time": "2022-06-22T22:41:20.192Z"
   },
   {
    "duration": 32,
    "start_time": "2022-06-22T22:41:20.206Z"
   },
   {
    "duration": 10,
    "start_time": "2022-06-22T22:41:20.240Z"
   },
   {
    "duration": 47,
    "start_time": "2022-06-22T22:41:20.252Z"
   },
   {
    "duration": 6,
    "start_time": "2022-06-22T22:41:20.301Z"
   },
   {
    "duration": 9,
    "start_time": "2022-06-22T22:41:20.336Z"
   },
   {
    "duration": 10,
    "start_time": "2022-06-22T22:41:20.347Z"
   },
   {
    "duration": 2059,
    "start_time": "2022-06-22T22:41:20.358Z"
   },
   {
    "duration": 1137,
    "start_time": "2022-06-22T22:41:22.419Z"
   },
   {
    "duration": 5,
    "start_time": "2022-06-22T22:41:23.558Z"
   },
   {
    "duration": 1413,
    "start_time": "2022-06-22T22:41:23.564Z"
   },
   {
    "duration": 11,
    "start_time": "2022-06-22T22:41:24.979Z"
   },
   {
    "duration": 21,
    "start_time": "2022-06-22T22:41:24.991Z"
   },
   {
    "duration": 28,
    "start_time": "2022-06-22T22:41:25.013Z"
   },
   {
    "duration": 15,
    "start_time": "2022-06-22T22:41:25.042Z"
   },
   {
    "duration": 2788,
    "start_time": "2022-06-22T22:41:25.058Z"
   },
   {
    "duration": 515,
    "start_time": "2022-06-22T22:41:27.849Z"
   },
   {
    "duration": 3,
    "start_time": "2022-06-22T22:41:28.366Z"
   },
   {
    "duration": 20,
    "start_time": "2022-06-22T22:41:28.370Z"
   },
   {
    "duration": 6,
    "start_time": "2022-06-22T22:41:28.392Z"
   },
   {
    "duration": 109647,
    "start_time": "2022-06-22T22:41:28.399Z"
   },
   {
    "duration": 1179,
    "start_time": "2022-06-22T22:43:18.048Z"
   },
   {
    "duration": 15,
    "start_time": "2022-06-22T22:43:19.239Z"
   },
   {
    "duration": 4,
    "start_time": "2022-06-22T22:43:19.258Z"
   },
   {
    "duration": 912,
    "start_time": "2022-06-22T22:43:19.264Z"
   },
   {
    "duration": 1024,
    "start_time": "2022-06-22T22:43:20.178Z"
   },
   {
    "duration": 8,
    "start_time": "2022-06-22T22:43:21.204Z"
   },
   {
    "duration": 4,
    "start_time": "2022-06-22T22:59:18.316Z"
   },
   {
    "duration": 11,
    "start_time": "2022-06-22T22:59:19.276Z"
   },
   {
    "duration": 14,
    "start_time": "2022-06-22T22:59:43.984Z"
   },
   {
    "duration": 1466,
    "start_time": "2022-06-22T22:59:45.984Z"
   },
   {
    "duration": 425,
    "start_time": "2022-06-22T22:59:47.533Z"
   },
   {
    "duration": 4,
    "start_time": "2022-06-22T22:59:50.652Z"
   },
   {
    "duration": 22,
    "start_time": "2022-06-22T22:59:51.910Z"
   },
   {
    "duration": 1520,
    "start_time": "2022-06-22T23:00:02.799Z"
   },
   {
    "duration": 44,
    "start_time": "2022-06-22T23:00:04.321Z"
   },
   {
    "duration": 4,
    "start_time": "2022-06-22T23:00:04.367Z"
   },
   {
    "duration": 28,
    "start_time": "2022-06-22T23:00:04.374Z"
   },
   {
    "duration": 22,
    "start_time": "2022-06-22T23:00:04.406Z"
   },
   {
    "duration": 13,
    "start_time": "2022-06-22T23:00:04.430Z"
   },
   {
    "duration": 43,
    "start_time": "2022-06-22T23:00:04.449Z"
   },
   {
    "duration": 49,
    "start_time": "2022-06-22T23:00:04.494Z"
   },
   {
    "duration": 7,
    "start_time": "2022-06-22T23:00:04.545Z"
   },
   {
    "duration": 25,
    "start_time": "2022-06-22T23:00:04.554Z"
   },
   {
    "duration": 26,
    "start_time": "2022-06-22T23:00:04.580Z"
   },
   {
    "duration": 2060,
    "start_time": "2022-06-22T23:00:04.608Z"
   },
   {
    "duration": 1186,
    "start_time": "2022-06-22T23:00:06.670Z"
   },
   {
    "duration": 6,
    "start_time": "2022-06-22T23:00:07.859Z"
   },
   {
    "duration": 1339,
    "start_time": "2022-06-22T23:00:07.866Z"
   },
   {
    "duration": 11,
    "start_time": "2022-06-22T23:00:09.207Z"
   },
   {
    "duration": 9,
    "start_time": "2022-06-22T23:00:09.219Z"
   },
   {
    "duration": 20,
    "start_time": "2022-06-22T23:00:09.229Z"
   },
   {
    "duration": 2189,
    "start_time": "2022-06-22T23:00:09.251Z"
   },
   {
    "duration": 461,
    "start_time": "2022-06-22T23:00:11.442Z"
   },
   {
    "duration": 4,
    "start_time": "2022-06-22T23:00:11.904Z"
   },
   {
    "duration": 32,
    "start_time": "2022-06-22T23:00:11.909Z"
   },
   {
    "duration": 7,
    "start_time": "2022-06-22T23:00:11.943Z"
   },
   {
    "duration": 1404,
    "start_time": "2022-06-22T23:06:59.541Z"
   },
   {
    "duration": 45,
    "start_time": "2022-06-22T23:07:00.947Z"
   },
   {
    "duration": 5,
    "start_time": "2022-06-22T23:07:00.993Z"
   },
   {
    "duration": 38,
    "start_time": "2022-06-22T23:07:01.000Z"
   },
   {
    "duration": 32,
    "start_time": "2022-06-22T23:07:01.040Z"
   },
   {
    "duration": 10,
    "start_time": "2022-06-22T23:07:01.073Z"
   },
   {
    "duration": 12,
    "start_time": "2022-06-22T23:07:01.084Z"
   },
   {
    "duration": 58,
    "start_time": "2022-06-22T23:07:01.097Z"
   },
   {
    "duration": 11,
    "start_time": "2022-06-22T23:07:01.157Z"
   },
   {
    "duration": 17,
    "start_time": "2022-06-22T23:07:01.169Z"
   },
   {
    "duration": 33,
    "start_time": "2022-06-22T23:07:01.187Z"
   },
   {
    "duration": 2092,
    "start_time": "2022-06-22T23:07:01.222Z"
   },
   {
    "duration": 1182,
    "start_time": "2022-06-22T23:07:03.316Z"
   },
   {
    "duration": 7,
    "start_time": "2022-06-22T23:07:04.502Z"
   },
   {
    "duration": 1387,
    "start_time": "2022-06-22T23:07:04.510Z"
   },
   {
    "duration": 4,
    "start_time": "2022-06-22T23:07:05.899Z"
   },
   {
    "duration": 19,
    "start_time": "2022-06-22T23:07:05.904Z"
   },
   {
    "duration": 1820,
    "start_time": "2022-06-22T23:07:05.924Z"
   },
   {
    "duration": 435,
    "start_time": "2022-06-22T23:07:07.748Z"
   },
   {
    "duration": 3,
    "start_time": "2022-06-22T23:07:08.184Z"
   },
   {
    "duration": 19,
    "start_time": "2022-06-22T23:07:08.189Z"
   },
   {
    "duration": 28,
    "start_time": "2022-06-22T23:07:08.209Z"
   },
   {
    "duration": 107968,
    "start_time": "2022-06-22T23:07:08.239Z"
   },
   {
    "duration": 1140,
    "start_time": "2022-06-22T23:08:56.209Z"
   },
   {
    "duration": 13,
    "start_time": "2022-06-22T23:08:57.351Z"
   },
   {
    "duration": 4,
    "start_time": "2022-06-22T23:08:57.366Z"
   },
   {
    "duration": 1217,
    "start_time": "2022-06-22T23:08:57.372Z"
   },
   {
    "duration": 670,
    "start_time": "2022-06-22T23:08:58.590Z"
   },
   {
    "duration": 0,
    "start_time": "2022-06-22T23:08:59.262Z"
   },
   {
    "duration": 645,
    "start_time": "2022-06-22T23:17:10.820Z"
   },
   {
    "duration": 9,
    "start_time": "2022-06-22T23:25:35.068Z"
   },
   {
    "duration": 88,
    "start_time": "2022-06-22T23:29:27.401Z"
   },
   {
    "duration": 1376,
    "start_time": "2022-06-22T23:29:39.009Z"
   },
   {
    "duration": 51,
    "start_time": "2022-06-22T23:29:40.387Z"
   },
   {
    "duration": 5,
    "start_time": "2022-06-22T23:29:40.439Z"
   },
   {
    "duration": 15,
    "start_time": "2022-06-22T23:29:40.445Z"
   },
   {
    "duration": 11,
    "start_time": "2022-06-22T23:29:40.462Z"
   },
   {
    "duration": 6,
    "start_time": "2022-06-22T23:29:40.475Z"
   },
   {
    "duration": 11,
    "start_time": "2022-06-22T23:29:40.482Z"
   },
   {
    "duration": 57,
    "start_time": "2022-06-22T23:29:40.494Z"
   },
   {
    "duration": 5,
    "start_time": "2022-06-22T23:29:40.553Z"
   },
   {
    "duration": 13,
    "start_time": "2022-06-22T23:29:40.560Z"
   },
   {
    "duration": 15,
    "start_time": "2022-06-22T23:29:40.575Z"
   },
   {
    "duration": 2004,
    "start_time": "2022-06-22T23:29:40.591Z"
   },
   {
    "duration": 1122,
    "start_time": "2022-06-22T23:29:42.596Z"
   },
   {
    "duration": 15,
    "start_time": "2022-06-22T23:29:43.721Z"
   },
   {
    "duration": 1342,
    "start_time": "2022-06-22T23:29:43.738Z"
   },
   {
    "duration": 5,
    "start_time": "2022-06-22T23:29:45.082Z"
   },
   {
    "duration": 20,
    "start_time": "2022-06-22T23:29:45.088Z"
   },
   {
    "duration": 2420,
    "start_time": "2022-06-22T23:29:45.110Z"
   },
   {
    "duration": 424,
    "start_time": "2022-06-22T23:29:47.533Z"
   },
   {
    "duration": 3,
    "start_time": "2022-06-22T23:29:47.959Z"
   },
   {
    "duration": 20,
    "start_time": "2022-06-22T23:29:47.964Z"
   },
   {
    "duration": 7,
    "start_time": "2022-06-22T23:29:47.985Z"
   },
   {
    "duration": 109006,
    "start_time": "2022-06-22T23:29:47.993Z"
   },
   {
    "duration": 1050,
    "start_time": "2022-06-22T23:31:37.001Z"
   },
   {
    "duration": 16,
    "start_time": "2022-06-22T23:31:38.128Z"
   },
   {
    "duration": 5,
    "start_time": "2022-06-22T23:31:38.146Z"
   },
   {
    "duration": 1208,
    "start_time": "2022-06-22T23:31:38.152Z"
   },
   {
    "duration": 612,
    "start_time": "2022-06-22T23:31:39.362Z"
   },
   {
    "duration": 8,
    "start_time": "2022-06-22T23:31:39.975Z"
   }
  ],
  "kernelspec": {
   "display_name": "Python 3 (ipykernel)",
   "language": "python",
   "name": "python3"
  },
  "language_info": {
   "codemirror_mode": {
    "name": "ipython",
    "version": 3
   },
   "file_extension": ".py",
   "mimetype": "text/x-python",
   "name": "python",
   "nbconvert_exporter": "python",
   "pygments_lexer": "ipython3",
   "version": "3.9.12"
  },
  "toc": {
   "base_numbering": 1,
   "nav_menu": {},
   "number_sections": true,
   "sideBar": true,
   "skip_h1_title": true,
   "title_cell": "Table of Contents",
   "title_sidebar": "Contents",
   "toc_cell": false,
   "toc_position": {},
   "toc_section_display": true,
   "toc_window_display": false
  }
 },
 "nbformat": 4,
 "nbformat_minor": 2
}
