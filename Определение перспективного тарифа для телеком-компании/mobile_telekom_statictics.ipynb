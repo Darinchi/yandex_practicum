{
 "cells": [
  {
   "cell_type": "markdown",
   "metadata": {},
   "source": [
    "# Определение перспективного тарифа для телеком-компании\n",
    "\n",
    "В данной работе проведем предварительный анализ тарифов на небольшой выборке клиентов компании «Мегалайн» — федерального оператора сотовой связи. Клиентам предлагают два тарифных плана: «Смарт» и «Ультра». Известны активности абонентов тарифов «Смарт» и «Ультра»: количество сделанных звонков и израсходованных минут разговора, количество сообщений и объем использованного интернет-трафика за 2018 год.\n",
    "\n",
    "**Цель данного исследования** : на основе данных клиентов оператора сотовой связи проанализировать поведение клиентов и поиск оптимального тарифа"
   ]
  },
  {
   "cell_type": "markdown",
   "metadata": {},
   "source": [
    "<h1>Содержание<span class=\"tocSkip\"></span></h1>\n",
    "<div class=\"toc\"><ul class=\"toc-item\"><li><span><a href=\"#Изучение-данных-из-файла\" data-toc-modified-id=\"Изучение-данных-из-файла-1\"><span class=\"toc-item-num\">1&nbsp;&nbsp;</span>Изучение данных из файла</a></span></li><li><span><a href=\"#Предобработка-данных\" data-toc-modified-id=\"Предобработка-данных-2\"><span class=\"toc-item-num\">2&nbsp;&nbsp;</span>Предобработка данных</a></span></li><li><span><a href=\"#Расчёты-и-добавление-результатов-в-таблицу\" data-toc-modified-id=\"Расчёты-и-добавление-результатов-в-таблицу-3\"><span class=\"toc-item-num\">3&nbsp;&nbsp;</span>Расчёты и добавление результатов в таблицу</a></span></li><li><span><a href=\"#Исследовательский-анализ-данных\" data-toc-modified-id=\"Исследовательский-анализ-данных-4\"><span class=\"toc-item-num\">4&nbsp;&nbsp;</span>Исследовательский анализ данных</a></span></li><li><span><a href=\"#Проверка гипотез\" data-toc-modified-id=\"Проверка гипотез-5\"><span class=\"toc-item-num\">5&nbsp;&nbsp;</span>Проверка гипотез</a></span></li><li><span><a href=\"#Общий вывод\" data-toc-modified-id=\"Общий вывод-6\"><span class=\"toc-item-num\">6&nbsp;&nbsp;</span>Общий вывод</a></span></li>"
   ]
  },
  {
   "cell_type": "markdown",
   "metadata": {},
   "source": [
    "## Изучение данных из файла"
   ]
  },
  {
   "cell_type": "code",
   "execution_count": 1,
   "metadata": {},
   "outputs": [],
   "source": [
    "import pandas as pd\n",
    "import numpy as np\n",
    "from scipy import stats as st\n",
    "\n",
    "#устраним красные предупреждения\n",
    "import warnings\n",
    "warnings.filterwarnings(action='ignore')\n",
    "\n",
    "from matplotlib import pyplot as plt"
   ]
  },
  {
   "cell_type": "markdown",
   "metadata": {},
   "source": [
    "Изучим файл с данными о звонках абонента."
   ]
  },
  {
   "cell_type": "code",
   "execution_count": 2,
   "metadata": {},
   "outputs": [
    {
     "data": {
      "text/html": [
       "<div>\n",
       "<style scoped>\n",
       "    .dataframe tbody tr th:only-of-type {\n",
       "        vertical-align: middle;\n",
       "    }\n",
       "\n",
       "    .dataframe tbody tr th {\n",
       "        vertical-align: top;\n",
       "    }\n",
       "\n",
       "    .dataframe thead th {\n",
       "        text-align: right;\n",
       "    }\n",
       "</style>\n",
       "<table border=\"1\" class=\"dataframe\">\n",
       "  <thead>\n",
       "    <tr style=\"text-align: right;\">\n",
       "      <th></th>\n",
       "      <th>id</th>\n",
       "      <th>call_date</th>\n",
       "      <th>duration</th>\n",
       "      <th>user_id</th>\n",
       "    </tr>\n",
       "  </thead>\n",
       "  <tbody>\n",
       "    <tr>\n",
       "      <th>0</th>\n",
       "      <td>1000_0</td>\n",
       "      <td>2018-07-25</td>\n",
       "      <td>0.00</td>\n",
       "      <td>1000</td>\n",
       "    </tr>\n",
       "    <tr>\n",
       "      <th>1</th>\n",
       "      <td>1000_1</td>\n",
       "      <td>2018-08-17</td>\n",
       "      <td>0.00</td>\n",
       "      <td>1000</td>\n",
       "    </tr>\n",
       "    <tr>\n",
       "      <th>2</th>\n",
       "      <td>1000_2</td>\n",
       "      <td>2018-06-11</td>\n",
       "      <td>2.85</td>\n",
       "      <td>1000</td>\n",
       "    </tr>\n",
       "    <tr>\n",
       "      <th>3</th>\n",
       "      <td>1000_3</td>\n",
       "      <td>2018-09-21</td>\n",
       "      <td>13.80</td>\n",
       "      <td>1000</td>\n",
       "    </tr>\n",
       "    <tr>\n",
       "      <th>4</th>\n",
       "      <td>1000_4</td>\n",
       "      <td>2018-12-15</td>\n",
       "      <td>5.18</td>\n",
       "      <td>1000</td>\n",
       "    </tr>\n",
       "  </tbody>\n",
       "</table>\n",
       "</div>"
      ],
      "text/plain": [
       "       id   call_date  duration  user_id\n",
       "0  1000_0  2018-07-25      0.00     1000\n",
       "1  1000_1  2018-08-17      0.00     1000\n",
       "2  1000_2  2018-06-11      2.85     1000\n",
       "3  1000_3  2018-09-21     13.80     1000\n",
       "4  1000_4  2018-12-15      5.18     1000"
      ]
     },
     "execution_count": 2,
     "metadata": {},
     "output_type": "execute_result"
    }
   ],
   "source": [
    "calls = pd.read_csv('datasets/calls.csv') \n",
    "calls.head()"
   ]
  },
  {
   "cell_type": "code",
   "execution_count": 3,
   "metadata": {},
   "outputs": [
    {
     "name": "stdout",
     "output_type": "stream",
     "text": [
      "<class 'pandas.core.frame.DataFrame'>\n",
      "RangeIndex: 202607 entries, 0 to 202606\n",
      "Data columns (total 4 columns):\n",
      " #   Column     Non-Null Count   Dtype  \n",
      "---  ------     --------------   -----  \n",
      " 0   id         202607 non-null  object \n",
      " 1   call_date  202607 non-null  object \n",
      " 2   duration   202607 non-null  float64\n",
      " 3   user_id    202607 non-null  int64  \n",
      "dtypes: float64(1), int64(1), object(2)\n",
      "memory usage: 6.2+ MB\n"
     ]
    }
   ],
   "source": [
    "calls.info()"
   ]
  },
  {
   "cell_type": "markdown",
   "metadata": {},
   "source": [
    "Таблица calls (информация о звонках):\n",
    "\n",
    "***id*** — уникальный номер звонка\n",
    "\n",
    "***call_date*** — дата звонка\n",
    "\n",
    "***duration*** — длительность звонка в минутах\n",
    "\n",
    "***user_id*** — идентификатор пользователя, сделавшего звонок"
   ]
  },
  {
   "cell_type": "markdown",
   "metadata": {},
   "source": [
    "Округлим данные в сторону увеличения в столбце с продолжительностью звонка, т.к. «Мегалайн» всегда округляет секунды до минут. Затем изменим для того же столбца тип данных на int, т.к. нам будет удобнее работать с целыми числами после округления."
   ]
  },
  {
   "cell_type": "code",
   "execution_count": 4,
   "metadata": {},
   "outputs": [],
   "source": [
    "calls['duration'] = np.ceil(calls['duration']).astype('int')"
   ]
  },
  {
   "cell_type": "markdown",
   "metadata": {},
   "source": [
    "Выделим месяц из столбца дата звонка, т.к. далее мы будем работать именно с таким отчетным периодом."
   ]
  },
  {
   "cell_type": "code",
   "execution_count": 5,
   "metadata": {},
   "outputs": [
    {
     "data": {
      "text/html": [
       "<div>\n",
       "<style scoped>\n",
       "    .dataframe tbody tr th:only-of-type {\n",
       "        vertical-align: middle;\n",
       "    }\n",
       "\n",
       "    .dataframe tbody tr th {\n",
       "        vertical-align: top;\n",
       "    }\n",
       "\n",
       "    .dataframe thead th {\n",
       "        text-align: right;\n",
       "    }\n",
       "</style>\n",
       "<table border=\"1\" class=\"dataframe\">\n",
       "  <thead>\n",
       "    <tr style=\"text-align: right;\">\n",
       "      <th></th>\n",
       "      <th>id</th>\n",
       "      <th>month</th>\n",
       "      <th>duration</th>\n",
       "      <th>user_id</th>\n",
       "    </tr>\n",
       "  </thead>\n",
       "  <tbody>\n",
       "    <tr>\n",
       "      <th>0</th>\n",
       "      <td>1000_0</td>\n",
       "      <td>7</td>\n",
       "      <td>0</td>\n",
       "      <td>1000</td>\n",
       "    </tr>\n",
       "    <tr>\n",
       "      <th>1</th>\n",
       "      <td>1000_1</td>\n",
       "      <td>8</td>\n",
       "      <td>0</td>\n",
       "      <td>1000</td>\n",
       "    </tr>\n",
       "    <tr>\n",
       "      <th>2</th>\n",
       "      <td>1000_2</td>\n",
       "      <td>6</td>\n",
       "      <td>3</td>\n",
       "      <td>1000</td>\n",
       "    </tr>\n",
       "    <tr>\n",
       "      <th>3</th>\n",
       "      <td>1000_3</td>\n",
       "      <td>9</td>\n",
       "      <td>14</td>\n",
       "      <td>1000</td>\n",
       "    </tr>\n",
       "    <tr>\n",
       "      <th>4</th>\n",
       "      <td>1000_4</td>\n",
       "      <td>12</td>\n",
       "      <td>6</td>\n",
       "      <td>1000</td>\n",
       "    </tr>\n",
       "  </tbody>\n",
       "</table>\n",
       "</div>"
      ],
      "text/plain": [
       "       id  month  duration  user_id\n",
       "0  1000_0      7         0     1000\n",
       "1  1000_1      8         0     1000\n",
       "2  1000_2      6         3     1000\n",
       "3  1000_3      9        14     1000\n",
       "4  1000_4     12         6     1000"
      ]
     },
     "execution_count": 5,
     "metadata": {},
     "output_type": "execute_result"
    }
   ],
   "source": [
    "calls['call_date'] = pd.DatetimeIndex(calls['call_date']).month\n",
    "calls.columns = ['id', 'month', 'duration', 'user_id']\n",
    "calls.head()"
   ]
  },
  {
   "cell_type": "markdown",
   "metadata": {},
   "source": [
    "Создадим сводную таблицу, сгруппировав данные по пользователю и месяцу."
   ]
  },
  {
   "cell_type": "code",
   "execution_count": 6,
   "metadata": {},
   "outputs": [
    {
     "data": {
      "text/html": [
       "<div>\n",
       "<style scoped>\n",
       "    .dataframe tbody tr th:only-of-type {\n",
       "        vertical-align: middle;\n",
       "    }\n",
       "\n",
       "    .dataframe tbody tr th {\n",
       "        vertical-align: top;\n",
       "    }\n",
       "\n",
       "    .dataframe thead th {\n",
       "        text-align: right;\n",
       "    }\n",
       "</style>\n",
       "<table border=\"1\" class=\"dataframe\">\n",
       "  <thead>\n",
       "    <tr style=\"text-align: right;\">\n",
       "      <th></th>\n",
       "      <th>user_id</th>\n",
       "      <th>month</th>\n",
       "      <th>calls_number</th>\n",
       "      <th>duration</th>\n",
       "    </tr>\n",
       "  </thead>\n",
       "  <tbody>\n",
       "    <tr>\n",
       "      <th>0</th>\n",
       "      <td>1000</td>\n",
       "      <td>5</td>\n",
       "      <td>22</td>\n",
       "      <td>159</td>\n",
       "    </tr>\n",
       "    <tr>\n",
       "      <th>1</th>\n",
       "      <td>1000</td>\n",
       "      <td>6</td>\n",
       "      <td>43</td>\n",
       "      <td>172</td>\n",
       "    </tr>\n",
       "    <tr>\n",
       "      <th>2</th>\n",
       "      <td>1000</td>\n",
       "      <td>7</td>\n",
       "      <td>47</td>\n",
       "      <td>340</td>\n",
       "    </tr>\n",
       "    <tr>\n",
       "      <th>3</th>\n",
       "      <td>1000</td>\n",
       "      <td>8</td>\n",
       "      <td>52</td>\n",
       "      <td>408</td>\n",
       "    </tr>\n",
       "    <tr>\n",
       "      <th>4</th>\n",
       "      <td>1000</td>\n",
       "      <td>9</td>\n",
       "      <td>58</td>\n",
       "      <td>466</td>\n",
       "    </tr>\n",
       "  </tbody>\n",
       "</table>\n",
       "</div>"
      ],
      "text/plain": [
       "   user_id  month  calls_number  duration\n",
       "0     1000      5            22       159\n",
       "1     1000      6            43       172\n",
       "2     1000      7            47       340\n",
       "3     1000      8            52       408\n",
       "4     1000      9            58       466"
      ]
     },
     "execution_count": 6,
     "metadata": {},
     "output_type": "execute_result"
    }
   ],
   "source": [
    "calls_pivot = calls.pivot_table(index= ['user_id', 'month'], values= 'duration', \n",
    "                                aggfunc=['count', 'sum']).reset_index()\n",
    "calls_pivot.columns = ['user_id', 'month', 'calls_number', 'duration']\n",
    "calls_pivot.head()"
   ]
  },
  {
   "cell_type": "markdown",
   "metadata": {},
   "source": [
    "Изучим файл с данными об использовании интернета абонентами."
   ]
  },
  {
   "cell_type": "code",
   "execution_count": 7,
   "metadata": {},
   "outputs": [
    {
     "data": {
      "text/html": [
       "<div>\n",
       "<style scoped>\n",
       "    .dataframe tbody tr th:only-of-type {\n",
       "        vertical-align: middle;\n",
       "    }\n",
       "\n",
       "    .dataframe tbody tr th {\n",
       "        vertical-align: top;\n",
       "    }\n",
       "\n",
       "    .dataframe thead th {\n",
       "        text-align: right;\n",
       "    }\n",
       "</style>\n",
       "<table border=\"1\" class=\"dataframe\">\n",
       "  <thead>\n",
       "    <tr style=\"text-align: right;\">\n",
       "      <th></th>\n",
       "      <th>id</th>\n",
       "      <th>mb_used</th>\n",
       "      <th>session_date</th>\n",
       "      <th>user_id</th>\n",
       "    </tr>\n",
       "  </thead>\n",
       "  <tbody>\n",
       "    <tr>\n",
       "      <th>0</th>\n",
       "      <td>1000_0</td>\n",
       "      <td>112.95</td>\n",
       "      <td>2018-11-25</td>\n",
       "      <td>1000</td>\n",
       "    </tr>\n",
       "    <tr>\n",
       "      <th>1</th>\n",
       "      <td>1000_1</td>\n",
       "      <td>1052.81</td>\n",
       "      <td>2018-09-07</td>\n",
       "      <td>1000</td>\n",
       "    </tr>\n",
       "    <tr>\n",
       "      <th>2</th>\n",
       "      <td>1000_2</td>\n",
       "      <td>1197.26</td>\n",
       "      <td>2018-06-25</td>\n",
       "      <td>1000</td>\n",
       "    </tr>\n",
       "    <tr>\n",
       "      <th>3</th>\n",
       "      <td>1000_3</td>\n",
       "      <td>550.27</td>\n",
       "      <td>2018-08-22</td>\n",
       "      <td>1000</td>\n",
       "    </tr>\n",
       "    <tr>\n",
       "      <th>4</th>\n",
       "      <td>1000_4</td>\n",
       "      <td>302.56</td>\n",
       "      <td>2018-09-24</td>\n",
       "      <td>1000</td>\n",
       "    </tr>\n",
       "  </tbody>\n",
       "</table>\n",
       "</div>"
      ],
      "text/plain": [
       "       id  mb_used session_date  user_id\n",
       "0  1000_0   112.95   2018-11-25     1000\n",
       "1  1000_1  1052.81   2018-09-07     1000\n",
       "2  1000_2  1197.26   2018-06-25     1000\n",
       "3  1000_3   550.27   2018-08-22     1000\n",
       "4  1000_4   302.56   2018-09-24     1000"
      ]
     },
     "execution_count": 7,
     "metadata": {},
     "output_type": "execute_result"
    }
   ],
   "source": [
    "internet = pd.read_csv('datasets/internet.csv', index_col=0)\n",
    "internet.head()"
   ]
  },
  {
   "cell_type": "code",
   "execution_count": 8,
   "metadata": {},
   "outputs": [
    {
     "name": "stdout",
     "output_type": "stream",
     "text": [
      "<class 'pandas.core.frame.DataFrame'>\n",
      "Int64Index: 149396 entries, 0 to 149395\n",
      "Data columns (total 4 columns):\n",
      " #   Column        Non-Null Count   Dtype  \n",
      "---  ------        --------------   -----  \n",
      " 0   id            149396 non-null  object \n",
      " 1   mb_used       149396 non-null  float64\n",
      " 2   session_date  149396 non-null  object \n",
      " 3   user_id       149396 non-null  int64  \n",
      "dtypes: float64(1), int64(1), object(2)\n",
      "memory usage: 5.7+ MB\n"
     ]
    }
   ],
   "source": [
    "internet.info()"
   ]
  },
  {
   "cell_type": "markdown",
   "metadata": {},
   "source": [
    "Таблица internet (информация об интернет-сессиях):\n",
    "\n",
    "***id*** — уникальный номер сессии\n",
    "\n",
    "***mb_used***— объём потраченного за сессию интернет-трафика (в мегабайтах)\n",
    "\n",
    "***session_date*** — дата интернет-сессии\n",
    "\n",
    "***user_id*** — идентификатор пользователя"
   ]
  },
  {
   "cell_type": "markdown",
   "metadata": {},
   "source": [
    "В данной таблице тоже выделим месяц из даты интернет-сессии."
   ]
  },
  {
   "cell_type": "code",
   "execution_count": 9,
   "metadata": {},
   "outputs": [
    {
     "data": {
      "text/html": [
       "<div>\n",
       "<style scoped>\n",
       "    .dataframe tbody tr th:only-of-type {\n",
       "        vertical-align: middle;\n",
       "    }\n",
       "\n",
       "    .dataframe tbody tr th {\n",
       "        vertical-align: top;\n",
       "    }\n",
       "\n",
       "    .dataframe thead th {\n",
       "        text-align: right;\n",
       "    }\n",
       "</style>\n",
       "<table border=\"1\" class=\"dataframe\">\n",
       "  <thead>\n",
       "    <tr style=\"text-align: right;\">\n",
       "      <th></th>\n",
       "      <th>id</th>\n",
       "      <th>mb_used</th>\n",
       "      <th>month</th>\n",
       "      <th>user_id</th>\n",
       "    </tr>\n",
       "  </thead>\n",
       "  <tbody>\n",
       "    <tr>\n",
       "      <th>0</th>\n",
       "      <td>1000_0</td>\n",
       "      <td>112.95</td>\n",
       "      <td>11</td>\n",
       "      <td>1000</td>\n",
       "    </tr>\n",
       "    <tr>\n",
       "      <th>1</th>\n",
       "      <td>1000_1</td>\n",
       "      <td>1052.81</td>\n",
       "      <td>9</td>\n",
       "      <td>1000</td>\n",
       "    </tr>\n",
       "    <tr>\n",
       "      <th>2</th>\n",
       "      <td>1000_2</td>\n",
       "      <td>1197.26</td>\n",
       "      <td>6</td>\n",
       "      <td>1000</td>\n",
       "    </tr>\n",
       "    <tr>\n",
       "      <th>3</th>\n",
       "      <td>1000_3</td>\n",
       "      <td>550.27</td>\n",
       "      <td>8</td>\n",
       "      <td>1000</td>\n",
       "    </tr>\n",
       "    <tr>\n",
       "      <th>4</th>\n",
       "      <td>1000_4</td>\n",
       "      <td>302.56</td>\n",
       "      <td>9</td>\n",
       "      <td>1000</td>\n",
       "    </tr>\n",
       "  </tbody>\n",
       "</table>\n",
       "</div>"
      ],
      "text/plain": [
       "       id  mb_used  month  user_id\n",
       "0  1000_0   112.95     11     1000\n",
       "1  1000_1  1052.81      9     1000\n",
       "2  1000_2  1197.26      6     1000\n",
       "3  1000_3   550.27      8     1000\n",
       "4  1000_4   302.56      9     1000"
      ]
     },
     "execution_count": 9,
     "metadata": {},
     "output_type": "execute_result"
    }
   ],
   "source": [
    "internet['session_date'] = pd.DatetimeIndex(internet['session_date']).month\n",
    "internet.columns = ['id', 'mb_used', 'month', 'user_id']\n",
    "internet.head()"
   ]
  },
  {
   "cell_type": "markdown",
   "metadata": {},
   "source": [
    "Создадим сводную таблицу, сгруппировав данные по пользователю и месяцу."
   ]
  },
  {
   "cell_type": "code",
   "execution_count": 10,
   "metadata": {},
   "outputs": [
    {
     "data": {
      "text/html": [
       "<div>\n",
       "<style scoped>\n",
       "    .dataframe tbody tr th:only-of-type {\n",
       "        vertical-align: middle;\n",
       "    }\n",
       "\n",
       "    .dataframe tbody tr th {\n",
       "        vertical-align: top;\n",
       "    }\n",
       "\n",
       "    .dataframe thead th {\n",
       "        text-align: right;\n",
       "    }\n",
       "</style>\n",
       "<table border=\"1\" class=\"dataframe\">\n",
       "  <thead>\n",
       "    <tr style=\"text-align: right;\">\n",
       "      <th></th>\n",
       "      <th>user_id</th>\n",
       "      <th>month</th>\n",
       "      <th>mb_used</th>\n",
       "    </tr>\n",
       "  </thead>\n",
       "  <tbody>\n",
       "    <tr>\n",
       "      <th>0</th>\n",
       "      <td>1000</td>\n",
       "      <td>5</td>\n",
       "      <td>2253.49</td>\n",
       "    </tr>\n",
       "    <tr>\n",
       "      <th>1</th>\n",
       "      <td>1000</td>\n",
       "      <td>6</td>\n",
       "      <td>23233.77</td>\n",
       "    </tr>\n",
       "    <tr>\n",
       "      <th>2</th>\n",
       "      <td>1000</td>\n",
       "      <td>7</td>\n",
       "      <td>14003.64</td>\n",
       "    </tr>\n",
       "    <tr>\n",
       "      <th>3</th>\n",
       "      <td>1000</td>\n",
       "      <td>8</td>\n",
       "      <td>14055.93</td>\n",
       "    </tr>\n",
       "    <tr>\n",
       "      <th>4</th>\n",
       "      <td>1000</td>\n",
       "      <td>9</td>\n",
       "      <td>14568.91</td>\n",
       "    </tr>\n",
       "  </tbody>\n",
       "</table>\n",
       "</div>"
      ],
      "text/plain": [
       "   user_id  month   mb_used\n",
       "0     1000      5   2253.49\n",
       "1     1000      6  23233.77\n",
       "2     1000      7  14003.64\n",
       "3     1000      8  14055.93\n",
       "4     1000      9  14568.91"
      ]
     },
     "execution_count": 10,
     "metadata": {},
     "output_type": "execute_result"
    }
   ],
   "source": [
    "internet_pivot = internet.pivot_table(index= ['user_id', 'month'], values= ['mb_used'], \n",
    "                                aggfunc=['sum']).reset_index() \n",
    "internet_pivot.columns = ['user_id', 'month', 'mb_used'] \n",
    "internet_pivot.head() "
   ]
  },
  {
   "cell_type": "markdown",
   "metadata": {},
   "source": [
    "Округлим данные в сторону увеличения в столбце с объемом потраченного интернет-трафика, т.к. «Мегалайн» всегда округляет Мегабайты до Гигабайт. Затем изменим для того же столбца тип данных на int, т.к. нам будет удобнее работать с целыми числами после округления."
   ]
  },
  {
   "cell_type": "code",
   "execution_count": 11,
   "metadata": {},
   "outputs": [
    {
     "data": {
      "text/html": [
       "<div>\n",
       "<style scoped>\n",
       "    .dataframe tbody tr th:only-of-type {\n",
       "        vertical-align: middle;\n",
       "    }\n",
       "\n",
       "    .dataframe tbody tr th {\n",
       "        vertical-align: top;\n",
       "    }\n",
       "\n",
       "    .dataframe thead th {\n",
       "        text-align: right;\n",
       "    }\n",
       "</style>\n",
       "<table border=\"1\" class=\"dataframe\">\n",
       "  <thead>\n",
       "    <tr style=\"text-align: right;\">\n",
       "      <th></th>\n",
       "      <th>user_id</th>\n",
       "      <th>month</th>\n",
       "      <th>gb_used</th>\n",
       "    </tr>\n",
       "  </thead>\n",
       "  <tbody>\n",
       "    <tr>\n",
       "      <th>0</th>\n",
       "      <td>1000</td>\n",
       "      <td>5</td>\n",
       "      <td>3</td>\n",
       "    </tr>\n",
       "    <tr>\n",
       "      <th>1</th>\n",
       "      <td>1000</td>\n",
       "      <td>6</td>\n",
       "      <td>23</td>\n",
       "    </tr>\n",
       "    <tr>\n",
       "      <th>2</th>\n",
       "      <td>1000</td>\n",
       "      <td>7</td>\n",
       "      <td>14</td>\n",
       "    </tr>\n",
       "    <tr>\n",
       "      <th>3</th>\n",
       "      <td>1000</td>\n",
       "      <td>8</td>\n",
       "      <td>14</td>\n",
       "    </tr>\n",
       "    <tr>\n",
       "      <th>4</th>\n",
       "      <td>1000</td>\n",
       "      <td>9</td>\n",
       "      <td>15</td>\n",
       "    </tr>\n",
       "  </tbody>\n",
       "</table>\n",
       "</div>"
      ],
      "text/plain": [
       "   user_id  month  gb_used\n",
       "0     1000      5        3\n",
       "1     1000      6       23\n",
       "2     1000      7       14\n",
       "3     1000      8       14\n",
       "4     1000      9       15"
      ]
     },
     "execution_count": 11,
     "metadata": {},
     "output_type": "execute_result"
    }
   ],
   "source": [
    "internet_pivot['mb_used'] = internet_pivot['mb_used'] / 1024\n",
    "internet_pivot['mb_used'] = np.ceil(internet_pivot['mb_used']).astype('int')\n",
    "internet_pivot.columns = ['user_id', 'month', 'gb_used']    \n",
    "internet_pivot.head() "
   ]
  },
  {
   "cell_type": "markdown",
   "metadata": {},
   "source": [
    "Изучим файл с данными об отправке сообщений абонентами."
   ]
  },
  {
   "cell_type": "code",
   "execution_count": 12,
   "metadata": {},
   "outputs": [
    {
     "data": {
      "text/html": [
       "<div>\n",
       "<style scoped>\n",
       "    .dataframe tbody tr th:only-of-type {\n",
       "        vertical-align: middle;\n",
       "    }\n",
       "\n",
       "    .dataframe tbody tr th {\n",
       "        vertical-align: top;\n",
       "    }\n",
       "\n",
       "    .dataframe thead th {\n",
       "        text-align: right;\n",
       "    }\n",
       "</style>\n",
       "<table border=\"1\" class=\"dataframe\">\n",
       "  <thead>\n",
       "    <tr style=\"text-align: right;\">\n",
       "      <th></th>\n",
       "      <th>id</th>\n",
       "      <th>message_date</th>\n",
       "      <th>user_id</th>\n",
       "    </tr>\n",
       "  </thead>\n",
       "  <tbody>\n",
       "    <tr>\n",
       "      <th>0</th>\n",
       "      <td>1000_0</td>\n",
       "      <td>2018-06-27</td>\n",
       "      <td>1000</td>\n",
       "    </tr>\n",
       "    <tr>\n",
       "      <th>1</th>\n",
       "      <td>1000_1</td>\n",
       "      <td>2018-10-08</td>\n",
       "      <td>1000</td>\n",
       "    </tr>\n",
       "    <tr>\n",
       "      <th>2</th>\n",
       "      <td>1000_2</td>\n",
       "      <td>2018-08-04</td>\n",
       "      <td>1000</td>\n",
       "    </tr>\n",
       "    <tr>\n",
       "      <th>3</th>\n",
       "      <td>1000_3</td>\n",
       "      <td>2018-06-16</td>\n",
       "      <td>1000</td>\n",
       "    </tr>\n",
       "    <tr>\n",
       "      <th>4</th>\n",
       "      <td>1000_4</td>\n",
       "      <td>2018-12-05</td>\n",
       "      <td>1000</td>\n",
       "    </tr>\n",
       "  </tbody>\n",
       "</table>\n",
       "</div>"
      ],
      "text/plain": [
       "       id message_date  user_id\n",
       "0  1000_0   2018-06-27     1000\n",
       "1  1000_1   2018-10-08     1000\n",
       "2  1000_2   2018-08-04     1000\n",
       "3  1000_3   2018-06-16     1000\n",
       "4  1000_4   2018-12-05     1000"
      ]
     },
     "execution_count": 12,
     "metadata": {},
     "output_type": "execute_result"
    }
   ],
   "source": [
    "messages = pd.read_csv('datasets/messages.csv') \n",
    "messages.head() "
   ]
  },
  {
   "cell_type": "code",
   "execution_count": 13,
   "metadata": {},
   "outputs": [
    {
     "name": "stdout",
     "output_type": "stream",
     "text": [
      "<class 'pandas.core.frame.DataFrame'>\n",
      "RangeIndex: 123036 entries, 0 to 123035\n",
      "Data columns (total 3 columns):\n",
      " #   Column        Non-Null Count   Dtype \n",
      "---  ------        --------------   ----- \n",
      " 0   id            123036 non-null  object\n",
      " 1   message_date  123036 non-null  object\n",
      " 2   user_id       123036 non-null  int64 \n",
      "dtypes: int64(1), object(2)\n",
      "memory usage: 2.8+ MB\n"
     ]
    }
   ],
   "source": [
    "messages.info()"
   ]
  },
  {
   "cell_type": "markdown",
   "metadata": {},
   "source": [
    "Таблица messages (информация о сообщениях):\n",
    "\n",
    "***id*** — уникальный номер сообщения\n",
    "\n",
    "***message_date*** — дата сообщения\n",
    "\n",
    "***user_id*** — идентификатор пользователя, отправившего сообщение"
   ]
  },
  {
   "cell_type": "markdown",
   "metadata": {},
   "source": [
    "В данной таблице тоже выделим месяц из даты сообщения."
   ]
  },
  {
   "cell_type": "code",
   "execution_count": 14,
   "metadata": {},
   "outputs": [],
   "source": [
    "messages['message_date'] = pd.DatetimeIndex(messages['message_date']).month\n",
    "messages.columns = ['id', 'month', 'user_id']"
   ]
  },
  {
   "cell_type": "markdown",
   "metadata": {},
   "source": [
    "Создадим сводную таблицу, сгруппировав данные по пользователю и месяцу."
   ]
  },
  {
   "cell_type": "code",
   "execution_count": 15,
   "metadata": {},
   "outputs": [
    {
     "data": {
      "text/html": [
       "<div>\n",
       "<style scoped>\n",
       "    .dataframe tbody tr th:only-of-type {\n",
       "        vertical-align: middle;\n",
       "    }\n",
       "\n",
       "    .dataframe tbody tr th {\n",
       "        vertical-align: top;\n",
       "    }\n",
       "\n",
       "    .dataframe thead th {\n",
       "        text-align: right;\n",
       "    }\n",
       "</style>\n",
       "<table border=\"1\" class=\"dataframe\">\n",
       "  <thead>\n",
       "    <tr style=\"text-align: right;\">\n",
       "      <th></th>\n",
       "      <th>user_id</th>\n",
       "      <th>month</th>\n",
       "      <th>messages</th>\n",
       "    </tr>\n",
       "  </thead>\n",
       "  <tbody>\n",
       "    <tr>\n",
       "      <th>0</th>\n",
       "      <td>1000</td>\n",
       "      <td>5</td>\n",
       "      <td>22</td>\n",
       "    </tr>\n",
       "    <tr>\n",
       "      <th>1</th>\n",
       "      <td>1000</td>\n",
       "      <td>6</td>\n",
       "      <td>60</td>\n",
       "    </tr>\n",
       "    <tr>\n",
       "      <th>2</th>\n",
       "      <td>1000</td>\n",
       "      <td>7</td>\n",
       "      <td>75</td>\n",
       "    </tr>\n",
       "    <tr>\n",
       "      <th>3</th>\n",
       "      <td>1000</td>\n",
       "      <td>8</td>\n",
       "      <td>81</td>\n",
       "    </tr>\n",
       "    <tr>\n",
       "      <th>4</th>\n",
       "      <td>1000</td>\n",
       "      <td>9</td>\n",
       "      <td>57</td>\n",
       "    </tr>\n",
       "  </tbody>\n",
       "</table>\n",
       "</div>"
      ],
      "text/plain": [
       "   user_id  month  messages\n",
       "0     1000      5        22\n",
       "1     1000      6        60\n",
       "2     1000      7        75\n",
       "3     1000      8        81\n",
       "4     1000      9        57"
      ]
     },
     "execution_count": 15,
     "metadata": {},
     "output_type": "execute_result"
    }
   ],
   "source": [
    "messages_pivot = messages.pivot_table(index= ['user_id', 'month'], values= [ 'id'], \n",
    "                                aggfunc=['count']).reset_index()\n",
    "messages_pivot.columns = ['user_id', 'month', 'messages']                              \n",
    "messages_pivot.head()    "
   ]
  },
  {
   "cell_type": "markdown",
   "metadata": {},
   "source": [
    "Изучим файл с данными о тарифах компании «Мегалайн»"
   ]
  },
  {
   "cell_type": "code",
   "execution_count": 16,
   "metadata": {},
   "outputs": [
    {
     "data": {
      "text/html": [
       "<div>\n",
       "<style scoped>\n",
       "    .dataframe tbody tr th:only-of-type {\n",
       "        vertical-align: middle;\n",
       "    }\n",
       "\n",
       "    .dataframe tbody tr th {\n",
       "        vertical-align: top;\n",
       "    }\n",
       "\n",
       "    .dataframe thead th {\n",
       "        text-align: right;\n",
       "    }\n",
       "</style>\n",
       "<table border=\"1\" class=\"dataframe\">\n",
       "  <thead>\n",
       "    <tr style=\"text-align: right;\">\n",
       "      <th></th>\n",
       "      <th>messages_included</th>\n",
       "      <th>mb_per_month_included</th>\n",
       "      <th>minutes_included</th>\n",
       "      <th>rub_monthly_fee</th>\n",
       "      <th>rub_per_gb</th>\n",
       "      <th>rub_per_message</th>\n",
       "      <th>rub_per_minute</th>\n",
       "      <th>tariff_name</th>\n",
       "    </tr>\n",
       "  </thead>\n",
       "  <tbody>\n",
       "    <tr>\n",
       "      <th>0</th>\n",
       "      <td>50</td>\n",
       "      <td>15360</td>\n",
       "      <td>500</td>\n",
       "      <td>550</td>\n",
       "      <td>200</td>\n",
       "      <td>3</td>\n",
       "      <td>3</td>\n",
       "      <td>smart</td>\n",
       "    </tr>\n",
       "    <tr>\n",
       "      <th>1</th>\n",
       "      <td>1000</td>\n",
       "      <td>30720</td>\n",
       "      <td>3000</td>\n",
       "      <td>1950</td>\n",
       "      <td>150</td>\n",
       "      <td>1</td>\n",
       "      <td>1</td>\n",
       "      <td>ultra</td>\n",
       "    </tr>\n",
       "  </tbody>\n",
       "</table>\n",
       "</div>"
      ],
      "text/plain": [
       "   messages_included  mb_per_month_included  minutes_included  \\\n",
       "0                 50                  15360               500   \n",
       "1               1000                  30720              3000   \n",
       "\n",
       "   rub_monthly_fee  rub_per_gb  rub_per_message  rub_per_minute tariff_name  \n",
       "0              550         200                3               3       smart  \n",
       "1             1950         150                1               1       ultra  "
      ]
     },
     "execution_count": 16,
     "metadata": {},
     "output_type": "execute_result"
    }
   ],
   "source": [
    "tariffs = pd.read_csv('datasets/tariffs.csv') \n",
    "tariffs"
   ]
  },
  {
   "cell_type": "markdown",
   "metadata": {},
   "source": [
    "В таблице представлены 2 тарифных плана: «Смарт» и «Ультра».\n",
    "\n",
    "**Описание тарифов**\n",
    "\n",
    "*Тариф «Смарт»*\n",
    "\n",
    "Ежемесячная плата: 550 рублей\n",
    "\n",
    "Включено 500 минут разговора, 50 сообщений и 15 Гб интернет-трафика\n",
    "\n",
    "Стоимость услуг сверх тарифного пакета:\n",
    "\n",
    "минута разговора: 3 рубля\n",
    "\n",
    "сообщение: 3 рубля\n",
    "\n",
    "1 Гб интернет-трафика: 200 рублей\n",
    "\n",
    "*Тариф «Ультра»*\n",
    "\n",
    "Ежемесячная плата: 1950 рублей\n",
    "\n",
    "Включено 3000 минут разговора, 1000 сообщений и 30 Гб интернет-трафика\n",
    "\n",
    "Стоимость услуг сверх тарифного пакета\n",
    "\n",
    "минута разговора: 1 рубль\n",
    "\n",
    "сообщение: 1 рубль\n",
    "\n",
    "1 Гб интернет-трафика: 150 рублей"
   ]
  },
  {
   "cell_type": "code",
   "execution_count": 17,
   "metadata": {},
   "outputs": [
    {
     "name": "stdout",
     "output_type": "stream",
     "text": [
      "<class 'pandas.core.frame.DataFrame'>\n",
      "RangeIndex: 2 entries, 0 to 1\n",
      "Data columns (total 8 columns):\n",
      " #   Column                 Non-Null Count  Dtype \n",
      "---  ------                 --------------  ----- \n",
      " 0   messages_included      2 non-null      int64 \n",
      " 1   mb_per_month_included  2 non-null      int64 \n",
      " 2   minutes_included       2 non-null      int64 \n",
      " 3   rub_monthly_fee        2 non-null      int64 \n",
      " 4   rub_per_gb             2 non-null      int64 \n",
      " 5   rub_per_message        2 non-null      int64 \n",
      " 6   rub_per_minute         2 non-null      int64 \n",
      " 7   tariff_name            2 non-null      object\n",
      "dtypes: int64(7), object(1)\n",
      "memory usage: 256.0+ bytes\n"
     ]
    }
   ],
   "source": [
    "tariffs.info()"
   ]
  },
  {
   "cell_type": "markdown",
   "metadata": {},
   "source": [
    "Таблица tariffs (информация о тарифах):\n",
    "\n",
    "***tariff_name*** — название тарифа\n",
    "\n",
    "***rub_monthly_fee*** — ежемесячная абонентская плата в рублях\n",
    "\n",
    "***minutes_included*** — количество минут разговора в месяц, включённых в абонентскую плату\n",
    "\n",
    "***messages_included*** — количество сообщений в месяц, включённых в абонентскую плату\n",
    "\n",
    "***mb_per_month_included*** — объём интернет-трафика, включённого в абонентскую плату (в мегабайтах)\n",
    "\n",
    "***rub_per_minute*** — стоимость минуты разговора сверх тарифного пакета (например, если в тарифе 100 минут разговора в месяц, то со 101 минуты будет взиматься плата)\n",
    "\n",
    "***rub_per_message*** — стоимость отправки сообщения сверх тарифного пакета\n",
    "\n",
    "***rub_per_gb*** — стоимость дополнительного гигабайта интернет-трафика сверх тарифного пакета (1 гигабайт = 1024 мегабайта)"
   ]
  },
  {
   "cell_type": "markdown",
   "metadata": {},
   "source": [
    "Изучим информацию обо всех абонентах компании «Мегалайн»"
   ]
  },
  {
   "cell_type": "code",
   "execution_count": 18,
   "metadata": {},
   "outputs": [
    {
     "data": {
      "text/html": [
       "<div>\n",
       "<style scoped>\n",
       "    .dataframe tbody tr th:only-of-type {\n",
       "        vertical-align: middle;\n",
       "    }\n",
       "\n",
       "    .dataframe tbody tr th {\n",
       "        vertical-align: top;\n",
       "    }\n",
       "\n",
       "    .dataframe thead th {\n",
       "        text-align: right;\n",
       "    }\n",
       "</style>\n",
       "<table border=\"1\" class=\"dataframe\">\n",
       "  <thead>\n",
       "    <tr style=\"text-align: right;\">\n",
       "      <th></th>\n",
       "      <th>user_id</th>\n",
       "      <th>age</th>\n",
       "      <th>churn_date</th>\n",
       "      <th>city</th>\n",
       "      <th>first_name</th>\n",
       "      <th>last_name</th>\n",
       "      <th>reg_date</th>\n",
       "      <th>tariff</th>\n",
       "    </tr>\n",
       "  </thead>\n",
       "  <tbody>\n",
       "    <tr>\n",
       "      <th>0</th>\n",
       "      <td>1000</td>\n",
       "      <td>52</td>\n",
       "      <td>NaN</td>\n",
       "      <td>Краснодар</td>\n",
       "      <td>Рафаил</td>\n",
       "      <td>Верещагин</td>\n",
       "      <td>2018-05-25</td>\n",
       "      <td>ultra</td>\n",
       "    </tr>\n",
       "    <tr>\n",
       "      <th>1</th>\n",
       "      <td>1001</td>\n",
       "      <td>41</td>\n",
       "      <td>NaN</td>\n",
       "      <td>Москва</td>\n",
       "      <td>Иван</td>\n",
       "      <td>Ежов</td>\n",
       "      <td>2018-11-01</td>\n",
       "      <td>smart</td>\n",
       "    </tr>\n",
       "    <tr>\n",
       "      <th>2</th>\n",
       "      <td>1002</td>\n",
       "      <td>59</td>\n",
       "      <td>NaN</td>\n",
       "      <td>Стерлитамак</td>\n",
       "      <td>Евгений</td>\n",
       "      <td>Абрамович</td>\n",
       "      <td>2018-06-17</td>\n",
       "      <td>smart</td>\n",
       "    </tr>\n",
       "    <tr>\n",
       "      <th>3</th>\n",
       "      <td>1003</td>\n",
       "      <td>23</td>\n",
       "      <td>NaN</td>\n",
       "      <td>Москва</td>\n",
       "      <td>Белла</td>\n",
       "      <td>Белякова</td>\n",
       "      <td>2018-08-17</td>\n",
       "      <td>ultra</td>\n",
       "    </tr>\n",
       "    <tr>\n",
       "      <th>4</th>\n",
       "      <td>1004</td>\n",
       "      <td>68</td>\n",
       "      <td>NaN</td>\n",
       "      <td>Новокузнецк</td>\n",
       "      <td>Татьяна</td>\n",
       "      <td>Авдеенко</td>\n",
       "      <td>2018-05-14</td>\n",
       "      <td>ultra</td>\n",
       "    </tr>\n",
       "  </tbody>\n",
       "</table>\n",
       "</div>"
      ],
      "text/plain": [
       "   user_id  age churn_date         city first_name  last_name    reg_date  \\\n",
       "0     1000   52        NaN    Краснодар     Рафаил  Верещагин  2018-05-25   \n",
       "1     1001   41        NaN       Москва       Иван       Ежов  2018-11-01   \n",
       "2     1002   59        NaN  Стерлитамак    Евгений  Абрамович  2018-06-17   \n",
       "3     1003   23        NaN       Москва      Белла   Белякова  2018-08-17   \n",
       "4     1004   68        NaN  Новокузнецк    Татьяна   Авдеенко  2018-05-14   \n",
       "\n",
       "  tariff  \n",
       "0  ultra  \n",
       "1  smart  \n",
       "2  smart  \n",
       "3  ultra  \n",
       "4  ultra  "
      ]
     },
     "execution_count": 18,
     "metadata": {},
     "output_type": "execute_result"
    }
   ],
   "source": [
    "users = pd.read_csv('datasets/users.csv') \n",
    "users.head()"
   ]
  },
  {
   "cell_type": "markdown",
   "metadata": {},
   "source": [
    "Таблица users (информация о пользователях):\n",
    "\n",
    "***user_id*** — уникальный идентификатор пользователя\n",
    "\n",
    "***first_name*** — имя пользователя\n",
    "\n",
    "***last_name*** — фамилия пользователя\n",
    "\n",
    "***age*** — возраст пользователя (годы)\n",
    "\n",
    "***reg_date*** — дата подключения тарифа (день, месяц, год)\n",
    "\n",
    "***churn_date*** — дата прекращения пользования тарифом (если значение пропущено, то тариф ещё действовал на момент выгрузки данных)\n",
    "\n",
    "***city*** — город проживания пользователя\n",
    "\n",
    "***tariff*** — название тарифного плана"
   ]
  },
  {
   "cell_type": "markdown",
   "metadata": {},
   "source": [
    "Выберем характеристики абонентов, которые понадобятся нам в нашем исследовании"
   ]
  },
  {
   "cell_type": "code",
   "execution_count": 19,
   "metadata": {},
   "outputs": [
    {
     "data": {
      "text/html": [
       "<div>\n",
       "<style scoped>\n",
       "    .dataframe tbody tr th:only-of-type {\n",
       "        vertical-align: middle;\n",
       "    }\n",
       "\n",
       "    .dataframe tbody tr th {\n",
       "        vertical-align: top;\n",
       "    }\n",
       "\n",
       "    .dataframe thead th {\n",
       "        text-align: right;\n",
       "    }\n",
       "</style>\n",
       "<table border=\"1\" class=\"dataframe\">\n",
       "  <thead>\n",
       "    <tr style=\"text-align: right;\">\n",
       "      <th></th>\n",
       "      <th>user_id</th>\n",
       "      <th>city</th>\n",
       "      <th>tariff</th>\n",
       "    </tr>\n",
       "  </thead>\n",
       "  <tbody>\n",
       "    <tr>\n",
       "      <th>0</th>\n",
       "      <td>1000</td>\n",
       "      <td>Краснодар</td>\n",
       "      <td>ultra</td>\n",
       "    </tr>\n",
       "    <tr>\n",
       "      <th>1</th>\n",
       "      <td>1001</td>\n",
       "      <td>Москва</td>\n",
       "      <td>smart</td>\n",
       "    </tr>\n",
       "    <tr>\n",
       "      <th>2</th>\n",
       "      <td>1002</td>\n",
       "      <td>Стерлитамак</td>\n",
       "      <td>smart</td>\n",
       "    </tr>\n",
       "    <tr>\n",
       "      <th>3</th>\n",
       "      <td>1003</td>\n",
       "      <td>Москва</td>\n",
       "      <td>ultra</td>\n",
       "    </tr>\n",
       "    <tr>\n",
       "      <th>4</th>\n",
       "      <td>1004</td>\n",
       "      <td>Новокузнецк</td>\n",
       "      <td>ultra</td>\n",
       "    </tr>\n",
       "  </tbody>\n",
       "</table>\n",
       "</div>"
      ],
      "text/plain": [
       "   user_id         city tariff\n",
       "0     1000    Краснодар  ultra\n",
       "1     1001       Москва  smart\n",
       "2     1002  Стерлитамак  smart\n",
       "3     1003       Москва  ultra\n",
       "4     1004  Новокузнецк  ultra"
      ]
     },
     "execution_count": 19,
     "metadata": {},
     "output_type": "execute_result"
    }
   ],
   "source": [
    "new_users = users.drop(columns = ['first_name', 'last_name', 'age', 'churn_date', 'reg_date'], axis = 1)\n",
    "new_users.head()"
   ]
  },
  {
   "cell_type": "code",
   "execution_count": 20,
   "metadata": {},
   "outputs": [
    {
     "name": "stdout",
     "output_type": "stream",
     "text": [
      "<class 'pandas.core.frame.DataFrame'>\n",
      "RangeIndex: 500 entries, 0 to 499\n",
      "Data columns (total 3 columns):\n",
      " #   Column   Non-Null Count  Dtype \n",
      "---  ------   --------------  ----- \n",
      " 0   user_id  500 non-null    int64 \n",
      " 1   city     500 non-null    object\n",
      " 2   tariff   500 non-null    object\n",
      "dtypes: int64(1), object(2)\n",
      "memory usage: 11.8+ KB\n"
     ]
    }
   ],
   "source": [
    "new_users.info()"
   ]
  },
  {
   "cell_type": "markdown",
   "metadata": {},
   "source": [
    "Объединим в общую таблицу таблицы с активностями абонентов: звонки, смс и интернет с таблицей, содержащей информацию о самих абонентах."
   ]
  },
  {
   "cell_type": "code",
   "execution_count": 21,
   "metadata": {},
   "outputs": [
    {
     "data": {
      "text/html": [
       "<div>\n",
       "<style scoped>\n",
       "    .dataframe tbody tr th:only-of-type {\n",
       "        vertical-align: middle;\n",
       "    }\n",
       "\n",
       "    .dataframe tbody tr th {\n",
       "        vertical-align: top;\n",
       "    }\n",
       "\n",
       "    .dataframe thead th {\n",
       "        text-align: right;\n",
       "    }\n",
       "</style>\n",
       "<table border=\"1\" class=\"dataframe\">\n",
       "  <thead>\n",
       "    <tr style=\"text-align: right;\">\n",
       "      <th></th>\n",
       "      <th>user_id</th>\n",
       "      <th>month</th>\n",
       "      <th>calls_total</th>\n",
       "      <th>calls_duration_total</th>\n",
       "      <th>messages_total</th>\n",
       "      <th>gb_used</th>\n",
       "    </tr>\n",
       "  </thead>\n",
       "  <tbody>\n",
       "    <tr>\n",
       "      <th>0</th>\n",
       "      <td>1000</td>\n",
       "      <td>5</td>\n",
       "      <td>22.0</td>\n",
       "      <td>159.0</td>\n",
       "      <td>22.0</td>\n",
       "      <td>3.0</td>\n",
       "    </tr>\n",
       "    <tr>\n",
       "      <th>1</th>\n",
       "      <td>1000</td>\n",
       "      <td>6</td>\n",
       "      <td>43.0</td>\n",
       "      <td>172.0</td>\n",
       "      <td>60.0</td>\n",
       "      <td>23.0</td>\n",
       "    </tr>\n",
       "    <tr>\n",
       "      <th>2</th>\n",
       "      <td>1000</td>\n",
       "      <td>7</td>\n",
       "      <td>47.0</td>\n",
       "      <td>340.0</td>\n",
       "      <td>75.0</td>\n",
       "      <td>14.0</td>\n",
       "    </tr>\n",
       "    <tr>\n",
       "      <th>3</th>\n",
       "      <td>1000</td>\n",
       "      <td>8</td>\n",
       "      <td>52.0</td>\n",
       "      <td>408.0</td>\n",
       "      <td>81.0</td>\n",
       "      <td>14.0</td>\n",
       "    </tr>\n",
       "    <tr>\n",
       "      <th>4</th>\n",
       "      <td>1000</td>\n",
       "      <td>9</td>\n",
       "      <td>58.0</td>\n",
       "      <td>466.0</td>\n",
       "      <td>57.0</td>\n",
       "      <td>15.0</td>\n",
       "    </tr>\n",
       "  </tbody>\n",
       "</table>\n",
       "</div>"
      ],
      "text/plain": [
       "   user_id  month  calls_total  calls_duration_total  messages_total  gb_used\n",
       "0     1000      5         22.0                 159.0            22.0      3.0\n",
       "1     1000      6         43.0                 172.0            60.0     23.0\n",
       "2     1000      7         47.0                 340.0            75.0     14.0\n",
       "3     1000      8         52.0                 408.0            81.0     14.0\n",
       "4     1000      9         58.0                 466.0            57.0     15.0"
      ]
     },
     "execution_count": 21,
     "metadata": {},
     "output_type": "execute_result"
    }
   ],
   "source": [
    "calls_messages= calls_pivot.merge(\n",
    "    messages_pivot, on=['user_id', 'month'], how='outer'\n",
    "    )\n",
    "calls_messages.reset_index()\n",
    "calls_messages_internet =calls_messages.merge(\n",
    "    internet_pivot, on=['user_id', 'month'], how='outer'\n",
    "    )\n",
    "calls_messages_internet.reset_index()\n",
    "calls_messages_internet.columns = ['user_id', 'month', 'calls_total', 'calls_duration_total', 'messages_total', 'gb_used']\n",
    "calls_messages_internet.head()"
   ]
  },
  {
   "cell_type": "code",
   "execution_count": 22,
   "metadata": {},
   "outputs": [
    {
     "data": {
      "text/html": [
       "<div>\n",
       "<style scoped>\n",
       "    .dataframe tbody tr th:only-of-type {\n",
       "        vertical-align: middle;\n",
       "    }\n",
       "\n",
       "    .dataframe tbody tr th {\n",
       "        vertical-align: top;\n",
       "    }\n",
       "\n",
       "    .dataframe thead th {\n",
       "        text-align: right;\n",
       "    }\n",
       "</style>\n",
       "<table border=\"1\" class=\"dataframe\">\n",
       "  <thead>\n",
       "    <tr style=\"text-align: right;\">\n",
       "      <th></th>\n",
       "      <th>user_id</th>\n",
       "      <th>city</th>\n",
       "      <th>tariff</th>\n",
       "      <th>month</th>\n",
       "      <th>calls_total</th>\n",
       "      <th>calls_duration_total</th>\n",
       "      <th>messages_total</th>\n",
       "      <th>gb_used</th>\n",
       "    </tr>\n",
       "  </thead>\n",
       "  <tbody>\n",
       "    <tr>\n",
       "      <th>0</th>\n",
       "      <td>1000</td>\n",
       "      <td>Краснодар</td>\n",
       "      <td>ultra</td>\n",
       "      <td>5.0</td>\n",
       "      <td>22.0</td>\n",
       "      <td>159.0</td>\n",
       "      <td>22.0</td>\n",
       "      <td>3.0</td>\n",
       "    </tr>\n",
       "    <tr>\n",
       "      <th>1</th>\n",
       "      <td>1000</td>\n",
       "      <td>Краснодар</td>\n",
       "      <td>ultra</td>\n",
       "      <td>6.0</td>\n",
       "      <td>43.0</td>\n",
       "      <td>172.0</td>\n",
       "      <td>60.0</td>\n",
       "      <td>23.0</td>\n",
       "    </tr>\n",
       "    <tr>\n",
       "      <th>2</th>\n",
       "      <td>1000</td>\n",
       "      <td>Краснодар</td>\n",
       "      <td>ultra</td>\n",
       "      <td>7.0</td>\n",
       "      <td>47.0</td>\n",
       "      <td>340.0</td>\n",
       "      <td>75.0</td>\n",
       "      <td>14.0</td>\n",
       "    </tr>\n",
       "    <tr>\n",
       "      <th>3</th>\n",
       "      <td>1000</td>\n",
       "      <td>Краснодар</td>\n",
       "      <td>ultra</td>\n",
       "      <td>8.0</td>\n",
       "      <td>52.0</td>\n",
       "      <td>408.0</td>\n",
       "      <td>81.0</td>\n",
       "      <td>14.0</td>\n",
       "    </tr>\n",
       "    <tr>\n",
       "      <th>4</th>\n",
       "      <td>1000</td>\n",
       "      <td>Краснодар</td>\n",
       "      <td>ultra</td>\n",
       "      <td>9.0</td>\n",
       "      <td>58.0</td>\n",
       "      <td>466.0</td>\n",
       "      <td>57.0</td>\n",
       "      <td>15.0</td>\n",
       "    </tr>\n",
       "  </tbody>\n",
       "</table>\n",
       "</div>"
      ],
      "text/plain": [
       "   user_id       city tariff  month  calls_total  calls_duration_total  \\\n",
       "0     1000  Краснодар  ultra    5.0         22.0                 159.0   \n",
       "1     1000  Краснодар  ultra    6.0         43.0                 172.0   \n",
       "2     1000  Краснодар  ultra    7.0         47.0                 340.0   \n",
       "3     1000  Краснодар  ultra    8.0         52.0                 408.0   \n",
       "4     1000  Краснодар  ultra    9.0         58.0                 466.0   \n",
       "\n",
       "   messages_total  gb_used  \n",
       "0            22.0      3.0  \n",
       "1            60.0     23.0  \n",
       "2            75.0     14.0  \n",
       "3            81.0     14.0  \n",
       "4            57.0     15.0  "
      ]
     },
     "execution_count": 22,
     "metadata": {},
     "output_type": "execute_result"
    }
   ],
   "source": [
    "df = new_users.merge(calls_messages_internet, on=['user_id'], how='left')\n",
    "df.reset_index()\n",
    "df.head()"
   ]
  },
  {
   "cell_type": "markdown",
   "metadata": {},
   "source": [
    "**Вывод**\n",
    "\n",
    "Для проведения анализа тарифов в одну таблицу были собраны данные из исходных таблиц. Окончательная таблица содержит информацию об абонентах компании «Мегалайн» и всех их активностях: звонках, сообщениях и использовании интернета."
   ]
  },
  {
   "cell_type": "markdown",
   "metadata": {},
   "source": [
    "## Предобработка данных"
   ]
  },
  {
   "cell_type": "markdown",
   "metadata": {},
   "source": [
    "Выведем общую информацию о единой таблице."
   ]
  },
  {
   "cell_type": "code",
   "execution_count": 23,
   "metadata": {},
   "outputs": [
    {
     "name": "stdout",
     "output_type": "stream",
     "text": [
      "<class 'pandas.core.frame.DataFrame'>\n",
      "Int64Index: 3216 entries, 0 to 3215\n",
      "Data columns (total 8 columns):\n",
      " #   Column                Non-Null Count  Dtype  \n",
      "---  ------                --------------  -----  \n",
      " 0   user_id               3216 non-null   int64  \n",
      " 1   city                  3216 non-null   object \n",
      " 2   tariff                3216 non-null   object \n",
      " 3   month                 3214 non-null   float64\n",
      " 4   calls_total           3174 non-null   float64\n",
      " 5   calls_duration_total  3174 non-null   float64\n",
      " 6   messages_total        2717 non-null   float64\n",
      " 7   gb_used               3203 non-null   float64\n",
      "dtypes: float64(5), int64(1), object(2)\n",
      "memory usage: 226.1+ KB\n"
     ]
    }
   ],
   "source": [
    "df.info()"
   ]
  },
  {
   "cell_type": "markdown",
   "metadata": {},
   "source": [
    "В полученной таблице имеются пропуски. Рассмотрим их и узнаем, можно ли их заполнить."
   ]
  },
  {
   "cell_type": "code",
   "execution_count": 24,
   "metadata": {},
   "outputs": [
    {
     "data": {
      "text/plain": [
       "user_id                   0\n",
       "city                      0\n",
       "tariff                    0\n",
       "month                     2\n",
       "calls_total              42\n",
       "calls_duration_total     42\n",
       "messages_total          499\n",
       "gb_used                  13\n",
       "dtype: int64"
      ]
     },
     "execution_count": 24,
     "metadata": {},
     "output_type": "execute_result"
    }
   ],
   "source": [
    "df.isna().sum()"
   ]
  },
  {
   "cell_type": "markdown",
   "metadata": {},
   "source": [
    "Пропуски в столбце с месяцами вероятно появились из-за технической ошибки. Поскольку их очень мало: менее 1%, удалим их из таблицы."
   ]
  },
  {
   "cell_type": "code",
   "execution_count": 25,
   "metadata": {},
   "outputs": [],
   "source": [
    "df.dropna(subset = ['month'], inplace =True)"
   ]
  },
  {
   "cell_type": "markdown",
   "metadata": {},
   "source": [
    "В столбцах, содержащих информацию об активности абонента: звонки, смс и интернет, тоже есть пропуски. Проверим, не связаны ли они с тем, что мы не добавили каких-то абонентов в конечную таблицу"
   ]
  },
  {
   "cell_type": "code",
   "execution_count": 26,
   "metadata": {},
   "outputs": [
    {
     "data": {
      "text/html": [
       "<div>\n",
       "<style scoped>\n",
       "    .dataframe tbody tr th:only-of-type {\n",
       "        vertical-align: middle;\n",
       "    }\n",
       "\n",
       "    .dataframe tbody tr th {\n",
       "        vertical-align: top;\n",
       "    }\n",
       "\n",
       "    .dataframe thead th {\n",
       "        text-align: right;\n",
       "    }\n",
       "</style>\n",
       "<table border=\"1\" class=\"dataframe\">\n",
       "  <thead>\n",
       "    <tr style=\"text-align: right;\">\n",
       "      <th></th>\n",
       "      <th>user_id</th>\n",
       "      <th>age</th>\n",
       "      <th>churn_date</th>\n",
       "      <th>city</th>\n",
       "      <th>first_name</th>\n",
       "      <th>last_name</th>\n",
       "      <th>reg_date</th>\n",
       "      <th>tariff</th>\n",
       "    </tr>\n",
       "  </thead>\n",
       "  <tbody>\n",
       "    <tr>\n",
       "      <th>128</th>\n",
       "      <td>1128</td>\n",
       "      <td>51</td>\n",
       "      <td>2018-12-23</td>\n",
       "      <td>Волжский</td>\n",
       "      <td>Ксения</td>\n",
       "      <td>Агаева</td>\n",
       "      <td>2018-12-15</td>\n",
       "      <td>ultra</td>\n",
       "    </tr>\n",
       "    <tr>\n",
       "      <th>371</th>\n",
       "      <td>1371</td>\n",
       "      <td>50</td>\n",
       "      <td>2018-12-30</td>\n",
       "      <td>Омск</td>\n",
       "      <td>Ириней</td>\n",
       "      <td>Трофимов</td>\n",
       "      <td>2018-12-25</td>\n",
       "      <td>smart</td>\n",
       "    </tr>\n",
       "  </tbody>\n",
       "</table>\n",
       "</div>"
      ],
      "text/plain": [
       "     user_id  age  churn_date      city first_name last_name    reg_date  \\\n",
       "128     1128   51  2018-12-23  Волжский     Ксения    Агаева  2018-12-15   \n",
       "371     1371   50  2018-12-30      Омск     Ириней  Трофимов  2018-12-25   \n",
       "\n",
       "    tariff  \n",
       "128  ultra  \n",
       "371  smart  "
      ]
     },
     "execution_count": 26,
     "metadata": {},
     "output_type": "execute_result"
    }
   ],
   "source": [
    "users[users['user_id'].isin(df['user_id'].unique()) == False]"
   ]
  },
  {
   "cell_type": "markdown",
   "metadata": {},
   "source": [
    "У нас действительно есть 2 пропущенных абонента. Проверим, есть ли у нас данные об их активностях: звонках, смс и интернете в соответствующих таблицах."
   ]
  },
  {
   "cell_type": "code",
   "execution_count": 27,
   "metadata": {},
   "outputs": [
    {
     "data": {
      "text/html": [
       "<div>\n",
       "<style scoped>\n",
       "    .dataframe tbody tr th:only-of-type {\n",
       "        vertical-align: middle;\n",
       "    }\n",
       "\n",
       "    .dataframe tbody tr th {\n",
       "        vertical-align: top;\n",
       "    }\n",
       "\n",
       "    .dataframe thead th {\n",
       "        text-align: right;\n",
       "    }\n",
       "</style>\n",
       "<table border=\"1\" class=\"dataframe\">\n",
       "  <thead>\n",
       "    <tr style=\"text-align: right;\">\n",
       "      <th></th>\n",
       "      <th>id</th>\n",
       "      <th>mb_used</th>\n",
       "      <th>month</th>\n",
       "      <th>user_id</th>\n",
       "    </tr>\n",
       "  </thead>\n",
       "  <tbody>\n",
       "  </tbody>\n",
       "</table>\n",
       "</div>"
      ],
      "text/plain": [
       "Empty DataFrame\n",
       "Columns: [id, mb_used, month, user_id]\n",
       "Index: []"
      ]
     },
     "execution_count": 27,
     "metadata": {},
     "output_type": "execute_result"
    }
   ],
   "source": [
    "internet.query('user_id == 1128 or user_id ==1371')"
   ]
  },
  {
   "cell_type": "code",
   "execution_count": 28,
   "metadata": {},
   "outputs": [
    {
     "data": {
      "text/html": [
       "<div>\n",
       "<style scoped>\n",
       "    .dataframe tbody tr th:only-of-type {\n",
       "        vertical-align: middle;\n",
       "    }\n",
       "\n",
       "    .dataframe tbody tr th {\n",
       "        vertical-align: top;\n",
       "    }\n",
       "\n",
       "    .dataframe thead th {\n",
       "        text-align: right;\n",
       "    }\n",
       "</style>\n",
       "<table border=\"1\" class=\"dataframe\">\n",
       "  <thead>\n",
       "    <tr style=\"text-align: right;\">\n",
       "      <th></th>\n",
       "      <th>id</th>\n",
       "      <th>month</th>\n",
       "      <th>user_id</th>\n",
       "    </tr>\n",
       "  </thead>\n",
       "  <tbody>\n",
       "  </tbody>\n",
       "</table>\n",
       "</div>"
      ],
      "text/plain": [
       "Empty DataFrame\n",
       "Columns: [id, month, user_id]\n",
       "Index: []"
      ]
     },
     "execution_count": 28,
     "metadata": {},
     "output_type": "execute_result"
    }
   ],
   "source": [
    "messages.query('user_id == 1128 or user_id ==1371')"
   ]
  },
  {
   "cell_type": "code",
   "execution_count": 29,
   "metadata": {},
   "outputs": [
    {
     "data": {
      "text/html": [
       "<div>\n",
       "<style scoped>\n",
       "    .dataframe tbody tr th:only-of-type {\n",
       "        vertical-align: middle;\n",
       "    }\n",
       "\n",
       "    .dataframe tbody tr th {\n",
       "        vertical-align: top;\n",
       "    }\n",
       "\n",
       "    .dataframe thead th {\n",
       "        text-align: right;\n",
       "    }\n",
       "</style>\n",
       "<table border=\"1\" class=\"dataframe\">\n",
       "  <thead>\n",
       "    <tr style=\"text-align: right;\">\n",
       "      <th></th>\n",
       "      <th>id</th>\n",
       "      <th>month</th>\n",
       "      <th>duration</th>\n",
       "      <th>user_id</th>\n",
       "    </tr>\n",
       "  </thead>\n",
       "  <tbody>\n",
       "  </tbody>\n",
       "</table>\n",
       "</div>"
      ],
      "text/plain": [
       "Empty DataFrame\n",
       "Columns: [id, month, duration, user_id]\n",
       "Index: []"
      ]
     },
     "execution_count": 29,
     "metadata": {},
     "output_type": "execute_result"
    }
   ],
   "source": [
    "calls.query('user_id == 1128 or user_id ==1371')"
   ]
  },
  {
   "cell_type": "markdown",
   "metadata": {},
   "source": [
    "Сведений нет. Из этого можем сделать вывод, что абоненты не пользовались услугами связи. Также из данных таблицы об абонентах мы видим, что данные абоненты подключились к тарифу и отключились от него в одном месяце. В таком случае, отсутствие данных абонентов в конечной таблице не должно повлиять на результат нашего анализа."
   ]
  },
  {
   "cell_type": "markdown",
   "metadata": {},
   "source": [
    "Также были обнаружены пропуски в столбцах с активностями клиента: звонков, смс и использованного интернета.Можно объяснить это так: пользователь не пользовался услугой в данном месяце, поэтому не потратил минуты или смс, или интернет. Поэтому мы можем заполнить эти пропуски нулями."
   ]
  },
  {
   "cell_type": "code",
   "execution_count": 30,
   "metadata": {},
   "outputs": [],
   "source": [
    "list_columns = ['calls_duration_total','calls_total', 'messages_total', 'gb_used']\n",
    "for column in list_columns:\n",
    "    df[column] = df[column].fillna(0)"
   ]
  },
  {
   "cell_type": "markdown",
   "metadata": {},
   "source": [
    "Проверим, все ли пропуски заполнены."
   ]
  },
  {
   "cell_type": "code",
   "execution_count": 31,
   "metadata": {},
   "outputs": [
    {
     "data": {
      "text/plain": [
       "user_id                 0\n",
       "city                    0\n",
       "tariff                  0\n",
       "month                   0\n",
       "calls_total             0\n",
       "calls_duration_total    0\n",
       "messages_total          0\n",
       "gb_used                 0\n",
       "dtype: int64"
      ]
     },
     "execution_count": 31,
     "metadata": {},
     "output_type": "execute_result"
    }
   ],
   "source": [
    "df.isna().sum()"
   ]
  },
  {
   "cell_type": "markdown",
   "metadata": {},
   "source": [
    "Готово. Теперь уточним, корректные ли типы данных в конечной таблице, или есть необходимость поменять типы данных для дальнейшего удобства."
   ]
  },
  {
   "cell_type": "code",
   "execution_count": 32,
   "metadata": {},
   "outputs": [
    {
     "name": "stdout",
     "output_type": "stream",
     "text": [
      "<class 'pandas.core.frame.DataFrame'>\n",
      "Int64Index: 3214 entries, 0 to 3215\n",
      "Data columns (total 8 columns):\n",
      " #   Column                Non-Null Count  Dtype  \n",
      "---  ------                --------------  -----  \n",
      " 0   user_id               3214 non-null   int64  \n",
      " 1   city                  3214 non-null   object \n",
      " 2   tariff                3214 non-null   object \n",
      " 3   month                 3214 non-null   float64\n",
      " 4   calls_total           3214 non-null   float64\n",
      " 5   calls_duration_total  3214 non-null   float64\n",
      " 6   messages_total        3214 non-null   float64\n",
      " 7   gb_used               3214 non-null   float64\n",
      "dtypes: float64(5), int64(1), object(2)\n",
      "memory usage: 226.0+ KB\n"
     ]
    }
   ],
   "source": [
    "df.info()"
   ]
  },
  {
   "cell_type": "markdown",
   "metadata": {},
   "source": [
    "В столбцах, содержащих информацию о месяце и активностях клиента, поменям тип данных на int, т.к. нам не нужны в них дробные числа."
   ]
  },
  {
   "cell_type": "code",
   "execution_count": 33,
   "metadata": {},
   "outputs": [],
   "source": [
    "list_columns = ['month', 'calls_duration_total', 'calls_total', 'messages_total', 'gb_used']\n",
    "for column in list_columns:\n",
    "    df[column] = df[column].astype('int')"
   ]
  },
  {
   "cell_type": "markdown",
   "metadata": {},
   "source": [
    "**Вывод**\n",
    "\n",
    "На этапе предобработки данных заменили пропущенные значения в данных, выявили возможные причины их пропуска. Менее 1 % значений мы удалили, т.к. нет возможности корректно их заменить. Их удаление не повлияет значительно на результаты исследования.\n",
    "\n",
    "Кроме того, были обнаружены пропуски в столбцах с активностями клиента: звонков, смс и использованного интернета. Объяснили это так: пользователь не пользовался услугой в данном месяце, поэтому не потратил минуты или смс, или интернет. Поэтому эти пропуски заполнили нулями.\n",
    "\n",
    "Также мы поменяли типы данных для дальнейшего удобства работы с ними."
   ]
  },
  {
   "cell_type": "markdown",
   "metadata": {},
   "source": [
    "## Расчёты и добавление результатов в таблицу"
   ]
  },
  {
   "cell_type": "markdown",
   "metadata": {},
   "source": [
    "Для анализа тарифов нам понадобится информация об абонентах компании, а именно:\n",
    "\n",
    "*   количество сделанных звонков и израсходованных минут разговора по месяцам;\n",
    "*   количество отправленных сообщений по месяцам;\n",
    "*   объем израсходованного интернет-трафика по месяцам;\n",
    "*   помесячная выручка с каждого абонента.\n",
    "\n",
    "Первые 3 параметра мы уже рассчитали ранее, когда объединяли таблицы.\n",
    "На данном этапе рассчитаем помесячную выручку с каждого абонента.\n"
   ]
  },
  {
   "cell_type": "code",
   "execution_count": 34,
   "metadata": {},
   "outputs": [],
   "source": [
    "# Напишем функцию для расчета помесячной выручки с каждого абонента и добавления нового столбца\n",
    "\n",
    "def revenue(row):\n",
    "    if row['tariff'] == 'smart':\n",
    "        price_calls = (row['calls_total'] - tariffs.loc[0,'minutes_included']) * tariffs.loc[0,'rub_per_minute']\n",
    "        if price_calls < 0: price_calls = 0\n",
    "        price_message = (row['messages_total'] - tariffs.loc[0,'messages_included']) * tariffs.loc[0,'rub_per_message']\n",
    "        if price_message < 0: price_message = 0\n",
    "        price_internet  = (row['gb_used'] - tariffs.loc[0,'mb_per_month_included']/1024) * tariffs.loc[0,'rub_per_gb'] \n",
    "        if price_internet < 0: price_internet = 0\n",
    "        revenue = price_calls + price_message  + price_internet + tariffs.loc[0,'rub_monthly_fee']\n",
    "\n",
    "    elif row ['tariff'] == 'ultra':\n",
    "        price_calls = (row['calls_total'] - tariffs.loc[1,'minutes_included']) * tariffs.loc[1,'rub_per_minute']\n",
    "        if price_calls < 0: price_calls = 0\n",
    "        price_message = (row['messages_total'] - tariffs.loc[1,'messages_included']) * tariffs.loc[1,'rub_per_message']\n",
    "        if price_message < 0: price_message = 0\n",
    "        price_internet = (row['gb_used'] - tariffs.loc[1,'mb_per_month_included']/1024) * tariffs.loc[1,'rub_per_gb'] \n",
    "        if price_internet < 0: price_internet = 0\n",
    "        revenue = price_calls + price_message + price_internet + tariffs.loc[1,'rub_monthly_fee']\n",
    "    \n",
    "    return revenue\n",
    "\n",
    "df['revenue'] = df.apply(revenue, axis=1)"
   ]
  },
  {
   "cell_type": "code",
   "execution_count": 35,
   "metadata": {},
   "outputs": [
    {
     "data": {
      "text/html": [
       "<div>\n",
       "<style scoped>\n",
       "    .dataframe tbody tr th:only-of-type {\n",
       "        vertical-align: middle;\n",
       "    }\n",
       "\n",
       "    .dataframe tbody tr th {\n",
       "        vertical-align: top;\n",
       "    }\n",
       "\n",
       "    .dataframe thead th {\n",
       "        text-align: right;\n",
       "    }\n",
       "</style>\n",
       "<table border=\"1\" class=\"dataframe\">\n",
       "  <thead>\n",
       "    <tr style=\"text-align: right;\">\n",
       "      <th></th>\n",
       "      <th>user_id</th>\n",
       "      <th>city</th>\n",
       "      <th>tariff</th>\n",
       "      <th>month</th>\n",
       "      <th>calls_total</th>\n",
       "      <th>calls_duration_total</th>\n",
       "      <th>messages_total</th>\n",
       "      <th>gb_used</th>\n",
       "      <th>revenue</th>\n",
       "    </tr>\n",
       "  </thead>\n",
       "  <tbody>\n",
       "    <tr>\n",
       "      <th>0</th>\n",
       "      <td>1000</td>\n",
       "      <td>Краснодар</td>\n",
       "      <td>ultra</td>\n",
       "      <td>5</td>\n",
       "      <td>22</td>\n",
       "      <td>159</td>\n",
       "      <td>22</td>\n",
       "      <td>3</td>\n",
       "      <td>1950.0</td>\n",
       "    </tr>\n",
       "    <tr>\n",
       "      <th>1</th>\n",
       "      <td>1000</td>\n",
       "      <td>Краснодар</td>\n",
       "      <td>ultra</td>\n",
       "      <td>6</td>\n",
       "      <td>43</td>\n",
       "      <td>172</td>\n",
       "      <td>60</td>\n",
       "      <td>23</td>\n",
       "      <td>1950.0</td>\n",
       "    </tr>\n",
       "    <tr>\n",
       "      <th>2</th>\n",
       "      <td>1000</td>\n",
       "      <td>Краснодар</td>\n",
       "      <td>ultra</td>\n",
       "      <td>7</td>\n",
       "      <td>47</td>\n",
       "      <td>340</td>\n",
       "      <td>75</td>\n",
       "      <td>14</td>\n",
       "      <td>1950.0</td>\n",
       "    </tr>\n",
       "    <tr>\n",
       "      <th>3</th>\n",
       "      <td>1000</td>\n",
       "      <td>Краснодар</td>\n",
       "      <td>ultra</td>\n",
       "      <td>8</td>\n",
       "      <td>52</td>\n",
       "      <td>408</td>\n",
       "      <td>81</td>\n",
       "      <td>14</td>\n",
       "      <td>1950.0</td>\n",
       "    </tr>\n",
       "    <tr>\n",
       "      <th>4</th>\n",
       "      <td>1000</td>\n",
       "      <td>Краснодар</td>\n",
       "      <td>ultra</td>\n",
       "      <td>9</td>\n",
       "      <td>58</td>\n",
       "      <td>466</td>\n",
       "      <td>57</td>\n",
       "      <td>15</td>\n",
       "      <td>1950.0</td>\n",
       "    </tr>\n",
       "  </tbody>\n",
       "</table>\n",
       "</div>"
      ],
      "text/plain": [
       "   user_id       city tariff  month  calls_total  calls_duration_total  \\\n",
       "0     1000  Краснодар  ultra      5           22                   159   \n",
       "1     1000  Краснодар  ultra      6           43                   172   \n",
       "2     1000  Краснодар  ultra      7           47                   340   \n",
       "3     1000  Краснодар  ultra      8           52                   408   \n",
       "4     1000  Краснодар  ultra      9           58                   466   \n",
       "\n",
       "   messages_total  gb_used  revenue  \n",
       "0              22        3   1950.0  \n",
       "1              60       23   1950.0  \n",
       "2              75       14   1950.0  \n",
       "3              81       14   1950.0  \n",
       "4              57       15   1950.0  "
      ]
     },
     "execution_count": 35,
     "metadata": {},
     "output_type": "execute_result"
    }
   ],
   "source": [
    "df.head()"
   ]
  },
  {
   "cell_type": "markdown",
   "metadata": {},
   "source": [
    "**Вывод**\n",
    "\n",
    "На данном этапе были рассчитаны параметры, которые необходимы нам для анализа об активности абонентов компании."
   ]
  },
  {
   "cell_type": "markdown",
   "metadata": {},
   "source": [
    "## Исследовательский анализ данных"
   ]
  },
  {
   "cell_type": "markdown",
   "metadata": {},
   "source": [
    "На основе имеющихся данных проведем анализ поведения клиентов оператора \"Мегалайн\". Выясним, сколько минут разговора, сколько сообщений и какой объём интернет-трафика требуется пользователям каждого тарифа в месяц.\n",
    "\n",
    "Рассчитаем среднее количество минут, сообщений и интернет-трафика, дисперсию и стандартное отклонение для каждого тарифа."
   ]
  },
  {
   "cell_type": "code",
   "execution_count": 36,
   "metadata": {},
   "outputs": [
    {
     "data": {
      "text/html": [
       "<div>\n",
       "<style scoped>\n",
       "    .dataframe tbody tr th:only-of-type {\n",
       "        vertical-align: middle;\n",
       "    }\n",
       "\n",
       "    .dataframe tbody tr th {\n",
       "        vertical-align: top;\n",
       "    }\n",
       "\n",
       "    .dataframe thead tr th {\n",
       "        text-align: left;\n",
       "    }\n",
       "\n",
       "    .dataframe thead tr:last-of-type th {\n",
       "        text-align: right;\n",
       "    }\n",
       "</style>\n",
       "<table border=\"1\" class=\"dataframe\">\n",
       "  <thead>\n",
       "    <tr>\n",
       "      <th></th>\n",
       "      <th>mean</th>\n",
       "      <th>var</th>\n",
       "      <th>std</th>\n",
       "    </tr>\n",
       "    <tr>\n",
       "      <th></th>\n",
       "      <th>calls_duration_total</th>\n",
       "      <th>calls_duration_total</th>\n",
       "      <th>calls_duration_total</th>\n",
       "    </tr>\n",
       "    <tr>\n",
       "      <th>tariff</th>\n",
       "      <th></th>\n",
       "      <th></th>\n",
       "      <th></th>\n",
       "    </tr>\n",
       "  </thead>\n",
       "  <tbody>\n",
       "    <tr>\n",
       "      <th>smart</th>\n",
       "      <td>417.934948</td>\n",
       "      <td>36219.315784</td>\n",
       "      <td>190.313730</td>\n",
       "    </tr>\n",
       "    <tr>\n",
       "      <th>ultra</th>\n",
       "      <td>526.623350</td>\n",
       "      <td>100873.633397</td>\n",
       "      <td>317.606098</td>\n",
       "    </tr>\n",
       "  </tbody>\n",
       "</table>\n",
       "</div>"
      ],
      "text/plain": [
       "                       mean                  var                  std\n",
       "       calls_duration_total calls_duration_total calls_duration_total\n",
       "tariff                                                               \n",
       "smart            417.934948         36219.315784           190.313730\n",
       "ultra            526.623350        100873.633397           317.606098"
      ]
     },
     "execution_count": 36,
     "metadata": {},
     "output_type": "execute_result"
    }
   ],
   "source": [
    "df.pivot_table(index= 'tariff', values= 'calls_duration_total', aggfunc= ['mean', 'var','std'])"
   ]
  },
  {
   "cell_type": "code",
   "execution_count": 37,
   "metadata": {},
   "outputs": [
    {
     "data": {
      "text/html": [
       "<div>\n",
       "<style scoped>\n",
       "    .dataframe tbody tr th:only-of-type {\n",
       "        vertical-align: middle;\n",
       "    }\n",
       "\n",
       "    .dataframe tbody tr th {\n",
       "        vertical-align: top;\n",
       "    }\n",
       "\n",
       "    .dataframe thead tr th {\n",
       "        text-align: left;\n",
       "    }\n",
       "\n",
       "    .dataframe thead tr:last-of-type th {\n",
       "        text-align: right;\n",
       "    }\n",
       "</style>\n",
       "<table border=\"1\" class=\"dataframe\">\n",
       "  <thead>\n",
       "    <tr>\n",
       "      <th></th>\n",
       "      <th>mean</th>\n",
       "      <th>var</th>\n",
       "      <th>std</th>\n",
       "    </tr>\n",
       "    <tr>\n",
       "      <th></th>\n",
       "      <th>messages_total</th>\n",
       "      <th>messages_total</th>\n",
       "      <th>messages_total</th>\n",
       "    </tr>\n",
       "    <tr>\n",
       "      <th>tariff</th>\n",
       "      <th></th>\n",
       "      <th></th>\n",
       "      <th></th>\n",
       "    </tr>\n",
       "  </thead>\n",
       "  <tbody>\n",
       "    <tr>\n",
       "      <th>smart</th>\n",
       "      <td>33.384029</td>\n",
       "      <td>796.812958</td>\n",
       "      <td>28.227876</td>\n",
       "    </tr>\n",
       "    <tr>\n",
       "      <th>ultra</th>\n",
       "      <td>49.363452</td>\n",
       "      <td>2285.266143</td>\n",
       "      <td>47.804457</td>\n",
       "    </tr>\n",
       "  </tbody>\n",
       "</table>\n",
       "</div>"
      ],
      "text/plain": [
       "                 mean            var            std\n",
       "       messages_total messages_total messages_total\n",
       "tariff                                             \n",
       "smart       33.384029     796.812958      28.227876\n",
       "ultra       49.363452    2285.266143      47.804457"
      ]
     },
     "execution_count": 37,
     "metadata": {},
     "output_type": "execute_result"
    }
   ],
   "source": [
    "df.pivot_table(index= 'tariff', values= 'messages_total', aggfunc= ['mean', 'var','std'])"
   ]
  },
  {
   "cell_type": "code",
   "execution_count": 38,
   "metadata": {},
   "outputs": [
    {
     "data": {
      "text/html": [
       "<div>\n",
       "<style scoped>\n",
       "    .dataframe tbody tr th:only-of-type {\n",
       "        vertical-align: middle;\n",
       "    }\n",
       "\n",
       "    .dataframe tbody tr th {\n",
       "        vertical-align: top;\n",
       "    }\n",
       "\n",
       "    .dataframe thead tr th {\n",
       "        text-align: left;\n",
       "    }\n",
       "\n",
       "    .dataframe thead tr:last-of-type th {\n",
       "        text-align: right;\n",
       "    }\n",
       "</style>\n",
       "<table border=\"1\" class=\"dataframe\">\n",
       "  <thead>\n",
       "    <tr>\n",
       "      <th></th>\n",
       "      <th>mean</th>\n",
       "      <th>var</th>\n",
       "      <th>std</th>\n",
       "    </tr>\n",
       "    <tr>\n",
       "      <th></th>\n",
       "      <th>gb_used</th>\n",
       "      <th>gb_used</th>\n",
       "      <th>gb_used</th>\n",
       "    </tr>\n",
       "    <tr>\n",
       "      <th>tariff</th>\n",
       "      <th></th>\n",
       "      <th></th>\n",
       "      <th></th>\n",
       "    </tr>\n",
       "  </thead>\n",
       "  <tbody>\n",
       "    <tr>\n",
       "      <th>smart</th>\n",
       "      <td>16.328847</td>\n",
       "      <td>33.028705</td>\n",
       "      <td>5.747061</td>\n",
       "    </tr>\n",
       "    <tr>\n",
       "      <th>ultra</th>\n",
       "      <td>19.494416</td>\n",
       "      <td>97.091686</td>\n",
       "      <td>9.853511</td>\n",
       "    </tr>\n",
       "  </tbody>\n",
       "</table>\n",
       "</div>"
      ],
      "text/plain": [
       "             mean        var       std\n",
       "          gb_used    gb_used   gb_used\n",
       "tariff                                \n",
       "smart   16.328847  33.028705  5.747061\n",
       "ultra   19.494416  97.091686  9.853511"
      ]
     },
     "execution_count": 38,
     "metadata": {},
     "output_type": "execute_result"
    }
   ],
   "source": [
    "df.pivot_table(index= 'tariff', values= 'gb_used', aggfunc= ['mean', 'var','std'])"
   ]
  },
  {
   "cell_type": "code",
   "execution_count": 39,
   "metadata": {},
   "outputs": [
    {
     "data": {
      "text/html": [
       "<div>\n",
       "<style scoped>\n",
       "    .dataframe tbody tr th:only-of-type {\n",
       "        vertical-align: middle;\n",
       "    }\n",
       "\n",
       "    .dataframe tbody tr th {\n",
       "        vertical-align: top;\n",
       "    }\n",
       "\n",
       "    .dataframe thead th {\n",
       "        text-align: right;\n",
       "    }\n",
       "</style>\n",
       "<table border=\"1\" class=\"dataframe\">\n",
       "  <thead>\n",
       "    <tr style=\"text-align: right;\">\n",
       "      <th></th>\n",
       "      <th>month</th>\n",
       "      <th>mean_calls_total</th>\n",
       "      <th>mean_calls_duration_total</th>\n",
       "      <th>mean_messages_total</th>\n",
       "      <th>mean_gb_used</th>\n",
       "      <th>mean_revenue</th>\n",
       "    </tr>\n",
       "    <tr>\n",
       "      <th>user_id</th>\n",
       "      <th></th>\n",
       "      <th></th>\n",
       "      <th></th>\n",
       "      <th></th>\n",
       "      <th></th>\n",
       "      <th></th>\n",
       "    </tr>\n",
       "  </thead>\n",
       "  <tbody>\n",
       "    <tr>\n",
       "      <th>1001</th>\n",
       "      <td>11.5</td>\n",
       "      <td>61.0</td>\n",
       "      <td>422.000000</td>\n",
       "      <td>0.0</td>\n",
       "      <td>16.000000</td>\n",
       "      <td>850.000000</td>\n",
       "    </tr>\n",
       "    <tr>\n",
       "      <th>1002</th>\n",
       "      <td>9.0</td>\n",
       "      <td>31.0</td>\n",
       "      <td>216.714286</td>\n",
       "      <td>10.0</td>\n",
       "      <td>16.714286</td>\n",
       "      <td>1035.714286</td>\n",
       "    </tr>\n",
       "    <tr>\n",
       "      <th>1005</th>\n",
       "      <td>6.5</td>\n",
       "      <td>74.0</td>\n",
       "      <td>550.416667</td>\n",
       "      <td>46.0</td>\n",
       "      <td>8.583333</td>\n",
       "      <td>558.250000</td>\n",
       "    </tr>\n",
       "    <tr>\n",
       "      <th>1006</th>\n",
       "      <td>7.0</td>\n",
       "      <td>46.0</td>\n",
       "      <td>318.272727</td>\n",
       "      <td>0.0</td>\n",
       "      <td>15.090909</td>\n",
       "      <td>931.818182</td>\n",
       "    </tr>\n",
       "    <tr>\n",
       "      <th>1007</th>\n",
       "      <td>8.0</td>\n",
       "      <td>68.0</td>\n",
       "      <td>486.555556</td>\n",
       "      <td>25.0</td>\n",
       "      <td>14.888889</td>\n",
       "      <td>794.444444</td>\n",
       "    </tr>\n",
       "  </tbody>\n",
       "</table>\n",
       "</div>"
      ],
      "text/plain": [
       "         month  mean_calls_total  mean_calls_duration_total  \\\n",
       "user_id                                                       \n",
       "1001      11.5              61.0                 422.000000   \n",
       "1002       9.0              31.0                 216.714286   \n",
       "1005       6.5              74.0                 550.416667   \n",
       "1006       7.0              46.0                 318.272727   \n",
       "1007       8.0              68.0                 486.555556   \n",
       "\n",
       "         mean_messages_total  mean_gb_used  mean_revenue  \n",
       "user_id                                                   \n",
       "1001                     0.0     16.000000    850.000000  \n",
       "1002                    10.0     16.714286   1035.714286  \n",
       "1005                    46.0      8.583333    558.250000  \n",
       "1006                     0.0     15.090909    931.818182  \n",
       "1007                    25.0     14.888889    794.444444  "
      ]
     },
     "execution_count": 39,
     "metadata": {},
     "output_type": "execute_result"
    }
   ],
   "source": [
    "mean_smart = df.query('tariff == \"smart\"').groupby(['user_id']).agg(['mean'])\n",
    "mean_smart.columns = ['month', 'mean_calls_total', 'mean_calls_duration_total', 'mean_messages_total', 'mean_gb_used', 'mean_revenue']\n",
    "mean_smart.head()"
   ]
  },
  {
   "cell_type": "code",
   "execution_count": 40,
   "metadata": {},
   "outputs": [
    {
     "data": {
      "text/html": [
       "<div>\n",
       "<style scoped>\n",
       "    .dataframe tbody tr th:only-of-type {\n",
       "        vertical-align: middle;\n",
       "    }\n",
       "\n",
       "    .dataframe tbody tr th {\n",
       "        vertical-align: top;\n",
       "    }\n",
       "\n",
       "    .dataframe thead th {\n",
       "        text-align: right;\n",
       "    }\n",
       "</style>\n",
       "<table border=\"1\" class=\"dataframe\">\n",
       "  <thead>\n",
       "    <tr style=\"text-align: right;\">\n",
       "      <th></th>\n",
       "      <th>month</th>\n",
       "      <th>mean_calls_total</th>\n",
       "      <th>mean_calls_duration_total</th>\n",
       "      <th>mean_messages_total</th>\n",
       "      <th>mean_gb_used</th>\n",
       "      <th>mean_revenue</th>\n",
       "    </tr>\n",
       "    <tr>\n",
       "      <th>user_id</th>\n",
       "      <th></th>\n",
       "      <th></th>\n",
       "      <th></th>\n",
       "      <th></th>\n",
       "      <th></th>\n",
       "      <th></th>\n",
       "    </tr>\n",
       "  </thead>\n",
       "  <tbody>\n",
       "    <tr>\n",
       "      <th>1000</th>\n",
       "      <td>8.5</td>\n",
       "      <td>46.0</td>\n",
       "      <td>320.750</td>\n",
       "      <td>62.0</td>\n",
       "      <td>13.625</td>\n",
       "      <td>1950.0</td>\n",
       "    </tr>\n",
       "    <tr>\n",
       "      <th>1003</th>\n",
       "      <td>10.0</td>\n",
       "      <td>104.0</td>\n",
       "      <td>764.400</td>\n",
       "      <td>76.0</td>\n",
       "      <td>11.800</td>\n",
       "      <td>1950.0</td>\n",
       "    </tr>\n",
       "    <tr>\n",
       "      <th>1004</th>\n",
       "      <td>8.5</td>\n",
       "      <td>22.0</td>\n",
       "      <td>123.375</td>\n",
       "      <td>149.0</td>\n",
       "      <td>18.750</td>\n",
       "      <td>1950.0</td>\n",
       "    </tr>\n",
       "    <tr>\n",
       "      <th>1013</th>\n",
       "      <td>11.5</td>\n",
       "      <td>71.0</td>\n",
       "      <td>468.000</td>\n",
       "      <td>21.0</td>\n",
       "      <td>15.500</td>\n",
       "      <td>1950.0</td>\n",
       "    </tr>\n",
       "    <tr>\n",
       "      <th>1016</th>\n",
       "      <td>11.5</td>\n",
       "      <td>10.0</td>\n",
       "      <td>61.000</td>\n",
       "      <td>71.0</td>\n",
       "      <td>13.500</td>\n",
       "      <td>1950.0</td>\n",
       "    </tr>\n",
       "  </tbody>\n",
       "</table>\n",
       "</div>"
      ],
      "text/plain": [
       "         month  mean_calls_total  mean_calls_duration_total  \\\n",
       "user_id                                                       \n",
       "1000       8.5              46.0                    320.750   \n",
       "1003      10.0             104.0                    764.400   \n",
       "1004       8.5              22.0                    123.375   \n",
       "1013      11.5              71.0                    468.000   \n",
       "1016      11.5              10.0                     61.000   \n",
       "\n",
       "         mean_messages_total  mean_gb_used  mean_revenue  \n",
       "user_id                                                   \n",
       "1000                    62.0        13.625        1950.0  \n",
       "1003                    76.0        11.800        1950.0  \n",
       "1004                   149.0        18.750        1950.0  \n",
       "1013                    21.0        15.500        1950.0  \n",
       "1016                    71.0        13.500        1950.0  "
      ]
     },
     "execution_count": 40,
     "metadata": {},
     "output_type": "execute_result"
    }
   ],
   "source": [
    "mean_ultra = df.query('tariff == \"ultra\"').groupby(['user_id']).agg(['mean'])\n",
    "mean_ultra.columns = ['month', 'mean_calls_total', 'mean_calls_duration_total', 'mean_messages_total', 'mean_gb_used', 'mean_revenue']\n",
    "mean_ultra.head()"
   ]
  },
  {
   "cell_type": "markdown",
   "metadata": {},
   "source": [
    "Сравним среднюю длительность звонков для каждого тарифа."
   ]
  },
  {
   "cell_type": "code",
   "execution_count": 41,
   "metadata": {},
   "outputs": [
    {
     "data": {
      "image/png": "[encoded data removed]",
      "text/plain": [
       "<Figure size 432x288 with 1 Axes>"
      ]
     },
     "metadata": {
      "needs_background": "light"
     },
     "output_type": "display_data"
    }
   ],
   "source": [
    "smart_mean_calls_duration_total = mean_smart['mean_calls_duration_total']\n",
    "ultra_mean_calls_duration_total = mean_ultra['mean_calls_duration_total']\n",
    "\n",
    "plt.hist(smart_mean_calls_duration_total, bins = 15, range=(0,1500), label= 'Смарт', alpha = 0.6)\n",
    "plt.hist(ultra_mean_calls_duration_total, bins = 15, range=(0,1500), label= 'Ультра', alpha = 0.6)\n",
    "\n",
    "plt.xlabel('мин')\n",
    "plt.title('Средняя длительность звонков на тарифе')\n",
    "plt.legend(loc='upper right')\n",
    "plt.show()\n"
   ]
  },
  {
   "cell_type": "markdown",
   "metadata": {},
   "source": [
    "Абоненты, которые пользуются тарифом \"Смарт\", в среднем ежемесячно разговаривают от 300 до 600 минут, а те, кто пользуется тарифом \"Ультра\" - от 300 до 800 минут. Причем для абонентов тарифа \"Ультра\" характерен большой разброс данных, т.е. среди них есть много людей, которые вообще не звонят, и тех, кто разговаривает и более 800 минут. \n",
    "\n",
    "Но стоит заметить, что для абонентов тарифа \"Ультра\" высокий лимит минут разговора, входящий в пакет - 3000 минут, а среди имеющихся данных максимальная продолжительность разговоров в месяц - 1673. Значит, абоненты тарифа \"Ультра\" не оплачивают минуты сверх тарифного пакета в отличие от абонентов тарифа \"Смарта\", среди которых есть те, чья дительность звонков превышает тарифный лимит -  500 минут.\n",
    "\n",
    "Показатель стандартного отклонения для абонентов тарифа \"Ультра\" больше, чем для абонентов тарифа \"Смарт\", что также подтверждает большой разброс данных о средней длительности звонков в месяц. "
   ]
  },
  {
   "cell_type": "markdown",
   "metadata": {},
   "source": [
    "Сравним, сколько сообщений отправляют пользователи в месяц, для каждого тарифа."
   ]
  },
  {
   "cell_type": "code",
   "execution_count": 42,
   "metadata": {},
   "outputs": [
    {
     "data": {
      "image/png": "[encoded data removed]",
      "text/plain": [
       "<Figure size 432x288 with 1 Axes>"
      ]
     },
     "metadata": {
      "needs_background": "light"
     },
     "output_type": "display_data"
    }
   ],
   "source": [
    "smart_mean_messages_total = mean_smart['mean_messages_total']\n",
    "ultra_mean_messages_total = mean_ultra['mean_messages_total']\n",
    "\n",
    "plt.hist(smart_mean_messages_total, bins=50, range=(0,200), label= 'Смарт', alpha = 0.6)\n",
    "plt.hist(ultra_mean_messages_total, bins=50, range=(0,200), label= 'Ультра', alpha = 0.6)\n",
    "\n",
    "plt.xlabel('шт')\n",
    "plt.title('Среднее количество сообщений на тарифе')\n",
    "plt.legend(loc='upper right')\n",
    "plt.show()\n"
   ]
  },
  {
   "cell_type": "markdown",
   "metadata": {},
   "source": [
    "Абоненты, которые пользуются тарифом \"Смарт\", в среднем отправляют от 10 до 40 сообщений ежемесячно, что даже не превышает количество сообщений в тарифный пакет.\n",
    "\n",
    "Абоненты, которые пользуются тарифом \"Ультра\" отправляют в среднем от 15 до 100 сообщений, что гораздо меньше количества сообщений, входящих в их тарифный пакет - 1000. \n",
    "\n",
    "Нужно учесть, что в настоящее время люди стали гораздо меньше отправлять сообщений, поэтому не будем уделять много внимания этой опции при выборе перспективного тарифа для компании."
   ]
  },
  {
   "cell_type": "markdown",
   "metadata": {},
   "source": [
    "Сравним, сколько тратят интернет-трафика абоненты каждого тарифа."
   ]
  },
  {
   "cell_type": "code",
   "execution_count": 43,
   "metadata": {},
   "outputs": [
    {
     "data": {
      "image/png": "[encoded data removed]",
      "text/plain": [
       "<Figure size 432x288 with 1 Axes>"
      ]
     },
     "metadata": {
      "needs_background": "light"
     },
     "output_type": "display_data"
    }
   ],
   "source": [
    "smart_mean_gb_used = mean_smart['mean_gb_used']\n",
    "ultra_mean_gb_used = mean_ultra['mean_gb_used']\n",
    "\n",
    "plt.hist(smart_mean_gb_used, bins=50, range=(0,40), label= 'Смарт', alpha = 0.6)\n",
    "plt.hist(ultra_mean_gb_used, bins=50, range=(0,40), label= 'Ультра', alpha = 0.6)\n",
    "\n",
    "plt.xlabel('Гигабайт')\n",
    "plt.title('Средний интернет-трафик на тарифе')\n",
    "plt.legend(loc='upper right')\n",
    "plt.show()\n"
   ]
  },
  {
   "cell_type": "markdown",
   "metadata": {},
   "source": [
    "Абоненты тарифа \"Смарт\" в среднем тратят от 15 до 20 Гб интернет-трафика, что равно или немного превышает лимит тарифа. Значит, в основном пользователи оплачивают интернет-трафик дополнительно лишь несколько дополнительных Гб.\n",
    "\n",
    "Абоненты, которые пользуются тарифом \"Ультра\", в среднем тратят от 15 до 30 Гб интернет-трафика. Этот интернет-трафик входит в лимит их тарифного плата. Причем для абонентов тарифа \"Ультра\" характерен большой разброс данных, о чем свидетельствует и показатель стандартного отклонения: для абонентов тарифа \"Ультра\" он больше, чем для абонентов тарифа \"Смарт\". Это значит, что среди абонентов тарифа \"Ультра\" много людей, которые используют как меньше, так и значительно больше среднего значения интернет-трафика."
   ]
  },
  {
   "cell_type": "markdown",
   "metadata": {},
   "source": [
    "**Вывод**\n",
    "\n",
    "Анализ активностей абонентов двух тарифов: \"Ультра\" и \"Смарт\" показал, что:\n",
    "\n",
    "1. Для абонентов тарифа \"Ультра\" характерен большой разброс данных, т.е. среди них есть много людей, которые вообще не звонят, и тех, кто разговаривает и гораздо больше остальных пользователей, а также тех, кто вообще не отправляет сообщения или использует интернет-трафика меньше других пользователей либо наоборот отправляет сообщений гораздо больше, чем другие абоненты, и тратят много интернет-трафика.\n",
    "\n",
    "\n",
    "2. Для абонентов тарифа \"Ультра\" установлен высокий лимит минут звонков, входящий в их пакет - 3000 минут, а было выяснено, что среди имеющихся данных максимальная продолжительность разговоров в месяц - 1673. Значит, абоненты тарифа \"Ультра\" не оплачивают минуты сверх тарифного пакета в отличие от пользователей тарифа \"Смарта\", среди которых есть и те, чья длительность звонков превышает тарифный лимит -  500 минут.\n",
    "\n",
    "\n",
    "3. Абоненты, которые пользуются тарифом \"Смарт\", как и те, которые пользуются тарифом \"Ультра\" отправляют сообщений гораздо меньше лимита, входящего в их тарифный пакет, а значит не платят сверх лимита. Это связано с тем, что люди стали редко отправлять сообщения.\n",
    "\n",
    "\n",
    "3. Абоненты тарифа \"Смарт\" в среднем тратят от 15 до 20 Гб интернет-трафика, что равно или немного превышает лимит тарифа (15 Гб). Значит, в основном пользователи оплачивают дополнительно лишь несколько дополнительных Гб интернет-трафика. Абоненты, которые пользуются тарифом \"Ультра\", в среднем тратят от 15 до 30 Гб интернет-трафика, что не превышает лимит их тарифа, но всё же среди абонентов тарифа \"Ультра\" много пользователей, которые оплачивают израсходованные Гигабайты сверх своего тарифного пакета."
   ]
  },
  {
   "cell_type": "markdown",
   "metadata": {},
   "source": [
    "## Проверка гипотез"
   ]
  },
  {
   "cell_type": "markdown",
   "metadata": {},
   "source": [
    "Сначала проведем анализ среднемесячной выручки с каждого абонента. Для этого рассчитаем числовые характеристики выборки и построим графики."
   ]
  },
  {
   "cell_type": "code",
   "execution_count": 44,
   "metadata": {},
   "outputs": [
    {
     "data": {
      "text/plain": [
       "count    2229.000000\n",
       "mean     1165.156572\n",
       "std       740.556759\n",
       "min       550.000000\n",
       "25%       550.000000\n",
       "50%       950.000000\n",
       "75%      1550.000000\n",
       "max      5249.000000\n",
       "Name: revenue, dtype: float64"
      ]
     },
     "execution_count": 44,
     "metadata": {},
     "output_type": "execute_result"
    }
   ],
   "source": [
    "smart_df = df[df['tariff'] == \"smart\"]\n",
    "smart_df['revenue'].describe()"
   ]
  },
  {
   "cell_type": "code",
   "execution_count": 45,
   "metadata": {},
   "outputs": [
    {
     "data": {
      "text/plain": [
       "count     985.000000\n",
       "mean     2070.152284\n",
       "std       376.187114\n",
       "min      1950.000000\n",
       "25%      1950.000000\n",
       "50%      1950.000000\n",
       "75%      1950.000000\n",
       "max      4800.000000\n",
       "Name: revenue, dtype: float64"
      ]
     },
     "execution_count": 45,
     "metadata": {},
     "output_type": "execute_result"
    }
   ],
   "source": [
    "ultra_df = df[df['tariff'] == \"ultra\"]\n",
    "ultra_df['revenue'].describe()"
   ]
  },
  {
   "cell_type": "code",
   "execution_count": 46,
   "metadata": {},
   "outputs": [
    {
     "data": {
      "image/png": "[encoded data removed]",
      "text/plain": [
       "<Figure size 1080x360 with 2 Axes>"
      ]
     },
     "metadata": {
      "needs_background": "light"
     },
     "output_type": "display_data"
    }
   ],
   "source": [
    "fig = plt.figure(figsize=(15,5))\n",
    "ax1 = fig.add_subplot(1,2,1)\n",
    "ax2 = fig.add_subplot(1,2,2)\n",
    "ax1.hist(smart_df['revenue'], bins=10)\n",
    "ax1.set(\n",
    "       title = 'Выручка с каждого абонента тарифа \"Смарт\"',\n",
    "       xlabel = 'рубли',\n",
    ")\n",
    "ax2.hist(ultra_df['revenue'], bins=10)\n",
    "ax2.set(\n",
    "       title = 'Выручка с каждого абонента тарифа \"Ультра\"',\n",
    "       xlabel = 'Рубли',\n",
    ")\n",
    "plt.show()"
   ]
  },
  {
   "cell_type": "markdown",
   "metadata": {},
   "source": [
    "На графиках заметно выделяется, что большинство абонентов тарифа \"Ультра\" оплачивают только абонентскую плату согласно их тарифного пакета - 1950 руб.\n",
    "Абоненты тарифа \"Смарт\" тоже в основном платят только абонентскую плату в соответствии с тарифом - 550 руб., но среди них много и тех, кто платит значительно больше.\n",
    "К тому же стоит отметить, что максимальная выручка с одного пользователя тарифа \"Смарт\" превышает максимальную выручку с одного пользователя тарифа \"Ультра\". *Таким образом, если привлекать клиентов пользоваться тарифом \"Смарт\", привлечём клиентов, которые будут платить больше.*\n",
    "\n"
   ]
  },
  {
   "cell_type": "markdown",
   "metadata": {},
   "source": [
    "<p>Введем основную и альтернативные гипотезы:</p>\n",
    "\n",
    "$\\begin{equation*}\n",
    " \\begin{cases}\n",
    "   H_0 :\\text{Cредняя выручка пользователей тарифов «Ультра» и «Смарт» одинаковая.}\\\\\n",
    "   H_1 :\\text{Средняя выручка пользователей тарифов «Ультра» и «Смарт» различаются.}\n",
    " \\end{cases}\n",
    "\\end{equation*}$\n",
    "\n",
    "Уровень значимости: $\\alpha = 0.05$\n",
    "\n",
    "Посчитаем p-value, используя ttest из библиотеки scipy для сравнения средних двух выборок.\n",
    "\n",
    "Если p-value будет меньше выбранного уровня значимости $\\alpha = 0.05$, то нулевую гипотезу о равенстве средних отвергнем. Иначе сделаем вывод, что данные не позволили нам отвергнуть нулевую гипотезу."
   ]
  },
  {
   "cell_type": "code",
   "execution_count": 47,
   "metadata": {},
   "outputs": [
    {
     "name": "stdout",
     "output_type": "stream",
     "text": [
      "p-значение:  0.0\n",
      "Отвергаем нулевую гипотезу\n"
     ]
    }
   ],
   "source": [
    "results = st.ttest_ind(ultra_df['revenue'], smart_df['revenue'], equal_var=False)\n",
    "\n",
    "alpha=0.05\n",
    "print('p-значение: ', results.pvalue)\n",
    "\n",
    "if (results.pvalue < alpha):\n",
    "    print(\"Отвергаем нулевую гипотезу\")\n",
    "else:\n",
    "    print(\"Не получилось отвергнуть нулевую гипотезу\")"
   ]
  },
  {
   "cell_type": "markdown",
   "metadata": {},
   "source": [
    "Вывод: p-value получилось меньше выбранного уровня  α=0.05 . На основе имеющихся данных на уровне значимости 5% есть основания отвергнуть нулевую гипотезу. Средняя выручка пользователей тарифов «Ультра» и «Смарт» различаются."
   ]
  },
  {
   "cell_type": "code",
   "execution_count": 48,
   "metadata": {},
   "outputs": [],
   "source": [
    "moscow_df = df[df['city'] == \"Москва\"]"
   ]
  },
  {
   "cell_type": "code",
   "execution_count": 49,
   "metadata": {},
   "outputs": [],
   "source": [
    "other_region_df = df[df['city'] != \"Москва\"]"
   ]
  },
  {
   "cell_type": "markdown",
   "metadata": {},
   "source": [
    "<p>Введем основную и альтернативные гипотезы:</p>\n",
    "\n",
    "$\\begin{equation*}\n",
    " \\begin{cases}\n",
    "   H_0 :\\text{Средняя выручка пользователей из Москвы и средняя выручка пользователей из других регионов одинаковая.}\\\\\n",
    "   H_1 :\\text{Средняя выручка пользователей из Москвы отличается от выручки пользователей из других регионов.}\n",
    " \\end{cases}\n",
    "\\end{equation*}$\n",
    "\n",
    "Уровень значимости: $\\alpha = 0.05$\n",
    "\n",
    "Посчитаем p-value, используя ttest из библиотеки scipy для сравнения средних двух выборок.\n",
    "\n",
    "Если p-value будет меньше выбранного уровня значимости $\\alpha = 0.05$, то нулевую гипотезу о равенстве средних отвергнем. Иначе сделаем вывод, что данные не позволили нам отвергнуть нулевую гипотезу."
   ]
  },
  {
   "cell_type": "code",
   "execution_count": 50,
   "metadata": {},
   "outputs": [
    {
     "name": "stdout",
     "output_type": "stream",
     "text": [
      "p-значение:  0.2843727016644021\n",
      "Не получилось отвергнуть нулевую гипотезу\n"
     ]
    }
   ],
   "source": [
    "results = st.ttest_ind(moscow_df['revenue'], other_region_df['revenue'], equal_var=False)\n",
    "\n",
    "alpha=0.05\n",
    "print('p-значение: ', results.pvalue)\n",
    "\n",
    "if (results.pvalue < alpha):\n",
    "    print(\"Отвергаем нулевую гипотезу\")\n",
    "else:\n",
    "    print(\"Не получилось отвергнуть нулевую гипотезу\")"
   ]
  },
  {
   "cell_type": "markdown",
   "metadata": {},
   "source": [
    "Вывод: p-value получилось меньше выбранного уровня  α=0.05. На основе имеющихся данных на уровне значимости 5% нет основания отвергнуть нулевую гипотезу. Таким образом, средняя выручка пользователей из Москвы и средняя выручка пользователей из других регионов одинаковая."
   ]
  },
  {
   "cell_type": "markdown",
   "metadata": {},
   "source": [
    "**Вывод**\n",
    "\n",
    "В рамках исследования было выявлено, что:\n",
    "большинство абонентов тарифа \"Ультра\" оплачивают только абонентскую плату согласно их тарифного пакета - 1950 руб. Абоненты тарифа \"Смарт\" тоже в основном платят только абонентскую плату в соответствии с тарифом - 550 руб., но среди них много и тех, кто платит значительно больше.\n",
    "\n",
    "К тому же стоит отметить, что максимальная выручка с одного пользователя тарифа \"Смарт\" превышает максимальную выручку с одного пользователя тарифа \"Ультра\". Таким образом, если привлекать клиентов пользоваться тарифом \"Смарт\", привлечём клиентов, которые будут платить больше.\n",
    "\n",
    "С помощью ttest из библиотеки scipy были проведены проверки гипотез:\n",
    "1. Cредняя выручка пользователей тарифов «Ультра» и «Смарт» одинаковая.\n",
    "2. Средняя выручка пользователей из Москвы и средняя выручка пользователей из других регионов одинаковая.\n",
    "Проверка показала, что:\n",
    "1. На основе имеющихся данных на уровне значимости 5% есть основания отвергнуть нулевую гипотезу. Средняя выручка пользователей тарифов «Ультра» и «Смарт» различаются.\n",
    "2. На основе имеющихся данных на уровне значимости 5% нет основания отвергнуть нулевую гипотезу. Таким образом, Средняя выручка пользователей из Москвы и средняя выручка пользователей из других регионов одинаковая."
   ]
  },
  {
   "cell_type": "markdown",
   "metadata": {},
   "source": [
    "## Общий вывод"
   ]
  },
  {
   "cell_type": "markdown",
   "metadata": {},
   "source": [
    "В проектной работе был проведен предварительный анализ тарифов на небольшой выборке клиентов компании «Мегалайн» — федерального оператора сотовой связи. \n",
    "В предоставленных данных были выявлены пропущенные значения, которые были заменены, где это возможно.\n",
    "\n",
    "Далее были исследованы активности абонентов тарифов «Смарт» и «Ультра»: звонки, сообщения и интернет-трафик. В результате узнали, что:\n",
    "\n",
    "1. Для абонентов тарифа \"Ультра\" высокий лимит минут разговора, входящий в пакет - 3000 минут, а среди имеющихся данных максимальная продолжительность разговоров в месяц - 1673. Значит, абоненты тарифа \"Ультра\" не оплачивают минуты сверх тарифного пакета в отличие от пользователей тарифа \"Смарта\", среди которых есть те, чья длительность звонков превышает тарифный лимит -  500 минут.\n",
    "2. Абоненты тарифа \"Смарт\" в среднем тратят от 15 до 20 Гб интернет-трафика, что равно или немного превышает лимит тарифа (15 Гб). Значит, в основном пользователи оплачивают дополнительно лишь несколько дополнительных Гб интернет-трафика. Абоненты, которые пользуются тарифом \"Ультра\", в среднем тратят от 15 до 30 Гб интернет-трафика, что не превышает лимит их тарифа, но всё же среди абонентов тарифа \"Ультра\" много пользователей, которые оплачивают израсходованные Гигабайты сверх своего тарифного пакета.\n",
    "\n",
    "На следующем этапе мы сравнили помесячную выручку с каждого пользователя тарифа \"Смарт\" и \"Ультра\" и выяснили, что:\n",
    "большинство абонентов тарифа \"Ультра\" оплачивают только абонентскую плату согласно их тарифного пакета - 1950 руб. Абоненты тарифа \"Смарт\" тоже в основном платят только абонентскую плату в соответствии с тарифом - 550 руб., но среди них много и тех, кто платит значительно больше.\n",
    "\n",
    "К тому же стоит отметить, что максимальная выручка тарифа \"Смарт\" превышает максимальную выручку тарифа \"Ультра\". *Таким образом, если привлекать клиентов пользоваться тарифом \"Смарт\", привлечём клиентов, которые будут платить больше.*\n",
    "\n",
    "\n",
    "Задачей дальнейших исследований может быть анализ активностей:звонков, сообщений и интернет-трафика отдельно для пользователей из Москвы и для других регионов, т.к. гипотеза о том, средняя выручка пользователей из Москвы и средняя выручка пользователей из других регионов одинаковая, не была отвергнута. "
   ]
  },
  {
   "cell_type": "code",
   "execution_count": null,
   "metadata": {},
   "outputs": [],
   "source": []
  }
 ],
 "metadata": {
  "ExecuteTimeLog": [
   {
    "duration": 1288,
    "start_time": "2022-03-27T23:16:28.040Z"
   },
   {
    "duration": 159,
    "start_time": "2022-03-27T23:16:46.573Z"
   },
   {
    "duration": 26,
    "start_time": "2022-03-27T23:16:50.189Z"
   },
   {
    "duration": 5,
    "start_time": "2022-03-27T23:19:36.442Z"
   },
   {
    "duration": 50,
    "start_time": "2022-03-27T23:19:37.648Z"
   },
   {
    "duration": 60,
    "start_time": "2022-03-27T23:19:38.529Z"
   },
   {
    "duration": 148,
    "start_time": "2022-03-27T23:20:09.274Z"
   },
   {
    "duration": 21,
    "start_time": "2022-03-27T23:20:21.234Z"
   },
   {
    "duration": 37,
    "start_time": "2022-03-27T23:21:28.699Z"
   },
   {
    "duration": 12,
    "start_time": "2022-03-27T23:21:39.192Z"
   },
   {
    "duration": 44,
    "start_time": "2022-03-27T23:21:47.935Z"
   },
   {
    "duration": 102,
    "start_time": "2022-03-27T23:22:06.087Z"
   },
   {
    "duration": 90,
    "start_time": "2022-03-27T23:22:18.691Z"
   },
   {
    "duration": 21,
    "start_time": "2022-03-27T23:22:31.102Z"
   },
   {
    "duration": 185,
    "start_time": "2022-03-27T23:22:55.090Z"
   },
   {
    "duration": 31,
    "start_time": "2022-03-27T23:23:12.017Z"
   },
   {
    "duration": 28,
    "start_time": "2022-03-27T23:23:18.458Z"
   },
   {
    "duration": 15,
    "start_time": "2022-03-27T23:23:54.174Z"
   },
   {
    "duration": 11,
    "start_time": "2022-03-27T23:24:47.640Z"
   },
   {
    "duration": 13,
    "start_time": "2022-03-27T23:26:02.279Z"
   },
   {
    "duration": 45,
    "start_time": "2022-03-27T23:26:10.092Z"
   },
   {
    "duration": 8,
    "start_time": "2022-03-27T23:27:12.261Z"
   },
   {
    "duration": 10,
    "start_time": "2022-03-27T23:27:19.167Z"
   },
   {
    "duration": 107,
    "start_time": "2022-03-27T23:27:43.759Z"
   },
   {
    "duration": 21,
    "start_time": "2022-03-27T23:27:58.975Z"
   },
   {
    "duration": 16,
    "start_time": "2022-03-27T23:28:08.563Z"
   },
   {
    "duration": 11,
    "start_time": "2022-03-27T23:29:24.332Z"
   },
   {
    "duration": 7,
    "start_time": "2022-03-27T23:29:44.724Z"
   },
   {
    "duration": 7,
    "start_time": "2022-03-27T23:30:05.219Z"
   },
   {
    "duration": 12,
    "start_time": "2022-03-27T23:30:29.543Z"
   },
   {
    "duration": 10,
    "start_time": "2022-03-27T23:30:47.565Z"
   },
   {
    "duration": 8,
    "start_time": "2022-03-27T23:30:54.384Z"
   },
   {
    "duration": 10,
    "start_time": "2022-03-27T23:31:04.225Z"
   },
   {
    "duration": 5,
    "start_time": "2022-03-27T23:31:47.808Z"
   },
   {
    "duration": 6,
    "start_time": "2022-03-27T23:32:03.082Z"
   },
   {
    "duration": 10,
    "start_time": "2022-03-27T23:32:29.211Z"
   },
   {
    "duration": 7,
    "start_time": "2022-03-27T23:32:45.819Z"
   },
   {
    "duration": 188,
    "start_time": "2022-03-27T23:34:05.576Z"
   },
   {
    "duration": 209,
    "start_time": "2022-03-27T23:34:11.042Z"
   },
   {
    "duration": 201,
    "start_time": "2022-03-27T23:35:58.802Z"
   },
   {
    "duration": 9,
    "start_time": "2022-03-27T23:36:08.300Z"
   },
   {
    "duration": 41,
    "start_time": "2022-03-27T23:37:13.178Z"
   },
   {
    "duration": 39,
    "start_time": "2022-03-27T23:37:33.654Z"
   },
   {
    "duration": 114,
    "start_time": "2022-03-27T23:37:49.023Z"
   },
   {
    "duration": 256,
    "start_time": "2022-03-27T23:38:09.282Z"
   },
   {
    "duration": 6,
    "start_time": "2022-03-27T23:38:37.113Z"
   },
   {
    "duration": 314,
    "start_time": "2022-03-27T23:38:54.949Z"
   },
   {
    "duration": 301,
    "start_time": "2022-03-27T23:39:29.078Z"
   },
   {
    "duration": 10,
    "start_time": "2022-03-27T23:40:25.156Z"
   },
   {
    "duration": 9,
    "start_time": "2022-03-27T23:40:32.255Z"
   },
   {
    "duration": 202,
    "start_time": "2022-03-27T23:40:40.789Z"
   },
   {
    "duration": 5,
    "start_time": "2022-03-27T23:41:07.962Z"
   },
   {
    "duration": 4,
    "start_time": "2022-03-27T23:41:27.508Z"
   },
   {
    "duration": 4,
    "start_time": "2022-03-27T23:41:33.155Z"
   },
   {
    "duration": 5,
    "start_time": "2022-03-27T23:41:49.935Z"
   },
   {
    "duration": 3,
    "start_time": "2022-03-27T23:47:07.594Z"
   },
   {
    "duration": 1076,
    "start_time": "2022-03-28T00:00:07.200Z"
   },
   {
    "duration": 216,
    "start_time": "2022-03-28T00:00:08.277Z"
   },
   {
    "duration": 26,
    "start_time": "2022-03-28T00:00:08.495Z"
   },
   {
    "duration": 6,
    "start_time": "2022-03-28T00:00:08.534Z"
   },
   {
    "duration": 59,
    "start_time": "2022-03-28T00:00:08.541Z"
   },
   {
    "duration": 74,
    "start_time": "2022-03-28T00:00:08.602Z"
   },
   {
    "duration": 136,
    "start_time": "2022-03-28T00:00:08.678Z"
   },
   {
    "duration": 25,
    "start_time": "2022-03-28T00:00:08.816Z"
   },
   {
    "duration": 40,
    "start_time": "2022-03-28T00:00:08.842Z"
   },
   {
    "duration": 6,
    "start_time": "2022-03-28T00:00:08.885Z"
   },
   {
    "duration": 61,
    "start_time": "2022-03-28T00:00:08.893Z"
   },
   {
    "duration": 92,
    "start_time": "2022-03-28T00:00:08.955Z"
   },
   {
    "duration": 17,
    "start_time": "2022-03-28T00:00:09.049Z"
   },
   {
    "duration": 32,
    "start_time": "2022-03-28T00:00:09.068Z"
   },
   {
    "duration": 47,
    "start_time": "2022-03-28T00:00:09.102Z"
   },
   {
    "duration": 14,
    "start_time": "2022-03-28T00:00:09.151Z"
   },
   {
    "duration": 18,
    "start_time": "2022-03-28T00:00:09.166Z"
   },
   {
    "duration": 42,
    "start_time": "2022-03-28T00:00:09.186Z"
   },
   {
    "duration": 8,
    "start_time": "2022-03-28T00:00:09.230Z"
   },
   {
    "duration": 32,
    "start_time": "2022-03-28T00:00:09.240Z"
   },
   {
    "duration": 25,
    "start_time": "2022-03-28T00:00:09.274Z"
   },
   {
    "duration": 17,
    "start_time": "2022-03-28T00:00:09.301Z"
   },
   {
    "duration": 21,
    "start_time": "2022-03-28T00:00:09.320Z"
   },
   {
    "duration": 7,
    "start_time": "2022-03-28T00:00:09.343Z"
   },
   {
    "duration": 19,
    "start_time": "2022-03-28T00:00:09.352Z"
   },
   {
    "duration": 17,
    "start_time": "2022-03-28T00:00:09.373Z"
   },
   {
    "duration": 14,
    "start_time": "2022-03-28T00:00:09.392Z"
   },
   {
    "duration": 26,
    "start_time": "2022-03-28T00:00:09.411Z"
   },
   {
    "duration": 10,
    "start_time": "2022-03-28T00:00:09.438Z"
   },
   {
    "duration": 5,
    "start_time": "2022-03-28T00:00:09.449Z"
   },
   {
    "duration": 10,
    "start_time": "2022-03-28T00:00:09.456Z"
   },
   {
    "duration": 12,
    "start_time": "2022-03-28T00:00:09.467Z"
   },
   {
    "duration": 7,
    "start_time": "2022-03-28T00:00:09.481Z"
   },
   {
    "duration": 233,
    "start_time": "2022-03-28T00:00:09.489Z"
   },
   {
    "duration": 14,
    "start_time": "2022-03-28T00:00:09.724Z"
   },
   {
    "duration": 40,
    "start_time": "2022-03-28T00:00:09.740Z"
   },
   {
    "duration": 69,
    "start_time": "2022-03-28T00:00:09.782Z"
   },
   {
    "duration": 261,
    "start_time": "2022-03-28T00:00:09.852Z"
   },
   {
    "duration": 7,
    "start_time": "2022-03-28T00:00:10.115Z"
   },
   {
    "duration": 331,
    "start_time": "2022-03-28T00:00:10.124Z"
   },
   {
    "duration": 309,
    "start_time": "2022-03-28T00:00:10.457Z"
   },
   {
    "duration": 10,
    "start_time": "2022-03-28T00:00:10.768Z"
   },
   {
    "duration": 32,
    "start_time": "2022-03-28T00:00:10.780Z"
   },
   {
    "duration": 217,
    "start_time": "2022-03-28T00:00:10.814Z"
   },
   {
    "duration": 6,
    "start_time": "2022-03-28T00:00:11.033Z"
   },
   {
    "duration": 9,
    "start_time": "2022-03-28T00:00:11.040Z"
   },
   {
    "duration": 10,
    "start_time": "2022-03-28T00:00:11.050Z"
   },
   {
    "duration": 8,
    "start_time": "2022-03-28T00:00:11.062Z"
   },
   {
    "duration": 986,
    "start_time": "2022-03-28T00:03:31.672Z"
   },
   {
    "duration": 208,
    "start_time": "2022-03-28T00:03:32.659Z"
   },
   {
    "duration": 24,
    "start_time": "2022-03-28T00:03:32.868Z"
   },
   {
    "duration": 5,
    "start_time": "2022-03-28T00:03:32.894Z"
   },
   {
    "duration": 68,
    "start_time": "2022-03-28T00:03:32.901Z"
   },
   {
    "duration": 69,
    "start_time": "2022-03-28T00:03:32.970Z"
   },
   {
    "duration": 135,
    "start_time": "2022-03-28T00:03:33.041Z"
   },
   {
    "duration": 21,
    "start_time": "2022-03-28T00:03:33.177Z"
   },
   {
    "duration": 46,
    "start_time": "2022-03-28T00:03:33.200Z"
   },
   {
    "duration": 6,
    "start_time": "2022-03-28T00:03:33.249Z"
   },
   {
    "duration": 55,
    "start_time": "2022-03-28T00:03:33.256Z"
   },
   {
    "duration": 87,
    "start_time": "2022-03-28T00:03:33.313Z"
   },
   {
    "duration": 31,
    "start_time": "2022-03-28T00:03:33.402Z"
   },
   {
    "duration": 31,
    "start_time": "2022-03-28T00:03:33.434Z"
   },
   {
    "duration": 27,
    "start_time": "2022-03-28T00:03:33.466Z"
   },
   {
    "duration": 14,
    "start_time": "2022-03-28T00:03:33.494Z"
   },
   {
    "duration": 31,
    "start_time": "2022-03-28T00:03:33.510Z"
   },
   {
    "duration": 32,
    "start_time": "2022-03-28T00:03:33.543Z"
   },
   {
    "duration": 8,
    "start_time": "2022-03-28T00:03:33.578Z"
   },
   {
    "duration": 11,
    "start_time": "2022-03-28T00:03:33.588Z"
   },
   {
    "duration": 24,
    "start_time": "2022-03-28T00:03:33.601Z"
   },
   {
    "duration": 15,
    "start_time": "2022-03-28T00:03:33.632Z"
   },
   {
    "duration": 10,
    "start_time": "2022-03-28T00:03:33.649Z"
   },
   {
    "duration": 6,
    "start_time": "2022-03-28T00:03:33.661Z"
   },
   {
    "duration": 6,
    "start_time": "2022-03-28T00:03:33.669Z"
   },
   {
    "duration": 11,
    "start_time": "2022-03-28T00:03:33.676Z"
   },
   {
    "duration": 45,
    "start_time": "2022-03-28T00:03:33.689Z"
   },
   {
    "duration": 9,
    "start_time": "2022-03-28T00:03:33.737Z"
   },
   {
    "duration": 10,
    "start_time": "2022-03-28T00:03:33.747Z"
   },
   {
    "duration": 5,
    "start_time": "2022-03-28T00:03:33.758Z"
   },
   {
    "duration": 9,
    "start_time": "2022-03-28T00:03:33.765Z"
   },
   {
    "duration": 14,
    "start_time": "2022-03-28T00:03:33.775Z"
   },
   {
    "duration": 6,
    "start_time": "2022-03-28T00:03:33.791Z"
   },
   {
    "duration": 223,
    "start_time": "2022-03-28T00:03:33.799Z"
   },
   {
    "duration": 13,
    "start_time": "2022-03-28T00:03:34.024Z"
   },
   {
    "duration": 39,
    "start_time": "2022-03-28T00:03:34.039Z"
   },
   {
    "duration": 65,
    "start_time": "2022-03-28T00:03:34.079Z"
   },
   {
    "duration": 246,
    "start_time": "2022-03-28T00:03:34.146Z"
   },
   {
    "duration": 7,
    "start_time": "2022-03-28T00:03:34.394Z"
   },
   {
    "duration": 311,
    "start_time": "2022-03-28T00:03:34.402Z"
   },
   {
    "duration": 300,
    "start_time": "2022-03-28T00:03:34.714Z"
   },
   {
    "duration": 18,
    "start_time": "2022-03-28T00:03:35.016Z"
   },
   {
    "duration": 9,
    "start_time": "2022-03-28T00:03:35.036Z"
   },
   {
    "duration": 220,
    "start_time": "2022-03-28T00:03:35.047Z"
   },
   {
    "duration": 5,
    "start_time": "2022-03-28T00:03:35.269Z"
   },
   {
    "duration": 6,
    "start_time": "2022-03-28T00:03:35.276Z"
   },
   {
    "duration": 5,
    "start_time": "2022-03-28T00:03:35.283Z"
   },
   {
    "duration": 11,
    "start_time": "2022-03-28T00:03:35.290Z"
   },
   {
    "duration": 1170,
    "start_time": "2022-04-07T16:44:26.754Z"
   },
   {
    "duration": 200,
    "start_time": "2022-04-07T16:44:27.926Z"
   },
   {
    "duration": 27,
    "start_time": "2022-04-07T16:44:28.128Z"
   },
   {
    "duration": 46,
    "start_time": "2022-04-07T16:44:28.157Z"
   },
   {
    "duration": 54,
    "start_time": "2022-04-07T16:44:28.205Z"
   },
   {
    "duration": 65,
    "start_time": "2022-04-07T16:44:29.311Z"
   },
   {
    "duration": 121,
    "start_time": "2022-04-07T16:44:46.858Z"
   },
   {
    "duration": 61,
    "start_time": "2022-04-07T16:44:54.366Z"
   },
   {
    "duration": 3,
    "start_time": "2022-04-07T16:45:26.126Z"
   },
   {
    "duration": 150,
    "start_time": "2022-04-07T16:45:26.130Z"
   },
   {
    "duration": 20,
    "start_time": "2022-04-07T16:45:26.282Z"
   },
   {
    "duration": 4,
    "start_time": "2022-04-07T16:45:26.304Z"
   },
   {
    "duration": 66,
    "start_time": "2022-04-07T16:45:26.309Z"
   },
   {
    "duration": 41,
    "start_time": "2022-04-07T16:45:29.070Z"
   },
   {
    "duration": 3,
    "start_time": "2022-04-07T16:46:35.143Z"
   },
   {
    "duration": 129,
    "start_time": "2022-04-07T16:46:35.149Z"
   },
   {
    "duration": 21,
    "start_time": "2022-04-07T16:46:35.279Z"
   },
   {
    "duration": 4,
    "start_time": "2022-04-07T16:46:35.301Z"
   },
   {
    "duration": 65,
    "start_time": "2022-04-07T16:46:35.307Z"
   },
   {
    "duration": 38,
    "start_time": "2022-04-07T16:46:37.570Z"
   },
   {
    "duration": 34,
    "start_time": "2022-04-07T16:47:13.843Z"
   },
   {
    "duration": 111,
    "start_time": "2022-04-07T16:47:26.575Z"
   },
   {
    "duration": 17,
    "start_time": "2022-04-07T16:47:26.800Z"
   },
   {
    "duration": 35,
    "start_time": "2022-04-07T16:47:27.439Z"
   },
   {
    "duration": 5,
    "start_time": "2022-04-07T16:47:28.120Z"
   },
   {
    "duration": 33,
    "start_time": "2022-04-07T16:47:28.894Z"
   },
   {
    "duration": 83,
    "start_time": "2022-04-07T16:47:30.313Z"
   },
   {
    "duration": 16,
    "start_time": "2022-04-07T16:47:30.668Z"
   },
   {
    "duration": 34,
    "start_time": "2022-04-07T16:47:32.418Z"
   },
   {
    "duration": 23,
    "start_time": "2022-04-07T16:47:33.043Z"
   },
   {
    "duration": 3,
    "start_time": "2022-04-07T16:48:50.401Z"
   },
   {
    "duration": 144,
    "start_time": "2022-04-07T16:48:50.405Z"
   },
   {
    "duration": 20,
    "start_time": "2022-04-07T16:48:50.551Z"
   },
   {
    "duration": 3,
    "start_time": "2022-04-07T16:48:52.042Z"
   },
   {
    "duration": 49,
    "start_time": "2022-04-07T16:48:52.809Z"
   },
   {
    "duration": 45,
    "start_time": "2022-04-07T16:48:53.879Z"
   },
   {
    "duration": 3,
    "start_time": "2022-04-07T16:49:02.927Z"
   },
   {
    "duration": 150,
    "start_time": "2022-04-07T16:49:02.932Z"
   },
   {
    "duration": 20,
    "start_time": "2022-04-07T16:49:03.083Z"
   },
   {
    "duration": 4,
    "start_time": "2022-04-07T16:49:03.104Z"
   },
   {
    "duration": 68,
    "start_time": "2022-04-07T16:49:03.110Z"
   },
   {
    "duration": 39,
    "start_time": "2022-04-07T16:49:04.960Z"
   },
   {
    "duration": 1645,
    "start_time": "2022-04-08T11:12:48.932Z"
   },
   {
    "duration": 284,
    "start_time": "2022-04-08T11:12:50.580Z"
   },
   {
    "duration": 35,
    "start_time": "2022-04-08T11:12:50.866Z"
   },
   {
    "duration": 6,
    "start_time": "2022-04-08T11:12:50.904Z"
   },
   {
    "duration": 100,
    "start_time": "2022-04-08T11:12:50.912Z"
   },
   {
    "duration": 84,
    "start_time": "2022-04-08T11:12:51.015Z"
   },
   {
    "duration": 101,
    "start_time": "2022-04-08T11:12:51.101Z"
   },
   {
    "duration": 0,
    "start_time": "2022-04-08T11:12:51.205Z"
   },
   {
    "duration": 0,
    "start_time": "2022-04-08T11:12:51.207Z"
   },
   {
    "duration": 0,
    "start_time": "2022-04-08T11:12:51.209Z"
   },
   {
    "duration": 0,
    "start_time": "2022-04-08T11:12:51.210Z"
   },
   {
    "duration": 0,
    "start_time": "2022-04-08T11:12:51.211Z"
   },
   {
    "duration": 0,
    "start_time": "2022-04-08T11:12:51.212Z"
   },
   {
    "duration": 0,
    "start_time": "2022-04-08T11:12:51.214Z"
   },
   {
    "duration": 0,
    "start_time": "2022-04-08T11:12:51.215Z"
   },
   {
    "duration": 0,
    "start_time": "2022-04-08T11:12:51.216Z"
   },
   {
    "duration": 0,
    "start_time": "2022-04-08T11:12:51.218Z"
   },
   {
    "duration": 0,
    "start_time": "2022-04-08T11:12:51.219Z"
   },
   {
    "duration": 0,
    "start_time": "2022-04-08T11:12:51.221Z"
   },
   {
    "duration": 0,
    "start_time": "2022-04-08T11:12:51.222Z"
   },
   {
    "duration": 0,
    "start_time": "2022-04-08T11:12:51.223Z"
   },
   {
    "duration": 1,
    "start_time": "2022-04-08T11:12:51.224Z"
   },
   {
    "duration": 0,
    "start_time": "2022-04-08T11:12:51.226Z"
   },
   {
    "duration": 0,
    "start_time": "2022-04-08T11:12:51.227Z"
   },
   {
    "duration": 0,
    "start_time": "2022-04-08T11:12:51.229Z"
   },
   {
    "duration": 0,
    "start_time": "2022-04-08T11:12:51.230Z"
   },
   {
    "duration": 0,
    "start_time": "2022-04-08T11:12:51.232Z"
   },
   {
    "duration": 0,
    "start_time": "2022-04-08T11:12:51.233Z"
   },
   {
    "duration": 0,
    "start_time": "2022-04-08T11:12:51.234Z"
   },
   {
    "duration": 0,
    "start_time": "2022-04-08T11:12:51.235Z"
   },
   {
    "duration": 0,
    "start_time": "2022-04-08T11:12:51.237Z"
   },
   {
    "duration": 0,
    "start_time": "2022-04-08T11:12:51.238Z"
   },
   {
    "duration": 0,
    "start_time": "2022-04-08T11:12:51.239Z"
   },
   {
    "duration": 0,
    "start_time": "2022-04-08T11:12:51.240Z"
   },
   {
    "duration": 0,
    "start_time": "2022-04-08T11:12:51.242Z"
   },
   {
    "duration": 0,
    "start_time": "2022-04-08T11:12:51.284Z"
   },
   {
    "duration": 0,
    "start_time": "2022-04-08T11:12:51.285Z"
   },
   {
    "duration": 0,
    "start_time": "2022-04-08T11:12:51.287Z"
   },
   {
    "duration": 0,
    "start_time": "2022-04-08T11:12:51.288Z"
   },
   {
    "duration": 0,
    "start_time": "2022-04-08T11:12:51.290Z"
   },
   {
    "duration": 0,
    "start_time": "2022-04-08T11:12:51.291Z"
   },
   {
    "duration": 0,
    "start_time": "2022-04-08T11:12:51.293Z"
   },
   {
    "duration": 0,
    "start_time": "2022-04-08T11:12:51.294Z"
   },
   {
    "duration": 0,
    "start_time": "2022-04-08T11:12:51.295Z"
   },
   {
    "duration": 0,
    "start_time": "2022-04-08T11:12:51.296Z"
   },
   {
    "duration": 0,
    "start_time": "2022-04-08T11:12:51.298Z"
   },
   {
    "duration": 0,
    "start_time": "2022-04-08T11:12:51.299Z"
   },
   {
    "duration": 0,
    "start_time": "2022-04-08T11:12:51.300Z"
   },
   {
    "duration": 168,
    "start_time": "2022-04-08T11:14:57.650Z"
   },
   {
    "duration": 141,
    "start_time": "2022-04-08T11:15:14.163Z"
   },
   {
    "duration": 216,
    "start_time": "2022-04-08T11:19:22.454Z"
   },
   {
    "duration": 31,
    "start_time": "2022-04-08T11:32:44.290Z"
   },
   {
    "duration": 54,
    "start_time": "2022-04-08T11:32:47.589Z"
   },
   {
    "duration": 52,
    "start_time": "2022-04-08T11:32:52.916Z"
   },
   {
    "duration": 7,
    "start_time": "2022-04-08T11:33:04.151Z"
   },
   {
    "duration": 14,
    "start_time": "2022-04-08T11:37:50.501Z"
   },
   {
    "duration": 1340,
    "start_time": "2022-04-08T11:38:08.277Z"
   },
   {
    "duration": 267,
    "start_time": "2022-04-08T11:38:09.619Z"
   },
   {
    "duration": 35,
    "start_time": "2022-04-08T11:38:09.888Z"
   },
   {
    "duration": 6,
    "start_time": "2022-04-08T11:38:09.926Z"
   },
   {
    "duration": 104,
    "start_time": "2022-04-08T11:38:09.934Z"
   },
   {
    "duration": 92,
    "start_time": "2022-04-08T11:38:10.040Z"
   },
   {
    "duration": 292,
    "start_time": "2022-04-08T11:38:10.134Z"
   },
   {
    "duration": 29,
    "start_time": "2022-04-08T11:38:10.428Z"
   },
   {
    "duration": 73,
    "start_time": "2022-04-08T11:38:10.459Z"
   },
   {
    "duration": 64,
    "start_time": "2022-04-08T11:38:10.536Z"
   },
   {
    "duration": 13,
    "start_time": "2022-04-08T11:38:10.603Z"
   },
   {
    "duration": 135,
    "start_time": "2022-04-08T11:38:10.618Z"
   },
   {
    "duration": 35,
    "start_time": "2022-04-08T11:38:10.755Z"
   },
   {
    "duration": 47,
    "start_time": "2022-04-08T11:38:10.792Z"
   },
   {
    "duration": 64,
    "start_time": "2022-04-08T11:38:10.841Z"
   },
   {
    "duration": 20,
    "start_time": "2022-04-08T11:38:10.908Z"
   },
   {
    "duration": 16,
    "start_time": "2022-04-08T11:38:10.931Z"
   },
   {
    "duration": 47,
    "start_time": "2022-04-08T11:38:10.949Z"
   },
   {
    "duration": 12,
    "start_time": "2022-04-08T11:38:10.998Z"
   },
   {
    "duration": 19,
    "start_time": "2022-04-08T11:38:11.012Z"
   },
   {
    "duration": 59,
    "start_time": "2022-04-08T11:38:11.033Z"
   },
   {
    "duration": 23,
    "start_time": "2022-04-08T11:38:11.094Z"
   },
   {
    "duration": 17,
    "start_time": "2022-04-08T11:38:11.119Z"
   },
   {
    "duration": 10,
    "start_time": "2022-04-08T11:38:11.138Z"
   },
   {
    "duration": 43,
    "start_time": "2022-04-08T11:38:11.150Z"
   },
   {
    "duration": 17,
    "start_time": "2022-04-08T11:38:11.196Z"
   },
   {
    "duration": 18,
    "start_time": "2022-04-08T11:38:11.215Z"
   },
   {
    "duration": 53,
    "start_time": "2022-04-08T11:38:11.239Z"
   },
   {
    "duration": 14,
    "start_time": "2022-04-08T11:38:11.296Z"
   },
   {
    "duration": 9,
    "start_time": "2022-04-08T11:38:11.312Z"
   },
   {
    "duration": 16,
    "start_time": "2022-04-08T11:38:11.323Z"
   },
   {
    "duration": 54,
    "start_time": "2022-04-08T11:38:11.341Z"
   },
   {
    "duration": 11,
    "start_time": "2022-04-08T11:38:11.398Z"
   },
   {
    "duration": 404,
    "start_time": "2022-04-08T11:38:11.411Z"
   },
   {
    "duration": 16,
    "start_time": "2022-04-08T11:38:11.817Z"
   },
   {
    "duration": 87,
    "start_time": "2022-04-08T11:38:11.836Z"
   },
   {
    "duration": 86,
    "start_time": "2022-04-08T11:38:11.925Z"
   },
   {
    "duration": 474,
    "start_time": "2022-04-08T11:38:12.014Z"
   },
   {
    "duration": 9,
    "start_time": "2022-04-08T11:38:12.491Z"
   },
   {
    "duration": 583,
    "start_time": "2022-04-08T11:38:12.502Z"
   },
   {
    "duration": 557,
    "start_time": "2022-04-08T11:38:13.087Z"
   },
   {
    "duration": 13,
    "start_time": "2022-04-08T11:38:13.646Z"
   },
   {
    "duration": 30,
    "start_time": "2022-04-08T11:38:13.661Z"
   },
   {
    "duration": 403,
    "start_time": "2022-04-08T11:38:13.693Z"
   },
   {
    "duration": 7,
    "start_time": "2022-04-08T11:38:14.098Z"
   },
   {
    "duration": 23,
    "start_time": "2022-04-08T11:38:14.107Z"
   },
   {
    "duration": 23,
    "start_time": "2022-04-08T11:38:14.132Z"
   },
   {
    "duration": 27,
    "start_time": "2022-04-08T11:38:14.158Z"
   },
   {
    "duration": 1399,
    "start_time": "2022-04-08T11:39:39.720Z"
   },
   {
    "duration": 271,
    "start_time": "2022-04-08T11:39:41.122Z"
   },
   {
    "duration": 35,
    "start_time": "2022-04-08T11:39:41.395Z"
   },
   {
    "duration": 7,
    "start_time": "2022-04-08T11:39:41.433Z"
   },
   {
    "duration": 105,
    "start_time": "2022-04-08T11:39:41.442Z"
   },
   {
    "duration": 92,
    "start_time": "2022-04-08T11:39:41.549Z"
   },
   {
    "duration": 186,
    "start_time": "2022-04-08T11:39:41.643Z"
   },
   {
    "duration": 29,
    "start_time": "2022-04-08T11:39:41.831Z"
   },
   {
    "duration": 68,
    "start_time": "2022-04-08T11:39:41.862Z"
   },
   {
    "duration": 70,
    "start_time": "2022-04-08T11:39:41.934Z"
   },
   {
    "duration": 14,
    "start_time": "2022-04-08T11:39:42.006Z"
   },
   {
    "duration": 144,
    "start_time": "2022-04-08T11:39:42.022Z"
   },
   {
    "duration": 30,
    "start_time": "2022-04-08T11:39:42.168Z"
   },
   {
    "duration": 47,
    "start_time": "2022-04-08T11:39:42.200Z"
   },
   {
    "duration": 65,
    "start_time": "2022-04-08T11:39:42.249Z"
   },
   {
    "duration": 20,
    "start_time": "2022-04-08T11:39:42.316Z"
   },
   {
    "duration": 16,
    "start_time": "2022-04-08T11:39:42.338Z"
   },
   {
    "duration": 55,
    "start_time": "2022-04-08T11:39:42.356Z"
   },
   {
    "duration": 12,
    "start_time": "2022-04-08T11:39:42.413Z"
   },
   {
    "duration": 19,
    "start_time": "2022-04-08T11:39:42.427Z"
   },
   {
    "duration": 50,
    "start_time": "2022-04-08T11:39:42.448Z"
   },
   {
    "duration": 25,
    "start_time": "2022-04-08T11:39:42.500Z"
   },
   {
    "duration": 16,
    "start_time": "2022-04-08T11:39:42.527Z"
   },
   {
    "duration": 40,
    "start_time": "2022-04-08T11:39:42.545Z"
   },
   {
    "duration": 7,
    "start_time": "2022-04-08T11:39:42.587Z"
   },
   {
    "duration": 19,
    "start_time": "2022-04-08T11:39:42.596Z"
   },
   {
    "duration": 16,
    "start_time": "2022-04-08T11:39:42.617Z"
   },
   {
    "duration": 46,
    "start_time": "2022-04-08T11:39:42.638Z"
   },
   {
    "duration": 13,
    "start_time": "2022-04-08T11:39:42.686Z"
   },
   {
    "duration": 7,
    "start_time": "2022-04-08T11:39:42.702Z"
   },
   {
    "duration": 11,
    "start_time": "2022-04-08T11:39:42.712Z"
   },
   {
    "duration": 18,
    "start_time": "2022-04-08T11:39:42.726Z"
   },
   {
    "duration": 11,
    "start_time": "2022-04-08T11:39:42.784Z"
   },
   {
    "duration": 409,
    "start_time": "2022-04-08T11:39:42.798Z"
   },
   {
    "duration": 16,
    "start_time": "2022-04-08T11:39:43.209Z"
   },
   {
    "duration": 90,
    "start_time": "2022-04-08T11:39:43.228Z"
   },
   {
    "duration": 92,
    "start_time": "2022-04-08T11:39:43.320Z"
   },
   {
    "duration": 473,
    "start_time": "2022-04-08T11:39:43.414Z"
   },
   {
    "duration": 9,
    "start_time": "2022-04-08T11:39:43.890Z"
   },
   {
    "duration": 598,
    "start_time": "2022-04-08T11:39:43.901Z"
   },
   {
    "duration": 590,
    "start_time": "2022-04-08T11:39:44.502Z"
   },
   {
    "duration": 14,
    "start_time": "2022-04-08T11:39:45.094Z"
   },
   {
    "duration": 12,
    "start_time": "2022-04-08T11:39:45.110Z"
   },
   {
    "duration": 429,
    "start_time": "2022-04-08T11:39:45.125Z"
   },
   {
    "duration": 8,
    "start_time": "2022-04-08T11:39:45.556Z"
   },
   {
    "duration": 22,
    "start_time": "2022-04-08T11:39:45.566Z"
   },
   {
    "duration": 15,
    "start_time": "2022-04-08T11:39:45.591Z"
   },
   {
    "duration": 14,
    "start_time": "2022-04-08T11:39:45.608Z"
   },
   {
    "duration": 150,
    "start_time": "2022-04-08T11:50:00.663Z"
   },
   {
    "duration": 1554,
    "start_time": "2022-04-08T11:50:12.046Z"
   },
   {
    "duration": 19,
    "start_time": "2022-04-08T11:50:28.746Z"
   },
   {
    "duration": 5,
    "start_time": "2022-04-08T11:57:07.133Z"
   },
   {
    "duration": 7,
    "start_time": "2022-04-08T11:57:48.215Z"
   },
   {
    "duration": 1452,
    "start_time": "2022-04-08T11:57:59.871Z"
   },
   {
    "duration": 291,
    "start_time": "2022-04-08T11:58:01.326Z"
   },
   {
    "duration": 34,
    "start_time": "2022-04-08T11:58:01.619Z"
   },
   {
    "duration": 29,
    "start_time": "2022-04-08T11:58:01.656Z"
   },
   {
    "duration": 76,
    "start_time": "2022-04-08T11:58:01.687Z"
   },
   {
    "duration": 94,
    "start_time": "2022-04-08T11:58:01.765Z"
   },
   {
    "duration": 217,
    "start_time": "2022-04-08T11:58:01.861Z"
   },
   {
    "duration": 28,
    "start_time": "2022-04-08T11:58:02.081Z"
   },
   {
    "duration": 81,
    "start_time": "2022-04-08T11:58:02.112Z"
   },
   {
    "duration": 47,
    "start_time": "2022-04-08T11:58:02.197Z"
   },
   {
    "duration": 13,
    "start_time": "2022-04-08T11:58:02.246Z"
   },
   {
    "duration": 153,
    "start_time": "2022-04-08T11:58:02.261Z"
   },
   {
    "duration": 27,
    "start_time": "2022-04-08T11:58:02.417Z"
   },
   {
    "duration": 67,
    "start_time": "2022-04-08T11:58:02.447Z"
   },
   {
    "duration": 71,
    "start_time": "2022-04-08T11:58:02.517Z"
   },
   {
    "duration": 21,
    "start_time": "2022-04-08T11:58:02.590Z"
   },
   {
    "duration": 23,
    "start_time": "2022-04-08T11:58:02.613Z"
   },
   {
    "duration": 44,
    "start_time": "2022-04-08T11:58:02.639Z"
   },
   {
    "duration": 13,
    "start_time": "2022-04-08T11:58:02.685Z"
   },
   {
    "duration": 24,
    "start_time": "2022-04-08T11:58:02.700Z"
   },
   {
    "duration": 57,
    "start_time": "2022-04-08T11:58:02.727Z"
   },
   {
    "duration": 25,
    "start_time": "2022-04-08T11:58:02.786Z"
   },
   {
    "duration": 17,
    "start_time": "2022-04-08T11:58:02.813Z"
   },
   {
    "duration": 12,
    "start_time": "2022-04-08T11:58:02.832Z"
   },
   {
    "duration": 41,
    "start_time": "2022-04-08T11:58:02.846Z"
   },
   {
    "duration": 19,
    "start_time": "2022-04-08T11:58:02.890Z"
   },
   {
    "duration": 16,
    "start_time": "2022-04-08T11:58:02.911Z"
   },
   {
    "duration": 13,
    "start_time": "2022-04-08T11:58:02.932Z"
   },
   {
    "duration": 46,
    "start_time": "2022-04-08T11:58:02.948Z"
   },
   {
    "duration": 6,
    "start_time": "2022-04-08T11:58:02.997Z"
   },
   {
    "duration": 14,
    "start_time": "2022-04-08T11:58:03.005Z"
   },
   {
    "duration": 18,
    "start_time": "2022-04-08T11:58:03.021Z"
   },
   {
    "duration": 47,
    "start_time": "2022-04-08T11:58:03.041Z"
   },
   {
    "duration": 393,
    "start_time": "2022-04-08T11:58:03.090Z"
   },
   {
    "duration": 14,
    "start_time": "2022-04-08T11:58:03.486Z"
   },
   {
    "duration": 86,
    "start_time": "2022-04-08T11:58:03.503Z"
   },
   {
    "duration": 67,
    "start_time": "2022-04-08T11:58:03.591Z"
   },
   {
    "duration": 475,
    "start_time": "2022-04-08T11:58:03.683Z"
   },
   {
    "duration": 9,
    "start_time": "2022-04-08T11:58:04.161Z"
   },
   {
    "duration": 586,
    "start_time": "2022-04-08T11:58:04.172Z"
   },
   {
    "duration": 574,
    "start_time": "2022-04-08T11:58:04.761Z"
   },
   {
    "duration": 13,
    "start_time": "2022-04-08T11:58:05.337Z"
   },
   {
    "duration": 33,
    "start_time": "2022-04-08T11:58:05.352Z"
   },
   {
    "duration": 399,
    "start_time": "2022-04-08T11:58:05.388Z"
   },
   {
    "duration": 7,
    "start_time": "2022-04-08T11:58:05.789Z"
   },
   {
    "duration": 9,
    "start_time": "2022-04-08T11:58:05.798Z"
   },
   {
    "duration": 8,
    "start_time": "2022-04-08T11:58:05.809Z"
   },
   {
    "duration": 10,
    "start_time": "2022-04-08T11:58:05.819Z"
   },
   {
    "duration": 7,
    "start_time": "2022-04-08T11:59:52.397Z"
   },
   {
    "duration": 1694,
    "start_time": "2022-04-08T11:59:59.744Z"
   },
   {
    "duration": 290,
    "start_time": "2022-04-08T12:00:01.441Z"
   },
   {
    "duration": 35,
    "start_time": "2022-04-08T12:00:01.733Z"
   },
   {
    "duration": 7,
    "start_time": "2022-04-08T12:00:01.784Z"
   },
   {
    "duration": 96,
    "start_time": "2022-04-08T12:00:01.793Z"
   },
   {
    "duration": 95,
    "start_time": "2022-04-08T12:00:01.892Z"
   },
   {
    "duration": 322,
    "start_time": "2022-04-08T12:00:01.989Z"
   },
   {
    "duration": 51,
    "start_time": "2022-04-08T12:00:02.314Z"
   },
   {
    "duration": 157,
    "start_time": "2022-04-08T12:00:02.367Z"
   },
   {
    "duration": 88,
    "start_time": "2022-04-08T12:00:02.530Z"
   },
   {
    "duration": 21,
    "start_time": "2022-04-08T12:00:02.621Z"
   },
   {
    "duration": 146,
    "start_time": "2022-04-08T12:00:02.645Z"
   },
   {
    "duration": 27,
    "start_time": "2022-04-08T12:00:02.794Z"
   },
   {
    "duration": 72,
    "start_time": "2022-04-08T12:00:02.823Z"
   },
   {
    "duration": 41,
    "start_time": "2022-04-08T12:00:02.897Z"
   },
   {
    "duration": 20,
    "start_time": "2022-04-08T12:00:02.940Z"
   },
   {
    "duration": 17,
    "start_time": "2022-04-08T12:00:02.984Z"
   },
   {
    "duration": 61,
    "start_time": "2022-04-08T12:00:03.003Z"
   },
   {
    "duration": 13,
    "start_time": "2022-04-08T12:00:03.066Z"
   },
   {
    "duration": 32,
    "start_time": "2022-04-08T12:00:03.084Z"
   },
   {
    "duration": 50,
    "start_time": "2022-04-08T12:00:03.118Z"
   },
   {
    "duration": 24,
    "start_time": "2022-04-08T12:00:03.170Z"
   },
   {
    "duration": 17,
    "start_time": "2022-04-08T12:00:03.196Z"
   },
   {
    "duration": 20,
    "start_time": "2022-04-08T12:00:03.215Z"
   },
   {
    "duration": 10,
    "start_time": "2022-04-08T12:00:03.237Z"
   },
   {
    "duration": 38,
    "start_time": "2022-04-08T12:00:03.250Z"
   },
   {
    "duration": 48,
    "start_time": "2022-04-08T12:00:03.290Z"
   },
   {
    "duration": 14,
    "start_time": "2022-04-08T12:00:03.343Z"
   },
   {
    "duration": 23,
    "start_time": "2022-04-08T12:00:03.359Z"
   },
   {
    "duration": 16,
    "start_time": "2022-04-08T12:00:03.384Z"
   },
   {
    "duration": 37,
    "start_time": "2022-04-08T12:00:03.402Z"
   },
   {
    "duration": 30,
    "start_time": "2022-04-08T12:00:03.441Z"
   },
   {
    "duration": 27,
    "start_time": "2022-04-08T12:00:03.473Z"
   },
   {
    "duration": 490,
    "start_time": "2022-04-08T12:00:03.502Z"
   },
   {
    "duration": 15,
    "start_time": "2022-04-08T12:00:03.994Z"
   },
   {
    "duration": 115,
    "start_time": "2022-04-08T12:00:04.012Z"
   },
   {
    "duration": 88,
    "start_time": "2022-04-08T12:00:04.129Z"
   },
   {
    "duration": 573,
    "start_time": "2022-04-08T12:00:04.220Z"
   },
   {
    "duration": 11,
    "start_time": "2022-04-08T12:00:04.795Z"
   },
   {
    "duration": 595,
    "start_time": "2022-04-08T12:00:04.809Z"
   },
   {
    "duration": 669,
    "start_time": "2022-04-08T12:00:05.407Z"
   },
   {
    "duration": 14,
    "start_time": "2022-04-08T12:00:06.079Z"
   },
   {
    "duration": 12,
    "start_time": "2022-04-08T12:00:06.096Z"
   },
   {
    "duration": 414,
    "start_time": "2022-04-08T12:00:06.110Z"
   },
   {
    "duration": 7,
    "start_time": "2022-04-08T12:00:06.527Z"
   },
   {
    "duration": 12,
    "start_time": "2022-04-08T12:00:06.536Z"
   },
   {
    "duration": 9,
    "start_time": "2022-04-08T12:00:06.550Z"
   },
   {
    "duration": 29,
    "start_time": "2022-04-08T12:00:06.562Z"
   },
   {
    "duration": 43,
    "start_time": "2022-04-08T12:02:24.116Z"
   },
   {
    "duration": 41,
    "start_time": "2022-04-08T12:09:40.309Z"
   },
   {
    "duration": 40,
    "start_time": "2022-04-08T12:09:41.777Z"
   },
   {
    "duration": 21,
    "start_time": "2022-04-08T12:13:04.762Z"
   },
   {
    "duration": 6,
    "start_time": "2022-04-08T12:13:48.010Z"
   },
   {
    "duration": 15,
    "start_time": "2022-04-08T12:14:07.865Z"
   },
   {
    "duration": 158,
    "start_time": "2022-04-08T12:23:55.445Z"
   },
   {
    "duration": 10,
    "start_time": "2022-04-08T12:24:05.886Z"
   },
   {
    "duration": 9,
    "start_time": "2022-04-08T12:30:51.180Z"
   },
   {
    "duration": 115,
    "start_time": "2022-04-08T12:47:28.667Z"
   },
   {
    "duration": 104,
    "start_time": "2022-04-08T12:47:38.835Z"
   },
   {
    "duration": 141,
    "start_time": "2022-04-08T12:48:02.490Z"
   },
   {
    "duration": 246,
    "start_time": "2022-04-08T12:48:42.455Z"
   },
   {
    "duration": 79,
    "start_time": "2022-04-08T16:07:22.620Z"
   },
   {
    "duration": 13,
    "start_time": "2022-04-08T16:11:15.728Z"
   },
   {
    "duration": 1436,
    "start_time": "2022-04-08T16:11:54.453Z"
   },
   {
    "duration": 263,
    "start_time": "2022-04-08T16:11:55.892Z"
   },
   {
    "duration": 29,
    "start_time": "2022-04-08T16:11:56.158Z"
   },
   {
    "duration": 6,
    "start_time": "2022-04-08T16:11:56.190Z"
   },
   {
    "duration": 87,
    "start_time": "2022-04-08T16:11:56.198Z"
   },
   {
    "duration": 80,
    "start_time": "2022-04-08T16:11:56.287Z"
   },
   {
    "duration": 178,
    "start_time": "2022-04-08T16:11:56.369Z"
   },
   {
    "duration": 25,
    "start_time": "2022-04-08T16:11:56.549Z"
   },
   {
    "duration": 42,
    "start_time": "2022-04-08T16:11:56.576Z"
   },
   {
    "duration": 40,
    "start_time": "2022-04-08T16:11:56.638Z"
   },
   {
    "duration": 12,
    "start_time": "2022-04-08T16:11:56.680Z"
   },
   {
    "duration": 131,
    "start_time": "2022-04-08T16:11:56.694Z"
   },
   {
    "duration": 31,
    "start_time": "2022-04-08T16:11:56.826Z"
   },
   {
    "duration": 38,
    "start_time": "2022-04-08T16:11:56.859Z"
   },
   {
    "duration": 56,
    "start_time": "2022-04-08T16:11:56.899Z"
   },
   {
    "duration": 17,
    "start_time": "2022-04-08T16:11:56.956Z"
   },
   {
    "duration": 11,
    "start_time": "2022-04-08T16:11:56.975Z"
   },
   {
    "duration": 30,
    "start_time": "2022-04-08T16:11:56.988Z"
   },
   {
    "duration": 9,
    "start_time": "2022-04-08T16:11:57.020Z"
   },
   {
    "duration": 35,
    "start_time": "2022-04-08T16:11:57.031Z"
   },
   {
    "duration": 33,
    "start_time": "2022-04-08T16:11:57.067Z"
   },
   {
    "duration": 16,
    "start_time": "2022-04-08T16:11:57.102Z"
   },
   {
    "duration": 23,
    "start_time": "2022-04-08T16:11:57.120Z"
   },
   {
    "duration": 11,
    "start_time": "2022-04-08T16:11:57.144Z"
   },
   {
    "duration": 14,
    "start_time": "2022-04-08T16:11:57.157Z"
   },
   {
    "duration": 21,
    "start_time": "2022-04-08T16:11:57.173Z"
   },
   {
    "duration": 21,
    "start_time": "2022-04-08T16:11:57.196Z"
   },
   {
    "duration": 27,
    "start_time": "2022-04-08T16:11:57.222Z"
   },
   {
    "duration": 21,
    "start_time": "2022-04-08T16:11:57.251Z"
   },
   {
    "duration": 13,
    "start_time": "2022-04-08T16:11:57.274Z"
   },
   {
    "duration": 16,
    "start_time": "2022-04-08T16:11:57.289Z"
   },
   {
    "duration": 20,
    "start_time": "2022-04-08T16:11:57.307Z"
   },
   {
    "duration": 13,
    "start_time": "2022-04-08T16:11:57.329Z"
   },
   {
    "duration": 347,
    "start_time": "2022-04-08T16:11:57.344Z"
   },
   {
    "duration": 14,
    "start_time": "2022-04-08T16:11:57.693Z"
   },
   {
    "duration": 51,
    "start_time": "2022-04-08T16:11:57.709Z"
   },
   {
    "duration": 35,
    "start_time": "2022-04-08T16:11:57.762Z"
   },
   {
    "duration": 61,
    "start_time": "2022-04-08T16:11:57.799Z"
   },
   {
    "duration": 38,
    "start_time": "2022-04-08T16:11:57.862Z"
   },
   {
    "duration": 55,
    "start_time": "2022-04-08T16:11:57.902Z"
   },
   {
    "duration": 112,
    "start_time": "2022-04-08T16:11:57.958Z"
   },
   {
    "duration": 0,
    "start_time": "2022-04-08T16:11:58.072Z"
   },
   {
    "duration": 0,
    "start_time": "2022-04-08T16:11:58.074Z"
   },
   {
    "duration": 0,
    "start_time": "2022-04-08T16:11:58.075Z"
   },
   {
    "duration": 0,
    "start_time": "2022-04-08T16:11:58.076Z"
   },
   {
    "duration": 0,
    "start_time": "2022-04-08T16:11:58.077Z"
   },
   {
    "duration": 0,
    "start_time": "2022-04-08T16:11:58.078Z"
   },
   {
    "duration": 0,
    "start_time": "2022-04-08T16:11:58.079Z"
   },
   {
    "duration": 0,
    "start_time": "2022-04-08T16:11:58.080Z"
   },
   {
    "duration": 0,
    "start_time": "2022-04-08T16:11:58.081Z"
   },
   {
    "duration": 0,
    "start_time": "2022-04-08T16:11:58.082Z"
   },
   {
    "duration": 0,
    "start_time": "2022-04-08T16:11:58.083Z"
   },
   {
    "duration": 0,
    "start_time": "2022-04-08T16:11:58.085Z"
   },
   {
    "duration": 28,
    "start_time": "2022-04-08T16:13:30.993Z"
   },
   {
    "duration": 38,
    "start_time": "2022-04-08T16:13:35.814Z"
   },
   {
    "duration": 285,
    "start_time": "2022-04-08T16:28:09.940Z"
   },
   {
    "duration": 168,
    "start_time": "2022-04-08T16:28:13.494Z"
   },
   {
    "duration": 10,
    "start_time": "2022-04-08T16:28:53.040Z"
   },
   {
    "duration": 300,
    "start_time": "2022-04-08T16:29:00.404Z"
   },
   {
    "duration": 162,
    "start_time": "2022-04-08T16:29:06.381Z"
   },
   {
    "duration": 165,
    "start_time": "2022-04-08T16:29:10.449Z"
   },
   {
    "duration": 174,
    "start_time": "2022-04-08T16:29:57.485Z"
   },
   {
    "duration": 185,
    "start_time": "2022-04-08T16:30:55.985Z"
   },
   {
    "duration": 5,
    "start_time": "2022-04-08T16:38:27.783Z"
   },
   {
    "duration": 4,
    "start_time": "2022-04-08T16:38:45.562Z"
   },
   {
    "duration": 15,
    "start_time": "2022-04-08T16:39:15.865Z"
   },
   {
    "duration": 26,
    "start_time": "2022-04-08T16:39:47.233Z"
   },
   {
    "duration": 35,
    "start_time": "2022-04-08T16:39:55.105Z"
   },
   {
    "duration": 574,
    "start_time": "2022-04-08T16:40:09.173Z"
   },
   {
    "duration": 43,
    "start_time": "2022-04-08T16:40:59.732Z"
   },
   {
    "duration": 36,
    "start_time": "2022-04-08T16:41:34.055Z"
   },
   {
    "duration": 10,
    "start_time": "2022-04-08T16:43:49.395Z"
   },
   {
    "duration": 174,
    "start_time": "2022-04-08T16:45:13.455Z"
   },
   {
    "duration": 249,
    "start_time": "2022-04-08T16:47:20.059Z"
   },
   {
    "duration": 168,
    "start_time": "2022-04-08T16:47:29.508Z"
   },
   {
    "duration": 12,
    "start_time": "2022-04-08T16:48:32.897Z"
   },
   {
    "duration": 11,
    "start_time": "2022-04-08T16:48:36.928Z"
   },
   {
    "duration": 137,
    "start_time": "2022-04-08T16:50:22.874Z"
   },
   {
    "duration": 136,
    "start_time": "2022-04-08T17:03:35.237Z"
   },
   {
    "duration": 130,
    "start_time": "2022-04-08T17:03:38.514Z"
   },
   {
    "duration": 144,
    "start_time": "2022-04-08T17:03:57.420Z"
   },
   {
    "duration": 380,
    "start_time": "2022-04-08T17:04:08.044Z"
   },
   {
    "duration": 5,
    "start_time": "2022-04-08T17:04:23.450Z"
   },
   {
    "duration": 173,
    "start_time": "2022-04-08T17:04:26.363Z"
   },
   {
    "duration": 11,
    "start_time": "2022-04-08T17:08:57.875Z"
   },
   {
    "duration": 179,
    "start_time": "2022-04-08T17:09:12.929Z"
   },
   {
    "duration": 171,
    "start_time": "2022-04-08T17:13:35.204Z"
   },
   {
    "duration": 233,
    "start_time": "2022-04-08T17:19:15.984Z"
   },
   {
    "duration": 238,
    "start_time": "2022-04-08T17:19:33.562Z"
   },
   {
    "duration": 365,
    "start_time": "2022-04-08T17:19:49.172Z"
   },
   {
    "duration": 240,
    "start_time": "2022-04-08T17:20:42.570Z"
   },
   {
    "duration": 242,
    "start_time": "2022-04-08T17:20:47.117Z"
   },
   {
    "duration": 241,
    "start_time": "2022-04-08T17:21:22.253Z"
   },
   {
    "duration": 251,
    "start_time": "2022-04-08T17:21:36.740Z"
   },
   {
    "duration": 181,
    "start_time": "2022-04-08T17:24:54.257Z"
   },
   {
    "duration": 181,
    "start_time": "2022-04-08T17:25:32.902Z"
   },
   {
    "duration": 140,
    "start_time": "2022-04-08T17:28:06.992Z"
   },
   {
    "duration": 138,
    "start_time": "2022-04-08T17:28:16.395Z"
   },
   {
    "duration": 127,
    "start_time": "2022-04-08T17:28:36.862Z"
   },
   {
    "duration": 177,
    "start_time": "2022-04-08T17:28:41.273Z"
   },
   {
    "duration": 174,
    "start_time": "2022-04-08T17:31:30.874Z"
   },
   {
    "duration": 175,
    "start_time": "2022-04-08T17:31:48.179Z"
   },
   {
    "duration": 170,
    "start_time": "2022-04-08T17:32:55.259Z"
   },
   {
    "duration": 306,
    "start_time": "2022-04-08T17:33:04.928Z"
   },
   {
    "duration": 7,
    "start_time": "2022-04-08T17:36:57.636Z"
   },
   {
    "duration": 148,
    "start_time": "2022-04-08T17:37:34.128Z"
   },
   {
    "duration": 138,
    "start_time": "2022-04-08T17:42:09.431Z"
   },
   {
    "duration": 139,
    "start_time": "2022-04-08T17:43:58.679Z"
   },
   {
    "duration": 152,
    "start_time": "2022-04-08T17:44:05.140Z"
   },
   {
    "duration": 152,
    "start_time": "2022-04-08T17:44:12.599Z"
   },
   {
    "duration": 154,
    "start_time": "2022-04-08T17:44:20.895Z"
   },
   {
    "duration": 110,
    "start_time": "2022-04-08T17:44:38.808Z"
   },
   {
    "duration": 184,
    "start_time": "2022-04-08T17:48:33.369Z"
   },
   {
    "duration": 169,
    "start_time": "2022-04-08T17:53:26.485Z"
   },
   {
    "duration": 172,
    "start_time": "2022-04-08T17:53:35.192Z"
   },
   {
    "duration": 169,
    "start_time": "2022-04-08T17:53:47.680Z"
   },
   {
    "duration": 173,
    "start_time": "2022-04-08T17:54:15.802Z"
   },
   {
    "duration": 174,
    "start_time": "2022-04-08T17:54:35.763Z"
   },
   {
    "duration": 172,
    "start_time": "2022-04-08T17:56:17.536Z"
   },
   {
    "duration": 272,
    "start_time": "2022-04-08T18:00:31.493Z"
   },
   {
    "duration": 218,
    "start_time": "2022-04-08T18:01:10.224Z"
   },
   {
    "duration": 226,
    "start_time": "2022-04-08T18:01:16.695Z"
   },
   {
    "duration": 207,
    "start_time": "2022-04-08T18:01:19.758Z"
   },
   {
    "duration": 31,
    "start_time": "2022-04-08T18:10:18.392Z"
   },
   {
    "duration": 1243,
    "start_time": "2022-04-08T18:10:42.788Z"
   },
   {
    "duration": 230,
    "start_time": "2022-04-08T18:10:44.034Z"
   },
   {
    "duration": 30,
    "start_time": "2022-04-08T18:10:44.266Z"
   },
   {
    "duration": 6,
    "start_time": "2022-04-08T18:10:44.300Z"
   },
   {
    "duration": 82,
    "start_time": "2022-04-08T18:10:44.308Z"
   },
   {
    "duration": 76,
    "start_time": "2022-04-08T18:10:44.392Z"
   },
   {
    "duration": 153,
    "start_time": "2022-04-08T18:10:44.470Z"
   },
   {
    "duration": 52,
    "start_time": "2022-04-08T18:10:44.625Z"
   },
   {
    "duration": 74,
    "start_time": "2022-04-08T18:10:44.679Z"
   },
   {
    "duration": 34,
    "start_time": "2022-04-08T18:10:44.757Z"
   },
   {
    "duration": 10,
    "start_time": "2022-04-08T18:10:44.793Z"
   },
   {
    "duration": 153,
    "start_time": "2022-04-08T18:10:44.804Z"
   },
   {
    "duration": 21,
    "start_time": "2022-04-08T18:10:44.958Z"
   },
   {
    "duration": 64,
    "start_time": "2022-04-08T18:10:44.982Z"
   },
   {
    "duration": 33,
    "start_time": "2022-04-08T18:10:45.048Z"
   },
   {
    "duration": 20,
    "start_time": "2022-04-08T18:10:45.083Z"
   },
   {
    "duration": 39,
    "start_time": "2022-04-08T18:10:45.105Z"
   },
   {
    "duration": 35,
    "start_time": "2022-04-08T18:10:45.146Z"
   },
   {
    "duration": 13,
    "start_time": "2022-04-08T18:10:45.184Z"
   },
   {
    "duration": 19,
    "start_time": "2022-04-08T18:10:45.199Z"
   },
   {
    "duration": 46,
    "start_time": "2022-04-08T18:10:45.220Z"
   },
   {
    "duration": 19,
    "start_time": "2022-04-08T18:10:45.268Z"
   },
   {
    "duration": 15,
    "start_time": "2022-04-08T18:10:45.289Z"
   },
   {
    "duration": 38,
    "start_time": "2022-04-08T18:10:45.306Z"
   },
   {
    "duration": 17,
    "start_time": "2022-04-08T18:10:45.346Z"
   },
   {
    "duration": 19,
    "start_time": "2022-04-08T18:10:45.366Z"
   },
   {
    "duration": 26,
    "start_time": "2022-04-08T18:10:45.387Z"
   },
   {
    "duration": 27,
    "start_time": "2022-04-08T18:10:45.418Z"
   },
   {
    "duration": 36,
    "start_time": "2022-04-08T18:10:45.448Z"
   },
   {
    "duration": 11,
    "start_time": "2022-04-08T18:10:45.487Z"
   },
   {
    "duration": 15,
    "start_time": "2022-04-08T18:10:45.499Z"
   },
   {
    "duration": 18,
    "start_time": "2022-04-08T18:10:45.517Z"
   },
   {
    "duration": 8,
    "start_time": "2022-04-08T18:10:45.537Z"
   },
   {
    "duration": 392,
    "start_time": "2022-04-08T18:10:45.547Z"
   },
   {
    "duration": 14,
    "start_time": "2022-04-08T18:10:45.942Z"
   },
   {
    "duration": 34,
    "start_time": "2022-04-08T18:10:45.958Z"
   },
   {
    "duration": 55,
    "start_time": "2022-04-08T18:10:45.994Z"
   },
   {
    "duration": 29,
    "start_time": "2022-04-08T18:10:46.052Z"
   },
   {
    "duration": 57,
    "start_time": "2022-04-08T18:10:46.083Z"
   },
   {
    "duration": 43,
    "start_time": "2022-04-08T18:10:46.143Z"
   },
   {
    "duration": 58,
    "start_time": "2022-04-08T18:10:46.188Z"
   },
   {
    "duration": 9,
    "start_time": "2022-04-08T18:10:46.249Z"
   },
   {
    "duration": 333,
    "start_time": "2022-04-08T18:10:46.260Z"
   },
   {
    "duration": 147,
    "start_time": "2022-04-08T18:10:46.595Z"
   },
   {
    "duration": 0,
    "start_time": "2022-04-08T18:10:46.744Z"
   },
   {
    "duration": 0,
    "start_time": "2022-04-08T18:10:46.746Z"
   },
   {
    "duration": 0,
    "start_time": "2022-04-08T18:10:46.747Z"
   },
   {
    "duration": 0,
    "start_time": "2022-04-08T18:10:46.749Z"
   },
   {
    "duration": 0,
    "start_time": "2022-04-08T18:10:46.751Z"
   },
   {
    "duration": 0,
    "start_time": "2022-04-08T18:10:46.752Z"
   },
   {
    "duration": 0,
    "start_time": "2022-04-08T18:10:46.753Z"
   },
   {
    "duration": 0,
    "start_time": "2022-04-08T18:10:46.755Z"
   },
   {
    "duration": 0,
    "start_time": "2022-04-08T18:10:46.756Z"
   },
   {
    "duration": 0,
    "start_time": "2022-04-08T18:10:46.758Z"
   },
   {
    "duration": 0,
    "start_time": "2022-04-08T18:10:46.759Z"
   },
   {
    "duration": 0,
    "start_time": "2022-04-08T18:10:46.761Z"
   },
   {
    "duration": 0,
    "start_time": "2022-04-08T18:10:46.762Z"
   },
   {
    "duration": 155,
    "start_time": "2022-04-08T18:12:07.511Z"
   },
   {
    "duration": 2283,
    "start_time": "2022-04-08T18:12:34.901Z"
   },
   {
    "duration": 33,
    "start_time": "2022-04-08T18:12:52.146Z"
   },
   {
    "duration": 1442,
    "start_time": "2022-04-08T18:14:27.210Z"
   },
   {
    "duration": 299,
    "start_time": "2022-04-08T18:14:28.655Z"
   },
   {
    "duration": 33,
    "start_time": "2022-04-08T18:14:28.957Z"
   },
   {
    "duration": 6,
    "start_time": "2022-04-08T18:14:28.992Z"
   },
   {
    "duration": 85,
    "start_time": "2022-04-08T18:14:28.999Z"
   },
   {
    "duration": 71,
    "start_time": "2022-04-08T18:14:29.086Z"
   },
   {
    "duration": 153,
    "start_time": "2022-04-08T18:14:29.159Z"
   },
   {
    "duration": 31,
    "start_time": "2022-04-08T18:14:29.314Z"
   },
   {
    "duration": 41,
    "start_time": "2022-04-08T18:14:29.347Z"
   },
   {
    "duration": 48,
    "start_time": "2022-04-08T18:14:29.391Z"
   },
   {
    "duration": 12,
    "start_time": "2022-04-08T18:14:29.440Z"
   },
   {
    "duration": 133,
    "start_time": "2022-04-08T18:14:29.454Z"
   },
   {
    "duration": 21,
    "start_time": "2022-04-08T18:14:29.589Z"
   },
   {
    "duration": 53,
    "start_time": "2022-04-08T18:14:29.612Z"
   },
   {
    "duration": 30,
    "start_time": "2022-04-08T18:14:29.667Z"
   },
   {
    "duration": 16,
    "start_time": "2022-04-08T18:14:29.698Z"
   },
   {
    "duration": 27,
    "start_time": "2022-04-08T18:14:29.716Z"
   },
   {
    "duration": 30,
    "start_time": "2022-04-08T18:14:29.745Z"
   },
   {
    "duration": 9,
    "start_time": "2022-04-08T18:14:29.777Z"
   },
   {
    "duration": 21,
    "start_time": "2022-04-08T18:14:29.788Z"
   },
   {
    "duration": 28,
    "start_time": "2022-04-08T18:14:29.811Z"
   },
   {
    "duration": 18,
    "start_time": "2022-04-08T18:14:29.841Z"
   },
   {
    "duration": 12,
    "start_time": "2022-04-08T18:14:29.861Z"
   },
   {
    "duration": 7,
    "start_time": "2022-04-08T18:14:29.875Z"
   },
   {
    "duration": 9,
    "start_time": "2022-04-08T18:14:29.883Z"
   },
   {
    "duration": 46,
    "start_time": "2022-04-08T18:14:29.894Z"
   },
   {
    "duration": 12,
    "start_time": "2022-04-08T18:14:29.942Z"
   },
   {
    "duration": 9,
    "start_time": "2022-04-08T18:14:29.959Z"
   },
   {
    "duration": 16,
    "start_time": "2022-04-08T18:14:29.970Z"
   },
   {
    "duration": 10,
    "start_time": "2022-04-08T18:14:29.988Z"
   },
   {
    "duration": 28,
    "start_time": "2022-04-08T18:14:30.000Z"
   },
   {
    "duration": 18,
    "start_time": "2022-04-08T18:14:30.030Z"
   },
   {
    "duration": 21,
    "start_time": "2022-04-08T18:14:30.050Z"
   },
   {
    "duration": 237,
    "start_time": "2022-04-08T18:14:30.073Z"
   },
   {
    "duration": 10,
    "start_time": "2022-04-08T18:14:30.313Z"
   },
   {
    "duration": 51,
    "start_time": "2022-04-08T18:14:30.324Z"
   },
   {
    "duration": 33,
    "start_time": "2022-04-08T18:14:30.377Z"
   },
   {
    "duration": 28,
    "start_time": "2022-04-08T18:14:30.412Z"
   },
   {
    "duration": 27,
    "start_time": "2022-04-08T18:14:30.442Z"
   },
   {
    "duration": 28,
    "start_time": "2022-04-08T18:14:30.471Z"
   },
   {
    "duration": 54,
    "start_time": "2022-04-08T18:14:30.501Z"
   },
   {
    "duration": 9,
    "start_time": "2022-04-08T18:14:30.557Z"
   },
   {
    "duration": 349,
    "start_time": "2022-04-08T18:14:30.567Z"
   },
   {
    "duration": 135,
    "start_time": "2022-04-08T18:14:30.918Z"
   },
   {
    "duration": 0,
    "start_time": "2022-04-08T18:14:31.055Z"
   },
   {
    "duration": 0,
    "start_time": "2022-04-08T18:14:31.057Z"
   },
   {
    "duration": 0,
    "start_time": "2022-04-08T18:14:31.059Z"
   },
   {
    "duration": 0,
    "start_time": "2022-04-08T18:14:31.059Z"
   },
   {
    "duration": 0,
    "start_time": "2022-04-08T18:14:31.061Z"
   },
   {
    "duration": 0,
    "start_time": "2022-04-08T18:14:31.062Z"
   },
   {
    "duration": 0,
    "start_time": "2022-04-08T18:14:31.063Z"
   },
   {
    "duration": 0,
    "start_time": "2022-04-08T18:14:31.064Z"
   },
   {
    "duration": 0,
    "start_time": "2022-04-08T18:14:31.065Z"
   },
   {
    "duration": 0,
    "start_time": "2022-04-08T18:14:31.066Z"
   },
   {
    "duration": 0,
    "start_time": "2022-04-08T18:14:31.067Z"
   },
   {
    "duration": 0,
    "start_time": "2022-04-08T18:14:31.069Z"
   },
   {
    "duration": 0,
    "start_time": "2022-04-08T18:14:31.070Z"
   },
   {
    "duration": 205,
    "start_time": "2022-04-08T18:15:26.082Z"
   },
   {
    "duration": 190,
    "start_time": "2022-04-08T18:15:58.164Z"
   },
   {
    "duration": 196,
    "start_time": "2022-04-08T18:16:05.343Z"
   },
   {
    "duration": 207,
    "start_time": "2022-04-08T18:16:16.483Z"
   },
   {
    "duration": 184,
    "start_time": "2022-04-08T18:16:23.619Z"
   },
   {
    "duration": 200,
    "start_time": "2022-04-08T18:17:23.752Z"
   },
   {
    "duration": 182,
    "start_time": "2022-04-08T18:17:56.455Z"
   },
   {
    "duration": 178,
    "start_time": "2022-04-08T18:18:20.254Z"
   },
   {
    "duration": 276,
    "start_time": "2022-04-08T18:18:42.760Z"
   },
   {
    "duration": 197,
    "start_time": "2022-04-08T18:18:51.342Z"
   },
   {
    "duration": 180,
    "start_time": "2022-04-08T18:18:57.620Z"
   },
   {
    "duration": 186,
    "start_time": "2022-04-08T18:19:04.596Z"
   },
   {
    "duration": 191,
    "start_time": "2022-04-08T18:19:11.232Z"
   },
   {
    "duration": 188,
    "start_time": "2022-04-08T18:19:50.022Z"
   },
   {
    "duration": 2030,
    "start_time": "2022-04-08T18:33:55.707Z"
   },
   {
    "duration": 1412,
    "start_time": "2022-04-08T18:34:09.903Z"
   },
   {
    "duration": 315,
    "start_time": "2022-04-08T18:34:11.317Z"
   },
   {
    "duration": 31,
    "start_time": "2022-04-08T18:34:11.634Z"
   },
   {
    "duration": 6,
    "start_time": "2022-04-08T18:34:11.667Z"
   },
   {
    "duration": 86,
    "start_time": "2022-04-08T18:34:11.675Z"
   },
   {
    "duration": 77,
    "start_time": "2022-04-08T18:34:11.763Z"
   },
   {
    "duration": 157,
    "start_time": "2022-04-08T18:34:11.841Z"
   },
   {
    "duration": 24,
    "start_time": "2022-04-08T18:34:12.000Z"
   },
   {
    "duration": 45,
    "start_time": "2022-04-08T18:34:12.038Z"
   },
   {
    "duration": 37,
    "start_time": "2022-04-08T18:34:12.085Z"
   },
   {
    "duration": 23,
    "start_time": "2022-04-08T18:34:12.124Z"
   },
   {
    "duration": 107,
    "start_time": "2022-04-08T18:34:12.149Z"
   },
   {
    "duration": 21,
    "start_time": "2022-04-08T18:34:12.258Z"
   },
   {
    "duration": 58,
    "start_time": "2022-04-08T18:34:12.282Z"
   },
   {
    "duration": 31,
    "start_time": "2022-04-08T18:34:12.342Z"
   },
   {
    "duration": 16,
    "start_time": "2022-04-08T18:34:12.375Z"
   },
   {
    "duration": 10,
    "start_time": "2022-04-08T18:34:12.393Z"
   },
   {
    "duration": 44,
    "start_time": "2022-04-08T18:34:12.405Z"
   },
   {
    "duration": 9,
    "start_time": "2022-04-08T18:34:12.450Z"
   },
   {
    "duration": 19,
    "start_time": "2022-04-08T18:34:12.461Z"
   },
   {
    "duration": 30,
    "start_time": "2022-04-08T18:34:12.482Z"
   },
   {
    "duration": 34,
    "start_time": "2022-04-08T18:34:12.513Z"
   },
   {
    "duration": 13,
    "start_time": "2022-04-08T18:34:12.549Z"
   },
   {
    "duration": 7,
    "start_time": "2022-04-08T18:34:12.564Z"
   },
   {
    "duration": 11,
    "start_time": "2022-04-08T18:34:12.572Z"
   },
   {
    "duration": 16,
    "start_time": "2022-04-08T18:34:12.585Z"
   },
   {
    "duration": 46,
    "start_time": "2022-04-08T18:34:12.603Z"
   },
   {
    "duration": 10,
    "start_time": "2022-04-08T18:34:12.650Z"
   },
   {
    "duration": 17,
    "start_time": "2022-04-08T18:34:12.662Z"
   },
   {
    "duration": 5,
    "start_time": "2022-04-08T18:34:12.681Z"
   },
   {
    "duration": 14,
    "start_time": "2022-04-08T18:34:12.688Z"
   },
   {
    "duration": 43,
    "start_time": "2022-04-08T18:34:12.704Z"
   },
   {
    "duration": 15,
    "start_time": "2022-04-08T18:34:12.749Z"
   },
   {
    "duration": 240,
    "start_time": "2022-04-08T18:34:12.766Z"
   },
   {
    "duration": 12,
    "start_time": "2022-04-08T18:34:13.008Z"
   },
   {
    "duration": 42,
    "start_time": "2022-04-08T18:34:13.022Z"
   },
   {
    "duration": 31,
    "start_time": "2022-04-08T18:34:13.067Z"
   },
   {
    "duration": 57,
    "start_time": "2022-04-08T18:34:13.100Z"
   },
   {
    "duration": 31,
    "start_time": "2022-04-08T18:34:13.159Z"
   },
   {
    "duration": 56,
    "start_time": "2022-04-08T18:34:13.192Z"
   },
   {
    "duration": 211,
    "start_time": "2022-04-08T18:34:13.252Z"
   },
   {
    "duration": 8,
    "start_time": "2022-04-08T18:34:13.465Z"
   },
   {
    "duration": 348,
    "start_time": "2022-04-08T18:34:13.475Z"
   },
   {
    "duration": 345,
    "start_time": "2022-04-08T18:34:13.825Z"
   },
   {
    "duration": 9,
    "start_time": "2022-04-08T18:34:14.172Z"
   },
   {
    "duration": 13,
    "start_time": "2022-04-08T18:34:14.183Z"
   },
   {
    "duration": 244,
    "start_time": "2022-04-08T18:34:14.198Z"
   },
   {
    "duration": 6,
    "start_time": "2022-04-08T18:34:14.443Z"
   },
   {
    "duration": 11,
    "start_time": "2022-04-08T18:34:14.450Z"
   },
   {
    "duration": 9,
    "start_time": "2022-04-08T18:34:14.463Z"
   },
   {
    "duration": 15,
    "start_time": "2022-04-08T18:34:14.474Z"
   },
   {
    "duration": 57,
    "start_time": "2022-04-08T18:35:19.715Z"
   },
   {
    "duration": 23,
    "start_time": "2022-04-08T18:36:11.581Z"
   },
   {
    "duration": 181,
    "start_time": "2022-04-08T18:36:24.639Z"
   },
   {
    "duration": 1216,
    "start_time": "2022-04-08T18:36:31.263Z"
   },
   {
    "duration": 246,
    "start_time": "2022-04-08T18:36:32.481Z"
   },
   {
    "duration": 34,
    "start_time": "2022-04-08T18:36:32.729Z"
   },
   {
    "duration": 6,
    "start_time": "2022-04-08T18:36:32.766Z"
   },
   {
    "duration": 87,
    "start_time": "2022-04-08T18:36:32.774Z"
   },
   {
    "duration": 81,
    "start_time": "2022-04-08T18:36:32.863Z"
   },
   {
    "duration": 159,
    "start_time": "2022-04-08T18:36:32.946Z"
   },
   {
    "duration": 32,
    "start_time": "2022-04-08T18:36:33.107Z"
   },
   {
    "duration": 43,
    "start_time": "2022-04-08T18:36:33.141Z"
   },
   {
    "duration": 58,
    "start_time": "2022-04-08T18:36:33.187Z"
   },
   {
    "duration": 11,
    "start_time": "2022-04-08T18:36:33.247Z"
   },
   {
    "duration": 112,
    "start_time": "2022-04-08T18:36:33.260Z"
   },
   {
    "duration": 22,
    "start_time": "2022-04-08T18:36:33.374Z"
   },
   {
    "duration": 56,
    "start_time": "2022-04-08T18:36:33.398Z"
   },
   {
    "duration": 30,
    "start_time": "2022-04-08T18:36:33.456Z"
   },
   {
    "duration": 17,
    "start_time": "2022-04-08T18:36:33.488Z"
   },
   {
    "duration": 32,
    "start_time": "2022-04-08T18:36:33.507Z"
   },
   {
    "duration": 30,
    "start_time": "2022-04-08T18:36:33.541Z"
   },
   {
    "duration": 10,
    "start_time": "2022-04-08T18:36:33.573Z"
   },
   {
    "duration": 17,
    "start_time": "2022-04-08T18:36:33.585Z"
   },
   {
    "duration": 36,
    "start_time": "2022-04-08T18:36:33.604Z"
   },
   {
    "duration": 18,
    "start_time": "2022-04-08T18:36:33.642Z"
   },
   {
    "duration": 12,
    "start_time": "2022-04-08T18:36:33.662Z"
   },
   {
    "duration": 12,
    "start_time": "2022-04-08T18:36:33.676Z"
   },
   {
    "duration": 13,
    "start_time": "2022-04-08T18:36:33.690Z"
   },
   {
    "duration": 38,
    "start_time": "2022-04-08T18:36:33.705Z"
   },
   {
    "duration": 20,
    "start_time": "2022-04-08T18:36:33.744Z"
   },
   {
    "duration": 10,
    "start_time": "2022-04-08T18:36:33.769Z"
   },
   {
    "duration": 11,
    "start_time": "2022-04-08T18:36:33.781Z"
   },
   {
    "duration": 5,
    "start_time": "2022-04-08T18:36:33.794Z"
   },
   {
    "duration": 40,
    "start_time": "2022-04-08T18:36:33.801Z"
   },
   {
    "duration": 13,
    "start_time": "2022-04-08T18:36:33.843Z"
   },
   {
    "duration": 8,
    "start_time": "2022-04-08T18:36:33.858Z"
   },
   {
    "duration": 248,
    "start_time": "2022-04-08T18:36:33.868Z"
   },
   {
    "duration": 11,
    "start_time": "2022-04-08T18:36:34.118Z"
   },
   {
    "duration": 52,
    "start_time": "2022-04-08T18:36:34.130Z"
   },
   {
    "duration": 29,
    "start_time": "2022-04-08T18:36:34.184Z"
   },
   {
    "duration": 47,
    "start_time": "2022-04-08T18:36:34.215Z"
   },
   {
    "duration": 38,
    "start_time": "2022-04-08T18:36:34.264Z"
   },
   {
    "duration": 58,
    "start_time": "2022-04-08T18:36:34.304Z"
   },
   {
    "duration": 285,
    "start_time": "2022-04-08T18:36:34.364Z"
   },
   {
    "duration": 7,
    "start_time": "2022-04-08T18:36:34.651Z"
   },
   {
    "duration": 367,
    "start_time": "2022-04-08T18:36:34.660Z"
   },
   {
    "duration": 345,
    "start_time": "2022-04-08T18:36:35.029Z"
   },
   {
    "duration": 12,
    "start_time": "2022-04-08T18:36:35.377Z"
   },
   {
    "duration": 21,
    "start_time": "2022-04-08T18:36:35.391Z"
   },
   {
    "duration": 262,
    "start_time": "2022-04-08T18:36:35.414Z"
   },
   {
    "duration": 6,
    "start_time": "2022-04-08T18:36:35.678Z"
   },
   {
    "duration": 31,
    "start_time": "2022-04-08T18:36:35.686Z"
   },
   {
    "duration": 25,
    "start_time": "2022-04-08T18:36:35.719Z"
   },
   {
    "duration": 13,
    "start_time": "2022-04-08T18:36:35.746Z"
   },
   {
    "duration": 29,
    "start_time": "2022-04-08T18:37:05.583Z"
   },
   {
    "duration": 29,
    "start_time": "2022-04-08T18:37:18.715Z"
   },
   {
    "duration": 178,
    "start_time": "2022-04-08T18:37:21.380Z"
   },
   {
    "duration": 261,
    "start_time": "2022-04-08T18:40:53.044Z"
   },
   {
    "duration": 450,
    "start_time": "2022-04-08T18:42:11.252Z"
   },
   {
    "duration": 263,
    "start_time": "2022-04-08T18:42:23.884Z"
   },
   {
    "duration": 170,
    "start_time": "2022-04-08T18:42:30.361Z"
   },
   {
    "duration": 16,
    "start_time": "2022-04-08T19:22:16.558Z"
   },
   {
    "duration": 11,
    "start_time": "2022-04-08T19:27:50.453Z"
   },
   {
    "duration": 17,
    "start_time": "2022-04-08T19:27:56.014Z"
   },
   {
    "duration": 1535,
    "start_time": "2022-04-08T19:28:11.051Z"
   },
   {
    "duration": 338,
    "start_time": "2022-04-08T19:28:12.589Z"
   },
   {
    "duration": 49,
    "start_time": "2022-04-08T19:28:12.930Z"
   },
   {
    "duration": 8,
    "start_time": "2022-04-08T19:28:12.983Z"
   },
   {
    "duration": 114,
    "start_time": "2022-04-08T19:28:12.993Z"
   },
   {
    "duration": 86,
    "start_time": "2022-04-08T19:28:13.109Z"
   },
   {
    "duration": 177,
    "start_time": "2022-04-08T19:28:13.197Z"
   },
   {
    "duration": 25,
    "start_time": "2022-04-08T19:28:13.376Z"
   },
   {
    "duration": 62,
    "start_time": "2022-04-08T19:28:13.403Z"
   },
   {
    "duration": 71,
    "start_time": "2022-04-08T19:28:13.469Z"
   },
   {
    "duration": 13,
    "start_time": "2022-04-08T19:28:13.542Z"
   },
   {
    "duration": 9,
    "start_time": "2022-04-08T19:28:13.557Z"
   },
   {
    "duration": 130,
    "start_time": "2022-04-08T19:28:13.568Z"
   },
   {
    "duration": 40,
    "start_time": "2022-04-08T19:28:13.700Z"
   },
   {
    "duration": 54,
    "start_time": "2022-04-08T19:28:13.743Z"
   },
   {
    "duration": 63,
    "start_time": "2022-04-08T19:28:13.800Z"
   },
   {
    "duration": 20,
    "start_time": "2022-04-08T19:28:13.866Z"
   },
   {
    "duration": 12,
    "start_time": "2022-04-08T19:28:13.888Z"
   },
   {
    "duration": 43,
    "start_time": "2022-04-08T19:28:13.903Z"
   },
   {
    "duration": 15,
    "start_time": "2022-04-08T19:28:13.948Z"
   },
   {
    "duration": 22,
    "start_time": "2022-04-08T19:28:13.966Z"
   },
   {
    "duration": 59,
    "start_time": "2022-04-08T19:28:13.991Z"
   },
   {
    "duration": 28,
    "start_time": "2022-04-08T19:28:14.052Z"
   },
   {
    "duration": 20,
    "start_time": "2022-04-08T19:28:14.083Z"
   },
   {
    "duration": 37,
    "start_time": "2022-04-08T19:28:14.106Z"
   },
   {
    "duration": 12,
    "start_time": "2022-04-08T19:28:14.146Z"
   },
   {
    "duration": 21,
    "start_time": "2022-04-08T19:28:14.161Z"
   },
   {
    "duration": 18,
    "start_time": "2022-04-08T19:28:14.188Z"
   },
   {
    "duration": 39,
    "start_time": "2022-04-08T19:28:14.208Z"
   },
   {
    "duration": 14,
    "start_time": "2022-04-08T19:28:14.251Z"
   },
   {
    "duration": 7,
    "start_time": "2022-04-08T19:28:14.267Z"
   },
   {
    "duration": 12,
    "start_time": "2022-04-08T19:28:14.277Z"
   },
   {
    "duration": 18,
    "start_time": "2022-04-08T19:28:14.291Z"
   },
   {
    "duration": 31,
    "start_time": "2022-04-08T19:28:14.312Z"
   },
   {
    "duration": 242,
    "start_time": "2022-04-08T19:28:14.345Z"
   },
   {
    "duration": 11,
    "start_time": "2022-04-08T19:28:14.589Z"
   },
   {
    "duration": 43,
    "start_time": "2022-04-08T19:28:14.602Z"
   },
   {
    "duration": 32,
    "start_time": "2022-04-08T19:28:14.647Z"
   },
   {
    "duration": 30,
    "start_time": "2022-04-08T19:28:14.680Z"
   },
   {
    "duration": 54,
    "start_time": "2022-04-08T19:28:14.711Z"
   },
   {
    "duration": 31,
    "start_time": "2022-04-08T19:28:14.767Z"
   },
   {
    "duration": 226,
    "start_time": "2022-04-08T19:28:14.799Z"
   },
   {
    "duration": 281,
    "start_time": "2022-04-08T19:28:15.027Z"
   },
   {
    "duration": 278,
    "start_time": "2022-04-08T19:28:15.310Z"
   },
   {
    "duration": 13,
    "start_time": "2022-04-08T19:28:15.590Z"
   },
   {
    "duration": 17,
    "start_time": "2022-04-08T19:28:15.605Z"
   },
   {
    "duration": 263,
    "start_time": "2022-04-08T19:28:15.640Z"
   },
   {
    "duration": 6,
    "start_time": "2022-04-08T19:28:15.905Z"
   },
   {
    "duration": 25,
    "start_time": "2022-04-08T19:28:15.914Z"
   },
   {
    "duration": 11,
    "start_time": "2022-04-08T19:28:15.941Z"
   },
   {
    "duration": 17,
    "start_time": "2022-04-08T19:28:15.954Z"
   },
   {
    "duration": 319,
    "start_time": "2022-04-08T19:30:17.758Z"
   },
   {
    "duration": 1192,
    "start_time": "2022-04-08T19:30:27.628Z"
   },
   {
    "duration": 235,
    "start_time": "2022-04-08T19:30:28.822Z"
   },
   {
    "duration": 29,
    "start_time": "2022-04-08T19:30:29.058Z"
   },
   {
    "duration": 6,
    "start_time": "2022-04-08T19:30:29.090Z"
   },
   {
    "duration": 85,
    "start_time": "2022-04-08T19:30:29.098Z"
   },
   {
    "duration": 115,
    "start_time": "2022-04-08T19:30:29.185Z"
   },
   {
    "duration": 176,
    "start_time": "2022-04-08T19:30:29.301Z"
   },
   {
    "duration": 26,
    "start_time": "2022-04-08T19:30:29.479Z"
   },
   {
    "duration": 59,
    "start_time": "2022-04-08T19:30:29.507Z"
   },
   {
    "duration": 397,
    "start_time": "2022-04-08T19:30:29.569Z"
   },
   {
    "duration": 14,
    "start_time": "2022-04-08T19:30:29.968Z"
   },
   {
    "duration": 11,
    "start_time": "2022-04-08T19:30:29.984Z"
   },
   {
    "duration": 125,
    "start_time": "2022-04-08T19:30:29.997Z"
   },
   {
    "duration": 24,
    "start_time": "2022-04-08T19:30:30.124Z"
   },
   {
    "duration": 42,
    "start_time": "2022-04-08T19:30:30.151Z"
   },
   {
    "duration": 44,
    "start_time": "2022-04-08T19:30:30.195Z"
   },
   {
    "duration": 17,
    "start_time": "2022-04-08T19:30:30.241Z"
   },
   {
    "duration": 12,
    "start_time": "2022-04-08T19:30:30.260Z"
   },
   {
    "duration": 29,
    "start_time": "2022-04-08T19:30:30.274Z"
   },
   {
    "duration": 10,
    "start_time": "2022-04-08T19:30:30.305Z"
   },
   {
    "duration": 29,
    "start_time": "2022-04-08T19:30:30.316Z"
   },
   {
    "duration": 25,
    "start_time": "2022-04-08T19:30:30.346Z"
   },
   {
    "duration": 17,
    "start_time": "2022-04-08T19:30:30.373Z"
   },
   {
    "duration": 16,
    "start_time": "2022-04-08T19:30:30.392Z"
   },
   {
    "duration": 9,
    "start_time": "2022-04-08T19:30:30.438Z"
   },
   {
    "duration": 27,
    "start_time": "2022-04-08T19:30:30.449Z"
   },
   {
    "duration": 37,
    "start_time": "2022-04-08T19:30:30.478Z"
   },
   {
    "duration": 23,
    "start_time": "2022-04-08T19:30:30.519Z"
   },
   {
    "duration": 17,
    "start_time": "2022-04-08T19:30:30.544Z"
   },
   {
    "duration": 16,
    "start_time": "2022-04-08T19:30:30.563Z"
   },
   {
    "duration": 7,
    "start_time": "2022-04-08T19:30:30.582Z"
   },
   {
    "duration": 18,
    "start_time": "2022-04-08T19:30:30.591Z"
   },
   {
    "duration": 22,
    "start_time": "2022-04-08T19:30:30.611Z"
   },
   {
    "duration": 640,
    "start_time": "2022-04-08T19:30:30.635Z"
   },
   {
    "duration": 0,
    "start_time": "2022-04-08T19:30:31.277Z"
   },
   {
    "duration": 0,
    "start_time": "2022-04-08T19:30:31.279Z"
   },
   {
    "duration": 0,
    "start_time": "2022-04-08T19:30:31.280Z"
   },
   {
    "duration": 0,
    "start_time": "2022-04-08T19:30:31.281Z"
   },
   {
    "duration": 0,
    "start_time": "2022-04-08T19:30:31.283Z"
   },
   {
    "duration": 0,
    "start_time": "2022-04-08T19:30:31.284Z"
   },
   {
    "duration": 0,
    "start_time": "2022-04-08T19:30:31.286Z"
   },
   {
    "duration": 0,
    "start_time": "2022-04-08T19:30:31.287Z"
   },
   {
    "duration": 0,
    "start_time": "2022-04-08T19:30:31.288Z"
   },
   {
    "duration": 0,
    "start_time": "2022-04-08T19:30:31.289Z"
   },
   {
    "duration": 0,
    "start_time": "2022-04-08T19:30:31.291Z"
   },
   {
    "duration": 0,
    "start_time": "2022-04-08T19:30:31.292Z"
   },
   {
    "duration": 0,
    "start_time": "2022-04-08T19:30:31.293Z"
   },
   {
    "duration": 0,
    "start_time": "2022-04-08T19:30:31.294Z"
   },
   {
    "duration": 0,
    "start_time": "2022-04-08T19:30:31.296Z"
   },
   {
    "duration": 0,
    "start_time": "2022-04-08T19:30:31.297Z"
   },
   {
    "duration": 0,
    "start_time": "2022-04-08T19:30:31.298Z"
   },
   {
    "duration": 42,
    "start_time": "2022-04-08T19:30:41.447Z"
   },
   {
    "duration": 13,
    "start_time": "2022-04-08T19:30:52.369Z"
   },
   {
    "duration": 8,
    "start_time": "2022-04-08T19:31:33.996Z"
   },
   {
    "duration": 2360,
    "start_time": "2022-04-08T19:36:12.756Z"
   },
   {
    "duration": 1244,
    "start_time": "2022-04-08T19:36:24.963Z"
   },
   {
    "duration": 227,
    "start_time": "2022-04-08T19:36:26.210Z"
   },
   {
    "duration": 29,
    "start_time": "2022-04-08T19:36:26.439Z"
   },
   {
    "duration": 6,
    "start_time": "2022-04-08T19:36:26.470Z"
   },
   {
    "duration": 84,
    "start_time": "2022-04-08T19:36:26.478Z"
   },
   {
    "duration": 79,
    "start_time": "2022-04-08T19:36:26.564Z"
   },
   {
    "duration": 163,
    "start_time": "2022-04-08T19:36:26.645Z"
   },
   {
    "duration": 33,
    "start_time": "2022-04-08T19:36:26.809Z"
   },
   {
    "duration": 50,
    "start_time": "2022-04-08T19:36:26.844Z"
   },
   {
    "duration": 70,
    "start_time": "2022-04-08T19:36:26.897Z"
   },
   {
    "duration": 11,
    "start_time": "2022-04-08T19:36:26.969Z"
   },
   {
    "duration": 10,
    "start_time": "2022-04-08T19:36:26.982Z"
   },
   {
    "duration": 168,
    "start_time": "2022-04-08T19:36:26.994Z"
   },
   {
    "duration": 21,
    "start_time": "2022-04-08T19:36:27.164Z"
   },
   {
    "duration": 54,
    "start_time": "2022-04-08T19:36:27.187Z"
   },
   {
    "duration": 31,
    "start_time": "2022-04-08T19:36:27.242Z"
   },
   {
    "duration": 16,
    "start_time": "2022-04-08T19:36:27.275Z"
   },
   {
    "duration": 11,
    "start_time": "2022-04-08T19:36:27.293Z"
   },
   {
    "duration": 45,
    "start_time": "2022-04-08T19:36:27.306Z"
   },
   {
    "duration": 10,
    "start_time": "2022-04-08T19:36:27.352Z"
   },
   {
    "duration": 17,
    "start_time": "2022-04-08T19:36:27.364Z"
   },
   {
    "duration": 37,
    "start_time": "2022-04-08T19:36:27.383Z"
   },
   {
    "duration": 18,
    "start_time": "2022-04-08T19:36:27.438Z"
   },
   {
    "duration": 12,
    "start_time": "2022-04-08T19:36:27.458Z"
   },
   {
    "duration": 14,
    "start_time": "2022-04-08T19:36:27.472Z"
   },
   {
    "duration": 15,
    "start_time": "2022-04-08T19:36:27.487Z"
   },
   {
    "duration": 37,
    "start_time": "2022-04-08T19:36:27.503Z"
   },
   {
    "duration": 13,
    "start_time": "2022-04-08T19:36:27.544Z"
   },
   {
    "duration": 9,
    "start_time": "2022-04-08T19:36:27.559Z"
   },
   {
    "duration": 11,
    "start_time": "2022-04-08T19:36:27.570Z"
   },
   {
    "duration": 7,
    "start_time": "2022-04-08T19:36:27.582Z"
   },
   {
    "duration": 49,
    "start_time": "2022-04-08T19:36:27.591Z"
   },
   {
    "duration": 13,
    "start_time": "2022-04-08T19:36:27.641Z"
   },
   {
    "duration": 13,
    "start_time": "2022-04-08T19:36:27.655Z"
   },
   {
    "duration": 243,
    "start_time": "2022-04-08T19:36:27.670Z"
   },
   {
    "duration": 10,
    "start_time": "2022-04-08T19:36:27.915Z"
   },
   {
    "duration": 38,
    "start_time": "2022-04-08T19:36:27.927Z"
   },
   {
    "duration": 29,
    "start_time": "2022-04-08T19:36:27.967Z"
   },
   {
    "duration": 54,
    "start_time": "2022-04-08T19:36:27.998Z"
   },
   {
    "duration": 28,
    "start_time": "2022-04-08T19:36:28.054Z"
   },
   {
    "duration": 54,
    "start_time": "2022-04-08T19:36:28.084Z"
   },
   {
    "duration": 201,
    "start_time": "2022-04-08T19:36:28.140Z"
   },
   {
    "duration": 269,
    "start_time": "2022-04-08T19:36:28.343Z"
   },
   {
    "duration": 265,
    "start_time": "2022-04-08T19:36:28.614Z"
   },
   {
    "duration": 11,
    "start_time": "2022-04-08T19:36:28.882Z"
   },
   {
    "duration": 13,
    "start_time": "2022-04-08T19:36:28.894Z"
   },
   {
    "duration": 263,
    "start_time": "2022-04-08T19:36:28.909Z"
   },
   {
    "duration": 6,
    "start_time": "2022-04-08T19:36:29.173Z"
   },
   {
    "duration": 11,
    "start_time": "2022-04-08T19:36:29.181Z"
   },
   {
    "duration": 12,
    "start_time": "2022-04-08T19:36:29.194Z"
   },
   {
    "duration": 12,
    "start_time": "2022-04-08T19:36:29.208Z"
   },
   {
    "duration": 35,
    "start_time": "2022-04-08T19:37:38.610Z"
   },
   {
    "duration": 13,
    "start_time": "2022-04-08T19:37:48.203Z"
   },
   {
    "duration": 34,
    "start_time": "2022-04-08T19:37:59.879Z"
   },
   {
    "duration": 14,
    "start_time": "2022-04-08T19:38:05.685Z"
   },
   {
    "duration": 8,
    "start_time": "2022-04-08T19:38:08.914Z"
   },
   {
    "duration": 1191,
    "start_time": "2022-04-08T19:39:02.438Z"
   },
   {
    "duration": 235,
    "start_time": "2022-04-08T19:39:03.631Z"
   },
   {
    "duration": 29,
    "start_time": "2022-04-08T19:39:03.868Z"
   },
   {
    "duration": 8,
    "start_time": "2022-04-08T19:39:03.899Z"
   },
   {
    "duration": 84,
    "start_time": "2022-04-08T19:39:03.908Z"
   },
   {
    "duration": 80,
    "start_time": "2022-04-08T19:39:03.993Z"
   },
   {
    "duration": 165,
    "start_time": "2022-04-08T19:39:04.075Z"
   },
   {
    "duration": 23,
    "start_time": "2022-04-08T19:39:04.242Z"
   },
   {
    "duration": 42,
    "start_time": "2022-04-08T19:39:04.267Z"
   },
   {
    "duration": 48,
    "start_time": "2022-04-08T19:39:04.312Z"
   },
   {
    "duration": 11,
    "start_time": "2022-04-08T19:39:04.362Z"
   },
   {
    "duration": 108,
    "start_time": "2022-04-08T19:39:04.375Z"
   },
   {
    "duration": 21,
    "start_time": "2022-04-08T19:39:04.485Z"
   },
   {
    "duration": 54,
    "start_time": "2022-04-08T19:39:04.508Z"
   },
   {
    "duration": 33,
    "start_time": "2022-04-08T19:39:04.564Z"
   },
   {
    "duration": 17,
    "start_time": "2022-04-08T19:39:04.599Z"
   },
   {
    "duration": 25,
    "start_time": "2022-04-08T19:39:04.617Z"
   },
   {
    "duration": 32,
    "start_time": "2022-04-08T19:39:04.644Z"
   },
   {
    "duration": 9,
    "start_time": "2022-04-08T19:39:04.678Z"
   },
   {
    "duration": 26,
    "start_time": "2022-04-08T19:39:04.689Z"
   },
   {
    "duration": 27,
    "start_time": "2022-04-08T19:39:04.717Z"
   },
   {
    "duration": 17,
    "start_time": "2022-04-08T19:39:04.746Z"
   },
   {
    "duration": 13,
    "start_time": "2022-04-08T19:39:04.764Z"
   },
   {
    "duration": 7,
    "start_time": "2022-04-08T19:39:04.779Z"
   },
   {
    "duration": 11,
    "start_time": "2022-04-08T19:39:04.788Z"
   },
   {
    "duration": 17,
    "start_time": "2022-04-08T19:39:04.801Z"
   },
   {
    "duration": 13,
    "start_time": "2022-04-08T19:39:04.840Z"
   },
   {
    "duration": 24,
    "start_time": "2022-04-08T19:39:04.857Z"
   },
   {
    "duration": 11,
    "start_time": "2022-04-08T19:39:04.883Z"
   },
   {
    "duration": 5,
    "start_time": "2022-04-08T19:39:04.896Z"
   },
   {
    "duration": 14,
    "start_time": "2022-04-08T19:39:04.903Z"
   },
   {
    "duration": 13,
    "start_time": "2022-04-08T19:39:04.938Z"
   },
   {
    "duration": 14,
    "start_time": "2022-04-08T19:39:04.953Z"
   },
   {
    "duration": 237,
    "start_time": "2022-04-08T19:39:04.969Z"
   },
   {
    "duration": 12,
    "start_time": "2022-04-08T19:39:05.207Z"
   },
   {
    "duration": 42,
    "start_time": "2022-04-08T19:39:05.221Z"
   },
   {
    "duration": 30,
    "start_time": "2022-04-08T19:39:05.265Z"
   },
   {
    "duration": 55,
    "start_time": "2022-04-08T19:39:05.297Z"
   },
   {
    "duration": 29,
    "start_time": "2022-04-08T19:39:05.354Z"
   },
   {
    "duration": 55,
    "start_time": "2022-04-08T19:39:05.385Z"
   },
   {
    "duration": 197,
    "start_time": "2022-04-08T19:39:05.442Z"
   },
   {
    "duration": 264,
    "start_time": "2022-04-08T19:39:05.641Z"
   },
   {
    "duration": 258,
    "start_time": "2022-04-08T19:39:05.907Z"
   },
   {
    "duration": 13,
    "start_time": "2022-04-08T19:39:06.167Z"
   },
   {
    "duration": 11,
    "start_time": "2022-04-08T19:39:06.182Z"
   },
   {
    "duration": 285,
    "start_time": "2022-04-08T19:39:06.196Z"
   },
   {
    "duration": 6,
    "start_time": "2022-04-08T19:39:06.483Z"
   },
   {
    "duration": 11,
    "start_time": "2022-04-08T19:39:06.491Z"
   },
   {
    "duration": 10,
    "start_time": "2022-04-08T19:39:06.504Z"
   },
   {
    "duration": 22,
    "start_time": "2022-04-08T19:39:06.516Z"
   },
   {
    "duration": 33,
    "start_time": "2022-04-08T19:42:04.789Z"
   },
   {
    "duration": 2259,
    "start_time": "2022-04-08T19:42:47.867Z"
   },
   {
    "duration": 2202,
    "start_time": "2022-04-08T19:42:53.453Z"
   },
   {
    "duration": 1234,
    "start_time": "2022-04-08T19:43:01.133Z"
   },
   {
    "duration": 239,
    "start_time": "2022-04-08T19:43:02.369Z"
   },
   {
    "duration": 34,
    "start_time": "2022-04-08T19:43:02.610Z"
   },
   {
    "duration": 5,
    "start_time": "2022-04-08T19:43:02.646Z"
   },
   {
    "duration": 84,
    "start_time": "2022-04-08T19:43:02.654Z"
   },
   {
    "duration": 68,
    "start_time": "2022-04-08T19:43:02.740Z"
   },
   {
    "duration": 171,
    "start_time": "2022-04-08T19:43:02.810Z"
   },
   {
    "duration": 24,
    "start_time": "2022-04-08T19:43:02.983Z"
   },
   {
    "duration": 68,
    "start_time": "2022-04-08T19:43:03.010Z"
   },
   {
    "duration": 43,
    "start_time": "2022-04-08T19:43:03.080Z"
   },
   {
    "duration": 21,
    "start_time": "2022-04-08T19:43:03.125Z"
   },
   {
    "duration": 108,
    "start_time": "2022-04-08T19:43:03.148Z"
   },
   {
    "duration": 24,
    "start_time": "2022-04-08T19:43:03.259Z"
   },
   {
    "duration": 117,
    "start_time": "2022-04-08T19:43:03.287Z"
   },
   {
    "duration": 35,
    "start_time": "2022-04-08T19:43:03.406Z"
   },
   {
    "duration": 17,
    "start_time": "2022-04-08T19:43:03.443Z"
   },
   {
    "duration": 12,
    "start_time": "2022-04-08T19:43:03.462Z"
   },
   {
    "duration": 32,
    "start_time": "2022-04-08T19:43:03.476Z"
   },
   {
    "duration": 10,
    "start_time": "2022-04-08T19:43:03.510Z"
   },
   {
    "duration": 27,
    "start_time": "2022-04-08T19:43:03.522Z"
   },
   {
    "duration": 34,
    "start_time": "2022-04-08T19:43:03.551Z"
   },
   {
    "duration": 25,
    "start_time": "2022-04-08T19:43:03.587Z"
   },
   {
    "duration": 30,
    "start_time": "2022-04-08T19:43:03.614Z"
   },
   {
    "duration": 8,
    "start_time": "2022-04-08T19:43:03.646Z"
   },
   {
    "duration": 19,
    "start_time": "2022-04-08T19:43:03.656Z"
   },
   {
    "duration": 24,
    "start_time": "2022-04-08T19:43:03.677Z"
   },
   {
    "duration": 24,
    "start_time": "2022-04-08T19:43:03.703Z"
   },
   {
    "duration": 17,
    "start_time": "2022-04-08T19:43:03.730Z"
   },
   {
    "duration": 21,
    "start_time": "2022-04-08T19:43:03.749Z"
   },
   {
    "duration": 13,
    "start_time": "2022-04-08T19:43:03.772Z"
   },
   {
    "duration": 22,
    "start_time": "2022-04-08T19:43:03.788Z"
   },
   {
    "duration": 26,
    "start_time": "2022-04-08T19:43:03.813Z"
   },
   {
    "duration": 7,
    "start_time": "2022-04-08T19:43:03.842Z"
   },
   {
    "duration": 247,
    "start_time": "2022-04-08T19:43:03.851Z"
   },
   {
    "duration": 12,
    "start_time": "2022-04-08T19:43:04.100Z"
   },
   {
    "duration": 48,
    "start_time": "2022-04-08T19:43:04.114Z"
   },
   {
    "duration": 32,
    "start_time": "2022-04-08T19:43:04.163Z"
   },
   {
    "duration": 55,
    "start_time": "2022-04-08T19:43:04.197Z"
   },
   {
    "duration": 29,
    "start_time": "2022-04-08T19:43:04.254Z"
   },
   {
    "duration": 28,
    "start_time": "2022-04-08T19:43:04.285Z"
   },
   {
    "duration": 211,
    "start_time": "2022-04-08T19:43:04.341Z"
   },
   {
    "duration": 285,
    "start_time": "2022-04-08T19:43:04.554Z"
   },
   {
    "duration": 266,
    "start_time": "2022-04-08T19:43:04.841Z"
   },
   {
    "duration": 12,
    "start_time": "2022-04-08T19:43:05.109Z"
   },
   {
    "duration": 26,
    "start_time": "2022-04-08T19:43:05.123Z"
   },
   {
    "duration": 297,
    "start_time": "2022-04-08T19:43:05.152Z"
   },
   {
    "duration": 7,
    "start_time": "2022-04-08T19:43:05.452Z"
   },
   {
    "duration": 15,
    "start_time": "2022-04-08T19:43:05.461Z"
   },
   {
    "duration": 12,
    "start_time": "2022-04-08T19:43:05.479Z"
   },
   {
    "duration": 10,
    "start_time": "2022-04-08T19:43:05.493Z"
   },
   {
    "duration": 36,
    "start_time": "2022-04-08T19:43:33.502Z"
   },
   {
    "duration": 31,
    "start_time": "2022-04-08T19:44:23.531Z"
   },
   {
    "duration": 1171,
    "start_time": "2022-04-08T19:44:35.844Z"
   },
   {
    "duration": 227,
    "start_time": "2022-04-08T19:44:37.017Z"
   },
   {
    "duration": 28,
    "start_time": "2022-04-08T19:44:37.246Z"
   },
   {
    "duration": 6,
    "start_time": "2022-04-08T19:44:37.277Z"
   },
   {
    "duration": 86,
    "start_time": "2022-04-08T19:44:37.285Z"
   },
   {
    "duration": 72,
    "start_time": "2022-04-08T19:44:37.373Z"
   },
   {
    "duration": 160,
    "start_time": "2022-04-08T19:44:37.448Z"
   },
   {
    "duration": 29,
    "start_time": "2022-04-08T19:44:37.610Z"
   },
   {
    "duration": 46,
    "start_time": "2022-04-08T19:44:37.641Z"
   },
   {
    "duration": 54,
    "start_time": "2022-04-08T19:44:37.690Z"
   },
   {
    "duration": 10,
    "start_time": "2022-04-08T19:44:37.746Z"
   },
   {
    "duration": 107,
    "start_time": "2022-04-08T19:44:37.758Z"
   },
   {
    "duration": 20,
    "start_time": "2022-04-08T19:44:37.866Z"
   },
   {
    "duration": 52,
    "start_time": "2022-04-08T19:44:37.888Z"
   },
   {
    "duration": 31,
    "start_time": "2022-04-08T19:44:37.942Z"
   },
   {
    "duration": 16,
    "start_time": "2022-04-08T19:44:37.975Z"
   },
   {
    "duration": 12,
    "start_time": "2022-04-08T19:44:37.993Z"
   },
   {
    "duration": 40,
    "start_time": "2022-04-08T19:44:38.007Z"
   },
   {
    "duration": 11,
    "start_time": "2022-04-08T19:44:38.049Z"
   },
   {
    "duration": 18,
    "start_time": "2022-04-08T19:44:38.062Z"
   },
   {
    "duration": 40,
    "start_time": "2022-04-08T19:44:38.082Z"
   },
   {
    "duration": 27,
    "start_time": "2022-04-08T19:44:38.124Z"
   },
   {
    "duration": 12,
    "start_time": "2022-04-08T19:44:38.153Z"
   },
   {
    "duration": 14,
    "start_time": "2022-04-08T19:44:38.167Z"
   },
   {
    "duration": 11,
    "start_time": "2022-04-08T19:44:38.182Z"
   },
   {
    "duration": 16,
    "start_time": "2022-04-08T19:44:38.195Z"
   },
   {
    "duration": 38,
    "start_time": "2022-04-08T19:44:38.212Z"
   },
   {
    "duration": 9,
    "start_time": "2022-04-08T19:44:38.254Z"
   },
   {
    "duration": 12,
    "start_time": "2022-04-08T19:44:38.265Z"
   },
   {
    "duration": 5,
    "start_time": "2022-04-08T19:44:38.278Z"
   },
   {
    "duration": 11,
    "start_time": "2022-04-08T19:44:38.285Z"
   },
   {
    "duration": 45,
    "start_time": "2022-04-08T19:44:38.298Z"
   },
   {
    "duration": 6,
    "start_time": "2022-04-08T19:44:38.345Z"
   },
   {
    "duration": 223,
    "start_time": "2022-04-08T19:44:38.352Z"
   },
   {
    "duration": 11,
    "start_time": "2022-04-08T19:44:38.576Z"
   },
   {
    "duration": 36,
    "start_time": "2022-04-08T19:44:38.588Z"
   },
   {
    "duration": 37,
    "start_time": "2022-04-08T19:44:38.626Z"
   },
   {
    "duration": 26,
    "start_time": "2022-04-08T19:44:38.665Z"
   },
   {
    "duration": 48,
    "start_time": "2022-04-08T19:44:38.692Z"
   },
   {
    "duration": 26,
    "start_time": "2022-04-08T19:44:38.741Z"
   },
   {
    "duration": 194,
    "start_time": "2022-04-08T19:44:38.769Z"
   },
   {
    "duration": 262,
    "start_time": "2022-04-08T19:44:38.965Z"
   },
   {
    "duration": 254,
    "start_time": "2022-04-08T19:44:39.229Z"
   },
   {
    "duration": 10,
    "start_time": "2022-04-08T19:44:39.485Z"
   },
   {
    "duration": 14,
    "start_time": "2022-04-08T19:44:39.496Z"
   },
   {
    "duration": 296,
    "start_time": "2022-04-08T19:44:39.512Z"
   },
   {
    "duration": 5,
    "start_time": "2022-04-08T19:44:39.810Z"
   },
   {
    "duration": 9,
    "start_time": "2022-04-08T19:44:39.817Z"
   },
   {
    "duration": 5,
    "start_time": "2022-04-08T19:44:39.839Z"
   },
   {
    "duration": 9,
    "start_time": "2022-04-08T19:44:39.846Z"
   },
   {
    "duration": 13,
    "start_time": "2022-04-08T19:45:09.244Z"
   },
   {
    "duration": 1186,
    "start_time": "2022-04-08T19:45:27.324Z"
   },
   {
    "duration": 231,
    "start_time": "2022-04-08T19:45:28.512Z"
   },
   {
    "duration": 29,
    "start_time": "2022-04-08T19:45:28.745Z"
   },
   {
    "duration": 6,
    "start_time": "2022-04-08T19:45:28.776Z"
   },
   {
    "duration": 86,
    "start_time": "2022-04-08T19:45:28.784Z"
   },
   {
    "duration": 72,
    "start_time": "2022-04-08T19:45:28.872Z"
   },
   {
    "duration": 156,
    "start_time": "2022-04-08T19:45:28.946Z"
   },
   {
    "duration": 35,
    "start_time": "2022-04-08T19:45:29.104Z"
   },
   {
    "duration": 46,
    "start_time": "2022-04-08T19:45:29.141Z"
   },
   {
    "duration": 51,
    "start_time": "2022-04-08T19:45:29.189Z"
   },
   {
    "duration": 12,
    "start_time": "2022-04-08T19:45:29.241Z"
   },
   {
    "duration": 107,
    "start_time": "2022-04-08T19:45:29.254Z"
   },
   {
    "duration": 22,
    "start_time": "2022-04-08T19:45:29.363Z"
   },
   {
    "duration": 57,
    "start_time": "2022-04-08T19:45:29.389Z"
   },
   {
    "duration": 31,
    "start_time": "2022-04-08T19:45:29.447Z"
   },
   {
    "duration": 16,
    "start_time": "2022-04-08T19:45:29.479Z"
   },
   {
    "duration": 12,
    "start_time": "2022-04-08T19:45:29.497Z"
   },
   {
    "duration": 40,
    "start_time": "2022-04-08T19:45:29.510Z"
   },
   {
    "duration": 11,
    "start_time": "2022-04-08T19:45:29.552Z"
   },
   {
    "duration": 18,
    "start_time": "2022-04-08T19:45:29.564Z"
   },
   {
    "duration": 28,
    "start_time": "2022-04-08T19:45:29.584Z"
   },
   {
    "duration": 33,
    "start_time": "2022-04-08T19:45:29.614Z"
   },
   {
    "duration": 12,
    "start_time": "2022-04-08T19:45:29.649Z"
   },
   {
    "duration": 14,
    "start_time": "2022-04-08T19:45:29.663Z"
   },
   {
    "duration": 8,
    "start_time": "2022-04-08T19:45:29.679Z"
   },
   {
    "duration": 15,
    "start_time": "2022-04-08T19:45:29.689Z"
   },
   {
    "duration": 37,
    "start_time": "2022-04-08T19:45:29.706Z"
   },
   {
    "duration": 10,
    "start_time": "2022-04-08T19:45:29.745Z"
   },
   {
    "duration": 10,
    "start_time": "2022-04-08T19:45:29.757Z"
   },
   {
    "duration": 5,
    "start_time": "2022-04-08T19:45:29.769Z"
   },
   {
    "duration": 13,
    "start_time": "2022-04-08T19:45:29.775Z"
   },
   {
    "duration": 17,
    "start_time": "2022-04-08T19:45:29.790Z"
   },
   {
    "duration": 7,
    "start_time": "2022-04-08T19:45:29.838Z"
   },
   {
    "duration": 235,
    "start_time": "2022-04-08T19:45:29.847Z"
   },
   {
    "duration": 11,
    "start_time": "2022-04-08T19:45:30.084Z"
   },
   {
    "duration": 40,
    "start_time": "2022-04-08T19:45:30.097Z"
   },
   {
    "duration": 31,
    "start_time": "2022-04-08T19:45:30.138Z"
   },
   {
    "duration": 30,
    "start_time": "2022-04-08T19:45:30.170Z"
   },
   {
    "duration": 55,
    "start_time": "2022-04-08T19:45:30.202Z"
   },
   {
    "duration": 27,
    "start_time": "2022-04-08T19:45:30.258Z"
   },
   {
    "duration": 200,
    "start_time": "2022-04-08T19:45:30.290Z"
   },
   {
    "duration": 265,
    "start_time": "2022-04-08T19:45:30.491Z"
   },
   {
    "duration": 251,
    "start_time": "2022-04-08T19:45:30.758Z"
   },
   {
    "duration": 10,
    "start_time": "2022-04-08T19:45:31.011Z"
   },
   {
    "duration": 22,
    "start_time": "2022-04-08T19:45:31.023Z"
   },
   {
    "duration": 269,
    "start_time": "2022-04-08T19:45:31.047Z"
   },
   {
    "duration": 6,
    "start_time": "2022-04-08T19:45:31.318Z"
   },
   {
    "duration": 26,
    "start_time": "2022-04-08T19:45:31.326Z"
   },
   {
    "duration": 24,
    "start_time": "2022-04-08T19:45:31.354Z"
   },
   {
    "duration": 18,
    "start_time": "2022-04-08T19:45:31.380Z"
   },
   {
    "duration": 12,
    "start_time": "2022-04-08T19:46:19.036Z"
   },
   {
    "duration": 1160,
    "start_time": "2022-04-08T19:46:27.305Z"
   },
   {
    "duration": 234,
    "start_time": "2022-04-08T19:46:28.468Z"
   },
   {
    "duration": 38,
    "start_time": "2022-04-08T19:46:28.703Z"
   },
   {
    "duration": 6,
    "start_time": "2022-04-08T19:46:28.743Z"
   },
   {
    "duration": 69,
    "start_time": "2022-04-08T19:46:28.751Z"
   },
   {
    "duration": 78,
    "start_time": "2022-04-08T19:46:28.822Z"
   },
   {
    "duration": 154,
    "start_time": "2022-04-08T19:46:28.902Z"
   },
   {
    "duration": 23,
    "start_time": "2022-04-08T19:46:29.057Z"
   },
   {
    "duration": 63,
    "start_time": "2022-04-08T19:46:29.082Z"
   },
   {
    "duration": 31,
    "start_time": "2022-04-08T19:46:29.148Z"
   },
   {
    "duration": 9,
    "start_time": "2022-04-08T19:46:29.181Z"
   },
   {
    "duration": 11,
    "start_time": "2022-04-08T19:46:29.192Z"
   },
   {
    "duration": 123,
    "start_time": "2022-04-08T19:46:29.204Z"
   },
   {
    "duration": 27,
    "start_time": "2022-04-08T19:46:29.329Z"
   },
   {
    "duration": 35,
    "start_time": "2022-04-08T19:46:29.358Z"
   },
   {
    "duration": 50,
    "start_time": "2022-04-08T19:46:29.395Z"
   },
   {
    "duration": 15,
    "start_time": "2022-04-08T19:46:29.447Z"
   },
   {
    "duration": 10,
    "start_time": "2022-04-08T19:46:29.464Z"
   },
   {
    "duration": 29,
    "start_time": "2022-04-08T19:46:29.476Z"
   },
   {
    "duration": 9,
    "start_time": "2022-04-08T19:46:29.507Z"
   },
   {
    "duration": 23,
    "start_time": "2022-04-08T19:46:29.517Z"
   },
   {
    "duration": 31,
    "start_time": "2022-04-08T19:46:29.542Z"
   },
   {
    "duration": 17,
    "start_time": "2022-04-08T19:46:29.575Z"
   },
   {
    "duration": 16,
    "start_time": "2022-04-08T19:46:29.594Z"
   },
   {
    "duration": 31,
    "start_time": "2022-04-08T19:46:29.612Z"
   },
   {
    "duration": 6,
    "start_time": "2022-04-08T19:46:29.645Z"
   },
   {
    "duration": 19,
    "start_time": "2022-04-08T19:46:29.653Z"
   },
   {
    "duration": 16,
    "start_time": "2022-04-08T19:46:29.676Z"
   },
   {
    "duration": 9,
    "start_time": "2022-04-08T19:46:29.694Z"
   },
   {
    "duration": 36,
    "start_time": "2022-04-08T19:46:29.705Z"
   },
   {
    "duration": 5,
    "start_time": "2022-04-08T19:46:29.743Z"
   },
   {
    "duration": 15,
    "start_time": "2022-04-08T19:46:29.750Z"
   },
   {
    "duration": 22,
    "start_time": "2022-04-08T19:46:29.767Z"
   },
   {
    "duration": 20,
    "start_time": "2022-04-08T19:46:29.791Z"
   },
   {
    "duration": 215,
    "start_time": "2022-04-08T19:46:29.813Z"
   },
   {
    "duration": 12,
    "start_time": "2022-04-08T19:46:30.030Z"
   },
   {
    "duration": 43,
    "start_time": "2022-04-08T19:46:30.044Z"
   },
   {
    "duration": 30,
    "start_time": "2022-04-08T19:46:30.089Z"
   },
   {
    "duration": 41,
    "start_time": "2022-04-08T19:46:30.121Z"
   },
   {
    "duration": 28,
    "start_time": "2022-04-08T19:46:30.164Z"
   },
   {
    "duration": 46,
    "start_time": "2022-04-08T19:46:30.194Z"
   },
   {
    "duration": 188,
    "start_time": "2022-04-08T19:46:30.242Z"
   },
   {
    "duration": 261,
    "start_time": "2022-04-08T19:46:30.432Z"
   },
   {
    "duration": 254,
    "start_time": "2022-04-08T19:46:30.694Z"
   },
   {
    "duration": 10,
    "start_time": "2022-04-08T19:46:30.950Z"
   },
   {
    "duration": 21,
    "start_time": "2022-04-08T19:46:30.962Z"
   },
   {
    "duration": 273,
    "start_time": "2022-04-08T19:46:30.985Z"
   },
   {
    "duration": 6,
    "start_time": "2022-04-08T19:46:31.260Z"
   },
   {
    "duration": 18,
    "start_time": "2022-04-08T19:46:31.268Z"
   },
   {
    "duration": 16,
    "start_time": "2022-04-08T19:46:31.289Z"
   },
   {
    "duration": 25,
    "start_time": "2022-04-08T19:46:31.307Z"
   },
   {
    "duration": 1118,
    "start_time": "2022-04-08T19:47:18.489Z"
   },
   {
    "duration": 224,
    "start_time": "2022-04-08T19:47:19.609Z"
   },
   {
    "duration": 28,
    "start_time": "2022-04-08T19:47:19.835Z"
   },
   {
    "duration": 6,
    "start_time": "2022-04-08T19:47:19.865Z"
   },
   {
    "duration": 82,
    "start_time": "2022-04-08T19:47:19.873Z"
   },
   {
    "duration": 70,
    "start_time": "2022-04-08T19:47:19.957Z"
   },
   {
    "duration": 169,
    "start_time": "2022-04-08T19:47:20.029Z"
   },
   {
    "duration": 23,
    "start_time": "2022-04-08T19:47:20.200Z"
   },
   {
    "duration": 61,
    "start_time": "2022-04-08T19:47:20.225Z"
   },
   {
    "duration": 51,
    "start_time": "2022-04-08T19:47:20.289Z"
   },
   {
    "duration": 2566,
    "start_time": "2022-04-08T19:47:20.342Z"
   },
   {
    "duration": 0,
    "start_time": "2022-04-08T19:47:22.910Z"
   },
   {
    "duration": 0,
    "start_time": "2022-04-08T19:47:22.911Z"
   },
   {
    "duration": 0,
    "start_time": "2022-04-08T19:47:22.913Z"
   },
   {
    "duration": 0,
    "start_time": "2022-04-08T19:47:22.914Z"
   },
   {
    "duration": 0,
    "start_time": "2022-04-08T19:47:22.915Z"
   },
   {
    "duration": 0,
    "start_time": "2022-04-08T19:47:22.917Z"
   },
   {
    "duration": 0,
    "start_time": "2022-04-08T19:47:22.918Z"
   },
   {
    "duration": 0,
    "start_time": "2022-04-08T19:47:22.919Z"
   },
   {
    "duration": 0,
    "start_time": "2022-04-08T19:47:22.920Z"
   },
   {
    "duration": 0,
    "start_time": "2022-04-08T19:47:22.921Z"
   },
   {
    "duration": 0,
    "start_time": "2022-04-08T19:47:22.922Z"
   },
   {
    "duration": 0,
    "start_time": "2022-04-08T19:47:22.923Z"
   },
   {
    "duration": 0,
    "start_time": "2022-04-08T19:47:22.924Z"
   },
   {
    "duration": 0,
    "start_time": "2022-04-08T19:47:22.925Z"
   },
   {
    "duration": 0,
    "start_time": "2022-04-08T19:47:22.926Z"
   },
   {
    "duration": 0,
    "start_time": "2022-04-08T19:47:22.927Z"
   },
   {
    "duration": 0,
    "start_time": "2022-04-08T19:47:22.927Z"
   },
   {
    "duration": 0,
    "start_time": "2022-04-08T19:47:22.928Z"
   },
   {
    "duration": 0,
    "start_time": "2022-04-08T19:47:22.929Z"
   },
   {
    "duration": 0,
    "start_time": "2022-04-08T19:47:22.930Z"
   },
   {
    "duration": 0,
    "start_time": "2022-04-08T19:47:22.931Z"
   },
   {
    "duration": 0,
    "start_time": "2022-04-08T19:47:22.932Z"
   },
   {
    "duration": 0,
    "start_time": "2022-04-08T19:47:22.933Z"
   },
   {
    "duration": 0,
    "start_time": "2022-04-08T19:47:22.934Z"
   },
   {
    "duration": 0,
    "start_time": "2022-04-08T19:47:22.935Z"
   },
   {
    "duration": 0,
    "start_time": "2022-04-08T19:47:22.936Z"
   },
   {
    "duration": 0,
    "start_time": "2022-04-08T19:47:22.937Z"
   },
   {
    "duration": 0,
    "start_time": "2022-04-08T19:47:22.938Z"
   },
   {
    "duration": 0,
    "start_time": "2022-04-08T19:47:22.939Z"
   },
   {
    "duration": 0,
    "start_time": "2022-04-08T19:47:22.940Z"
   },
   {
    "duration": 0,
    "start_time": "2022-04-08T19:47:22.941Z"
   },
   {
    "duration": 0,
    "start_time": "2022-04-08T19:47:22.942Z"
   },
   {
    "duration": 0,
    "start_time": "2022-04-08T19:47:22.943Z"
   },
   {
    "duration": 0,
    "start_time": "2022-04-08T19:47:22.944Z"
   },
   {
    "duration": 0,
    "start_time": "2022-04-08T19:47:22.945Z"
   },
   {
    "duration": 0,
    "start_time": "2022-04-08T19:47:22.946Z"
   },
   {
    "duration": 0,
    "start_time": "2022-04-08T19:47:22.947Z"
   },
   {
    "duration": 0,
    "start_time": "2022-04-08T19:47:22.948Z"
   },
   {
    "duration": 0,
    "start_time": "2022-04-08T19:47:22.949Z"
   },
   {
    "duration": 32,
    "start_time": "2022-04-08T19:47:43.668Z"
   },
   {
    "duration": 9,
    "start_time": "2022-04-08T19:47:47.658Z"
   },
   {
    "duration": 1129,
    "start_time": "2022-04-08T19:47:56.399Z"
   },
   {
    "duration": 223,
    "start_time": "2022-04-08T19:47:57.531Z"
   },
   {
    "duration": 28,
    "start_time": "2022-04-08T19:47:57.756Z"
   },
   {
    "duration": 5,
    "start_time": "2022-04-08T19:47:57.786Z"
   },
   {
    "duration": 77,
    "start_time": "2022-04-08T19:47:57.793Z"
   },
   {
    "duration": 79,
    "start_time": "2022-04-08T19:47:57.871Z"
   },
   {
    "duration": 159,
    "start_time": "2022-04-08T19:47:57.951Z"
   },
   {
    "duration": 32,
    "start_time": "2022-04-08T19:47:58.112Z"
   },
   {
    "duration": 48,
    "start_time": "2022-04-08T19:47:58.146Z"
   },
   {
    "duration": 50,
    "start_time": "2022-04-08T19:47:58.197Z"
   },
   {
    "duration": 9,
    "start_time": "2022-04-08T19:47:58.249Z"
   },
   {
    "duration": 106,
    "start_time": "2022-04-08T19:47:58.260Z"
   },
   {
    "duration": 21,
    "start_time": "2022-04-08T19:47:58.367Z"
   },
   {
    "duration": 55,
    "start_time": "2022-04-08T19:47:58.390Z"
   },
   {
    "duration": 31,
    "start_time": "2022-04-08T19:47:58.447Z"
   },
   {
    "duration": 16,
    "start_time": "2022-04-08T19:47:58.479Z"
   },
   {
    "duration": 11,
    "start_time": "2022-04-08T19:47:58.497Z"
   },
   {
    "duration": 38,
    "start_time": "2022-04-08T19:47:58.509Z"
   },
   {
    "duration": 10,
    "start_time": "2022-04-08T19:47:58.548Z"
   },
   {
    "duration": 16,
    "start_time": "2022-04-08T19:47:58.560Z"
   },
   {
    "duration": 27,
    "start_time": "2022-04-08T19:47:58.578Z"
   },
   {
    "duration": 37,
    "start_time": "2022-04-08T19:47:58.607Z"
   },
   {
    "duration": 13,
    "start_time": "2022-04-08T19:47:58.646Z"
   },
   {
    "duration": 11,
    "start_time": "2022-04-08T19:47:58.661Z"
   },
   {
    "duration": 8,
    "start_time": "2022-04-08T19:47:58.674Z"
   },
   {
    "duration": 16,
    "start_time": "2022-04-08T19:47:58.684Z"
   },
   {
    "duration": 43,
    "start_time": "2022-04-08T19:47:58.702Z"
   },
   {
    "duration": 10,
    "start_time": "2022-04-08T19:47:58.749Z"
   },
   {
    "duration": 19,
    "start_time": "2022-04-08T19:47:58.761Z"
   },
   {
    "duration": 5,
    "start_time": "2022-04-08T19:47:58.782Z"
   },
   {
    "duration": 13,
    "start_time": "2022-04-08T19:47:58.788Z"
   },
   {
    "duration": 36,
    "start_time": "2022-04-08T19:47:58.803Z"
   },
   {
    "duration": 8,
    "start_time": "2022-04-08T19:47:58.841Z"
   },
   {
    "duration": 212,
    "start_time": "2022-04-08T19:47:58.850Z"
   },
   {
    "duration": 10,
    "start_time": "2022-04-08T19:47:59.064Z"
   },
   {
    "duration": 31,
    "start_time": "2022-04-08T19:47:59.076Z"
   },
   {
    "duration": 48,
    "start_time": "2022-04-08T19:47:59.108Z"
   },
   {
    "duration": 27,
    "start_time": "2022-04-08T19:47:59.158Z"
   },
   {
    "duration": 27,
    "start_time": "2022-04-08T19:47:59.187Z"
   },
   {
    "duration": 48,
    "start_time": "2022-04-08T19:47:59.216Z"
   },
   {
    "duration": 189,
    "start_time": "2022-04-08T19:47:59.266Z"
   },
   {
    "duration": 260,
    "start_time": "2022-04-08T19:47:59.457Z"
   },
   {
    "duration": 256,
    "start_time": "2022-04-08T19:47:59.719Z"
   },
   {
    "duration": 9,
    "start_time": "2022-04-08T19:47:59.977Z"
   },
   {
    "duration": 11,
    "start_time": "2022-04-08T19:47:59.988Z"
   },
   {
    "duration": 264,
    "start_time": "2022-04-08T19:48:00.001Z"
   },
   {
    "duration": 6,
    "start_time": "2022-04-08T19:48:00.267Z"
   },
   {
    "duration": 16,
    "start_time": "2022-04-08T19:48:00.274Z"
   },
   {
    "duration": 13,
    "start_time": "2022-04-08T19:48:00.292Z"
   },
   {
    "duration": 15,
    "start_time": "2022-04-08T19:48:00.307Z"
   },
   {
    "duration": 244,
    "start_time": "2022-04-08T19:48:57.445Z"
   },
   {
    "duration": 333,
    "start_time": "2022-04-08T19:49:05.037Z"
   },
   {
    "duration": 251,
    "start_time": "2022-04-08T19:49:10.610Z"
   },
   {
    "duration": 1198,
    "start_time": "2022-04-08T20:31:24.484Z"
   },
   {
    "duration": 230,
    "start_time": "2022-04-08T20:31:25.685Z"
   },
   {
    "duration": 33,
    "start_time": "2022-04-08T20:31:25.917Z"
   },
   {
    "duration": 7,
    "start_time": "2022-04-08T20:31:25.953Z"
   },
   {
    "duration": 87,
    "start_time": "2022-04-08T20:31:25.962Z"
   },
   {
    "duration": 67,
    "start_time": "2022-04-08T20:31:26.051Z"
   },
   {
    "duration": 172,
    "start_time": "2022-04-08T20:31:26.120Z"
   },
   {
    "duration": 24,
    "start_time": "2022-04-08T20:31:26.294Z"
   },
   {
    "duration": 61,
    "start_time": "2022-04-08T20:31:26.320Z"
   },
   {
    "duration": 35,
    "start_time": "2022-04-08T20:31:26.385Z"
   },
   {
    "duration": 10,
    "start_time": "2022-04-08T20:31:26.439Z"
   },
   {
    "duration": 116,
    "start_time": "2022-04-08T20:31:26.451Z"
   },
   {
    "duration": 21,
    "start_time": "2022-04-08T20:31:26.569Z"
   },
   {
    "duration": 57,
    "start_time": "2022-04-08T20:31:26.592Z"
   },
   {
    "duration": 31,
    "start_time": "2022-04-08T20:31:26.651Z"
   },
   {
    "duration": 17,
    "start_time": "2022-04-08T20:31:26.684Z"
   },
   {
    "duration": 36,
    "start_time": "2022-04-08T20:31:26.703Z"
   },
   {
    "duration": 25,
    "start_time": "2022-04-08T20:31:26.741Z"
   },
   {
    "duration": 13,
    "start_time": "2022-04-08T20:31:26.768Z"
   },
   {
    "duration": 21,
    "start_time": "2022-04-08T20:31:26.783Z"
   },
   {
    "duration": 41,
    "start_time": "2022-04-08T20:31:26.806Z"
   },
   {
    "duration": 21,
    "start_time": "2022-04-08T20:31:26.850Z"
   },
   {
    "duration": 13,
    "start_time": "2022-04-08T20:31:26.873Z"
   },
   {
    "duration": 17,
    "start_time": "2022-04-08T20:31:26.888Z"
   },
   {
    "duration": 51,
    "start_time": "2022-04-08T20:31:26.908Z"
   },
   {
    "duration": 24,
    "start_time": "2022-04-08T20:31:26.960Z"
   },
   {
    "duration": 18,
    "start_time": "2022-04-08T20:31:26.987Z"
   },
   {
    "duration": 14,
    "start_time": "2022-04-08T20:31:27.009Z"
   },
   {
    "duration": 20,
    "start_time": "2022-04-08T20:31:27.025Z"
   },
   {
    "duration": 7,
    "start_time": "2022-04-08T20:31:27.047Z"
   },
   {
    "duration": 16,
    "start_time": "2022-04-08T20:31:27.055Z"
   },
   {
    "duration": 24,
    "start_time": "2022-04-08T20:31:27.073Z"
   },
   {
    "duration": 15,
    "start_time": "2022-04-08T20:31:27.098Z"
   },
   {
    "duration": 226,
    "start_time": "2022-04-08T20:31:27.116Z"
   },
   {
    "duration": 12,
    "start_time": "2022-04-08T20:31:27.344Z"
   },
   {
    "duration": 40,
    "start_time": "2022-04-08T20:31:27.358Z"
   },
   {
    "duration": 43,
    "start_time": "2022-04-08T20:31:27.399Z"
   },
   {
    "duration": 30,
    "start_time": "2022-04-08T20:31:27.444Z"
   },
   {
    "duration": 30,
    "start_time": "2022-04-08T20:31:27.476Z"
   },
   {
    "duration": 55,
    "start_time": "2022-04-08T20:31:27.509Z"
   },
   {
    "duration": 208,
    "start_time": "2022-04-08T20:31:27.566Z"
   },
   {
    "duration": 270,
    "start_time": "2022-04-08T20:31:27.776Z"
   },
   {
    "duration": 264,
    "start_time": "2022-04-08T20:31:28.048Z"
   },
   {
    "duration": 10,
    "start_time": "2022-04-08T20:31:28.314Z"
   },
   {
    "duration": 9,
    "start_time": "2022-04-08T20:31:28.340Z"
   },
   {
    "duration": 252,
    "start_time": "2022-04-08T20:31:28.351Z"
   },
   {
    "duration": 6,
    "start_time": "2022-04-08T20:31:28.605Z"
   },
   {
    "duration": 13,
    "start_time": "2022-04-08T20:31:28.612Z"
   },
   {
    "duration": 15,
    "start_time": "2022-04-08T20:31:28.627Z"
   },
   {
    "duration": 14,
    "start_time": "2022-04-08T20:31:28.644Z"
   }
  ],
  "kernelspec": {
   "display_name": "Python 3 (ipykernel)",
   "language": "python",
   "name": "python3"
  },
  "language_info": {
   "codemirror_mode": {
    "name": "ipython",
    "version": 3
   },
   "file_extension": ".py",
   "mimetype": "text/x-python",
   "name": "python",
   "nbconvert_exporter": "python",
   "pygments_lexer": "ipython3",
   "version": "3.9.12"
  },
  "toc": {
   "base_numbering": 1,
   "nav_menu": {
    "height": "289.983px",
    "width": "597.882px"
   },
   "number_sections": true,
   "sideBar": true,
   "skip_h1_title": true,
   "title_cell": "Table of Contents",
   "title_sidebar": "Contents",
   "toc_cell": false,
   "toc_position": {},
   "toc_section_display": true,
   "toc_window_display": false
  }
 },
 "nbformat": 4,
 "nbformat_minor": 2
}
