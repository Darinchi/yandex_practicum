{
 "cells": [
  {
   "cell_type": "markdown",
   "metadata": {},
   "source": [
    "# Анализ результатов А/В теста интернет-магазина\n",
    "\n",
    "Вместе с отделом маркетинга был подготовлен список гипотез для увеличения выручки крупного интернет-магазина.\n",
    "\n",
    "Также у нас есть данные о пользователях двух групп А и В, участвовавших в проведении А/В теста в течение августа 2019 г., и их заказах.\n",
    "\n",
    "Задачи нашего исследования:\n",
    "\n",
    "* приоритизировать гипотезы;\n",
    "* проанализировать результаты А/В теста.\n",
    "\n",
    "План нашего проекта:\n",
    "\n",
    "1. Приоритизировать гипотезы для увеличения выручки с помощью методов ICE и RICE, сравнить полученные результаты;\n",
    "2. Оценить результаты A/B-теста визуально и выяснить, есть ли в данных выбросы;\n",
    "3. Удалить выбросы и найти границу для их определения;\n",
    "4. Посчитать статистическую значимость различий в конверсии и среднем чеке между группами по «сырым» данным и «очищенным» данным;\n",
    "5. Принять решение по результатам А/В теста."
   ]
  },
  {
   "cell_type": "markdown",
   "metadata": {},
   "source": [
    "<h1>Содержание<span class=\"tocSkip\"></span></h1>\n",
    "<div class=\"toc\"><ul class=\"toc-item\"><li><span><a href=\"#Изучение-и-предобработка-данных\" data-toc-modified-id=\"Изучение-и-предобработка-данных-1\"><span class=\"toc-item-num\">1&nbsp;&nbsp;</span>Изучение и предобработка данных</a></span></li><li><span><a href=\"#Приоритизация-гипотез\" data-toc-modified-id=\"Приоритизация-гипотез-2\"><span class=\"toc-item-num\">2&nbsp;&nbsp;</span>Приоритизация гипотез</a></span></li><li><span><a href=\"#Анализ-A/B-теста\" data-toc-modified-id=\"Анализ-A/B-теста-3\"><span class=\"toc-item-num\">3&nbsp;&nbsp;</span>Анализ A/B-теста</a></span></li>"
   ]
  },
  {
   "cell_type": "markdown",
   "metadata": {},
   "source": [
    "## Изучение и предобработка данных"
   ]
  },
  {
   "cell_type": "code",
   "execution_count": 1,
   "metadata": {},
   "outputs": [],
   "source": [
    "import pandas as pd\n",
    "import matplotlib.pyplot as plt\n",
    "\n",
    "import seaborn as sns\n",
    "import scipy.stats as stats\n",
    "\n",
    "import numpy as np"
   ]
  },
  {
   "cell_type": "code",
   "execution_count": 2,
   "metadata": {},
   "outputs": [],
   "source": [
    "hypothesis = pd.read_csv('datasets/hypothesis.csv')\n",
    "orders = pd.read_csv('datasets/orders.csv')\n",
    "visitors = pd.read_csv('datasets/visitors.csv')"
   ]
  },
  {
   "cell_type": "markdown",
   "metadata": {},
   "source": [
    "**Предобработка данных hypothesis**"
   ]
  },
  {
   "cell_type": "code",
   "execution_count": 3,
   "metadata": {},
   "outputs": [
    {
     "name": "stdout",
     "output_type": "stream",
     "text": [
      "<class 'pandas.core.frame.DataFrame'>\n",
      "RangeIndex: 9 entries, 0 to 8\n",
      "Data columns (total 5 columns):\n",
      " #   Column      Non-Null Count  Dtype \n",
      "---  ------      --------------  ----- \n",
      " 0   Hypothesis  9 non-null      object\n",
      " 1   Reach       9 non-null      int64 \n",
      " 2   Impact      9 non-null      int64 \n",
      " 3   Confidence  9 non-null      int64 \n",
      " 4   Efforts     9 non-null      int64 \n",
      "dtypes: int64(4), object(1)\n",
      "memory usage: 488.0+ bytes\n"
     ]
    },
    {
     "data": {
      "text/html": [
       "<div>\n",
       "<style scoped>\n",
       "    .dataframe tbody tr th:only-of-type {\n",
       "        vertical-align: middle;\n",
       "    }\n",
       "\n",
       "    .dataframe tbody tr th {\n",
       "        vertical-align: top;\n",
       "    }\n",
       "\n",
       "    .dataframe thead th {\n",
       "        text-align: right;\n",
       "    }\n",
       "</style>\n",
       "<table border=\"1\" class=\"dataframe\">\n",
       "  <thead>\n",
       "    <tr style=\"text-align: right;\">\n",
       "      <th></th>\n",
       "      <th>Hypothesis</th>\n",
       "      <th>Reach</th>\n",
       "      <th>Impact</th>\n",
       "      <th>Confidence</th>\n",
       "      <th>Efforts</th>\n",
       "    </tr>\n",
       "  </thead>\n",
       "  <tbody>\n",
       "    <tr>\n",
       "      <th>0</th>\n",
       "      <td>Добавить два новых канала привлечения трафика, что позволит привлекать на 30% больше пользователей</td>\n",
       "      <td>3</td>\n",
       "      <td>10</td>\n",
       "      <td>8</td>\n",
       "      <td>6</td>\n",
       "    </tr>\n",
       "    <tr>\n",
       "      <th>1</th>\n",
       "      <td>Запустить собственную службу доставки, что сократит срок доставки заказов</td>\n",
       "      <td>2</td>\n",
       "      <td>5</td>\n",
       "      <td>4</td>\n",
       "      <td>10</td>\n",
       "    </tr>\n",
       "    <tr>\n",
       "      <th>2</th>\n",
       "      <td>Добавить блоки рекомендаций товаров на сайт интернет магазина, чтобы повысить конверсию и средний чек заказа</td>\n",
       "      <td>8</td>\n",
       "      <td>3</td>\n",
       "      <td>7</td>\n",
       "      <td>3</td>\n",
       "    </tr>\n",
       "    <tr>\n",
       "      <th>3</th>\n",
       "      <td>Изменить структура категорий, что увеличит конверсию, т.к. пользователи быстрее найдут нужный товар</td>\n",
       "      <td>8</td>\n",
       "      <td>3</td>\n",
       "      <td>3</td>\n",
       "      <td>8</td>\n",
       "    </tr>\n",
       "    <tr>\n",
       "      <th>4</th>\n",
       "      <td>Изменить цвет фона главной страницы, чтобы увеличить вовлеченность пользователей</td>\n",
       "      <td>3</td>\n",
       "      <td>1</td>\n",
       "      <td>1</td>\n",
       "      <td>1</td>\n",
       "    </tr>\n",
       "    <tr>\n",
       "      <th>5</th>\n",
       "      <td>Добавить страницу отзывов клиентов о магазине, что позволит увеличить количество заказов</td>\n",
       "      <td>3</td>\n",
       "      <td>2</td>\n",
       "      <td>2</td>\n",
       "      <td>3</td>\n",
       "    </tr>\n",
       "    <tr>\n",
       "      <th>6</th>\n",
       "      <td>Показать на главной странице баннеры с актуальными акциями и распродажами, чтобы увеличить конверсию</td>\n",
       "      <td>5</td>\n",
       "      <td>3</td>\n",
       "      <td>8</td>\n",
       "      <td>3</td>\n",
       "    </tr>\n",
       "    <tr>\n",
       "      <th>7</th>\n",
       "      <td>Добавить форму подписки на все основные страницы, чтобы собрать базу клиентов для email-рассылок</td>\n",
       "      <td>10</td>\n",
       "      <td>7</td>\n",
       "      <td>8</td>\n",
       "      <td>5</td>\n",
       "    </tr>\n",
       "    <tr>\n",
       "      <th>8</th>\n",
       "      <td>Запустить акцию, дающую скидку на товар в день рождения</td>\n",
       "      <td>1</td>\n",
       "      <td>9</td>\n",
       "      <td>9</td>\n",
       "      <td>5</td>\n",
       "    </tr>\n",
       "  </tbody>\n",
       "</table>\n",
       "</div>"
      ],
      "text/plain": [
       "                                                                                                     Hypothesis  \\\n",
       "0            Добавить два новых канала привлечения трафика, что позволит привлекать на 30% больше пользователей   \n",
       "1                                     Запустить собственную службу доставки, что сократит срок доставки заказов   \n",
       "2  Добавить блоки рекомендаций товаров на сайт интернет магазина, чтобы повысить конверсию и средний чек заказа   \n",
       "3           Изменить структура категорий, что увеличит конверсию, т.к. пользователи быстрее найдут нужный товар   \n",
       "4                              Изменить цвет фона главной страницы, чтобы увеличить вовлеченность пользователей   \n",
       "5                      Добавить страницу отзывов клиентов о магазине, что позволит увеличить количество заказов   \n",
       "6          Показать на главной странице баннеры с актуальными акциями и распродажами, чтобы увеличить конверсию   \n",
       "7              Добавить форму подписки на все основные страницы, чтобы собрать базу клиентов для email-рассылок   \n",
       "8                                                       Запустить акцию, дающую скидку на товар в день рождения   \n",
       "\n",
       "   Reach  Impact  Confidence  Efforts  \n",
       "0      3      10           8        6  \n",
       "1      2       5           4       10  \n",
       "2      8       3           7        3  \n",
       "3      8       3           3        8  \n",
       "4      3       1           1        1  \n",
       "5      3       2           2        3  \n",
       "6      5       3           8        3  \n",
       "7     10       7           8        5  \n",
       "8      1       9           9        5  "
      ]
     },
     "execution_count": 3,
     "metadata": {},
     "output_type": "execute_result"
    }
   ],
   "source": [
    "# метод позволяющий отобразить в строке 150 знаков\n",
    "pd.options.display.max_colwidth = 150\n",
    "hypothesis.info()\n",
    "hypothesis"
   ]
  },
  {
   "cell_type": "markdown",
   "metadata": {},
   "source": [
    "В таблице содержатся информация о 9 подготовленных гипотезах для увеличения выручки:\n",
    "\n",
    "    Hypothesis — краткое описание гипотезы;\n",
    "    Reach — охват пользователей по 10-балльной шкале;\n",
    "    Impact — влияние на пользователей по 10-балльной шкале;\n",
    "    Confidence — уверенность в гипотезе по 10-балльной шкале;\n",
    "    Efforts — затраты ресурсов на проверку гипотезы по 10-балльной шкале.\n",
    "    \n",
    "    Чем больше значение Efforts, тем дороже проверка гипотезы."
   ]
  },
  {
   "cell_type": "code",
   "execution_count": 4,
   "metadata": {},
   "outputs": [],
   "source": [
    "# Приведем названия столбцов к нижнему регистру\n",
    "hypothesis.columns = hypothesis.columns.str.lower()"
   ]
  },
  {
   "cell_type": "code",
   "execution_count": 5,
   "metadata": {},
   "outputs": [
    {
     "data": {
      "text/plain": [
       "hypothesis    0.0\n",
       "reach         0.0\n",
       "impact        0.0\n",
       "confidence    0.0\n",
       "efforts       0.0\n",
       "dtype: float64"
      ]
     },
     "execution_count": 5,
     "metadata": {},
     "output_type": "execute_result"
    }
   ],
   "source": [
    "# Выведем процент пропусков\n",
    "round((hypothesis.isna().mean()*100),2)"
   ]
  },
  {
   "cell_type": "code",
   "execution_count": 6,
   "metadata": {},
   "outputs": [
    {
     "data": {
      "text/plain": [
       "0"
      ]
     },
     "execution_count": 6,
     "metadata": {},
     "output_type": "execute_result"
    }
   ],
   "source": [
    "# Обработаем пропуски при необходимости\n",
    "hypothesis.duplicated().sum()"
   ]
  },
  {
   "cell_type": "markdown",
   "metadata": {},
   "source": [
    "**Предобработка данных orders**"
   ]
  },
  {
   "cell_type": "code",
   "execution_count": 7,
   "metadata": {},
   "outputs": [
    {
     "name": "stdout",
     "output_type": "stream",
     "text": [
      "<class 'pandas.core.frame.DataFrame'>\n",
      "RangeIndex: 1197 entries, 0 to 1196\n",
      "Data columns (total 5 columns):\n",
      " #   Column         Non-Null Count  Dtype \n",
      "---  ------         --------------  ----- \n",
      " 0   transactionId  1197 non-null   int64 \n",
      " 1   visitorId      1197 non-null   int64 \n",
      " 2   date           1197 non-null   object\n",
      " 3   revenue        1197 non-null   int64 \n",
      " 4   group          1197 non-null   object\n",
      "dtypes: int64(3), object(2)\n",
      "memory usage: 46.9+ KB\n"
     ]
    },
    {
     "data": {
      "text/html": [
       "<div>\n",
       "<style scoped>\n",
       "    .dataframe tbody tr th:only-of-type {\n",
       "        vertical-align: middle;\n",
       "    }\n",
       "\n",
       "    .dataframe tbody tr th {\n",
       "        vertical-align: top;\n",
       "    }\n",
       "\n",
       "    .dataframe thead th {\n",
       "        text-align: right;\n",
       "    }\n",
       "</style>\n",
       "<table border=\"1\" class=\"dataframe\">\n",
       "  <thead>\n",
       "    <tr style=\"text-align: right;\">\n",
       "      <th></th>\n",
       "      <th>transactionId</th>\n",
       "      <th>visitorId</th>\n",
       "      <th>date</th>\n",
       "      <th>revenue</th>\n",
       "      <th>group</th>\n",
       "    </tr>\n",
       "  </thead>\n",
       "  <tbody>\n",
       "    <tr>\n",
       "      <th>0</th>\n",
       "      <td>3667963787</td>\n",
       "      <td>3312258926</td>\n",
       "      <td>2019-08-15</td>\n",
       "      <td>1650</td>\n",
       "      <td>B</td>\n",
       "    </tr>\n",
       "    <tr>\n",
       "      <th>1</th>\n",
       "      <td>2804400009</td>\n",
       "      <td>3642806036</td>\n",
       "      <td>2019-08-15</td>\n",
       "      <td>730</td>\n",
       "      <td>B</td>\n",
       "    </tr>\n",
       "    <tr>\n",
       "      <th>2</th>\n",
       "      <td>2961555356</td>\n",
       "      <td>4069496402</td>\n",
       "      <td>2019-08-15</td>\n",
       "      <td>400</td>\n",
       "      <td>A</td>\n",
       "    </tr>\n",
       "    <tr>\n",
       "      <th>3</th>\n",
       "      <td>3797467345</td>\n",
       "      <td>1196621759</td>\n",
       "      <td>2019-08-15</td>\n",
       "      <td>9759</td>\n",
       "      <td>B</td>\n",
       "    </tr>\n",
       "    <tr>\n",
       "      <th>4</th>\n",
       "      <td>2282983706</td>\n",
       "      <td>2322279887</td>\n",
       "      <td>2019-08-15</td>\n",
       "      <td>2308</td>\n",
       "      <td>B</td>\n",
       "    </tr>\n",
       "  </tbody>\n",
       "</table>\n",
       "</div>"
      ],
      "text/plain": [
       "   transactionId   visitorId        date  revenue group\n",
       "0     3667963787  3312258926  2019-08-15     1650     B\n",
       "1     2804400009  3642806036  2019-08-15      730     B\n",
       "2     2961555356  4069496402  2019-08-15      400     A\n",
       "3     3797467345  1196621759  2019-08-15     9759     B\n",
       "4     2282983706  2322279887  2019-08-15     2308     B"
      ]
     },
     "execution_count": 7,
     "metadata": {},
     "output_type": "execute_result"
    }
   ],
   "source": [
    "orders.info()\n",
    "orders.head()"
   ]
  },
  {
   "cell_type": "markdown",
   "metadata": {},
   "source": [
    "В таблице содержатся информация о заказах после проведения А/В теста:\n",
    "\n",
    "    transactionId — идентификатор заказа;\n",
    "    visitorId — идентификатор пользователя, совершившего заказ;\n",
    "    date — дата, когда был совершён заказ;\n",
    "    revenue — выручка заказа;\n",
    "    group — группа A/B-теста, в которую попал заказ."
   ]
  },
  {
   "cell_type": "code",
   "execution_count": 8,
   "metadata": {},
   "outputs": [],
   "source": [
    "# заменим названия столбцов\n",
    "orders = orders.rename(columns={'transactionId': 'transaction_id', 'visitorId': 'visitor_id'})"
   ]
  },
  {
   "cell_type": "code",
   "execution_count": 9,
   "metadata": {},
   "outputs": [
    {
     "data": {
      "text/plain": [
       "transaction_id    0.0\n",
       "visitor_id        0.0\n",
       "date              0.0\n",
       "revenue           0.0\n",
       "group             0.0\n",
       "dtype: float64"
      ]
     },
     "execution_count": 9,
     "metadata": {},
     "output_type": "execute_result"
    }
   ],
   "source": [
    "# Выведем процент пропусков\n",
    "round((orders.isna().mean()*100),2)"
   ]
  },
  {
   "cell_type": "code",
   "execution_count": 10,
   "metadata": {},
   "outputs": [
    {
     "data": {
      "text/plain": [
       "0"
      ]
     },
     "execution_count": 10,
     "metadata": {},
     "output_type": "execute_result"
    }
   ],
   "source": [
    "# Обработаем пропуски при необходимости\n",
    "orders.duplicated().sum()"
   ]
  },
  {
   "cell_type": "code",
   "execution_count": 11,
   "metadata": {},
   "outputs": [],
   "source": [
    "# преобразуем данные о времени\n",
    "# orders['date'] = pd.to_datetime(orders['date'])\n",
    "# и выведем ещё раз информацию о таблице\n",
    "# orders.info()"
   ]
  },
  {
   "cell_type": "markdown",
   "metadata": {},
   "source": [
    "**Предобработка данных visitors**"
   ]
  },
  {
   "cell_type": "code",
   "execution_count": 12,
   "metadata": {},
   "outputs": [
    {
     "name": "stdout",
     "output_type": "stream",
     "text": [
      "<class 'pandas.core.frame.DataFrame'>\n",
      "RangeIndex: 62 entries, 0 to 61\n",
      "Data columns (total 3 columns):\n",
      " #   Column    Non-Null Count  Dtype \n",
      "---  ------    --------------  ----- \n",
      " 0   date      62 non-null     object\n",
      " 1   group     62 non-null     object\n",
      " 2   visitors  62 non-null     int64 \n",
      "dtypes: int64(1), object(2)\n",
      "memory usage: 1.6+ KB\n"
     ]
    },
    {
     "data": {
      "text/html": [
       "<div>\n",
       "<style scoped>\n",
       "    .dataframe tbody tr th:only-of-type {\n",
       "        vertical-align: middle;\n",
       "    }\n",
       "\n",
       "    .dataframe tbody tr th {\n",
       "        vertical-align: top;\n",
       "    }\n",
       "\n",
       "    .dataframe thead th {\n",
       "        text-align: right;\n",
       "    }\n",
       "</style>\n",
       "<table border=\"1\" class=\"dataframe\">\n",
       "  <thead>\n",
       "    <tr style=\"text-align: right;\">\n",
       "      <th></th>\n",
       "      <th>date</th>\n",
       "      <th>group</th>\n",
       "      <th>visitors</th>\n",
       "    </tr>\n",
       "  </thead>\n",
       "  <tbody>\n",
       "    <tr>\n",
       "      <th>0</th>\n",
       "      <td>2019-08-01</td>\n",
       "      <td>A</td>\n",
       "      <td>719</td>\n",
       "    </tr>\n",
       "    <tr>\n",
       "      <th>1</th>\n",
       "      <td>2019-08-02</td>\n",
       "      <td>A</td>\n",
       "      <td>619</td>\n",
       "    </tr>\n",
       "    <tr>\n",
       "      <th>2</th>\n",
       "      <td>2019-08-03</td>\n",
       "      <td>A</td>\n",
       "      <td>507</td>\n",
       "    </tr>\n",
       "    <tr>\n",
       "      <th>3</th>\n",
       "      <td>2019-08-04</td>\n",
       "      <td>A</td>\n",
       "      <td>717</td>\n",
       "    </tr>\n",
       "    <tr>\n",
       "      <th>4</th>\n",
       "      <td>2019-08-05</td>\n",
       "      <td>A</td>\n",
       "      <td>756</td>\n",
       "    </tr>\n",
       "  </tbody>\n",
       "</table>\n",
       "</div>"
      ],
      "text/plain": [
       "         date group  visitors\n",
       "0  2019-08-01     A       719\n",
       "1  2019-08-02     A       619\n",
       "2  2019-08-03     A       507\n",
       "3  2019-08-04     A       717\n",
       "4  2019-08-05     A       756"
      ]
     },
     "execution_count": 12,
     "metadata": {},
     "output_type": "execute_result"
    }
   ],
   "source": [
    "visitors.info()\n",
    "visitors.head()"
   ]
  },
  {
   "cell_type": "markdown",
   "metadata": {},
   "source": [
    "В таблице содержатся информация о пользователях, участвовавших в проведении А/В теста:\n",
    "\n",
    "    date — дата;\n",
    "    group — группа A/B-теста;\n",
    "    visitors — количество пользователей в указанную дату в указанной группе A/B-теста"
   ]
  },
  {
   "cell_type": "code",
   "execution_count": 13,
   "metadata": {},
   "outputs": [
    {
     "data": {
      "text/plain": [
       "date        0.0\n",
       "group       0.0\n",
       "visitors    0.0\n",
       "dtype: float64"
      ]
     },
     "execution_count": 13,
     "metadata": {},
     "output_type": "execute_result"
    }
   ],
   "source": [
    "# Выведем процент пропусков\n",
    "round((visitors.isna().mean()*100),2)"
   ]
  },
  {
   "cell_type": "code",
   "execution_count": 14,
   "metadata": {},
   "outputs": [
    {
     "data": {
      "text/plain": [
       "0"
      ]
     },
     "execution_count": 14,
     "metadata": {},
     "output_type": "execute_result"
    }
   ],
   "source": [
    "# Обработаем пропуски при необходимости\n",
    "visitors.duplicated().sum()"
   ]
  },
  {
   "cell_type": "markdown",
   "metadata": {},
   "source": [
    "В столбце date таблиц orders и visitors тип не соответствует данным даты. Заменим тип данных"
   ]
  },
  {
   "cell_type": "code",
   "execution_count": 15,
   "metadata": {},
   "outputs": [],
   "source": [
    "# преобразуем данные о времени\n",
    "orders['date'] = pd.to_datetime(orders['date'])\n",
    "visitors['date'] = pd.to_datetime(visitors['date'])"
   ]
  },
  {
   "cell_type": "markdown",
   "metadata": {},
   "source": [
    "**Вывод**\n",
    "\n",
    "На этапе предобработки данных мы изучили данные из файлов, привели названия столбцов таблиц к одному стилю, обработали дубликаты и заменили типы данных, где это было необходимо."
   ]
  },
  {
   "cell_type": "markdown",
   "metadata": {},
   "source": [
    "## Приоритизация гипотез"
   ]
  },
  {
   "cell_type": "markdown",
   "metadata": {},
   "source": [
    "С помощью метода ICE проведем приоритизацию сформулированных гипотез."
   ]
  },
  {
   "cell_type": "code",
   "execution_count": 16,
   "metadata": {},
   "outputs": [
    {
     "data": {
      "text/html": [
       "<div>\n",
       "<style scoped>\n",
       "    .dataframe tbody tr th:only-of-type {\n",
       "        vertical-align: middle;\n",
       "    }\n",
       "\n",
       "    .dataframe tbody tr th {\n",
       "        vertical-align: top;\n",
       "    }\n",
       "\n",
       "    .dataframe thead th {\n",
       "        text-align: right;\n",
       "    }\n",
       "</style>\n",
       "<table border=\"1\" class=\"dataframe\">\n",
       "  <thead>\n",
       "    <tr style=\"text-align: right;\">\n",
       "      <th></th>\n",
       "      <th>hypothesis</th>\n",
       "      <th>ICE</th>\n",
       "    </tr>\n",
       "  </thead>\n",
       "  <tbody>\n",
       "    <tr>\n",
       "      <th>8</th>\n",
       "      <td>Запустить акцию, дающую скидку на товар в день рождения</td>\n",
       "      <td>16.20</td>\n",
       "    </tr>\n",
       "    <tr>\n",
       "      <th>0</th>\n",
       "      <td>Добавить два новых канала привлечения трафика, что позволит привлекать на 30% больше пользователей</td>\n",
       "      <td>13.33</td>\n",
       "    </tr>\n",
       "    <tr>\n",
       "      <th>7</th>\n",
       "      <td>Добавить форму подписки на все основные страницы, чтобы собрать базу клиентов для email-рассылок</td>\n",
       "      <td>11.20</td>\n",
       "    </tr>\n",
       "    <tr>\n",
       "      <th>6</th>\n",
       "      <td>Показать на главной странице баннеры с актуальными акциями и распродажами, чтобы увеличить конверсию</td>\n",
       "      <td>8.00</td>\n",
       "    </tr>\n",
       "    <tr>\n",
       "      <th>2</th>\n",
       "      <td>Добавить блоки рекомендаций товаров на сайт интернет магазина, чтобы повысить конверсию и средний чек заказа</td>\n",
       "      <td>7.00</td>\n",
       "    </tr>\n",
       "    <tr>\n",
       "      <th>1</th>\n",
       "      <td>Запустить собственную службу доставки, что сократит срок доставки заказов</td>\n",
       "      <td>2.00</td>\n",
       "    </tr>\n",
       "    <tr>\n",
       "      <th>5</th>\n",
       "      <td>Добавить страницу отзывов клиентов о магазине, что позволит увеличить количество заказов</td>\n",
       "      <td>1.33</td>\n",
       "    </tr>\n",
       "    <tr>\n",
       "      <th>3</th>\n",
       "      <td>Изменить структура категорий, что увеличит конверсию, т.к. пользователи быстрее найдут нужный товар</td>\n",
       "      <td>1.12</td>\n",
       "    </tr>\n",
       "    <tr>\n",
       "      <th>4</th>\n",
       "      <td>Изменить цвет фона главной страницы, чтобы увеличить вовлеченность пользователей</td>\n",
       "      <td>1.00</td>\n",
       "    </tr>\n",
       "  </tbody>\n",
       "</table>\n",
       "</div>"
      ],
      "text/plain": [
       "                                                                                                     hypothesis  \\\n",
       "8                                                       Запустить акцию, дающую скидку на товар в день рождения   \n",
       "0            Добавить два новых канала привлечения трафика, что позволит привлекать на 30% больше пользователей   \n",
       "7              Добавить форму подписки на все основные страницы, чтобы собрать базу клиентов для email-рассылок   \n",
       "6          Показать на главной странице баннеры с актуальными акциями и распродажами, чтобы увеличить конверсию   \n",
       "2  Добавить блоки рекомендаций товаров на сайт интернет магазина, чтобы повысить конверсию и средний чек заказа   \n",
       "1                                     Запустить собственную службу доставки, что сократит срок доставки заказов   \n",
       "5                      Добавить страницу отзывов клиентов о магазине, что позволит увеличить количество заказов   \n",
       "3           Изменить структура категорий, что увеличит конверсию, т.к. пользователи быстрее найдут нужный товар   \n",
       "4                              Изменить цвет фона главной страницы, чтобы увеличить вовлеченность пользователей   \n",
       "\n",
       "     ICE  \n",
       "8  16.20  \n",
       "0  13.33  \n",
       "7  11.20  \n",
       "6   8.00  \n",
       "2   7.00  \n",
       "1   2.00  \n",
       "5   1.33  \n",
       "3   1.12  \n",
       "4   1.00  "
      ]
     },
     "execution_count": 16,
     "metadata": {},
     "output_type": "execute_result"
    }
   ],
   "source": [
    "hypothesis['ICE'] = hypothesis['impact'] * hypothesis['confidence'] / hypothesis['efforts']\n",
    "round(hypothesis[['hypothesis', 'ICE']].sort_values(by='ICE', ascending=False),2)"
   ]
  },
  {
   "cell_type": "markdown",
   "metadata": {},
   "source": [
    "9 гипотеза - самая перспективная. За ней следуют - 1 и 8.\n",
    "\n",
    "Теперь проведем приоритизацию гипотез с помощью метода RICE ."
   ]
  },
  {
   "cell_type": "code",
   "execution_count": 17,
   "metadata": {},
   "outputs": [
    {
     "data": {
      "text/html": [
       "<div>\n",
       "<style scoped>\n",
       "    .dataframe tbody tr th:only-of-type {\n",
       "        vertical-align: middle;\n",
       "    }\n",
       "\n",
       "    .dataframe tbody tr th {\n",
       "        vertical-align: top;\n",
       "    }\n",
       "\n",
       "    .dataframe thead th {\n",
       "        text-align: right;\n",
       "    }\n",
       "</style>\n",
       "<table border=\"1\" class=\"dataframe\">\n",
       "  <thead>\n",
       "    <tr style=\"text-align: right;\">\n",
       "      <th></th>\n",
       "      <th>hypothesis</th>\n",
       "      <th>reach</th>\n",
       "      <th>impact</th>\n",
       "      <th>confidence</th>\n",
       "      <th>efforts</th>\n",
       "      <th>ICE</th>\n",
       "      <th>RICE</th>\n",
       "    </tr>\n",
       "  </thead>\n",
       "  <tbody>\n",
       "    <tr>\n",
       "      <th>7</th>\n",
       "      <td>Добавить форму подписки на все основные страницы, чтобы собрать базу клиентов для email-рассылок</td>\n",
       "      <td>10</td>\n",
       "      <td>7</td>\n",
       "      <td>8</td>\n",
       "      <td>5</td>\n",
       "      <td>11.20</td>\n",
       "      <td>112.0</td>\n",
       "    </tr>\n",
       "    <tr>\n",
       "      <th>2</th>\n",
       "      <td>Добавить блоки рекомендаций товаров на сайт интернет магазина, чтобы повысить конверсию и средний чек заказа</td>\n",
       "      <td>8</td>\n",
       "      <td>3</td>\n",
       "      <td>7</td>\n",
       "      <td>3</td>\n",
       "      <td>7.00</td>\n",
       "      <td>56.0</td>\n",
       "    </tr>\n",
       "    <tr>\n",
       "      <th>0</th>\n",
       "      <td>Добавить два новых канала привлечения трафика, что позволит привлекать на 30% больше пользователей</td>\n",
       "      <td>3</td>\n",
       "      <td>10</td>\n",
       "      <td>8</td>\n",
       "      <td>6</td>\n",
       "      <td>13.33</td>\n",
       "      <td>40.0</td>\n",
       "    </tr>\n",
       "    <tr>\n",
       "      <th>6</th>\n",
       "      <td>Показать на главной странице баннеры с актуальными акциями и распродажами, чтобы увеличить конверсию</td>\n",
       "      <td>5</td>\n",
       "      <td>3</td>\n",
       "      <td>8</td>\n",
       "      <td>3</td>\n",
       "      <td>8.00</td>\n",
       "      <td>40.0</td>\n",
       "    </tr>\n",
       "    <tr>\n",
       "      <th>8</th>\n",
       "      <td>Запустить акцию, дающую скидку на товар в день рождения</td>\n",
       "      <td>1</td>\n",
       "      <td>9</td>\n",
       "      <td>9</td>\n",
       "      <td>5</td>\n",
       "      <td>16.20</td>\n",
       "      <td>16.2</td>\n",
       "    </tr>\n",
       "    <tr>\n",
       "      <th>3</th>\n",
       "      <td>Изменить структура категорий, что увеличит конверсию, т.к. пользователи быстрее найдут нужный товар</td>\n",
       "      <td>8</td>\n",
       "      <td>3</td>\n",
       "      <td>3</td>\n",
       "      <td>8</td>\n",
       "      <td>1.12</td>\n",
       "      <td>9.0</td>\n",
       "    </tr>\n",
       "    <tr>\n",
       "      <th>1</th>\n",
       "      <td>Запустить собственную службу доставки, что сократит срок доставки заказов</td>\n",
       "      <td>2</td>\n",
       "      <td>5</td>\n",
       "      <td>4</td>\n",
       "      <td>10</td>\n",
       "      <td>2.00</td>\n",
       "      <td>4.0</td>\n",
       "    </tr>\n",
       "    <tr>\n",
       "      <th>5</th>\n",
       "      <td>Добавить страницу отзывов клиентов о магазине, что позволит увеличить количество заказов</td>\n",
       "      <td>3</td>\n",
       "      <td>2</td>\n",
       "      <td>2</td>\n",
       "      <td>3</td>\n",
       "      <td>1.33</td>\n",
       "      <td>4.0</td>\n",
       "    </tr>\n",
       "    <tr>\n",
       "      <th>4</th>\n",
       "      <td>Изменить цвет фона главной страницы, чтобы увеличить вовлеченность пользователей</td>\n",
       "      <td>3</td>\n",
       "      <td>1</td>\n",
       "      <td>1</td>\n",
       "      <td>1</td>\n",
       "      <td>1.00</td>\n",
       "      <td>3.0</td>\n",
       "    </tr>\n",
       "  </tbody>\n",
       "</table>\n",
       "</div>"
      ],
      "text/plain": [
       "                                                                                                     hypothesis  \\\n",
       "7              Добавить форму подписки на все основные страницы, чтобы собрать базу клиентов для email-рассылок   \n",
       "2  Добавить блоки рекомендаций товаров на сайт интернет магазина, чтобы повысить конверсию и средний чек заказа   \n",
       "0            Добавить два новых канала привлечения трафика, что позволит привлекать на 30% больше пользователей   \n",
       "6          Показать на главной странице баннеры с актуальными акциями и распродажами, чтобы увеличить конверсию   \n",
       "8                                                       Запустить акцию, дающую скидку на товар в день рождения   \n",
       "3           Изменить структура категорий, что увеличит конверсию, т.к. пользователи быстрее найдут нужный товар   \n",
       "1                                     Запустить собственную службу доставки, что сократит срок доставки заказов   \n",
       "5                      Добавить страницу отзывов клиентов о магазине, что позволит увеличить количество заказов   \n",
       "4                              Изменить цвет фона главной страницы, чтобы увеличить вовлеченность пользователей   \n",
       "\n",
       "   reach  impact  confidence  efforts    ICE   RICE  \n",
       "7     10       7           8        5  11.20  112.0  \n",
       "2      8       3           7        3   7.00   56.0  \n",
       "0      3      10           8        6  13.33   40.0  \n",
       "6      5       3           8        3   8.00   40.0  \n",
       "8      1       9           9        5  16.20   16.2  \n",
       "3      8       3           3        8   1.12    9.0  \n",
       "1      2       5           4       10   2.00    4.0  \n",
       "5      3       2           2        3   1.33    4.0  \n",
       "4      3       1           1        1   1.00    3.0  "
      ]
     },
     "execution_count": 17,
     "metadata": {},
     "output_type": "execute_result"
    }
   ],
   "source": [
    "hypothesis['RICE'] = hypothesis['reach'] * hypothesis['impact'] * hypothesis['confidence'] / hypothesis['efforts']\n",
    "round(hypothesis.sort_values(by='RICE', ascending=False),2)"
   ]
  },
  {
   "cell_type": "markdown",
   "metadata": {},
   "source": [
    "1 гипотеза заняла одно из первых мест. Однако, метод RICE выделил больше всего 8 гипотезу, за ней - 3, 1 и 7.\n",
    "Так вышло, поскольку для 8 гипотезы Reach(охват пользователей) составил максимум - 10 в отличие от других гипотез. В приоритете также оказалась 3 гипотеза, т.к. у неё тоже большой охват - 8."
   ]
  },
  {
   "cell_type": "markdown",
   "metadata": {},
   "source": [
    "**Вывод**\n",
    "\n",
    "Метод RICE выделил больше всего 8 гипотезу, а метод ICE - 9 гипотезу.\n",
    "Так вышло, поскольку для 8 гипотезы Reach(охват пользователей) составил максимум - 10 в отличие от других гипотез. "
   ]
  },
  {
   "cell_type": "markdown",
   "metadata": {},
   "source": [
    "## Анализ A/B-теста"
   ]
  },
  {
   "cell_type": "markdown",
   "metadata": {},
   "source": [
    "Сначала проверим, нет ли у нас пользователей, которые попали в обе группы: А и В."
   ]
  },
  {
   "cell_type": "code",
   "execution_count": 18,
   "metadata": {},
   "outputs": [
    {
     "name": "stdout",
     "output_type": "stream",
     "text": [
      "1031\n"
     ]
    },
    {
     "data": {
      "text/plain": [
       "group    0.056\n",
       "dtype: float64"
      ]
     },
     "execution_count": 18,
     "metadata": {},
     "output_type": "execute_result"
    }
   ],
   "source": [
    "# определим пересечение групп\n",
    "group_intersections = (orders.groupby(['visitor_id']) #группируем по айди\n",
    "       .agg({'group':'nunique'}) #считаем количество групп для каждого айди\n",
    "       .query('group > 1')  #выводим результат, где групп больше 1\n",
    ")\n",
    "\n",
    "# посчитаем кол-во уникальных пользователей всего\n",
    "unique_visitors  = orders['visitor_id'].nunique()\n",
    "\n",
    "print(unique_visitors)\n",
    "# оценим долю  пользователей, которые попали в обе группы\n",
    "percentage = group_intersections.count() / unique_visitors\n",
    "round(percentage,3)"
   ]
  },
  {
   "cell_type": "markdown",
   "metadata": {},
   "source": [
    "Пользователи, которые попали в обе группы: А и В, составили чуть больше 5% от всех пользователей, и вероятно появились из-за технической ошибки. Значит, их удаление не повлияет значительно на результаты теста."
   ]
  },
  {
   "cell_type": "code",
   "execution_count": 19,
   "metadata": {},
   "outputs": [],
   "source": [
    "group_a = (orders.query('group == \"A\"'))\n",
    "\n",
    "group_b = (orders.query('group == \"B\"'))\n",
    "group_intersections = list(np.intersect1d(group_a['visitor_id'], group_b['visitor_id']))"
   ]
  },
  {
   "cell_type": "code",
   "execution_count": 20,
   "metadata": {},
   "outputs": [
    {
     "data": {
      "text/plain": [
       "973"
      ]
     },
     "execution_count": 20,
     "metadata": {},
     "output_type": "execute_result"
    }
   ],
   "source": [
    "# Исключим данных пользователей из теста\n",
    "orders = orders.query('visitor_id not in @group_intersections')\n",
    "new_unique_visitors = orders['visitor_id'].nunique()\n",
    "new_unique_visitors"
   ]
  },
  {
   "cell_type": "markdown",
   "metadata": {},
   "source": [
    "После удаления у нас остались результаты о 973 пользователях.\n",
    "\n",
    "Также изучим:\n",
    "\n",
    "* сколько у нас групп в АВ-тесте;\n",
    "* даты начала и окончания теста;\n",
    "* сколько пользователей в каждой группе - по таблице с заказами."
   ]
  },
  {
   "cell_type": "code",
   "execution_count": 21,
   "metadata": {},
   "outputs": [
    {
     "data": {
      "text/plain": [
       "2"
      ]
     },
     "execution_count": 21,
     "metadata": {},
     "output_type": "execute_result"
    }
   ],
   "source": [
    "# посчитаем количество групп в тесте\n",
    "orders['group'].nunique()"
   ]
  },
  {
   "cell_type": "code",
   "execution_count": 22,
   "metadata": {},
   "outputs": [
    {
     "name": "stdout",
     "output_type": "stream",
     "text": [
      "Дата начала тестатаблицы orders: 2019-08-01\n",
      "Дата окончания теста таблицы orders: 2019-08-31\n",
      "Дата начала тестатаблицы visitors: 2019-08-01\n",
      "Дата окончания теста таблицы visitors: 2019-08-31\n"
     ]
    }
   ],
   "source": [
    "#узнаем даты начала и окончания теста\n",
    "\n",
    "print('Дата начала тестатаблицы orders:', orders['date'].dt.date.min())\n",
    "print('Дата окончания теста таблицы orders:', orders['date'].dt.date.max())\n",
    "\n",
    "print('Дата начала тестатаблицы visitors:', orders['date'].dt.date.min())\n",
    "print('Дата окончания теста таблицы visitors:', orders['date'].dt.date.max())"
   ]
  },
  {
   "cell_type": "markdown",
   "metadata": {},
   "source": [
    "Теперь мы знаем, что А/В тест проводился в течение одного месяца - августа 2019 г., в котором участвовали 973 пользователя."
   ]
  },
  {
   "cell_type": "code",
   "execution_count": 23,
   "metadata": {},
   "outputs": [
    {
     "name": "stdout",
     "output_type": "stream",
     "text": [
      "445 доля пользователей A 0.4573484069886948\n",
      "528 доля пользователей В 0.5426515930113053\n"
     ]
    }
   ],
   "source": [
    "# выясним, сколько пользователей в каждой группе \n",
    "group_a = (orders.query('group == \"A\"'))\n",
    "\n",
    "group_b = (orders.query('group == \"B\"'))\n",
    "\n",
    "print(group_a['visitor_id'].nunique(), 'доля пользователей A', group_a['visitor_id'].nunique() / new_unique_visitors)\n",
    "\n",
    "group_b = (orders.query('group == \"B\"'))\n",
    "print(group_b['visitor_id'].nunique(), 'доля пользователей В', group_b['visitor_id'].nunique() / new_unique_visitors)"
   ]
  },
  {
   "cell_type": "markdown",
   "metadata": {},
   "source": [
    "**1. Построим график кумулятивной выручки по группам.**"
   ]
  },
  {
   "cell_type": "code",
   "execution_count": 24,
   "metadata": {},
   "outputs": [],
   "source": [
    "datesGroups = orders[['date', 'group']].drop_duplicates()\n",
    "\n",
    "ordersAggregated = datesGroups.apply(\n",
    "    lambda x: orders[\n",
    "        np.logical_and(\n",
    "            orders['date'] <= x['date'], orders['group'] == x['group']\n",
    "        )\n",
    "    ].agg(\n",
    "        {\n",
    "            'date': 'max',\n",
    "            'group': 'max',\n",
    "            'transaction_id': 'nunique',\n",
    "            'visitor_id': 'nunique',\n",
    "            'revenue': 'sum',\n",
    "        }\n",
    "    ),\n",
    "    axis=1,\n",
    ").sort_values(by=['date', 'group'])\n",
    "\n",
    "visitorsAggregated = datesGroups.apply(\n",
    "    lambda x: visitors[\n",
    "        np.logical_and(\n",
    "            visitors['date'] <= x['date'], visitors['group'] == x['group']\n",
    "        )\n",
    "    ].agg({'date': 'max', 'group': 'max', 'visitors': 'sum'}),\n",
    "    axis=1,\n",
    ").sort_values(by=['date', 'group'])\n",
    "\n",
    "cumulativeData = ordersAggregated.merge(\n",
    "    visitorsAggregated, left_on=['date', 'group'], right_on=['date', 'group']\n",
    ")\n",
    "cumulativeData.columns = [\n",
    "    'date',\n",
    "    'group',\n",
    "    'orders',\n",
    "    'buyers',\n",
    "    'revenue',\n",
    "    'visitors',\n",
    "]\n"
   ]
  },
  {
   "cell_type": "code",
   "execution_count": 25,
   "metadata": {},
   "outputs": [
    {
     "name": "stdout",
     "output_type": "stream",
     "text": [
      "успех\n"
     ]
    }
   ],
   "source": [
    "if (\n",
    "    (cumulativeData['date'].dt.date.min() == orders['date'].dt.date.min())\n",
    "    and (cumulativeData['date'].dt.date.max() == orders['date'].dt.date.max())\n",
    "):\n",
    "    print('успех')\n"
   ]
  },
  {
   "cell_type": "code",
   "execution_count": 26,
   "metadata": {},
   "outputs": [
    {
     "data": {
      "text/plain": [
       "0    2019-08-01\n",
       "1    2019-08-01\n",
       "2    2019-08-02\n",
       "3    2019-08-02\n",
       "4    2019-08-03\n",
       "        ...    \n",
       "57   2019-08-29\n",
       "58   2019-08-30\n",
       "59   2019-08-30\n",
       "60   2019-08-31\n",
       "61   2019-08-31\n",
       "Name: date, Length: 62, dtype: datetime64[ns]"
      ]
     },
     "execution_count": 26,
     "metadata": {},
     "output_type": "execute_result"
    }
   ],
   "source": [
    "cumulativeData['date']"
   ]
  },
  {
   "cell_type": "code",
   "execution_count": 27,
   "metadata": {},
   "outputs": [],
   "source": [
    "# датафрейм с кумулятивным количеством заказов и кумулятивной выручкой по дням в группе А\n",
    "cumulativeRevenueA = cumulativeData[cumulativeData['group']=='A'][['date','revenue', 'orders']]\n",
    "\n",
    "# датафрейм с кумулятивным количеством заказов и кумулятивной выручкой по дням в группе B\n",
    "cumulativeRevenueB = cumulativeData[cumulativeData['group']=='B'][['date','revenue', 'orders']]\n"
   ]
  },
  {
   "cell_type": "code",
   "execution_count": 28,
   "metadata": {},
   "outputs": [
    {
     "data": {
      "image/png": "[encoded data removed]",
      "text/plain": [
       "<Figure size 864x432 with 1 Axes>"
      ]
     },
     "metadata": {
      "needs_background": "light"
     },
     "output_type": "display_data"
    }
   ],
   "source": [
    "fig = plt.figure(figsize = (12,6))\n",
    "# Строим график выручки группы А\n",
    "plt.plot(cumulativeRevenueA['date'], cumulativeRevenueA['revenue'], label='A')\n",
    "\n",
    "# Строим график выручки группы B\n",
    "plt.plot(cumulativeRevenueB['date'], cumulativeRevenueB['revenue'], label='B')\n",
    "\n",
    "plt.title('График кумулятивной выручки групп А и В', fontsize=13, color='blue')\n",
    "plt.xlabel('Даты проведения А/В теста',fontsize=11)\n",
    "plt.ylabel('Кумулятивная выручка, руб.',fontsize=11)\n",
    "plt.legend()\n",
    "plt.grid(True)\n",
    "plt.show()"
   ]
  },
  {
   "cell_type": "markdown",
   "metadata": {},
   "source": [
    "В начале теста кумулятивные выручки группы А и В были практически одинаковы, однако после 17 августа выручка группы В резко выросла и лидировала весь остаток теста. Причиной такого роста может быть увеличение числа заказов пользователями группы В, либо появление аномально дорогих заказов в выборке. Выясним это далее."
   ]
  },
  {
   "cell_type": "markdown",
   "metadata": {},
   "source": [
    "**2. Построим график кумулятивного среднего чека по группам.**"
   ]
  },
  {
   "cell_type": "code",
   "execution_count": 29,
   "metadata": {},
   "outputs": [
    {
     "data": {
      "image/png": "[encoded data removed]",
      "text/plain": [
       "<Figure size 864x432 with 1 Axes>"
      ]
     },
     "metadata": {
      "needs_background": "light"
     },
     "output_type": "display_data"
    }
   ],
   "source": [
    "fig = plt.figure(figsize = (12,6))\n",
    "plt.plot(cumulativeRevenueA['date'], cumulativeRevenueA['revenue']/cumulativeRevenueA['orders'], label='A')\n",
    "plt.plot(cumulativeRevenueB['date'], cumulativeRevenueB['revenue']/cumulativeRevenueB['orders'], label='B')\n",
    "\n",
    "plt.title('График кумулятивного среднего чека групп А и В', fontsize=13, color='blue')\n",
    "plt.xlabel('Даты проведения А/В теста',fontsize=11)\n",
    "plt.ylabel('Кумулятивный средний чек, руб.',fontsize=11)\n",
    "plt.legend() \n",
    "plt.grid(True)\n",
    "plt.show()"
   ]
  },
  {
   "cell_type": "markdown",
   "metadata": {},
   "source": [
    "Кумулятивный средний чек в обеих группах сильно колеблется. И на графике видим всплеск среднего чека заказа пользователей группы В после 17 августа 2019 г. в то же время, что и кумулятивной выручки. Это уже явный сигнал, что нужно проанализировать такой резкий рост."
   ]
  },
  {
   "cell_type": "markdown",
   "metadata": {},
   "source": [
    "**3. Построим график относительного изменения кумулятивного среднего чека группы B к группе A.** "
   ]
  },
  {
   "cell_type": "code",
   "execution_count": 30,
   "metadata": {},
   "outputs": [
    {
     "data": {
      "image/png": "[encoded data removed]",
      "text/plain": [
       "<Figure size 864x432 with 1 Axes>"
      ]
     },
     "metadata": {
      "needs_background": "light"
     },
     "output_type": "display_data"
    }
   ],
   "source": [
    "fig = plt.figure(figsize = (12,6))\n",
    "mergedCumulativeRevenue = cumulativeRevenueA.merge(cumulativeRevenueB, left_on='date', right_on='date', how='left', suffixes=['A', 'B'])\n",
    "\n",
    "# cтроим отношение средних чеков\n",
    "plt.plot(mergedCumulativeRevenue['date'], (mergedCumulativeRevenue['revenueB']/mergedCumulativeRevenue['ordersB'])/(mergedCumulativeRevenue['revenueA']/mergedCumulativeRevenue['ordersA'])-1)\n",
    "\n",
    "# добавляем ось X\n",
    "plt.axhline(y=0, color='black', linestyle='--') \n",
    "plt.title('Отношение кумулятивного среднего чека группы В к группе А', fontsize=13, color='blue')\n",
    "plt.xlabel('Даты проведения А/В теста',fontsize=11)\n",
    "plt.ylabel('Отношение группы В к группе А',fontsize=11) \n",
    "plt.grid(True)\n",
    "plt.show()"
   ]
  },
  {
   "cell_type": "markdown",
   "metadata": {},
   "source": [
    "Отношение средних чеков группы В к группе А сильно колебалось за время проведения теста. Делать какие-либо выводы по данному графику неверно, резкие колебания возможно наблюдаются из-за аномальных покупок."
   ]
  },
  {
   "cell_type": "markdown",
   "metadata": {},
   "source": [
    "**4. Построим график кумулятивной конверсии по группам.**"
   ]
  },
  {
   "cell_type": "code",
   "execution_count": 31,
   "metadata": {},
   "outputs": [
    {
     "data": {
      "image/png": "[encoded data removed]",
      "text/plain": [
       "<Figure size 864x432 with 1 Axes>"
      ]
     },
     "metadata": {
      "needs_background": "light"
     },
     "output_type": "display_data"
    }
   ],
   "source": [
    "fig = plt.figure(figsize = (12,6))\n",
    "# считаем кумулятивную конверсию\n",
    "cumulativeData['conversion'] = (\n",
    "    cumulativeData['orders'] / cumulativeData['visitors']\n",
    ")\n",
    "\n",
    "# отделяем данные по группе A\n",
    "cumulativeDataA = cumulativeData[cumulativeData['group']=='A']\n",
    "\n",
    "# отделяем данные по группе B\n",
    "cumulativeDataB = cumulativeData[cumulativeData['group']=='B']\n",
    "\n",
    "# строим графики\n",
    "plt.plot(cumulativeDataA['date'], cumulativeDataA['conversion'], label='A')\n",
    "plt.plot(cumulativeDataB['date'], cumulativeDataB['conversion'], label='B')\n",
    "plt.title('График кумулятивной конверсии групп А и В', fontsize=13, color='blue')\n",
    "plt.xlabel('Даты проведения А/В теста',fontsize=11)\n",
    "plt.ylabel('Конверсия',fontsize=11) \n",
    "plt.grid(True)\n",
    "plt.legend()\n",
    "plt.show()"
   ]
  },
  {
   "cell_type": "markdown",
   "metadata": {},
   "source": [
    "Почти с самого начала теста конверсия группы В выше, чем конверсия группы А. Стоит также отметить сильный всплекск конверсий в начале проведения теста."
   ]
  },
  {
   "cell_type": "markdown",
   "metadata": {},
   "source": [
    "**5. Построим график относительного изменения кумулятивной конверсии группы B к группе A.**"
   ]
  },
  {
   "cell_type": "code",
   "execution_count": 32,
   "metadata": {},
   "outputs": [
    {
     "data": {
      "image/png": "[encoded data removed]",
      "text/plain": [
       "<Figure size 864x432 with 1 Axes>"
      ]
     },
     "metadata": {
      "needs_background": "light"
     },
     "output_type": "display_data"
    }
   ],
   "source": [
    "fig = plt.figure(figsize = (12,6))\n",
    "\n",
    "mergedCumulativeConversions = cumulativeDataA[['date','conversion']].merge(cumulativeDataB[['date','conversion']], left_on='date', right_on='date', how='left', suffixes=['A', 'B'])\n",
    "\n",
    "plt.plot(mergedCumulativeConversions['date'], mergedCumulativeConversions['conversionB']/mergedCumulativeConversions['conversionA']-1)\n",
    "\n",
    "plt.axhline(y=0, color='black', linestyle='--')\n",
    "plt.axhline(y= 0.13, color='grey', linestyle='--', label='стабилизация данных')\n",
    "plt.title('Относительный прирост конверсии группы B относительно группы A', fontsize=13, color='blue')\n",
    "plt.xlabel('Даты проведения А/В теста',fontsize=11)\n",
    "plt.ylabel('Отношение группы В к группе А',fontsize=11) \n",
    "plt.grid(True) \n",
    "plt.legend()\n",
    "plt.show()"
   ]
  },
  {
   "cell_type": "markdown",
   "metadata": {},
   "source": [
    "На графике видно, что у группы В рос прирост конверсии относительно группы А, но после 17 августа конверсия пошла на снижение, а после 29 августа снова растет."
   ]
  },
  {
   "cell_type": "markdown",
   "metadata": {},
   "source": [
    "Изучим данные о заказах, чтобы выявить аномалии в данных, которые могут искажать результаты теста.\n",
    "\n",
    "**6. Построим точечный график количества заказов по пользователям.**"
   ]
  },
  {
   "cell_type": "code",
   "execution_count": 33,
   "metadata": {},
   "outputs": [
    {
     "data": {
      "text/html": [
       "<div>\n",
       "<style scoped>\n",
       "    .dataframe tbody tr th:only-of-type {\n",
       "        vertical-align: middle;\n",
       "    }\n",
       "\n",
       "    .dataframe tbody tr th {\n",
       "        vertical-align: top;\n",
       "    }\n",
       "\n",
       "    .dataframe thead th {\n",
       "        text-align: right;\n",
       "    }\n",
       "</style>\n",
       "<table border=\"1\" class=\"dataframe\">\n",
       "  <thead>\n",
       "    <tr style=\"text-align: right;\">\n",
       "      <th></th>\n",
       "      <th>visitor_id</th>\n",
       "      <th>orders</th>\n",
       "    </tr>\n",
       "  </thead>\n",
       "  <tbody>\n",
       "    <tr>\n",
       "      <th>908</th>\n",
       "      <td>3967698036</td>\n",
       "      <td>3</td>\n",
       "    </tr>\n",
       "    <tr>\n",
       "      <th>55</th>\n",
       "      <td>249864742</td>\n",
       "      <td>3</td>\n",
       "    </tr>\n",
       "    <tr>\n",
       "      <th>478</th>\n",
       "      <td>2108163459</td>\n",
       "      <td>3</td>\n",
       "    </tr>\n",
       "    <tr>\n",
       "      <th>687</th>\n",
       "      <td>2988190573</td>\n",
       "      <td>3</td>\n",
       "    </tr>\n",
       "    <tr>\n",
       "      <th>890</th>\n",
       "      <td>3908431265</td>\n",
       "      <td>3</td>\n",
       "    </tr>\n",
       "    <tr>\n",
       "      <th>138</th>\n",
       "      <td>611059232</td>\n",
       "      <td>3</td>\n",
       "    </tr>\n",
       "    <tr>\n",
       "      <th>632</th>\n",
       "      <td>2742574263</td>\n",
       "      <td>3</td>\n",
       "    </tr>\n",
       "    <tr>\n",
       "      <th>157</th>\n",
       "      <td>678354126</td>\n",
       "      <td>2</td>\n",
       "    </tr>\n",
       "    <tr>\n",
       "      <th>323</th>\n",
       "      <td>1404560065</td>\n",
       "      <td>2</td>\n",
       "    </tr>\n",
       "    <tr>\n",
       "      <th>452</th>\n",
       "      <td>1985475298</td>\n",
       "      <td>2</td>\n",
       "    </tr>\n",
       "  </tbody>\n",
       "</table>\n",
       "</div>"
      ],
      "text/plain": [
       "     visitor_id  orders\n",
       "908  3967698036       3\n",
       "55    249864742       3\n",
       "478  2108163459       3\n",
       "687  2988190573       3\n",
       "890  3908431265       3\n",
       "138   611059232       3\n",
       "632  2742574263       3\n",
       "157   678354126       2\n",
       "323  1404560065       2\n",
       "452  1985475298       2"
      ]
     },
     "execution_count": 33,
     "metadata": {},
     "output_type": "execute_result"
    }
   ],
   "source": [
    "ordersByUsers = (\n",
    "    orders.groupby('visitor_id', as_index=False)\n",
    "    .agg({'transaction_id': 'nunique'})\n",
    ")\n",
    "\n",
    "ordersByUsers.columns = ['visitor_id', 'orders']\n",
    "\n",
    "ordersByUsers.sort_values(by='orders', ascending=False).head(10)"
   ]
  },
  {
   "cell_type": "code",
   "execution_count": 34,
   "metadata": {},
   "outputs": [
    {
     "data": {
      "text/plain": [
       "count    973.000000\n",
       "mean       1.044193\n",
       "std        0.238090\n",
       "min        1.000000\n",
       "25%        1.000000\n",
       "50%        1.000000\n",
       "75%        1.000000\n",
       "max        3.000000\n",
       "Name: orders, dtype: float64"
      ]
     },
     "execution_count": 34,
     "metadata": {},
     "output_type": "execute_result"
    }
   ],
   "source": [
    "ordersByUsers['orders'].describe()"
   ]
  },
  {
   "cell_type": "markdown",
   "metadata": {},
   "source": [
    "Среди пользователей есть те, кто совершал 3 заказа, хотя в среднем пользователи совершают только 1 заказ.\n",
    "\n",
    "Построим точечный график количества заказов по пользователям."
   ]
  },
  {
   "cell_type": "code",
   "execution_count": 35,
   "metadata": {},
   "outputs": [
    {
     "data": {
      "image/png": "[encoded data removed]",
      "text/plain": [
       "<Figure size 432x288 with 1 Axes>"
      ]
     },
     "metadata": {
      "needs_background": "light"
     },
     "output_type": "display_data"
    }
   ],
   "source": [
    "x_values = pd.Series(range(0,len(ordersByUsers)))\n",
    "\n",
    "plt.scatter(x_values, ordersByUsers['orders'], alpha=0.3)\n",
    "plt.title('Распределение количества заказов', fontsize=13, color='blue')\n",
    "plt.xlabel('Частота',fontsize=11)\n",
    "plt.ylabel('Количество заказов',fontsize=11) \n",
    "plt.show()"
   ]
  },
  {
   "cell_type": "markdown",
   "metadata": {},
   "source": [
    "График подтверждает, что основная масса пользователей совершают только 1 заказ, а тех, кто покупает более 2 раз - очень мало.\n",
    "\n",
    "Вычислим, сколько пользователей необходимо отсеить, чтобы получить корректные результаты А/В теста."
   ]
  },
  {
   "cell_type": "markdown",
   "metadata": {},
   "source": [
    "**7. Посчитаем 95-й и 99-й перцентили количества заказов на пользователя.** "
   ]
  },
  {
   "cell_type": "code",
   "execution_count": 36,
   "metadata": {},
   "outputs": [
    {
     "name": "stdout",
     "output_type": "stream",
     "text": [
      "[1. 1. 2.]\n"
     ]
    }
   ],
   "source": [
    "print(np.percentile(ordersByUsers['orders'], [90, 95, 99]))"
   ]
  },
  {
   "cell_type": "markdown",
   "metadata": {},
   "source": [
    "Не более 5% пользователей оформляли больше 1 заказов, и только 1% \n",
    "пользователей - больше 2 заказов.\n",
    "\n",
    "*Таким образом, лучше выбрать и отсеять аномальных пользователей с количеством заказов от 3 заказов и больше.*"
   ]
  },
  {
   "cell_type": "markdown",
   "metadata": {},
   "source": [
    "**8. Построим точечный график стоимостей заказов.**"
   ]
  },
  {
   "cell_type": "code",
   "execution_count": 37,
   "metadata": {},
   "outputs": [
    {
     "data": {
      "text/plain": [
       "count    1.016000e+03\n",
       "mean     8.300815e+03\n",
       "std      4.212199e+04\n",
       "min      5.000000e+01\n",
       "25%      1.190000e+03\n",
       "50%      2.955000e+03\n",
       "75%      8.134250e+03\n",
       "max      1.294500e+06\n",
       "Name: revenue, dtype: float64"
      ]
     },
     "execution_count": 37,
     "metadata": {},
     "output_type": "execute_result"
    }
   ],
   "source": [
    "orders['revenue'].describe()"
   ]
  },
  {
   "cell_type": "markdown",
   "metadata": {},
   "source": [
    "Максимальная выручка - 1 294 500 руб. при медианном значении выручки 2 955 руб. слишком сильно выделяется. Такое значение исказит результаты и сделает победителем ту группу, где оно оказалось.\n",
    "\n",
    "Изучим гистограмму распределения стоимостей заказов:"
   ]
  },
  {
   "cell_type": "markdown",
   "metadata": {},
   "source": [
    "Рассмотрим распределение выручки на точечном графике."
   ]
  },
  {
   "cell_type": "code",
   "execution_count": 38,
   "metadata": {},
   "outputs": [
    {
     "data": {
      "image/png": "[encoded data removed]",
      "text/plain": [
       "<Figure size 432x288 with 1 Axes>"
      ]
     },
     "metadata": {
      "needs_background": "light"
     },
     "output_type": "display_data"
    }
   ],
   "source": [
    "x_values = pd.Series(range(0,len(orders['revenue'])))\n",
    "plt.scatter(x_values, orders['revenue'], alpha=0.8)\n",
    "plt.title('Распределение стоимости заказов', fontsize=13, color='blue')\n",
    "plt.xlabel('Частота',fontsize=11)\n",
    "plt.ylabel('Стоимость, руб.',fontsize=11) \n",
    "plt.show()"
   ]
  },
  {
   "cell_type": "markdown",
   "metadata": {},
   "source": [
    "В диаграмме рассеяния видимо совсем немного дорогих заказов, но они могут значительно искажать результаты А/В теста.\n",
    "Поскольку из-за дорогих графиков диаграмму неинформативна, посмотроим новую с ограничениями стоимости закакзов."
   ]
  },
  {
   "cell_type": "code",
   "execution_count": 39,
   "metadata": {},
   "outputs": [
    {
     "data": {
      "image/png": "[encoded data removed]",
      "text/plain": [
       "<Figure size 432x288 with 1 Axes>"
      ]
     },
     "metadata": {
      "needs_background": "light"
     },
     "output_type": "display_data"
    }
   ],
   "source": [
    "x_values = pd.Series(range(0,len(orders['revenue'])))\n",
    "plt.scatter(x_values, orders['revenue'], alpha=0.8)\n",
    "plt.title('Распределение стоимости заказов', fontsize=13, color='blue')\n",
    "plt.xlabel('Частота',fontsize=11)\n",
    "plt.ylabel('Стоимость, руб.',fontsize=11) \n",
    "plt.axis([0, 1100, 0, 100000]) \n",
    "plt.show()"
   ]
  },
  {
   "cell_type": "markdown",
   "metadata": {},
   "source": [
    "Как видно из графика, основная часть заказов оформлена на суммы до 20000-40000 руб. Рассчитаем далее конкретные цифры. "
   ]
  },
  {
   "cell_type": "markdown",
   "metadata": {},
   "source": [
    "**9. Посчитаем 95-й и 99-й перцентили стоимости заказов.**"
   ]
  },
  {
   "cell_type": "code",
   "execution_count": 40,
   "metadata": {},
   "outputs": [
    {
     "name": "stdout",
     "output_type": "stream",
     "text": [
      "[17990. 26785. 53904.]\n"
     ]
    }
   ],
   "source": [
    "print(np.percentile(orders['revenue'], [90, 95, 99])) "
   ]
  },
  {
   "cell_type": "markdown",
   "metadata": {},
   "source": [
    "Не более 5% пользователей заказывали на сумму более 26 785 руб., и только 1 % - на сумму свыше 53 904 руб.\n",
    "\n",
    "*Таким образом, лучше выбрать и отсеять аномальных пользователей с суммой покупки более 26 785 руб.*"
   ]
  },
  {
   "cell_type": "markdown",
   "metadata": {},
   "source": [
    "**10. Посчитаем статистическую значимость различий в конверсии между группами по «сырым» данным.** "
   ]
  },
  {
   "cell_type": "markdown",
   "metadata": {},
   "source": [
    "Сформулируем гипотезы. \n",
    "\n",
    "Нулевая: различий в конверсии между группами нет. Альтернативная: различия в конверсии между группами есть.\n",
    "\n",
    "Рассчитаем данные, необходимые для расчета статистической значимости и соберем их в отдельную таблицу.\n",
    "\n",
    "Проверку гипотез будем проводить с помощью теста Манна-Уитни.\n",
    "\n",
    "Уровень статистической значимости alpha возьмем 0,05."
   ]
  },
  {
   "cell_type": "code",
   "execution_count": 41,
   "metadata": {},
   "outputs": [
    {
     "data": {
      "text/html": [
       "<div>\n",
       "<style scoped>\n",
       "    .dataframe tbody tr th:only-of-type {\n",
       "        vertical-align: middle;\n",
       "    }\n",
       "\n",
       "    .dataframe tbody tr th {\n",
       "        vertical-align: top;\n",
       "    }\n",
       "\n",
       "    .dataframe thead th {\n",
       "        text-align: right;\n",
       "    }\n",
       "</style>\n",
       "<table border=\"1\" class=\"dataframe\">\n",
       "  <thead>\n",
       "    <tr style=\"text-align: right;\">\n",
       "      <th></th>\n",
       "      <th>date</th>\n",
       "      <th>ordersPerDateA</th>\n",
       "      <th>revenuePerDateA</th>\n",
       "      <th>ordersPerDateB</th>\n",
       "      <th>revenuePerDateB</th>\n",
       "      <th>ordersCummulativeA</th>\n",
       "      <th>revenueCummulativeA</th>\n",
       "      <th>ordersCummulativeB</th>\n",
       "      <th>revenueCummulativeB</th>\n",
       "      <th>visitorsPerDateA</th>\n",
       "      <th>visitorsPerDateB</th>\n",
       "      <th>visitorsCummulativeA</th>\n",
       "      <th>visitorsCummulativeB</th>\n",
       "    </tr>\n",
       "  </thead>\n",
       "  <tbody>\n",
       "    <tr>\n",
       "      <th>0</th>\n",
       "      <td>2019-08-01</td>\n",
       "      <td>23</td>\n",
       "      <td>142779</td>\n",
       "      <td>17</td>\n",
       "      <td>59758</td>\n",
       "      <td>23</td>\n",
       "      <td>142779</td>\n",
       "      <td>17</td>\n",
       "      <td>59758</td>\n",
       "      <td>719</td>\n",
       "      <td>713</td>\n",
       "      <td>719</td>\n",
       "      <td>713</td>\n",
       "    </tr>\n",
       "    <tr>\n",
       "      <th>1</th>\n",
       "      <td>2019-08-02</td>\n",
       "      <td>19</td>\n",
       "      <td>91602</td>\n",
       "      <td>23</td>\n",
       "      <td>162043</td>\n",
       "      <td>42</td>\n",
       "      <td>234381</td>\n",
       "      <td>40</td>\n",
       "      <td>221801</td>\n",
       "      <td>619</td>\n",
       "      <td>581</td>\n",
       "      <td>1338</td>\n",
       "      <td>1294</td>\n",
       "    </tr>\n",
       "    <tr>\n",
       "      <th>2</th>\n",
       "      <td>2019-08-03</td>\n",
       "      <td>24</td>\n",
       "      <td>112473</td>\n",
       "      <td>14</td>\n",
       "      <td>67049</td>\n",
       "      <td>66</td>\n",
       "      <td>346854</td>\n",
       "      <td>54</td>\n",
       "      <td>288850</td>\n",
       "      <td>507</td>\n",
       "      <td>509</td>\n",
       "      <td>1845</td>\n",
       "      <td>1803</td>\n",
       "    </tr>\n",
       "    <tr>\n",
       "      <th>3</th>\n",
       "      <td>2019-08-04</td>\n",
       "      <td>11</td>\n",
       "      <td>41176</td>\n",
       "      <td>14</td>\n",
       "      <td>96890</td>\n",
       "      <td>77</td>\n",
       "      <td>388030</td>\n",
       "      <td>68</td>\n",
       "      <td>385740</td>\n",
       "      <td>717</td>\n",
       "      <td>770</td>\n",
       "      <td>2562</td>\n",
       "      <td>2573</td>\n",
       "    </tr>\n",
       "    <tr>\n",
       "      <th>4</th>\n",
       "      <td>2019-08-05</td>\n",
       "      <td>22</td>\n",
       "      <td>86383</td>\n",
       "      <td>21</td>\n",
       "      <td>89908</td>\n",
       "      <td>99</td>\n",
       "      <td>474413</td>\n",
       "      <td>89</td>\n",
       "      <td>475648</td>\n",
       "      <td>756</td>\n",
       "      <td>707</td>\n",
       "      <td>3318</td>\n",
       "      <td>3280</td>\n",
       "    </tr>\n",
       "  </tbody>\n",
       "</table>\n",
       "</div>"
      ],
      "text/plain": [
       "        date  ordersPerDateA  revenuePerDateA  ordersPerDateB  \\\n",
       "0 2019-08-01              23           142779              17   \n",
       "1 2019-08-02              19            91602              23   \n",
       "2 2019-08-03              24           112473              14   \n",
       "3 2019-08-04              11            41176              14   \n",
       "4 2019-08-05              22            86383              21   \n",
       "\n",
       "   revenuePerDateB  ordersCummulativeA  revenueCummulativeA  \\\n",
       "0            59758                  23               142779   \n",
       "1           162043                  42               234381   \n",
       "2            67049                  66               346854   \n",
       "3            96890                  77               388030   \n",
       "4            89908                  99               474413   \n",
       "\n",
       "   ordersCummulativeB  revenueCummulativeB  visitorsPerDateA  \\\n",
       "0                  17                59758               719   \n",
       "1                  40               221801               619   \n",
       "2                  54               288850               507   \n",
       "3                  68               385740               717   \n",
       "4                  89               475648               756   \n",
       "\n",
       "   visitorsPerDateB  visitorsCummulativeA  visitorsCummulativeB  \n",
       "0               713                   719                   713  \n",
       "1               581                  1338                  1294  \n",
       "2               509                  1845                  1803  \n",
       "3               770                  2562                  2573  \n",
       "4               707                  3318                  3280  "
      ]
     },
     "execution_count": 41,
     "metadata": {},
     "output_type": "execute_result"
    }
   ],
   "source": [
    "visitorsADaily = visitors[visitors['group'] == 'A'][['date', 'visitors']]\n",
    "visitorsADaily.columns = ['date', 'visitorsPerDateA']\n",
    "\n",
    "visitorsACummulative = visitorsADaily.apply(\n",
    "    lambda x: visitorsADaily[visitorsADaily['date'] <= x['date']].agg(\n",
    "        {'date': 'max', 'visitorsPerDateA': 'sum'}\n",
    "    ),\n",
    "    axis=1,\n",
    ")\n",
    "visitorsACummulative.columns = ['date', 'visitorsCummulativeA']\n",
    "\n",
    "visitorsBDaily = visitors[visitors['group'] == 'B'][['date', 'visitors']]\n",
    "visitorsBDaily.columns = ['date', 'visitorsPerDateB']\n",
    "\n",
    "visitorsBCummulative = visitorsBDaily.apply(\n",
    "    lambda x: visitorsBDaily[visitorsBDaily['date'] <= x['date']].agg(\n",
    "        {'date': 'max', 'visitorsPerDateB': 'sum'}\n",
    "    ),\n",
    "    axis=1,\n",
    ")\n",
    "visitorsBCummulative.columns = ['date', 'visitorsCummulativeB']\n",
    "\n",
    "ordersADaily = (\n",
    "    orders[orders['group'] == 'A'][['date', 'transaction_id', 'visitor_id', 'revenue']]\n",
    "    .groupby('date', as_index=False)\n",
    "    .agg({'transaction_id': pd.Series.nunique, 'revenue': 'sum'})\n",
    ")\n",
    "ordersADaily.columns = ['date', 'ordersPerDateA', 'revenuePerDateA']\n",
    "\n",
    "ordersACummulative = ordersADaily.apply(\n",
    "    lambda x: ordersADaily[ordersADaily['date'] <= x['date']].agg(\n",
    "        {'date': 'max', 'ordersPerDateA': 'sum', 'revenuePerDateA': 'sum'}\n",
    "    ),\n",
    "    axis=1,\n",
    ").sort_values(by=['date'])\n",
    "ordersACummulative.columns = [\n",
    "    'date',\n",
    "    'ordersCummulativeA',\n",
    "    'revenueCummulativeA',\n",
    "]\n",
    "\n",
    "ordersBDaily = (\n",
    "    orders[orders['group'] == 'B'][['date', 'transaction_id', 'visitor_id', 'revenue']]\n",
    "    .groupby('date', as_index=False)\n",
    "    .agg({'transaction_id': pd.Series.nunique, 'revenue': 'sum'})\n",
    ")\n",
    "ordersBDaily.columns = ['date', 'ordersPerDateB', 'revenuePerDateB']\n",
    "\n",
    "ordersBCummulative = ordersBDaily.apply(\n",
    "    lambda x: ordersBDaily[ordersBDaily['date'] <= x['date']].agg(\n",
    "        {'date': 'max', 'ordersPerDateB': 'sum', 'revenuePerDateB': 'sum'}\n",
    "    ),\n",
    "    axis=1,\n",
    ").sort_values(by=['date'])\n",
    "ordersBCummulative.columns = [\n",
    "    'date',\n",
    "    'ordersCummulativeB',\n",
    "    'revenueCummulativeB',\n",
    "]\n",
    "\n",
    "data = (\n",
    "    ordersADaily.merge(\n",
    "        ordersBDaily, left_on='date', right_on='date', how='left'\n",
    "    )\n",
    "    .merge(ordersACummulative, left_on='date', right_on='date', how='left')\n",
    "    .merge(ordersBCummulative, left_on='date', right_on='date', how='left')\n",
    "    .merge(visitorsADaily, left_on='date', right_on='date', how='left')\n",
    "    .merge(visitorsBDaily, left_on='date', right_on='date', how='left')\n",
    "    .merge(visitorsACummulative, left_on='date', right_on='date', how='left')\n",
    "    .merge(visitorsBCummulative, left_on='date', right_on='date', how='left')\n",
    ")\n",
    "\n",
    "data.head()"
   ]
  },
  {
   "cell_type": "markdown",
   "metadata": {},
   "source": [
    "В данной таблице\n",
    "\n",
    "    date — дата;\n",
    "    ordersPerDateA — количество заказов в выбранную дату в группе A;\n",
    "    revenuePerDateA — суммарная выручка в выбранную дату в группе A;\n",
    "    ordersPerDateB — количество заказов в выбранную дату в группе B;\n",
    "    revenuePerDateB — суммарная выручка в выбранную дату в группе B;\n",
    "    ordersCummulativeA — суммарное число заказов до выбранной даты включительно в группе A;\n",
    "    revenueCummulativeA — суммарная выручка до выбранной даты включительно в группе A;\n",
    "    ordersCummulativeB — суммарное количество заказов до выбранной даты включительно в группе B;\n",
    "    revenueCummulativeB — суммарная выручка до выбранной даты включительно в группе B;\n",
    "    visitorsPerDateA — количество пользователей в выбранную дату в группе A;\n",
    "    visitorsPerDateB — количество пользователей в выбранную дату в группе B;\n",
    "    visitorsCummulativeA — количество пользователей до выбранной даты включительно в группе A;\n",
    "    visitorsCummulativeB — количество пользователей до выбранной даты включительно в группе B.\n",
    "    \n",
    "\n",
    "Посчитаем статистическую значимость различия в конверсии между группами."
   ]
  },
  {
   "cell_type": "code",
   "execution_count": 42,
   "metadata": {},
   "outputs": [],
   "source": [
    "# Создадим переменные c количество совершенных пользователями заказов\n",
    "ordersByUsersA = (\n",
    "    orders[orders['group'] == 'A']\n",
    "    .groupby('visitor_id', as_index=False)\n",
    "    .agg({'transaction_id': pd.Series.nunique})\n",
    ")\n",
    "ordersByUsersA.columns = ['visitor_id', 'orders']\n",
    "\n",
    "ordersByUsersB = (\n",
    "    orders[orders['group'] == 'B']\n",
    "    .groupby('visitor_id', as_index=False)\n",
    "    .agg({'transaction_id': pd.Series.nunique})\n",
    ")\n",
    "ordersByUsersB.columns = ['visitor_id', 'orders'] \n"
   ]
  },
  {
   "cell_type": "code",
   "execution_count": 43,
   "metadata": {},
   "outputs": [
    {
     "name": "stdout",
     "output_type": "stream",
     "text": [
      "p-значение:  0.011\n",
      "Отвергаем нулевую гипотезу: разница статистически значима\n",
      "Относительный прирост конверсии группы B -  0.160\n"
     ]
    }
   ],
   "source": [
    "# Объявим переменные, в которых пользователям из разных групп будет соответствовать количество заказов. \n",
    "# Тем, кто ничего не заказал, будут соответствовать нули. \n",
    "\n",
    "sampleA = pd.concat(\n",
    "    [\n",
    "        ordersByUsersA['orders'],\n",
    "        pd.Series(\n",
    "            0,\n",
    "            index=np.arange(\n",
    "                data['visitorsPerDateA'].sum() - len(ordersByUsersA['orders']) # создадим список индексов\n",
    "            ),\n",
    "            name='orders',\n",
    "        ),\n",
    "    ],\n",
    "    axis=0,\n",
    ")\n",
    "\n",
    "sampleB = pd.concat(\n",
    "    [\n",
    "        ordersByUsersB['orders'],\n",
    "        pd.Series(\n",
    "            0,\n",
    "            index=np.arange(\n",
    "                data['visitorsPerDateB'].sum() - len(ordersByUsersB['orders']) # создадим список индексов\n",
    "            ),\n",
    "            name='orders',\n",
    "        ),\n",
    "    ],\n",
    "    axis=0,\n",
    ")\n",
    "\n",
    "alpha = 0.05\n",
    "\n",
    "# Применим критерий Манна-Уитни.\n",
    "results = stats.mannwhitneyu(sampleA, sampleB)\n",
    "\n",
    "print('p-значение: ', \"{0:.3f}\".format(results.pvalue))\n",
    "\n",
    "# сравним значение p-value с alpha\n",
    "if results.pvalue < alpha:\n",
    "    print('Отвергаем нулевую гипотезу: разница статистически значима')\n",
    "else:\n",
    "    print(\n",
    "        'Не получилось отвергнуть нулевую гипотезу, вывод о различии сделать нельзя'\n",
    "    ) \n",
    "\n",
    "# Выведем относительный прирост конверсии группы B: конверсия группы B / конверсия группы A - 1. \n",
    "print('Относительный прирост конверсии группы B - ', \"{0:.3f}\".format(sampleB.mean() / sampleA.mean() - 1))"
   ]
  },
  {
   "cell_type": "markdown",
   "metadata": {},
   "source": [
    "Первое число — p-value = 0.011 меньше, чем 0.05. \n",
    "*Значит, нулевую гипотезу о том, что статистически значимых различий в конверсии между группами нет, отвергаем. Разница статистически значима.* И конверсия группы B выше на 16%."
   ]
  },
  {
   "cell_type": "markdown",
   "metadata": {},
   "source": [
    "**11. Посчитаем статистическую значимость различий в среднем чеке заказа между группами по «сырым» данным.**"
   ]
  },
  {
   "cell_type": "markdown",
   "metadata": {},
   "source": [
    "Сформулируем гипотезы. Нулевая гипотеза: различий в среднем чеке между группами нет. Альтернативная гипотеза: различия в среднем чеке между группами есть."
   ]
  },
  {
   "cell_type": "code",
   "execution_count": 44,
   "metadata": {},
   "outputs": [
    {
     "name": "stdout",
     "output_type": "stream",
     "text": [
      "p-значение:  0.829\n",
      "Не получилось отвергнуть нулевую гипотезу, вывод о различии сделать нельзя\n",
      "Относительные различия в среднем чеке между группами-  0.287\n"
     ]
    }
   ],
   "source": [
    "# Применим критерий Манна-Уитни.\n",
    "results = stats.mannwhitneyu(orders[orders['group']=='A']['revenue'], orders[orders['group']=='B']['revenue'])\n",
    "\n",
    "print('p-значение: ', \"{0:.3f}\".format(results.pvalue))\n",
    "\n",
    "# сравним значение p-value с alpha\n",
    "if results.pvalue < alpha:\n",
    "    print('Отвергаем нулевую гипотезу: разница статистически значима')\n",
    "else:\n",
    "    print(\n",
    "        'Не получилось отвергнуть нулевую гипотезу, вывод о различии сделать нельзя'\n",
    "    ) \n",
    "\n",
    "# найдём относительные различия в среднем чеке между группами:\n",
    "print('Относительные различия в среднем чеке между группами- ', '{0:.3f}'.format(orders[orders['group']=='B']['revenue'].mean()/orders[orders['group']=='A']['revenue'].mean()-1)) "
   ]
  },
  {
   "cell_type": "markdown",
   "metadata": {},
   "source": [
    "P-value гораздо больше 0.05. *Таким образом, разницы в среднем чеке нет.* И наблюдаемое различие в 29% не является значимым."
   ]
  },
  {
   "cell_type": "markdown",
   "metadata": {},
   "source": [
    "**12. Посчитаем статистическую значимость различий в конверсии между группами по «очищенным» данным.**"
   ]
  },
  {
   "cell_type": "markdown",
   "metadata": {},
   "source": [
    "Для начала удалим аномальных пользователей.\n",
    "\n",
    "Примем за аномальных пользователей тех, кто совершил от 3 заказов и больше или совершил заказ дороже 26 785 руб. Ранее в работе мы выделили их с помощью расчетов. Так мы уберём 1% пользователей с наибольшим числом заказов и 5% пользователей с самыми дорогими заказами. "
   ]
  },
  {
   "cell_type": "code",
   "execution_count": 45,
   "metadata": {},
   "outputs": [
    {
     "name": "stdout",
     "output_type": "stream",
     "text": [
      "1099    148427295\n",
      "928     204675465\n",
      "33      249864742\n",
      "684     358944393\n",
      "648     382846391\n",
      "Name: visitor_id, dtype: int64\n",
      "55\n"
     ]
    }
   ],
   "source": [
    "usersWithManyOrders = pd.concat(\n",
    "    [\n",
    "        ordersByUsersA[ordersByUsersA['orders'] > 2]['visitor_id'],\n",
    "        ordersByUsersB[ordersByUsersB['orders'] > 2]['visitor_id'],\n",
    "    ],\n",
    "    axis=0,\n",
    ")\n",
    "usersWithExpensiveOrders = orders[orders['revenue'] > 28000]['visitor_id']\n",
    "abnormalUsers = (\n",
    "    pd.concat([usersWithManyOrders, usersWithExpensiveOrders], axis=0)\n",
    "    .drop_duplicates()\n",
    "    .sort_values()\n",
    ")\n",
    "print(abnormalUsers.head(5))\n",
    "\n",
    "# Узнаем, сколько всего аномальных пользователей методом shape()\n",
    "print(abnormalUsers.shape[0]) "
   ]
  },
  {
   "cell_type": "markdown",
   "metadata": {},
   "source": [
    "Всего 55 аномальных пользователя.\n",
    "\n",
    "Узнаем, как их действия повлияли на результаты теста. "
   ]
  },
  {
   "cell_type": "code",
   "execution_count": 46,
   "metadata": {},
   "outputs": [
    {
     "name": "stdout",
     "output_type": "stream",
     "text": [
      "p-значение:  0.009\n",
      "Отвергаем нулевую гипотезу: разница статистически значима\n",
      "Относительный прирост конверсии группы B -  0.189\n"
     ]
    }
   ],
   "source": [
    "# Сначала подготовим выборки количества заказов по пользователям по группам теста:\n",
    "sampleAFiltered = pd.concat(\n",
    "    [\n",
    "        ordersByUsersA[\n",
    "            np.logical_not(ordersByUsersA['visitor_id'].isin(abnormalUsers))\n",
    "        ]['orders'],\n",
    "        pd.Series(\n",
    "            0,\n",
    "            index=np.arange(\n",
    "                data['visitorsPerDateA'].sum() - len(ordersByUsersA['orders'])\n",
    "            ),\n",
    "            name='orders',\n",
    "        ),\n",
    "    ],\n",
    "    axis=0,\n",
    ")\n",
    "\n",
    "sampleBFiltered = pd.concat(\n",
    "    [\n",
    "        ordersByUsersB[\n",
    "            np.logical_not(ordersByUsersB['visitor_id'].isin(abnormalUsers))\n",
    "        ]['orders'],\n",
    "        pd.Series(\n",
    "            0,\n",
    "            index=np.arange(\n",
    "                data['visitorsPerDateB'].sum() - len(ordersByUsersB['orders'])\n",
    "            ),\n",
    "            name='orders',\n",
    "        ),\n",
    "    ],\n",
    "    axis=0,\n",
    ") \n",
    "\n",
    "# Применим критерий Манна-Уитни.\n",
    "results = stats.mannwhitneyu(sampleAFiltered, sampleBFiltered)\n",
    "\n",
    "print('p-значение: ', \"{0:.3f}\".format(results.pvalue))\n",
    "\n",
    "# сравним значение p-value с alpha\n",
    "if results.pvalue < alpha:\n",
    "    print('Отвергаем нулевую гипотезу: разница статистически значима')\n",
    "else:\n",
    "    print(\n",
    "        'Не получилось отвергнуть нулевую гипотезу, вывод о различии сделать нельзя'\n",
    "    ) \n",
    "\n",
    "print('Относительный прирост конверсии группы B - ','{0:.3f}'.format(sampleBFiltered.mean()/sampleAFiltered.mean()-1)) "
   ]
  },
  {
   "cell_type": "markdown",
   "metadata": {},
   "source": [
    "Результаты p-value практически не изменились. *Нулевую гипотезу также отвергаем. Итого, разница конверсий группы В и А статистически значима.* Конверсия группы B стало немного выше: 19% против 16 % по \"сырым\" данным."
   ]
  },
  {
   "cell_type": "markdown",
   "metadata": {},
   "source": [
    "**13. Посчитаем статистическую значимость различий в среднем чеке заказа между группами по «очищенным» данным.**"
   ]
  },
  {
   "cell_type": "code",
   "execution_count": 47,
   "metadata": {},
   "outputs": [
    {
     "name": "stdout",
     "output_type": "stream",
     "text": [
      "p-значение:  0.762\n",
      "Не получилось отвергнуть нулевую гипотезу, вывод о различии сделать нельзя\n",
      "Относительные различия в среднем чеке между группами-  -0.022\n"
     ]
    }
   ],
   "source": [
    "# Применим критерий Манна-Уитни.\n",
    "results = stats.mannwhitneyu(orders[\n",
    "                np.logical_and(\n",
    "                    orders['group'] == 'A',\n",
    "                    np.logical_not(orders['visitor_id'].isin(abnormalUsers)),\n",
    "                )\n",
    "            ]['revenue'],\n",
    "            orders[\n",
    "                np.logical_and(\n",
    "                    orders['group'] == 'B',\n",
    "                    np.logical_not(orders['visitor_id'].isin(abnormalUsers)),\n",
    "                )\n",
    "            ]['revenue'],\n",
    "        )\n",
    "\n",
    "print('p-значение: ', \"{0:.3f}\".format(results.pvalue))\n",
    "\n",
    "# сравним значение p-value с alpha\n",
    "if results.pvalue < alpha:\n",
    "    print('Отвергаем нулевую гипотезу: разница статистически значима')\n",
    "else:\n",
    "    print(\n",
    "        'Не получилось отвергнуть нулевую гипотезу, вывод о различии сделать нельзя'\n",
    "    ) \n",
    "    \n",
    "print(\n",
    "    'Относительные различия в среднем чеке между группами- ',\n",
    "    \"{0:.3f}\".format(\n",
    "        orders[\n",
    "            np.logical_and(\n",
    "                orders['group'] == 'B',\n",
    "                np.logical_not(orders['visitor_id'].isin(abnormalUsers)),\n",
    "            )\n",
    "        ]['revenue'].mean()\n",
    "        / orders[\n",
    "            np.logical_and(\n",
    "                orders['group'] == 'A',\n",
    "                np.logical_not(orders['visitor_id'].isin(abnormalUsers)),\n",
    "            )\n",
    "        ]['revenue'].mean()\n",
    "        - 1\n",
    "    )\n",
    ") \n"
   ]
  },
  {
   "cell_type": "markdown",
   "metadata": {},
   "source": [
    "P-value среднего чека снизился. *Таким образом, разницы в среднем чеке по \"очищенным \" данным тоже нет, как и по \"сырым\" данным.* Однако после удаления аномальных данных корректно рассчитывается относительное различие в среднем чеке между группами: оно теперь действительно минимальное. Значит, действительно выявленный дорогой заказ 1 294 500 руб. сильно повлиял на результаты теста."
   ]
  },
  {
   "cell_type": "markdown",
   "metadata": {},
   "source": [
    "**14. Примем решение по результатам теста**"
   ]
  },
  {
   "cell_type": "markdown",
   "metadata": {},
   "source": [
    "Полученные в ходе А/В теста выводы:\n",
    "\n",
    "* Разница конверсий группы В и А статистически значима между группами А и В;\n",
    "* Нет статистически значимого различия по среднему чеку между группами ни по «сырым», ни по данным после фильтрации аномалий;\n",
    "* Из графика различия конверсии между группами выяснили, что результаты группы B были лучше группы A, но ближе к концу теста ухудшились;\n",
    "* График различия среднего чека говорит о том, что отношение средних чеков группы В к группе А сильно колебалось за время проведения теста. Итого отношение конверсии ещё не установилось, и сейчас делать какие-либо выводы по данному графику неверно. Этот график позволил нам выяснить, что есть аномалии.\n",
    "\n",
    "**Таким образом, группа B статистически значимо лучше группы A по результатам параметрического теста Уилкоксона-Манна-Уитни, и график конверсии также говорит о том, что показатели группы B выше. Значит, можно остановить тест, зафиксировать победу группы В.**"
   ]
  },
  {
   "cell_type": "markdown",
   "metadata": {},
   "source": [
    "**Общий вывод**\n",
    "\n",
    "В проекты были изучены данные о пользователях двух групп А и В, участвовавших в проведении А/В теста, и их заказах. На этапе предобработки данных привели названия столбцов таблиц к одному стилю, обработали дубликаты и заменили типы данных, где это было необходимо.\n",
    "\n",
    "В рамках исследования была также проведена приоритизация подготовленных гипотез с помощью методов RICE и ICE. \n",
    "В результате метод RICE выделил больше всего 8 гипотезу, а метод ICE - 9 гипотезу. Так вышло, поскольку для 8 гипотезы Reach(охват пользователей) составил максимум - 10 в отличие от других гипотез.\n",
    "\n",
    "В данных, полученных после проведения А/В теста, была найдена ошибка: около 5% пользователей попали в обе группы сразу: А и В. Для корректного отражения результата теста, они были удалены из выборки.\n",
    "\n",
    "В ходе анализа результатов А/В теста  выяснили, что:\n",
    "\n",
    "* Основная масса пользователей совершают только 1 заказ, а тех, кто покупает более 2 раз - очень мало. Средний чек заказов интернет-магазина для 95 % пользователей составил не более 26 785 руб.\n",
    "* В начале теста кумулятивные выручки группы А и В были практически одинаковы, однако после 17 августа 2019 г. выручка группы В резко выросла и лидировала весь остаток теста. Кумулятивный средний чек в обеих группах сильно колебался, и на графике увидели всплеск среднего чека заказа пользователей группы В в то же время, что и всплеск кумулятивной выручки. Причиной такого роста оказались аномально дорогие заказы в выборке. \n",
    "\n",
    "*Для того чтобы пользователи с аномально дорогими заказами не искажали результаты теста, был принято решение исключить их из выборки. Также были найдены пользователи с аномально большим количеством заказов. В итоге процент удаленных пользователей составил менее 6% от общего числа.*\n",
    "\n",
    "* Почти с самого начала теста кумулятивная конверсия группы В выше, чем кумулятивная конверсия группы А. К концу теста разница составила примерно 5 процентных пункта. \n",
    "* Прирост конверсии у группы В был выше относительно группы А и постепенно стабилизировался на уровне 13 %.\n",
    "\n",
    "В результате анализ проведенного А/В теста показал, что:\n",
    "\n",
    "1. Разница конверсий группы А и В статистически значима. Из графика различия конверсии между группами выяснили, что результаты группы B были лучше группы A , но ближе к концу теста стали немного хуже. Относительный прирост конверсии группы B оказался выше группы А и по «сырым», и по данным после фильтрации аномалий;\n",
    "2. P-value среднего чека выше уровня статистической значимости  По среднему чеку наоборот нет статистически значимого различия  между группами ни по «сырым», ни по данным после фильтрации аномалий.\n",
    "\n",
    "*Таким образом, группа B статистически значимо лучше группы A по результатам А/В теста. Значит, можно остановить тест, зафиксировать победу группы В.*"
   ]
  }
 ],
 "metadata": {
  "ExecuteTimeLog": [
   {
    "duration": 1646,
    "start_time": "2022-05-12T14:20:13.604Z"
   },
   {
    "duration": 42,
    "start_time": "2022-05-12T14:20:41.469Z"
   },
   {
    "duration": 27,
    "start_time": "2022-05-12T14:21:36.942Z"
   },
   {
    "duration": 6,
    "start_time": "2022-05-12T14:24:03.284Z"
   },
   {
    "duration": 6,
    "start_time": "2022-05-12T14:24:14.082Z"
   },
   {
    "duration": 10,
    "start_time": "2022-05-12T14:25:14.915Z"
   },
   {
    "duration": 23,
    "start_time": "2022-05-12T14:25:36.320Z"
   },
   {
    "duration": 15,
    "start_time": "2022-05-12T14:25:46.918Z"
   },
   {
    "duration": 1275,
    "start_time": "2022-05-12T14:26:03.061Z"
   },
   {
    "duration": 48,
    "start_time": "2022-05-12T14:26:04.338Z"
   },
   {
    "duration": 20,
    "start_time": "2022-05-12T14:26:04.388Z"
   },
   {
    "duration": 23,
    "start_time": "2022-05-12T14:26:04.410Z"
   },
   {
    "duration": 15,
    "start_time": "2022-05-12T14:26:04.435Z"
   },
   {
    "duration": 68,
    "start_time": "2022-05-12T14:26:04.452Z"
   },
   {
    "duration": 14,
    "start_time": "2022-05-12T14:27:28.633Z"
   },
   {
    "duration": 5,
    "start_time": "2022-05-12T14:28:17.811Z"
   },
   {
    "duration": 5,
    "start_time": "2022-05-12T14:29:44.898Z"
   },
   {
    "duration": 3,
    "start_time": "2022-05-12T14:30:29.128Z"
   },
   {
    "duration": 6,
    "start_time": "2022-05-12T14:30:32.465Z"
   },
   {
    "duration": 5,
    "start_time": "2022-05-12T14:30:47.351Z"
   },
   {
    "duration": 170,
    "start_time": "2022-05-12T14:32:11.675Z"
   },
   {
    "duration": 13,
    "start_time": "2022-05-12T14:41:34.327Z"
   },
   {
    "duration": 6,
    "start_time": "2022-05-12T14:41:53.694Z"
   },
   {
    "duration": 17,
    "start_time": "2022-05-12T14:41:58.119Z"
   },
   {
    "duration": 6,
    "start_time": "2022-05-12T14:42:18.306Z"
   },
   {
    "duration": 4,
    "start_time": "2022-05-12T14:42:42.254Z"
   },
   {
    "duration": 4,
    "start_time": "2022-05-12T14:42:48.853Z"
   },
   {
    "duration": 9,
    "start_time": "2022-05-12T14:45:53.287Z"
   },
   {
    "duration": 6,
    "start_time": "2022-05-12T14:45:57.338Z"
   },
   {
    "duration": 6,
    "start_time": "2022-05-12T14:46:31.062Z"
   },
   {
    "duration": 11,
    "start_time": "2022-05-12T14:46:41.702Z"
   },
   {
    "duration": 13,
    "start_time": "2022-05-12T14:46:51.837Z"
   },
   {
    "duration": 14,
    "start_time": "2022-05-12T14:48:15.779Z"
   },
   {
    "duration": 13,
    "start_time": "2022-05-12T14:48:19.306Z"
   },
   {
    "duration": 21,
    "start_time": "2022-05-12T14:48:55.382Z"
   },
   {
    "duration": 8,
    "start_time": "2022-05-12T14:49:15.259Z"
   },
   {
    "duration": 6,
    "start_time": "2022-05-12T14:50:55.653Z"
   },
   {
    "duration": 5,
    "start_time": "2022-05-12T14:51:04.391Z"
   },
   {
    "duration": 18,
    "start_time": "2022-05-12T14:51:34.167Z"
   },
   {
    "duration": 132,
    "start_time": "2022-05-12T15:00:15.268Z"
   },
   {
    "duration": 10,
    "start_time": "2022-05-12T15:00:21.522Z"
   },
   {
    "duration": 14,
    "start_time": "2022-05-12T15:09:11.076Z"
   },
   {
    "duration": 12,
    "start_time": "2022-05-12T15:09:19.634Z"
   },
   {
    "duration": 10,
    "start_time": "2022-05-12T15:13:44.644Z"
   },
   {
    "duration": 19,
    "start_time": "2022-05-12T15:14:23.054Z"
   },
   {
    "duration": 3,
    "start_time": "2022-05-12T15:17:44.815Z"
   },
   {
    "duration": 1162,
    "start_time": "2022-05-12T15:17:50.302Z"
   },
   {
    "duration": 53,
    "start_time": "2022-05-12T15:17:51.467Z"
   },
   {
    "duration": 24,
    "start_time": "2022-05-12T15:17:51.522Z"
   },
   {
    "duration": 3,
    "start_time": "2022-05-12T15:17:51.548Z"
   },
   {
    "duration": 6,
    "start_time": "2022-05-12T15:17:51.552Z"
   },
   {
    "duration": 12,
    "start_time": "2022-05-12T15:17:51.560Z"
   },
   {
    "duration": 29,
    "start_time": "2022-05-12T15:17:51.575Z"
   },
   {
    "duration": 18,
    "start_time": "2022-05-12T15:17:51.605Z"
   },
   {
    "duration": 3,
    "start_time": "2022-05-12T15:17:51.625Z"
   },
   {
    "duration": 9,
    "start_time": "2022-05-12T15:17:51.631Z"
   },
   {
    "duration": 8,
    "start_time": "2022-05-12T15:17:51.641Z"
   },
   {
    "duration": 15,
    "start_time": "2022-05-12T15:17:51.650Z"
   },
   {
    "duration": 15,
    "start_time": "2022-05-12T15:17:51.671Z"
   },
   {
    "duration": 25,
    "start_time": "2022-05-12T15:17:51.688Z"
   },
   {
    "duration": 11,
    "start_time": "2022-05-12T15:17:51.714Z"
   },
   {
    "duration": 16,
    "start_time": "2022-05-12T15:17:51.727Z"
   },
   {
    "duration": 11,
    "start_time": "2022-05-12T15:17:51.745Z"
   },
   {
    "duration": 20,
    "start_time": "2022-05-12T15:17:51.757Z"
   },
   {
    "duration": 4,
    "start_time": "2022-05-12T15:18:03.288Z"
   },
   {
    "duration": 17,
    "start_time": "2022-05-12T15:18:06.205Z"
   },
   {
    "duration": 11,
    "start_time": "2022-05-12T15:18:30.988Z"
   },
   {
    "duration": 20,
    "start_time": "2022-05-12T15:18:39.079Z"
   },
   {
    "duration": 1223,
    "start_time": "2022-05-12T15:18:57.157Z"
   },
   {
    "duration": 39,
    "start_time": "2022-05-12T15:18:58.383Z"
   },
   {
    "duration": 18,
    "start_time": "2022-05-12T15:18:58.424Z"
   },
   {
    "duration": 6,
    "start_time": "2022-05-12T15:18:58.444Z"
   },
   {
    "duration": 10,
    "start_time": "2022-05-12T15:18:58.451Z"
   },
   {
    "duration": 32,
    "start_time": "2022-05-12T15:18:58.469Z"
   },
   {
    "duration": 23,
    "start_time": "2022-05-12T15:18:58.503Z"
   },
   {
    "duration": 8,
    "start_time": "2022-05-12T15:18:58.528Z"
   },
   {
    "duration": 10,
    "start_time": "2022-05-12T15:18:58.538Z"
   },
   {
    "duration": 7,
    "start_time": "2022-05-12T15:18:58.551Z"
   },
   {
    "duration": 24,
    "start_time": "2022-05-12T15:18:58.560Z"
   },
   {
    "duration": 21,
    "start_time": "2022-05-12T15:18:58.588Z"
   },
   {
    "duration": 6,
    "start_time": "2022-05-12T15:18:58.611Z"
   },
   {
    "duration": 6,
    "start_time": "2022-05-12T15:18:58.619Z"
   },
   {
    "duration": 12,
    "start_time": "2022-05-12T15:18:58.626Z"
   },
   {
    "duration": 11,
    "start_time": "2022-05-12T15:18:58.640Z"
   },
   {
    "duration": 17,
    "start_time": "2022-05-12T15:18:58.653Z"
   },
   {
    "duration": 141,
    "start_time": "2022-05-12T15:20:12.498Z"
   },
   {
    "duration": 144,
    "start_time": "2022-05-12T15:20:28.192Z"
   },
   {
    "duration": 118,
    "start_time": "2022-05-12T15:29:47.612Z"
   },
   {
    "duration": 285,
    "start_time": "2022-05-12T15:30:33.535Z"
   },
   {
    "duration": 13,
    "start_time": "2022-05-12T15:30:41.517Z"
   },
   {
    "duration": 9,
    "start_time": "2022-05-12T15:30:49.691Z"
   },
   {
    "duration": 8,
    "start_time": "2022-05-12T15:31:14.048Z"
   },
   {
    "duration": 12,
    "start_time": "2022-05-12T15:31:19.289Z"
   },
   {
    "duration": 9,
    "start_time": "2022-05-12T15:31:25.084Z"
   },
   {
    "duration": 272,
    "start_time": "2022-05-12T15:31:34.331Z"
   },
   {
    "duration": 181,
    "start_time": "2022-05-12T15:34:30.688Z"
   },
   {
    "duration": 181,
    "start_time": "2022-05-12T15:35:23.490Z"
   },
   {
    "duration": 185,
    "start_time": "2022-05-12T15:35:39.732Z"
   },
   {
    "duration": 206,
    "start_time": "2022-05-12T15:35:45.754Z"
   },
   {
    "duration": 172,
    "start_time": "2022-05-12T15:35:54.072Z"
   },
   {
    "duration": 190,
    "start_time": "2022-05-12T15:36:00.219Z"
   },
   {
    "duration": 258,
    "start_time": "2022-05-12T15:36:03.492Z"
   },
   {
    "duration": 188,
    "start_time": "2022-05-12T15:36:11.807Z"
   },
   {
    "duration": 12,
    "start_time": "2022-05-12T15:38:22.326Z"
   },
   {
    "duration": 6,
    "start_time": "2022-05-12T15:38:42.300Z"
   },
   {
    "duration": 201,
    "start_time": "2022-05-12T15:44:37.980Z"
   },
   {
    "duration": 210,
    "start_time": "2022-05-12T15:44:57.445Z"
   },
   {
    "duration": 275,
    "start_time": "2022-05-12T15:45:17.622Z"
   },
   {
    "duration": 209,
    "start_time": "2022-05-12T15:45:25.019Z"
   },
   {
    "duration": 206,
    "start_time": "2022-05-12T15:45:30.132Z"
   },
   {
    "duration": 199,
    "start_time": "2022-05-12T15:45:33.744Z"
   },
   {
    "duration": 201,
    "start_time": "2022-05-12T15:45:37.551Z"
   },
   {
    "duration": 210,
    "start_time": "2022-05-12T15:56:35.544Z"
   },
   {
    "duration": 283,
    "start_time": "2022-05-12T15:56:42.894Z"
   },
   {
    "duration": 308,
    "start_time": "2022-05-12T15:57:02.052Z"
   },
   {
    "duration": 284,
    "start_time": "2022-05-12T15:57:16.991Z"
   },
   {
    "duration": 210,
    "start_time": "2022-05-12T15:57:26.462Z"
   },
   {
    "duration": 217,
    "start_time": "2022-05-12T15:57:30.327Z"
   },
   {
    "duration": 221,
    "start_time": "2022-05-12T15:57:38.252Z"
   },
   {
    "duration": 259,
    "start_time": "2022-05-12T15:57:50.351Z"
   },
   {
    "duration": 299,
    "start_time": "2022-05-12T15:58:34.000Z"
   },
   {
    "duration": 340,
    "start_time": "2022-05-12T15:58:43.052Z"
   },
   {
    "duration": 150,
    "start_time": "2022-05-12T16:01:08.614Z"
   },
   {
    "duration": 180,
    "start_time": "2022-05-12T16:01:16.722Z"
   },
   {
    "duration": 206,
    "start_time": "2022-05-12T16:01:39.423Z"
   },
   {
    "duration": 220,
    "start_time": "2022-05-12T16:02:32.615Z"
   },
   {
    "duration": 1807,
    "start_time": "2022-05-12T18:19:08.886Z"
   },
   {
    "duration": 44,
    "start_time": "2022-05-12T18:19:10.696Z"
   },
   {
    "duration": 38,
    "start_time": "2022-05-12T18:19:10.742Z"
   },
   {
    "duration": 4,
    "start_time": "2022-05-12T18:19:10.786Z"
   },
   {
    "duration": 18,
    "start_time": "2022-05-12T18:19:10.793Z"
   },
   {
    "duration": 8,
    "start_time": "2022-05-12T18:19:10.814Z"
   },
   {
    "duration": 28,
    "start_time": "2022-05-12T18:19:10.855Z"
   },
   {
    "duration": 8,
    "start_time": "2022-05-12T18:19:10.885Z"
   },
   {
    "duration": 14,
    "start_time": "2022-05-12T18:19:10.895Z"
   },
   {
    "duration": 45,
    "start_time": "2022-05-12T18:19:10.913Z"
   },
   {
    "duration": 23,
    "start_time": "2022-05-12T18:19:10.963Z"
   },
   {
    "duration": 22,
    "start_time": "2022-05-12T18:19:10.989Z"
   },
   {
    "duration": 44,
    "start_time": "2022-05-12T18:19:11.013Z"
   },
   {
    "duration": 19,
    "start_time": "2022-05-12T18:19:11.063Z"
   },
   {
    "duration": 21,
    "start_time": "2022-05-12T18:19:11.084Z"
   },
   {
    "duration": 16,
    "start_time": "2022-05-12T18:19:11.108Z"
   },
   {
    "duration": 34,
    "start_time": "2022-05-12T18:19:11.126Z"
   },
   {
    "duration": 507,
    "start_time": "2022-05-12T18:19:11.163Z"
   },
   {
    "duration": 12,
    "start_time": "2022-05-12T18:19:11.673Z"
   },
   {
    "duration": 14,
    "start_time": "2022-05-12T18:19:11.687Z"
   },
   {
    "duration": 528,
    "start_time": "2022-05-12T18:19:11.703Z"
   },
   {
    "duration": 372,
    "start_time": "2022-05-12T18:19:12.233Z"
   },
   {
    "duration": 116,
    "start_time": "2022-05-12T18:19:12.608Z"
   },
   {
    "duration": 14,
    "start_time": "2022-05-12T18:19:58.278Z"
   },
   {
    "duration": 11,
    "start_time": "2022-05-12T18:23:24.395Z"
   },
   {
    "duration": 18,
    "start_time": "2022-05-12T18:23:42.429Z"
   },
   {
    "duration": 161,
    "start_time": "2022-05-12T18:24:27.968Z"
   },
   {
    "duration": 15,
    "start_time": "2022-05-12T18:24:35.291Z"
   },
   {
    "duration": 14,
    "start_time": "2022-05-12T18:24:56.002Z"
   },
   {
    "duration": 60,
    "start_time": "2022-05-12T18:26:07.327Z"
   },
   {
    "duration": 8,
    "start_time": "2022-05-12T18:26:12.730Z"
   },
   {
    "duration": 8,
    "start_time": "2022-05-12T18:26:19.177Z"
   },
   {
    "duration": 9,
    "start_time": "2022-05-12T18:27:47.085Z"
   },
   {
    "duration": 493,
    "start_time": "2022-05-12T18:27:50.117Z"
   },
   {
    "duration": 12,
    "start_time": "2022-05-12T18:27:51.228Z"
   },
   {
    "duration": 10,
    "start_time": "2022-05-12T18:27:52.588Z"
   },
   {
    "duration": 414,
    "start_time": "2022-05-12T18:27:54.504Z"
   },
   {
    "duration": 387,
    "start_time": "2022-05-12T18:27:58.648Z"
   },
   {
    "duration": 105,
    "start_time": "2022-05-12T18:28:46.696Z"
   },
   {
    "duration": 378,
    "start_time": "2022-05-12T18:29:57.780Z"
   },
   {
    "duration": 347,
    "start_time": "2022-05-12T18:30:05.593Z"
   },
   {
    "duration": 490,
    "start_time": "2022-05-12T18:30:34.901Z"
   },
   {
    "duration": 101,
    "start_time": "2022-05-12T18:34:11.519Z"
   },
   {
    "duration": 486,
    "start_time": "2022-05-12T18:35:37.645Z"
   },
   {
    "duration": 437,
    "start_time": "2022-05-12T18:35:43.081Z"
   },
   {
    "duration": 18,
    "start_time": "2022-05-12T18:35:55.060Z"
   },
   {
    "duration": 489,
    "start_time": "2022-05-12T18:36:35.909Z"
   },
   {
    "duration": 472,
    "start_time": "2022-05-12T18:36:57.295Z"
   },
   {
    "duration": 576,
    "start_time": "2022-05-12T18:37:08.315Z"
   },
   {
    "duration": 477,
    "start_time": "2022-05-12T18:38:25.742Z"
   },
   {
    "duration": 482,
    "start_time": "2022-05-12T18:38:39.632Z"
   },
   {
    "duration": 489,
    "start_time": "2022-05-12T18:39:56.883Z"
   },
   {
    "duration": 467,
    "start_time": "2022-05-12T18:40:57.737Z"
   },
   {
    "duration": 551,
    "start_time": "2022-05-12T18:53:02.294Z"
   },
   {
    "duration": 105,
    "start_time": "2022-05-12T18:56:56.355Z"
   },
   {
    "duration": 419,
    "start_time": "2022-05-12T19:02:35.133Z"
   },
   {
    "duration": 289,
    "start_time": "2022-05-12T19:02:45.520Z"
   },
   {
    "duration": 325,
    "start_time": "2022-05-12T19:02:53.090Z"
   },
   {
    "duration": 95,
    "start_time": "2022-05-12T19:08:22.761Z"
   },
   {
    "duration": 11,
    "start_time": "2022-05-12T19:10:56.236Z"
   },
   {
    "duration": 198,
    "start_time": "2022-05-12T19:11:03.482Z"
   },
   {
    "duration": 26,
    "start_time": "2022-05-12T19:11:23.919Z"
   },
   {
    "duration": 11,
    "start_time": "2022-05-12T19:11:37.740Z"
   },
   {
    "duration": 7,
    "start_time": "2022-05-12T19:16:11.859Z"
   },
   {
    "duration": 7,
    "start_time": "2022-05-12T19:16:35.052Z"
   },
   {
    "duration": 6,
    "start_time": "2022-05-12T19:16:42.927Z"
   },
   {
    "duration": 9,
    "start_time": "2022-05-12T19:17:15.586Z"
   },
   {
    "duration": 299,
    "start_time": "2022-05-12T19:19:44.716Z"
   },
   {
    "duration": 305,
    "start_time": "2022-05-12T19:19:54.218Z"
   },
   {
    "duration": 315,
    "start_time": "2022-05-12T19:20:48.057Z"
   },
   {
    "duration": 211,
    "start_time": "2022-05-12T19:20:55.684Z"
   },
   {
    "duration": 310,
    "start_time": "2022-05-12T19:21:04.033Z"
   },
   {
    "duration": 16,
    "start_time": "2022-05-12T19:21:28.618Z"
   },
   {
    "duration": 340,
    "start_time": "2022-05-12T19:21:35.627Z"
   },
   {
    "duration": 86,
    "start_time": "2022-05-12T19:21:51.550Z"
   },
   {
    "duration": 281,
    "start_time": "2022-05-12T19:21:57.267Z"
   },
   {
    "duration": 308,
    "start_time": "2022-05-12T19:22:07.415Z"
   },
   {
    "duration": 535,
    "start_time": "2022-05-12T19:22:11.828Z"
   },
   {
    "duration": 348,
    "start_time": "2022-05-12T19:22:22.192Z"
   },
   {
    "duration": 8,
    "start_time": "2022-05-12T19:22:57.545Z"
   },
   {
    "duration": 219,
    "start_time": "2022-05-12T19:25:46.720Z"
   },
   {
    "duration": 207,
    "start_time": "2022-05-12T19:26:49.001Z"
   },
   {
    "duration": 228,
    "start_time": "2022-05-12T19:27:58.275Z"
   },
   {
    "duration": 221,
    "start_time": "2022-05-12T19:28:02.416Z"
   },
   {
    "duration": 513,
    "start_time": "2022-05-12T19:29:11.394Z"
   },
   {
    "duration": 255,
    "start_time": "2022-05-12T19:30:51.027Z"
   },
   {
    "duration": 240,
    "start_time": "2022-05-12T19:31:05.877Z"
   },
   {
    "duration": 268,
    "start_time": "2022-05-12T19:31:16.479Z"
   },
   {
    "duration": 116,
    "start_time": "2022-05-12T19:34:37.609Z"
   },
   {
    "duration": 16,
    "start_time": "2022-05-12T19:35:39.472Z"
   },
   {
    "duration": 19,
    "start_time": "2022-05-12T19:36:13.130Z"
   },
   {
    "duration": 19,
    "start_time": "2022-05-12T19:36:21.684Z"
   },
   {
    "duration": 210,
    "start_time": "2022-05-12T19:37:59.894Z"
   },
   {
    "duration": 262,
    "start_time": "2022-05-12T19:38:23.479Z"
   },
   {
    "duration": 114,
    "start_time": "2022-05-12T19:40:12.298Z"
   },
   {
    "duration": 269,
    "start_time": "2022-05-12T19:42:05.209Z"
   },
   {
    "duration": 270,
    "start_time": "2022-05-12T19:42:09.552Z"
   },
   {
    "duration": 287,
    "start_time": "2022-05-12T19:42:32.866Z"
   },
   {
    "duration": 6,
    "start_time": "2022-05-12T19:43:07.179Z"
   },
   {
    "duration": 8,
    "start_time": "2022-05-12T19:47:07.479Z"
   },
   {
    "duration": 16,
    "start_time": "2022-05-12T19:47:21.509Z"
   },
   {
    "duration": 7,
    "start_time": "2022-05-12T19:47:27.044Z"
   },
   {
    "duration": 6,
    "start_time": "2022-05-12T19:47:36.323Z"
   },
   {
    "duration": 13,
    "start_time": "2022-05-12T19:48:15.680Z"
   },
   {
    "duration": 135,
    "start_time": "2022-05-12T19:51:04.097Z"
   },
   {
    "duration": 134,
    "start_time": "2022-05-12T19:52:04.284Z"
   },
   {
    "duration": 118,
    "start_time": "2022-05-12T19:55:14.676Z"
   },
   {
    "duration": 1539,
    "start_time": "2022-05-12T19:55:29.177Z"
   },
   {
    "duration": 65,
    "start_time": "2022-05-12T19:55:30.719Z"
   },
   {
    "duration": 33,
    "start_time": "2022-05-12T19:55:30.786Z"
   },
   {
    "duration": 21,
    "start_time": "2022-05-12T19:55:30.822Z"
   },
   {
    "duration": 44,
    "start_time": "2022-05-12T19:55:30.847Z"
   },
   {
    "duration": 35,
    "start_time": "2022-05-12T19:55:30.893Z"
   },
   {
    "duration": 52,
    "start_time": "2022-05-12T19:55:30.931Z"
   },
   {
    "duration": 21,
    "start_time": "2022-05-12T19:55:30.986Z"
   },
   {
    "duration": 23,
    "start_time": "2022-05-12T19:55:31.009Z"
   },
   {
    "duration": 51,
    "start_time": "2022-05-12T19:55:31.035Z"
   },
   {
    "duration": 19,
    "start_time": "2022-05-12T19:55:31.089Z"
   },
   {
    "duration": 22,
    "start_time": "2022-05-12T19:55:31.111Z"
   },
   {
    "duration": 21,
    "start_time": "2022-05-12T19:55:31.136Z"
   },
   {
    "duration": 26,
    "start_time": "2022-05-12T19:55:31.164Z"
   },
   {
    "duration": 18,
    "start_time": "2022-05-12T19:55:31.193Z"
   },
   {
    "duration": 30,
    "start_time": "2022-05-12T19:55:31.213Z"
   },
   {
    "duration": 37,
    "start_time": "2022-05-12T19:55:31.256Z"
   },
   {
    "duration": 16,
    "start_time": "2022-05-12T19:55:31.296Z"
   },
   {
    "duration": 18,
    "start_time": "2022-05-12T19:55:31.315Z"
   },
   {
    "duration": 509,
    "start_time": "2022-05-12T19:55:31.335Z"
   },
   {
    "duration": 17,
    "start_time": "2022-05-12T19:55:31.846Z"
   },
   {
    "duration": 28,
    "start_time": "2022-05-12T19:55:31.866Z"
   },
   {
    "duration": 542,
    "start_time": "2022-05-12T19:55:31.897Z"
   },
   {
    "duration": 389,
    "start_time": "2022-05-12T19:55:32.441Z"
   },
   {
    "duration": 499,
    "start_time": "2022-05-12T19:55:32.833Z"
   },
   {
    "duration": 389,
    "start_time": "2022-05-12T19:55:33.334Z"
   },
   {
    "duration": 498,
    "start_time": "2022-05-12T19:55:33.727Z"
   },
   {
    "duration": 27,
    "start_time": "2022-05-12T19:55:34.227Z"
   },
   {
    "duration": 16,
    "start_time": "2022-05-12T19:55:34.257Z"
   },
   {
    "duration": 240,
    "start_time": "2022-05-12T19:55:34.276Z"
   },
   {
    "duration": 5,
    "start_time": "2022-05-12T19:55:34.519Z"
   },
   {
    "duration": 42,
    "start_time": "2022-05-12T19:55:34.526Z"
   },
   {
    "duration": 247,
    "start_time": "2022-05-12T19:55:34.571Z"
   },
   {
    "duration": 5,
    "start_time": "2022-05-12T19:55:34.820Z"
   },
   {
    "duration": 236,
    "start_time": "2022-05-12T19:56:21.741Z"
   },
   {
    "duration": 119,
    "start_time": "2022-05-12T19:56:28.306Z"
   },
   {
    "duration": 16,
    "start_time": "2022-05-12T19:56:33.345Z"
   },
   {
    "duration": 133,
    "start_time": "2022-05-12T19:57:16.952Z"
   },
   {
    "duration": 113,
    "start_time": "2022-05-12T19:57:37.127Z"
   },
   {
    "duration": 85,
    "start_time": "2022-05-12T19:57:56.976Z"
   },
   {
    "duration": 259,
    "start_time": "2022-05-12T20:03:51.481Z"
   },
   {
    "duration": 202,
    "start_time": "2022-05-12T20:04:44.168Z"
   },
   {
    "duration": 415,
    "start_time": "2022-05-12T20:09:46.501Z"
   },
   {
    "duration": 480,
    "start_time": "2022-05-12T20:09:51.990Z"
   },
   {
    "duration": 496,
    "start_time": "2022-05-12T20:09:57.306Z"
   },
   {
    "duration": 140,
    "start_time": "2022-05-12T20:11:56.515Z"
   },
   {
    "duration": 21,
    "start_time": "2022-05-12T20:13:30.575Z"
   },
   {
    "duration": 348,
    "start_time": "2022-05-12T20:14:25.980Z"
   },
   {
    "duration": 308,
    "start_time": "2022-05-12T20:14:33.345Z"
   },
   {
    "duration": 300,
    "start_time": "2022-05-12T20:15:09.806Z"
   },
   {
    "duration": 342,
    "start_time": "2022-05-12T20:15:13.081Z"
   },
   {
    "duration": 104,
    "start_time": "2022-05-12T20:18:47.699Z"
   },
   {
    "duration": 37,
    "start_time": "2022-05-12T20:18:53.110Z"
   },
   {
    "duration": 15,
    "start_time": "2022-05-12T20:22:16.732Z"
   },
   {
    "duration": 15,
    "start_time": "2022-05-12T20:23:34.179Z"
   },
   {
    "duration": 6,
    "start_time": "2022-05-12T20:24:53.026Z"
   },
   {
    "duration": 6,
    "start_time": "2022-05-12T20:25:03.500Z"
   },
   {
    "duration": 7,
    "start_time": "2022-05-12T20:26:54.066Z"
   },
   {
    "duration": 8,
    "start_time": "2022-05-12T20:27:05.897Z"
   },
   {
    "duration": 8,
    "start_time": "2022-05-12T21:01:19.239Z"
   },
   {
    "duration": 14,
    "start_time": "2022-05-12T21:06:55.150Z"
   },
   {
    "duration": 13,
    "start_time": "2022-05-12T21:08:25.173Z"
   },
   {
    "duration": 41,
    "start_time": "2022-05-12T21:08:49.263Z"
   },
   {
    "duration": 88,
    "start_time": "2022-05-12T21:13:12.328Z"
   },
   {
    "duration": 1588,
    "start_time": "2022-05-12T21:14:04.717Z"
   },
   {
    "duration": 21,
    "start_time": "2022-05-12T21:14:25.486Z"
   },
   {
    "duration": 8,
    "start_time": "2022-05-12T21:29:57.287Z"
   },
   {
    "duration": 7,
    "start_time": "2022-05-12T21:30:08.179Z"
   },
   {
    "duration": 7,
    "start_time": "2022-05-12T21:30:10.436Z"
   },
   {
    "duration": 7,
    "start_time": "2022-05-12T21:31:12.937Z"
   },
   {
    "duration": 11,
    "start_time": "2022-05-12T21:33:11.317Z"
   },
   {
    "duration": 3,
    "start_time": "2022-05-12T21:50:45.061Z"
   },
   {
    "duration": 368,
    "start_time": "2022-05-12T21:56:32.088Z"
   },
   {
    "duration": 1210,
    "start_time": "2022-05-13T09:03:41.739Z"
   },
   {
    "duration": 40,
    "start_time": "2022-05-13T09:03:42.951Z"
   },
   {
    "duration": 20,
    "start_time": "2022-05-13T09:03:42.992Z"
   },
   {
    "duration": 3,
    "start_time": "2022-05-13T09:03:43.014Z"
   },
   {
    "duration": 12,
    "start_time": "2022-05-13T09:03:43.018Z"
   },
   {
    "duration": 5,
    "start_time": "2022-05-13T09:03:43.031Z"
   },
   {
    "duration": 36,
    "start_time": "2022-05-13T09:03:43.038Z"
   },
   {
    "duration": 4,
    "start_time": "2022-05-13T09:03:43.076Z"
   },
   {
    "duration": 13,
    "start_time": "2022-05-13T09:03:43.084Z"
   },
   {
    "duration": 8,
    "start_time": "2022-05-13T09:03:43.100Z"
   },
   {
    "duration": 14,
    "start_time": "2022-05-13T09:03:43.110Z"
   },
   {
    "duration": 42,
    "start_time": "2022-05-13T09:03:43.126Z"
   },
   {
    "duration": 8,
    "start_time": "2022-05-13T09:03:43.169Z"
   },
   {
    "duration": 13,
    "start_time": "2022-05-13T09:03:43.179Z"
   },
   {
    "duration": 15,
    "start_time": "2022-05-13T09:03:43.193Z"
   },
   {
    "duration": 14,
    "start_time": "2022-05-13T09:03:43.210Z"
   },
   {
    "duration": 17,
    "start_time": "2022-05-13T09:03:43.226Z"
   },
   {
    "duration": 16,
    "start_time": "2022-05-13T09:03:43.263Z"
   },
   {
    "duration": 11,
    "start_time": "2022-05-13T09:03:43.281Z"
   },
   {
    "duration": 516,
    "start_time": "2022-05-13T09:03:43.294Z"
   },
   {
    "duration": 11,
    "start_time": "2022-05-13T09:03:43.812Z"
   },
   {
    "duration": 13,
    "start_time": "2022-05-13T09:03:43.825Z"
   },
   {
    "duration": 461,
    "start_time": "2022-05-13T09:03:43.840Z"
   },
   {
    "duration": 331,
    "start_time": "2022-05-13T09:03:44.303Z"
   },
   {
    "duration": 320,
    "start_time": "2022-05-13T09:03:44.636Z"
   },
   {
    "duration": 311,
    "start_time": "2022-05-13T09:03:44.957Z"
   },
   {
    "duration": 379,
    "start_time": "2022-05-13T09:03:45.270Z"
   },
   {
    "duration": 17,
    "start_time": "2022-05-13T09:03:45.653Z"
   },
   {
    "duration": 13,
    "start_time": "2022-05-13T09:03:45.672Z"
   },
   {
    "duration": 155,
    "start_time": "2022-05-13T09:03:45.687Z"
   },
   {
    "duration": 4,
    "start_time": "2022-05-13T09:03:45.844Z"
   },
   {
    "duration": 23,
    "start_time": "2022-05-13T09:03:45.850Z"
   },
   {
    "duration": 194,
    "start_time": "2022-05-13T09:03:45.875Z"
   },
   {
    "duration": 11,
    "start_time": "2022-05-13T09:03:46.071Z"
   },
   {
    "duration": 402,
    "start_time": "2022-05-13T09:03:46.084Z"
   },
   {
    "duration": 229,
    "start_time": "2022-05-13T09:03:46.488Z"
   },
   {
    "duration": 51,
    "start_time": "2022-05-13T09:03:46.719Z"
   },
   {
    "duration": 11,
    "start_time": "2022-05-13T09:03:46.772Z"
   },
   {
    "duration": 9,
    "start_time": "2022-05-13T09:03:46.784Z"
   },
   {
    "duration": 29,
    "start_time": "2022-05-13T09:03:46.795Z"
   },
   {
    "duration": 45,
    "start_time": "2022-05-13T09:03:46.826Z"
   },
   {
    "duration": 290,
    "start_time": "2022-05-13T09:04:08.399Z"
   },
   {
    "duration": 338,
    "start_time": "2022-05-13T09:05:56.470Z"
   },
   {
    "duration": 347,
    "start_time": "2022-05-13T09:06:22.559Z"
   },
   {
    "duration": 388,
    "start_time": "2022-05-13T09:08:32.646Z"
   },
   {
    "duration": 1361,
    "start_time": "2022-05-13T09:51:55.593Z"
   },
   {
    "duration": 101,
    "start_time": "2022-05-13T09:51:56.956Z"
   },
   {
    "duration": 25,
    "start_time": "2022-05-13T09:51:57.059Z"
   },
   {
    "duration": 38,
    "start_time": "2022-05-13T09:51:57.087Z"
   },
   {
    "duration": 20,
    "start_time": "2022-05-13T09:51:57.127Z"
   },
   {
    "duration": 6,
    "start_time": "2022-05-13T09:51:57.149Z"
   },
   {
    "duration": 21,
    "start_time": "2022-05-13T09:51:57.157Z"
   },
   {
    "duration": 32,
    "start_time": "2022-05-13T09:51:57.180Z"
   },
   {
    "duration": 19,
    "start_time": "2022-05-13T09:51:57.214Z"
   },
   {
    "duration": 7,
    "start_time": "2022-05-13T09:51:57.234Z"
   },
   {
    "duration": 13,
    "start_time": "2022-05-13T09:51:57.243Z"
   },
   {
    "duration": 77,
    "start_time": "2022-05-13T09:51:57.257Z"
   },
   {
    "duration": 10,
    "start_time": "2022-05-13T09:51:57.336Z"
   },
   {
    "duration": 7,
    "start_time": "2022-05-13T09:51:57.349Z"
   },
   {
    "duration": 53,
    "start_time": "2022-05-13T09:51:57.358Z"
   },
   {
    "duration": 11,
    "start_time": "2022-05-13T09:51:57.413Z"
   },
   {
    "duration": 15,
    "start_time": "2022-05-13T09:51:57.426Z"
   },
   {
    "duration": 11,
    "start_time": "2022-05-13T09:51:57.443Z"
   },
   {
    "duration": 7,
    "start_time": "2022-05-13T09:51:57.456Z"
   },
   {
    "duration": 342,
    "start_time": "2022-05-13T09:51:57.467Z"
   },
   {
    "duration": 8,
    "start_time": "2022-05-13T09:51:57.811Z"
   },
   {
    "duration": 21,
    "start_time": "2022-05-13T09:51:57.821Z"
   },
   {
    "duration": 331,
    "start_time": "2022-05-13T09:51:57.844Z"
   },
   {
    "duration": 247,
    "start_time": "2022-05-13T09:51:58.178Z"
   },
   {
    "duration": 327,
    "start_time": "2022-05-13T09:51:58.427Z"
   },
   {
    "duration": 243,
    "start_time": "2022-05-13T09:51:58.756Z"
   },
   {
    "duration": 315,
    "start_time": "2022-05-13T09:51:59.002Z"
   },
   {
    "duration": 14,
    "start_time": "2022-05-13T09:51:59.318Z"
   },
   {
    "duration": 9,
    "start_time": "2022-05-13T09:51:59.334Z"
   },
   {
    "duration": 150,
    "start_time": "2022-05-13T09:51:59.366Z"
   },
   {
    "duration": 4,
    "start_time": "2022-05-13T09:51:59.518Z"
   },
   {
    "duration": 15,
    "start_time": "2022-05-13T09:51:59.523Z"
   },
   {
    "duration": 159,
    "start_time": "2022-05-13T09:51:59.540Z"
   },
   {
    "duration": 9,
    "start_time": "2022-05-13T09:51:59.701Z"
   },
   {
    "duration": 312,
    "start_time": "2022-05-13T09:51:59.711Z"
   },
   {
    "duration": 186,
    "start_time": "2022-05-13T09:52:00.025Z"
   },
   {
    "duration": 26,
    "start_time": "2022-05-13T09:52:00.213Z"
   },
   {
    "duration": 9,
    "start_time": "2022-05-13T09:52:00.240Z"
   },
   {
    "duration": 72,
    "start_time": "2022-05-13T09:52:00.250Z"
   },
   {
    "duration": 31,
    "start_time": "2022-05-13T09:52:00.324Z"
   },
   {
    "duration": 22,
    "start_time": "2022-05-13T09:52:00.358Z"
   },
   {
    "duration": 1339,
    "start_time": "2022-05-13T18:34:07.280Z"
   },
   {
    "duration": 77,
    "start_time": "2022-05-13T18:34:08.621Z"
   },
   {
    "duration": 21,
    "start_time": "2022-05-13T18:34:08.699Z"
   },
   {
    "duration": 6,
    "start_time": "2022-05-13T18:34:08.723Z"
   },
   {
    "duration": 13,
    "start_time": "2022-05-13T18:34:08.731Z"
   },
   {
    "duration": 6,
    "start_time": "2022-05-13T18:34:08.747Z"
   },
   {
    "duration": 20,
    "start_time": "2022-05-13T18:34:08.755Z"
   },
   {
    "duration": 5,
    "start_time": "2022-05-13T18:34:08.777Z"
   },
   {
    "duration": 47,
    "start_time": "2022-05-13T18:34:08.784Z"
   },
   {
    "duration": 17,
    "start_time": "2022-05-13T18:34:08.837Z"
   },
   {
    "duration": 14,
    "start_time": "2022-05-13T18:34:08.856Z"
   },
   {
    "duration": 16,
    "start_time": "2022-05-13T18:34:08.872Z"
   },
   {
    "duration": 7,
    "start_time": "2022-05-13T18:34:08.889Z"
   },
   {
    "duration": 28,
    "start_time": "2022-05-13T18:34:08.923Z"
   },
   {
    "duration": 14,
    "start_time": "2022-05-13T18:34:08.953Z"
   },
   {
    "duration": 13,
    "start_time": "2022-05-13T18:34:08.969Z"
   },
   {
    "duration": 19,
    "start_time": "2022-05-13T18:34:08.984Z"
   },
   {
    "duration": 19,
    "start_time": "2022-05-13T18:34:09.005Z"
   },
   {
    "duration": 7,
    "start_time": "2022-05-13T18:34:09.027Z"
   },
   {
    "duration": 314,
    "start_time": "2022-05-13T18:34:09.036Z"
   },
   {
    "duration": 9,
    "start_time": "2022-05-13T18:34:09.352Z"
   },
   {
    "duration": 9,
    "start_time": "2022-05-13T18:34:09.362Z"
   },
   {
    "duration": 333,
    "start_time": "2022-05-13T18:34:09.372Z"
   },
   {
    "duration": 251,
    "start_time": "2022-05-13T18:34:09.706Z"
   },
   {
    "duration": 325,
    "start_time": "2022-05-13T18:34:09.959Z"
   },
   {
    "duration": 257,
    "start_time": "2022-05-13T18:34:10.286Z"
   },
   {
    "duration": 335,
    "start_time": "2022-05-13T18:34:10.545Z"
   },
   {
    "duration": 13,
    "start_time": "2022-05-13T18:34:10.883Z"
   },
   {
    "duration": 34,
    "start_time": "2022-05-13T18:34:10.898Z"
   },
   {
    "duration": 134,
    "start_time": "2022-05-13T18:34:10.934Z"
   },
   {
    "duration": 6,
    "start_time": "2022-05-13T18:34:11.070Z"
   },
   {
    "duration": 9,
    "start_time": "2022-05-13T18:34:11.078Z"
   },
   {
    "duration": 171,
    "start_time": "2022-05-13T18:34:11.089Z"
   },
   {
    "duration": 6,
    "start_time": "2022-05-13T18:34:11.262Z"
   },
   {
    "duration": 369,
    "start_time": "2022-05-13T18:34:11.270Z"
   },
   {
    "duration": 161,
    "start_time": "2022-05-13T18:34:11.641Z"
   },
   {
    "duration": 42,
    "start_time": "2022-05-13T18:34:11.804Z"
   },
   {
    "duration": 12,
    "start_time": "2022-05-13T18:34:11.848Z"
   },
   {
    "duration": 10,
    "start_time": "2022-05-13T18:34:11.862Z"
   },
   {
    "duration": 69,
    "start_time": "2022-05-13T18:34:11.874Z"
   },
   {
    "duration": 16,
    "start_time": "2022-05-13T18:34:11.945Z"
   },
   {
    "duration": 53,
    "start_time": "2022-05-19T23:48:19.570Z"
   },
   {
    "duration": 1159,
    "start_time": "2022-05-19T23:48:26.291Z"
   },
   {
    "duration": 108,
    "start_time": "2022-05-19T23:48:27.452Z"
   },
   {
    "duration": 18,
    "start_time": "2022-05-19T23:48:27.562Z"
   },
   {
    "duration": 3,
    "start_time": "2022-05-19T23:48:27.581Z"
   },
   {
    "duration": 16,
    "start_time": "2022-05-19T23:48:27.586Z"
   },
   {
    "duration": 9,
    "start_time": "2022-05-19T23:48:27.603Z"
   },
   {
    "duration": 17,
    "start_time": "2022-05-19T23:48:27.614Z"
   },
   {
    "duration": 7,
    "start_time": "2022-05-19T23:48:27.633Z"
   },
   {
    "duration": 9,
    "start_time": "2022-05-19T23:48:27.641Z"
   },
   {
    "duration": 7,
    "start_time": "2022-05-19T23:48:27.651Z"
   },
   {
    "duration": 3,
    "start_time": "2022-05-19T23:48:27.659Z"
   },
   {
    "duration": 18,
    "start_time": "2022-05-19T23:48:27.663Z"
   },
   {
    "duration": 6,
    "start_time": "2022-05-19T23:48:27.682Z"
   },
   {
    "duration": 9,
    "start_time": "2022-05-19T23:48:27.690Z"
   },
   {
    "duration": 29,
    "start_time": "2022-05-19T23:48:27.701Z"
   },
   {
    "duration": 13,
    "start_time": "2022-05-19T23:48:27.731Z"
   },
   {
    "duration": 15,
    "start_time": "2022-05-19T23:48:27.745Z"
   },
   {
    "duration": 13,
    "start_time": "2022-05-19T23:48:27.762Z"
   },
   {
    "duration": 8,
    "start_time": "2022-05-19T23:48:27.776Z"
   },
   {
    "duration": 7,
    "start_time": "2022-05-19T23:48:27.785Z"
   },
   {
    "duration": 35,
    "start_time": "2022-05-19T23:48:27.794Z"
   },
   {
    "duration": 17,
    "start_time": "2022-05-19T23:48:27.831Z"
   },
   {
    "duration": 18,
    "start_time": "2022-05-19T23:48:27.850Z"
   },
   {
    "duration": 317,
    "start_time": "2022-05-19T23:48:27.870Z"
   },
   {
    "duration": 6,
    "start_time": "2022-05-19T23:48:28.188Z"
   },
   {
    "duration": 13,
    "start_time": "2022-05-19T23:48:28.195Z"
   },
   {
    "duration": 18,
    "start_time": "2022-05-19T23:48:28.209Z"
   },
   {
    "duration": 366,
    "start_time": "2022-05-19T23:48:28.228Z"
   },
   {
    "duration": 207,
    "start_time": "2022-05-19T23:48:28.597Z"
   },
   {
    "duration": 334,
    "start_time": "2022-05-19T23:48:28.805Z"
   },
   {
    "duration": 224,
    "start_time": "2022-05-19T23:48:29.140Z"
   },
   {
    "duration": 295,
    "start_time": "2022-05-19T23:48:29.366Z"
   },
   {
    "duration": 12,
    "start_time": "2022-05-19T23:48:29.662Z"
   },
   {
    "duration": 8,
    "start_time": "2022-05-19T23:48:29.676Z"
   },
   {
    "duration": 165,
    "start_time": "2022-05-19T23:48:29.686Z"
   },
   {
    "duration": 4,
    "start_time": "2022-05-19T23:48:29.853Z"
   },
   {
    "duration": 10,
    "start_time": "2022-05-19T23:48:29.858Z"
   },
   {
    "duration": 145,
    "start_time": "2022-05-19T23:48:29.870Z"
   },
   {
    "duration": 131,
    "start_time": "2022-05-19T23:48:30.018Z"
   },
   {
    "duration": 5,
    "start_time": "2022-05-19T23:48:30.151Z"
   },
   {
    "duration": 241,
    "start_time": "2022-05-19T23:48:30.160Z"
   },
   {
    "duration": 140,
    "start_time": "2022-05-19T23:48:30.403Z"
   },
   {
    "duration": 32,
    "start_time": "2022-05-19T23:48:30.545Z"
   },
   {
    "duration": 12,
    "start_time": "2022-05-19T23:48:30.579Z"
   },
   {
    "duration": 18,
    "start_time": "2022-05-19T23:48:30.592Z"
   },
   {
    "duration": 34,
    "start_time": "2022-05-19T23:48:30.628Z"
   },
   {
    "duration": 18,
    "start_time": "2022-05-19T23:48:30.663Z"
   },
   {
    "duration": 605,
    "start_time": "2022-05-19T23:48:30.683Z"
   },
   {
    "duration": 21,
    "start_time": "2022-05-19T23:48:45.226Z"
   },
   {
    "duration": 147,
    "start_time": "2022-05-19T23:48:56.923Z"
   },
   {
    "duration": 18,
    "start_time": "2022-05-19T23:48:59.311Z"
   },
   {
    "duration": 8,
    "start_time": "2022-05-19T23:49:04.612Z"
   },
   {
    "duration": 32,
    "start_time": "2022-05-19T23:50:45.365Z"
   },
   {
    "duration": 51,
    "start_time": "2022-05-19T23:53:03.456Z"
   },
   {
    "duration": 11,
    "start_time": "2022-05-19T23:56:52.770Z"
   },
   {
    "duration": 3,
    "start_time": "2022-05-19T23:57:00.999Z"
   },
   {
    "duration": 23,
    "start_time": "2022-05-19T23:57:06.455Z"
   },
   {
    "duration": 58,
    "start_time": "2022-05-19T23:57:11.318Z"
   },
   {
    "duration": 64,
    "start_time": "2022-05-19T23:57:24.168Z"
   },
   {
    "duration": 35,
    "start_time": "2022-05-19T23:58:02.199Z"
   },
   {
    "duration": 15,
    "start_time": "2022-05-19T23:58:04.538Z"
   },
   {
    "duration": 15,
    "start_time": "2022-05-19T23:59:53.312Z"
   },
   {
    "duration": 15,
    "start_time": "2022-05-19T23:59:55.901Z"
   },
   {
    "duration": 1098,
    "start_time": "2022-05-20T00:04:38.950Z"
   },
   {
    "duration": 40,
    "start_time": "2022-05-20T00:04:40.049Z"
   },
   {
    "duration": 18,
    "start_time": "2022-05-20T00:04:40.090Z"
   },
   {
    "duration": 3,
    "start_time": "2022-05-20T00:04:40.110Z"
   },
   {
    "duration": 11,
    "start_time": "2022-05-20T00:04:40.114Z"
   },
   {
    "duration": 5,
    "start_time": "2022-05-20T00:04:40.126Z"
   },
   {
    "duration": 22,
    "start_time": "2022-05-20T00:04:40.133Z"
   },
   {
    "duration": 6,
    "start_time": "2022-05-20T00:04:40.157Z"
   },
   {
    "duration": 9,
    "start_time": "2022-05-20T00:04:40.164Z"
   },
   {
    "duration": 10,
    "start_time": "2022-05-20T00:04:40.175Z"
   },
   {
    "duration": 5,
    "start_time": "2022-05-20T00:04:40.186Z"
   },
   {
    "duration": 16,
    "start_time": "2022-05-20T00:04:40.193Z"
   },
   {
    "duration": 7,
    "start_time": "2022-05-20T00:04:40.227Z"
   },
   {
    "duration": 7,
    "start_time": "2022-05-20T00:04:40.235Z"
   },
   {
    "duration": 8,
    "start_time": "2022-05-20T00:04:40.243Z"
   },
   {
    "duration": 13,
    "start_time": "2022-05-20T00:04:40.253Z"
   },
   {
    "duration": 16,
    "start_time": "2022-05-20T00:04:40.268Z"
   },
   {
    "duration": 13,
    "start_time": "2022-05-20T00:04:40.285Z"
   },
   {
    "duration": 31,
    "start_time": "2022-05-20T00:04:40.300Z"
   },
   {
    "duration": 12,
    "start_time": "2022-05-20T00:04:40.333Z"
   },
   {
    "duration": 7,
    "start_time": "2022-05-20T00:04:40.346Z"
   },
   {
    "duration": 10,
    "start_time": "2022-05-20T00:04:40.354Z"
   },
   {
    "duration": 11,
    "start_time": "2022-05-20T00:04:40.365Z"
   },
   {
    "duration": 286,
    "start_time": "2022-05-20T00:04:40.378Z"
   },
   {
    "duration": 6,
    "start_time": "2022-05-20T00:04:40.666Z"
   },
   {
    "duration": 9,
    "start_time": "2022-05-20T00:04:40.674Z"
   },
   {
    "duration": 12,
    "start_time": "2022-05-20T00:04:40.684Z"
   },
   {
    "duration": 408,
    "start_time": "2022-05-20T00:04:40.701Z"
   },
   {
    "duration": 220,
    "start_time": "2022-05-20T00:04:41.111Z"
   },
   {
    "duration": 314,
    "start_time": "2022-05-20T00:04:41.333Z"
   },
   {
    "duration": 238,
    "start_time": "2022-05-20T00:04:41.649Z"
   },
   {
    "duration": 347,
    "start_time": "2022-05-20T00:04:41.888Z"
   },
   {
    "duration": 12,
    "start_time": "2022-05-20T00:04:42.238Z"
   },
   {
    "duration": 8,
    "start_time": "2022-05-20T00:04:42.252Z"
   },
   {
    "duration": 170,
    "start_time": "2022-05-20T00:04:42.263Z"
   },
   {
    "duration": 5,
    "start_time": "2022-05-20T00:04:42.435Z"
   },
   {
    "duration": 11,
    "start_time": "2022-05-20T00:04:42.442Z"
   },
   {
    "duration": 150,
    "start_time": "2022-05-20T00:04:42.454Z"
   },
   {
    "duration": 143,
    "start_time": "2022-05-20T00:04:42.607Z"
   },
   {
    "duration": 5,
    "start_time": "2022-05-20T00:04:42.752Z"
   },
   {
    "duration": 239,
    "start_time": "2022-05-20T00:04:42.758Z"
   },
   {
    "duration": 133,
    "start_time": "2022-05-20T00:04:42.999Z"
   },
   {
    "duration": 31,
    "start_time": "2022-05-20T00:04:43.134Z"
   },
   {
    "duration": 11,
    "start_time": "2022-05-20T00:04:43.167Z"
   },
   {
    "duration": 12,
    "start_time": "2022-05-20T00:04:43.180Z"
   },
   {
    "duration": 62,
    "start_time": "2022-05-20T00:04:43.194Z"
   },
   {
    "duration": 17,
    "start_time": "2022-05-20T00:04:43.258Z"
   },
   {
    "duration": 146,
    "start_time": "2022-05-20T00:04:43.276Z"
   },
   {
    "duration": 21,
    "start_time": "2022-05-20T00:04:43.423Z"
   },
   {
    "duration": 7,
    "start_time": "2022-05-20T00:04:43.446Z"
   },
   {
    "duration": 6,
    "start_time": "2022-05-20T00:04:43.454Z"
   },
   {
    "duration": 18,
    "start_time": "2022-05-20T00:04:43.462Z"
   },
   {
    "duration": 81,
    "start_time": "2022-05-20T00:04:43.482Z"
   },
   {
    "duration": 65,
    "start_time": "2022-05-20T00:04:43.566Z"
   },
   {
    "duration": 56,
    "start_time": "2022-05-20T00:04:43.632Z"
   },
   {
    "duration": 13,
    "start_time": "2022-05-20T00:04:43.691Z"
   },
   {
    "duration": 33,
    "start_time": "2022-05-20T00:04:43.706Z"
   },
   {
    "duration": 18,
    "start_time": "2022-05-20T00:04:43.741Z"
   },
   {
    "duration": 6,
    "start_time": "2022-05-20T00:05:30.405Z"
   },
   {
    "duration": 6,
    "start_time": "2022-05-20T00:05:41.968Z"
   },
   {
    "duration": 6,
    "start_time": "2022-05-20T00:05:47.797Z"
   },
   {
    "duration": 1126,
    "start_time": "2022-05-20T00:05:59.538Z"
   },
   {
    "duration": 41,
    "start_time": "2022-05-20T00:06:00.666Z"
   },
   {
    "duration": 25,
    "start_time": "2022-05-20T00:06:00.709Z"
   },
   {
    "duration": 14,
    "start_time": "2022-05-20T00:06:00.737Z"
   },
   {
    "duration": 43,
    "start_time": "2022-05-20T00:06:00.753Z"
   },
   {
    "duration": 28,
    "start_time": "2022-05-20T00:06:00.799Z"
   },
   {
    "duration": 53,
    "start_time": "2022-05-20T00:06:00.829Z"
   },
   {
    "duration": 49,
    "start_time": "2022-05-20T00:06:00.885Z"
   },
   {
    "duration": 40,
    "start_time": "2022-05-20T00:06:00.936Z"
   },
   {
    "duration": 77,
    "start_time": "2022-05-20T00:06:00.979Z"
   },
   {
    "duration": 47,
    "start_time": "2022-05-20T00:06:01.058Z"
   },
   {
    "duration": 91,
    "start_time": "2022-05-20T00:06:01.107Z"
   },
   {
    "duration": 15,
    "start_time": "2022-05-20T00:06:01.199Z"
   },
   {
    "duration": 13,
    "start_time": "2022-05-20T00:06:01.218Z"
   },
   {
    "duration": 43,
    "start_time": "2022-05-20T00:06:01.233Z"
   },
   {
    "duration": 62,
    "start_time": "2022-05-20T00:06:01.278Z"
   },
   {
    "duration": 45,
    "start_time": "2022-05-20T00:06:01.342Z"
   },
   {
    "duration": 53,
    "start_time": "2022-05-20T00:06:01.389Z"
   },
   {
    "duration": 32,
    "start_time": "2022-05-20T00:06:01.444Z"
   },
   {
    "duration": 39,
    "start_time": "2022-05-20T00:06:01.478Z"
   },
   {
    "duration": 35,
    "start_time": "2022-05-20T00:06:01.519Z"
   },
   {
    "duration": 24,
    "start_time": "2022-05-20T00:06:01.556Z"
   },
   {
    "duration": 36,
    "start_time": "2022-05-20T00:06:01.582Z"
   },
   {
    "duration": 311,
    "start_time": "2022-05-20T00:06:01.620Z"
   },
   {
    "duration": 8,
    "start_time": "2022-05-20T00:06:01.933Z"
   },
   {
    "duration": 21,
    "start_time": "2022-05-20T00:06:01.943Z"
   },
   {
    "duration": 17,
    "start_time": "2022-05-20T00:06:01.966Z"
   },
   {
    "duration": 435,
    "start_time": "2022-05-20T00:06:01.985Z"
   },
   {
    "duration": 225,
    "start_time": "2022-05-20T00:06:02.427Z"
   },
   {
    "duration": 287,
    "start_time": "2022-05-20T00:06:02.654Z"
   },
   {
    "duration": 224,
    "start_time": "2022-05-20T00:06:02.942Z"
   },
   {
    "duration": 298,
    "start_time": "2022-05-20T00:06:03.167Z"
   },
   {
    "duration": 11,
    "start_time": "2022-05-20T00:06:03.467Z"
   },
   {
    "duration": 12,
    "start_time": "2022-05-20T00:06:03.479Z"
   },
   {
    "duration": 171,
    "start_time": "2022-05-20T00:06:03.493Z"
   },
   {
    "duration": 5,
    "start_time": "2022-05-20T00:06:03.667Z"
   },
   {
    "duration": 12,
    "start_time": "2022-05-20T00:06:03.674Z"
   },
   {
    "duration": 156,
    "start_time": "2022-05-20T00:06:03.688Z"
   },
   {
    "duration": 155,
    "start_time": "2022-05-20T00:06:03.845Z"
   },
   {
    "duration": 4,
    "start_time": "2022-05-20T00:06:04.002Z"
   },
   {
    "duration": 236,
    "start_time": "2022-05-20T00:06:04.010Z"
   },
   {
    "duration": 123,
    "start_time": "2022-05-20T00:06:04.248Z"
   },
   {
    "duration": 57,
    "start_time": "2022-05-20T00:06:04.373Z"
   },
   {
    "duration": 12,
    "start_time": "2022-05-20T00:06:04.432Z"
   },
   {
    "duration": 17,
    "start_time": "2022-05-20T00:06:04.446Z"
   },
   {
    "duration": 36,
    "start_time": "2022-05-20T00:06:04.465Z"
   },
   {
    "duration": 31,
    "start_time": "2022-05-20T00:06:04.502Z"
   },
   {
    "duration": 147,
    "start_time": "2022-05-20T00:06:04.535Z"
   },
   {
    "duration": 20,
    "start_time": "2022-05-20T00:06:04.684Z"
   },
   {
    "duration": 23,
    "start_time": "2022-05-20T00:06:04.706Z"
   },
   {
    "duration": 6,
    "start_time": "2022-05-20T00:06:04.731Z"
   },
   {
    "duration": 26,
    "start_time": "2022-05-20T00:06:04.739Z"
   },
   {
    "duration": 106,
    "start_time": "2022-05-20T00:06:04.767Z"
   },
   {
    "duration": 89,
    "start_time": "2022-05-20T00:06:04.875Z"
   },
   {
    "duration": 6,
    "start_time": "2022-05-20T00:06:04.966Z"
   },
   {
    "duration": 15,
    "start_time": "2022-05-20T00:06:04.973Z"
   },
   {
    "duration": 13,
    "start_time": "2022-05-20T00:06:04.989Z"
   },
   {
    "duration": 34,
    "start_time": "2022-05-20T00:06:05.003Z"
   },
   {
    "duration": 17,
    "start_time": "2022-05-20T00:08:35.389Z"
   },
   {
    "duration": 13,
    "start_time": "2022-05-20T00:08:39.050Z"
   },
   {
    "duration": 91,
    "start_time": "2022-05-20T00:09:39.045Z"
   },
   {
    "duration": 176,
    "start_time": "2022-05-20T00:10:46.943Z"
   },
   {
    "duration": 38,
    "start_time": "2022-05-20T00:11:42.741Z"
   },
   {
    "duration": 6,
    "start_time": "2022-05-20T00:12:38.692Z"
   },
   {
    "duration": 5,
    "start_time": "2022-05-20T00:13:12.813Z"
   },
   {
    "duration": 20,
    "start_time": "2022-05-20T00:13:55.729Z"
   },
   {
    "duration": 855,
    "start_time": "2022-05-20T00:17:32.751Z"
   },
   {
    "duration": 1123,
    "start_time": "2022-05-20T00:17:52.451Z"
   },
   {
    "duration": 39,
    "start_time": "2022-05-20T00:17:53.577Z"
   },
   {
    "duration": 18,
    "start_time": "2022-05-20T00:17:53.618Z"
   },
   {
    "duration": 12,
    "start_time": "2022-05-20T00:17:53.638Z"
   },
   {
    "duration": 20,
    "start_time": "2022-05-20T00:17:53.651Z"
   },
   {
    "duration": 10,
    "start_time": "2022-05-20T00:17:53.673Z"
   },
   {
    "duration": 27,
    "start_time": "2022-05-20T00:17:53.685Z"
   },
   {
    "duration": 20,
    "start_time": "2022-05-20T00:17:53.714Z"
   },
   {
    "duration": 22,
    "start_time": "2022-05-20T00:17:53.736Z"
   },
   {
    "duration": 18,
    "start_time": "2022-05-20T00:17:53.760Z"
   },
   {
    "duration": 14,
    "start_time": "2022-05-20T00:17:53.780Z"
   },
   {
    "duration": 23,
    "start_time": "2022-05-20T00:17:53.797Z"
   },
   {
    "duration": 22,
    "start_time": "2022-05-20T00:17:53.822Z"
   },
   {
    "duration": 24,
    "start_time": "2022-05-20T00:17:53.845Z"
   },
   {
    "duration": 28,
    "start_time": "2022-05-20T00:17:53.870Z"
   },
   {
    "duration": 32,
    "start_time": "2022-05-20T00:17:53.900Z"
   },
   {
    "duration": 25,
    "start_time": "2022-05-20T00:17:53.934Z"
   },
   {
    "duration": 35,
    "start_time": "2022-05-20T00:17:53.961Z"
   },
   {
    "duration": 14,
    "start_time": "2022-05-20T00:17:53.998Z"
   },
   {
    "duration": 23,
    "start_time": "2022-05-20T00:17:54.013Z"
   },
   {
    "duration": 27,
    "start_time": "2022-05-20T00:17:54.037Z"
   },
   {
    "duration": 25,
    "start_time": "2022-05-20T00:17:54.065Z"
   },
   {
    "duration": 26,
    "start_time": "2022-05-20T00:17:54.091Z"
   },
   {
    "duration": 288,
    "start_time": "2022-05-20T00:17:54.119Z"
   },
   {
    "duration": 6,
    "start_time": "2022-05-20T00:17:54.409Z"
   },
   {
    "duration": 16,
    "start_time": "2022-05-20T00:17:54.426Z"
   },
   {
    "duration": 24,
    "start_time": "2022-05-20T00:17:54.443Z"
   },
   {
    "duration": 408,
    "start_time": "2022-05-20T00:17:54.471Z"
   },
   {
    "duration": 216,
    "start_time": "2022-05-20T00:17:54.881Z"
   },
   {
    "duration": 347,
    "start_time": "2022-05-20T00:17:55.098Z"
   },
   {
    "duration": 210,
    "start_time": "2022-05-20T00:17:55.446Z"
   },
   {
    "duration": 304,
    "start_time": "2022-05-20T00:17:55.658Z"
   },
   {
    "duration": 13,
    "start_time": "2022-05-20T00:17:55.964Z"
   },
   {
    "duration": 9,
    "start_time": "2022-05-20T00:17:55.979Z"
   },
   {
    "duration": 173,
    "start_time": "2022-05-20T00:17:55.990Z"
   },
   {
    "duration": 4,
    "start_time": "2022-05-20T00:17:56.165Z"
   },
   {
    "duration": 54,
    "start_time": "2022-05-20T00:17:56.171Z"
   },
   {
    "duration": 193,
    "start_time": "2022-05-20T00:17:56.227Z"
   },
   {
    "duration": 176,
    "start_time": "2022-05-20T00:17:56.427Z"
   },
   {
    "duration": 4,
    "start_time": "2022-05-20T00:17:56.606Z"
   },
   {
    "duration": 249,
    "start_time": "2022-05-20T00:17:56.611Z"
   },
   {
    "duration": 150,
    "start_time": "2022-05-20T00:17:56.862Z"
   },
   {
    "duration": 61,
    "start_time": "2022-05-20T00:17:57.014Z"
   },
   {
    "duration": 11,
    "start_time": "2022-05-20T00:17:57.077Z"
   },
   {
    "duration": 12,
    "start_time": "2022-05-20T00:17:57.089Z"
   },
   {
    "duration": 61,
    "start_time": "2022-05-20T00:17:57.103Z"
   },
   {
    "duration": 14,
    "start_time": "2022-05-20T00:17:57.166Z"
   },
   {
    "duration": 169,
    "start_time": "2022-05-20T00:17:57.182Z"
   },
   {
    "duration": 19,
    "start_time": "2022-05-20T00:17:57.353Z"
   },
   {
    "duration": 9,
    "start_time": "2022-05-20T00:17:57.373Z"
   },
   {
    "duration": 21,
    "start_time": "2022-05-20T00:17:57.384Z"
   },
   {
    "duration": 26,
    "start_time": "2022-05-20T00:17:57.406Z"
   },
   {
    "duration": 61,
    "start_time": "2022-05-20T00:17:57.433Z"
   },
   {
    "duration": 5,
    "start_time": "2022-05-20T00:17:57.495Z"
   },
   {
    "duration": 0,
    "start_time": "2022-05-20T00:17:57.502Z"
   },
   {
    "duration": 0,
    "start_time": "2022-05-20T00:17:57.503Z"
   },
   {
    "duration": 0,
    "start_time": "2022-05-20T00:17:57.504Z"
   },
   {
    "duration": 0,
    "start_time": "2022-05-20T00:17:57.505Z"
   },
   {
    "duration": 0,
    "start_time": "2022-05-20T00:17:57.528Z"
   },
   {
    "duration": 0,
    "start_time": "2022-05-20T00:17:57.532Z"
   },
   {
    "duration": 175,
    "start_time": "2022-05-20T00:18:14.011Z"
   },
   {
    "duration": 1141,
    "start_time": "2022-05-20T00:18:20.120Z"
   },
   {
    "duration": 41,
    "start_time": "2022-05-20T00:18:21.263Z"
   },
   {
    "duration": 19,
    "start_time": "2022-05-20T00:18:21.305Z"
   },
   {
    "duration": 4,
    "start_time": "2022-05-20T00:18:21.325Z"
   },
   {
    "duration": 13,
    "start_time": "2022-05-20T00:18:21.331Z"
   },
   {
    "duration": 5,
    "start_time": "2022-05-20T00:18:21.346Z"
   },
   {
    "duration": 18,
    "start_time": "2022-05-20T00:18:21.353Z"
   },
   {
    "duration": 7,
    "start_time": "2022-05-20T00:18:21.372Z"
   },
   {
    "duration": 13,
    "start_time": "2022-05-20T00:18:21.380Z"
   },
   {
    "duration": 14,
    "start_time": "2022-05-20T00:18:21.395Z"
   },
   {
    "duration": 18,
    "start_time": "2022-05-20T00:18:21.410Z"
   },
   {
    "duration": 18,
    "start_time": "2022-05-20T00:18:21.431Z"
   },
   {
    "duration": 7,
    "start_time": "2022-05-20T00:18:21.451Z"
   },
   {
    "duration": 7,
    "start_time": "2022-05-20T00:18:21.461Z"
   },
   {
    "duration": 10,
    "start_time": "2022-05-20T00:18:21.470Z"
   },
   {
    "duration": 15,
    "start_time": "2022-05-20T00:18:21.482Z"
   },
   {
    "duration": 43,
    "start_time": "2022-05-20T00:18:21.499Z"
   },
   {
    "duration": 25,
    "start_time": "2022-05-20T00:18:21.544Z"
   },
   {
    "duration": 9,
    "start_time": "2022-05-20T00:18:21.571Z"
   },
   {
    "duration": 8,
    "start_time": "2022-05-20T00:18:21.582Z"
   },
   {
    "duration": 6,
    "start_time": "2022-05-20T00:18:21.592Z"
   },
   {
    "duration": 29,
    "start_time": "2022-05-20T00:18:21.600Z"
   },
   {
    "duration": 11,
    "start_time": "2022-05-20T00:18:21.630Z"
   },
   {
    "duration": 305,
    "start_time": "2022-05-20T00:18:21.643Z"
   },
   {
    "duration": 6,
    "start_time": "2022-05-20T00:18:21.949Z"
   },
   {
    "duration": 14,
    "start_time": "2022-05-20T00:18:21.957Z"
   },
   {
    "duration": 9,
    "start_time": "2022-05-20T00:18:21.972Z"
   },
   {
    "duration": 389,
    "start_time": "2022-05-20T00:18:21.982Z"
   },
   {
    "duration": 215,
    "start_time": "2022-05-20T00:18:22.373Z"
   },
   {
    "duration": 294,
    "start_time": "2022-05-20T00:18:22.589Z"
   },
   {
    "duration": 221,
    "start_time": "2022-05-20T00:18:22.885Z"
   },
   {
    "duration": 332,
    "start_time": "2022-05-20T00:18:23.108Z"
   },
   {
    "duration": 10,
    "start_time": "2022-05-20T00:18:23.442Z"
   },
   {
    "duration": 7,
    "start_time": "2022-05-20T00:18:23.454Z"
   },
   {
    "duration": 160,
    "start_time": "2022-05-20T00:18:23.462Z"
   },
   {
    "duration": 5,
    "start_time": "2022-05-20T00:18:23.626Z"
   },
   {
    "duration": 11,
    "start_time": "2022-05-20T00:18:23.633Z"
   },
   {
    "duration": 153,
    "start_time": "2022-05-20T00:18:23.646Z"
   },
   {
    "duration": 149,
    "start_time": "2022-05-20T00:18:23.801Z"
   },
   {
    "duration": 4,
    "start_time": "2022-05-20T00:18:23.952Z"
   },
   {
    "duration": 230,
    "start_time": "2022-05-20T00:18:23.961Z"
   },
   {
    "duration": 138,
    "start_time": "2022-05-20T00:18:24.192Z"
   },
   {
    "duration": 31,
    "start_time": "2022-05-20T00:18:24.331Z"
   },
   {
    "duration": 10,
    "start_time": "2022-05-20T00:18:24.364Z"
   },
   {
    "duration": 12,
    "start_time": "2022-05-20T00:18:24.376Z"
   },
   {
    "duration": 53,
    "start_time": "2022-05-20T00:18:24.390Z"
   },
   {
    "duration": 18,
    "start_time": "2022-05-20T00:18:24.445Z"
   },
   {
    "duration": 188,
    "start_time": "2022-05-20T00:18:24.464Z"
   },
   {
    "duration": 18,
    "start_time": "2022-05-20T00:18:24.653Z"
   },
   {
    "duration": 8,
    "start_time": "2022-05-20T00:18:24.673Z"
   },
   {
    "duration": 5,
    "start_time": "2022-05-20T00:18:24.682Z"
   },
   {
    "duration": 17,
    "start_time": "2022-05-20T00:18:24.689Z"
   },
   {
    "duration": 77,
    "start_time": "2022-05-20T00:18:24.707Z"
   },
   {
    "duration": 192,
    "start_time": "2022-05-20T00:18:24.785Z"
   },
   {
    "duration": 0,
    "start_time": "2022-05-20T00:18:24.978Z"
   },
   {
    "duration": 0,
    "start_time": "2022-05-20T00:18:24.980Z"
   },
   {
    "duration": 0,
    "start_time": "2022-05-20T00:18:24.981Z"
   },
   {
    "duration": 0,
    "start_time": "2022-05-20T00:18:24.982Z"
   },
   {
    "duration": 0,
    "start_time": "2022-05-20T00:18:24.983Z"
   },
   {
    "duration": 0,
    "start_time": "2022-05-20T00:18:24.984Z"
   },
   {
    "duration": 70,
    "start_time": "2022-05-20T00:18:37.608Z"
   },
   {
    "duration": 67,
    "start_time": "2022-05-20T00:18:52.235Z"
   },
   {
    "duration": 72,
    "start_time": "2022-05-20T00:18:59.225Z"
   },
   {
    "duration": 61,
    "start_time": "2022-05-20T00:19:27.659Z"
   },
   {
    "duration": 80,
    "start_time": "2022-05-20T00:19:45.198Z"
   },
   {
    "duration": 72,
    "start_time": "2022-05-20T00:21:32.456Z"
   },
   {
    "duration": 116,
    "start_time": "2022-05-20T00:21:43.531Z"
   },
   {
    "duration": 98,
    "start_time": "2022-05-20T00:21:54.978Z"
   },
   {
    "duration": 5,
    "start_time": "2022-05-20T00:21:58.202Z"
   },
   {
    "duration": 12,
    "start_time": "2022-05-20T00:22:00.169Z"
   },
   {
    "duration": 150,
    "start_time": "2022-05-20T00:22:02.750Z"
   },
   {
    "duration": 17,
    "start_time": "2022-05-20T00:22:05.108Z"
   },
   {
    "duration": 12,
    "start_time": "2022-05-20T00:28:59.529Z"
   },
   {
    "duration": 4,
    "start_time": "2022-05-20T00:29:42.209Z"
   },
   {
    "duration": 9,
    "start_time": "2022-05-20T00:29:58.973Z"
   },
   {
    "duration": 12,
    "start_time": "2022-05-20T00:30:05.063Z"
   },
   {
    "duration": 29,
    "start_time": "2022-05-20T00:30:26.744Z"
   },
   {
    "duration": 40,
    "start_time": "2022-05-20T00:30:37.710Z"
   },
   {
    "duration": 48,
    "start_time": "2022-05-20T00:31:31.564Z"
   },
   {
    "duration": 9,
    "start_time": "2022-05-20T00:33:03.472Z"
   },
   {
    "duration": 22,
    "start_time": "2022-05-20T00:34:37.610Z"
   },
   {
    "duration": 15,
    "start_time": "2022-05-20T00:34:52.692Z"
   },
   {
    "duration": 15,
    "start_time": "2022-05-20T00:34:58.716Z"
   },
   {
    "duration": 15,
    "start_time": "2022-05-20T00:35:02.480Z"
   },
   {
    "duration": 21,
    "start_time": "2022-05-20T00:35:09.296Z"
   },
   {
    "duration": 15,
    "start_time": "2022-05-20T00:37:33.287Z"
   },
   {
    "duration": 13,
    "start_time": "2022-05-20T00:37:51.300Z"
   },
   {
    "duration": 6,
    "start_time": "2022-05-20T00:37:52.168Z"
   },
   {
    "duration": 22,
    "start_time": "2022-05-20T00:37:53.075Z"
   },
   {
    "duration": 28,
    "start_time": "2022-05-20T00:42:13.994Z"
   },
   {
    "duration": 46,
    "start_time": "2022-05-20T00:42:21.002Z"
   },
   {
    "duration": 42,
    "start_time": "2022-05-20T00:42:28.919Z"
   },
   {
    "duration": 226,
    "start_time": "2022-05-20T00:44:42.960Z"
   },
   {
    "duration": 355,
    "start_time": "2022-05-20T00:46:59.254Z"
   },
   {
    "duration": 364,
    "start_time": "2022-05-20T00:47:04.515Z"
   },
   {
    "duration": 39,
    "start_time": "2022-05-20T00:47:56.069Z"
   },
   {
    "duration": 283,
    "start_time": "2022-05-20T00:48:01.363Z"
   },
   {
    "duration": 245,
    "start_time": "2022-05-20T00:48:24.361Z"
   },
   {
    "duration": 366,
    "start_time": "2022-05-20T00:48:34.253Z"
   },
   {
    "duration": 22,
    "start_time": "2022-05-20T00:50:41.761Z"
   },
   {
    "duration": 168,
    "start_time": "2022-05-20T00:51:44.176Z"
   },
   {
    "duration": 191,
    "start_time": "2022-05-20T00:52:02.078Z"
   },
   {
    "duration": 170,
    "start_time": "2022-05-20T00:52:05.881Z"
   },
   {
    "duration": 168,
    "start_time": "2022-05-20T00:52:08.616Z"
   },
   {
    "duration": 301,
    "start_time": "2022-05-20T00:52:12.051Z"
   },
   {
    "duration": 307,
    "start_time": "2022-05-20T00:52:58.198Z"
   },
   {
    "duration": 13,
    "start_time": "2022-05-20T00:56:53.866Z"
   },
   {
    "duration": 247,
    "start_time": "2022-05-20T01:00:25.022Z"
   },
   {
    "duration": 73,
    "start_time": "2022-05-20T01:02:23.276Z"
   },
   {
    "duration": 1141,
    "start_time": "2022-05-20T01:02:56.836Z"
   },
   {
    "duration": 40,
    "start_time": "2022-05-20T01:02:57.979Z"
   },
   {
    "duration": 22,
    "start_time": "2022-05-20T01:02:58.021Z"
   },
   {
    "duration": 4,
    "start_time": "2022-05-20T01:02:58.045Z"
   },
   {
    "duration": 13,
    "start_time": "2022-05-20T01:02:58.053Z"
   },
   {
    "duration": 17,
    "start_time": "2022-05-20T01:02:58.068Z"
   },
   {
    "duration": 43,
    "start_time": "2022-05-20T01:02:58.087Z"
   },
   {
    "duration": 17,
    "start_time": "2022-05-20T01:02:58.132Z"
   },
   {
    "duration": 12,
    "start_time": "2022-05-20T01:02:58.151Z"
   },
   {
    "duration": 9,
    "start_time": "2022-05-20T01:02:58.165Z"
   },
   {
    "duration": 9,
    "start_time": "2022-05-20T01:02:58.175Z"
   },
   {
    "duration": 20,
    "start_time": "2022-05-20T01:02:58.185Z"
   },
   {
    "duration": 7,
    "start_time": "2022-05-20T01:02:58.228Z"
   },
   {
    "duration": 15,
    "start_time": "2022-05-20T01:02:58.238Z"
   },
   {
    "duration": 10,
    "start_time": "2022-05-20T01:02:58.255Z"
   },
   {
    "duration": 41,
    "start_time": "2022-05-20T01:02:58.267Z"
   },
   {
    "duration": 18,
    "start_time": "2022-05-20T01:02:58.311Z"
   },
   {
    "duration": 18,
    "start_time": "2022-05-20T01:02:58.332Z"
   },
   {
    "duration": 8,
    "start_time": "2022-05-20T01:02:58.352Z"
   },
   {
    "duration": 10,
    "start_time": "2022-05-20T01:02:58.362Z"
   },
   {
    "duration": 9,
    "start_time": "2022-05-20T01:02:58.374Z"
   },
   {
    "duration": 14,
    "start_time": "2022-05-20T01:02:58.384Z"
   },
   {
    "duration": 43,
    "start_time": "2022-05-20T01:02:58.400Z"
   },
   {
    "duration": 285,
    "start_time": "2022-05-20T01:02:58.445Z"
   },
   {
    "duration": 6,
    "start_time": "2022-05-20T01:02:58.733Z"
   },
   {
    "duration": 13,
    "start_time": "2022-05-20T01:02:58.741Z"
   },
   {
    "duration": 12,
    "start_time": "2022-05-20T01:02:58.755Z"
   },
   {
    "duration": 424,
    "start_time": "2022-05-20T01:02:58.769Z"
   },
   {
    "duration": 234,
    "start_time": "2022-05-20T01:02:59.195Z"
   },
   {
    "duration": 320,
    "start_time": "2022-05-20T01:02:59.431Z"
   },
   {
    "duration": 264,
    "start_time": "2022-05-20T01:02:59.754Z"
   },
   {
    "duration": 347,
    "start_time": "2022-05-20T01:03:00.020Z"
   },
   {
    "duration": 11,
    "start_time": "2022-05-20T01:03:00.369Z"
   },
   {
    "duration": 16,
    "start_time": "2022-05-20T01:03:00.382Z"
   },
   {
    "duration": 161,
    "start_time": "2022-05-20T01:03:00.400Z"
   },
   {
    "duration": 5,
    "start_time": "2022-05-20T01:03:00.563Z"
   },
   {
    "duration": 48,
    "start_time": "2022-05-20T01:03:00.570Z"
   },
   {
    "duration": 146,
    "start_time": "2022-05-20T01:03:00.620Z"
   },
   {
    "duration": 155,
    "start_time": "2022-05-20T01:03:00.768Z"
   },
   {
    "duration": 4,
    "start_time": "2022-05-20T01:03:00.927Z"
   },
   {
    "duration": 244,
    "start_time": "2022-05-20T01:03:00.936Z"
   },
   {
    "duration": 130,
    "start_time": "2022-05-20T01:03:01.182Z"
   },
   {
    "duration": 41,
    "start_time": "2022-05-20T01:03:01.313Z"
   },
   {
    "duration": 13,
    "start_time": "2022-05-20T01:03:01.357Z"
   },
   {
    "duration": 10,
    "start_time": "2022-05-20T01:03:01.372Z"
   },
   {
    "duration": 71,
    "start_time": "2022-05-20T01:03:01.384Z"
   },
   {
    "duration": 18,
    "start_time": "2022-05-20T01:03:01.458Z"
   },
   {
    "duration": 172,
    "start_time": "2022-05-20T01:03:01.479Z"
   },
   {
    "duration": 20,
    "start_time": "2022-05-20T01:03:01.653Z"
   },
   {
    "duration": 9,
    "start_time": "2022-05-20T01:03:01.675Z"
   },
   {
    "duration": 27,
    "start_time": "2022-05-20T01:03:01.686Z"
   },
   {
    "duration": 27,
    "start_time": "2022-05-20T01:03:01.714Z"
   },
   {
    "duration": 69,
    "start_time": "2022-05-20T01:03:01.743Z"
   },
   {
    "duration": 98,
    "start_time": "2022-05-20T01:03:01.814Z"
   },
   {
    "duration": 163,
    "start_time": "2022-05-20T01:03:01.927Z"
   },
   {
    "duration": 6,
    "start_time": "2022-05-20T01:03:02.093Z"
   },
   {
    "duration": 48,
    "start_time": "2022-05-20T01:03:02.101Z"
   },
   {
    "duration": 34,
    "start_time": "2022-05-20T01:03:02.151Z"
   },
   {
    "duration": 19,
    "start_time": "2022-05-20T01:03:02.187Z"
   },
   {
    "duration": 48,
    "start_time": "2022-05-20T01:03:02.208Z"
   },
   {
    "duration": 8,
    "start_time": "2022-05-20T01:03:02.258Z"
   },
   {
    "duration": 20,
    "start_time": "2022-05-20T01:03:02.267Z"
   },
   {
    "duration": 312,
    "start_time": "2022-05-20T01:03:02.289Z"
   },
   {
    "duration": 293,
    "start_time": "2022-05-20T01:03:02.603Z"
   },
   {
    "duration": 29,
    "start_time": "2022-05-20T01:03:02.898Z"
   },
   {
    "duration": 288,
    "start_time": "2022-05-20T01:03:02.929Z"
   },
   {
    "duration": 113,
    "start_time": "2022-05-20T01:03:03.219Z"
   },
   {
    "duration": 79,
    "start_time": "2022-05-20T01:03:25.154Z"
   },
   {
    "duration": 58,
    "start_time": "2022-05-20T01:05:19.236Z"
   },
   {
    "duration": 125,
    "start_time": "2022-05-20T01:05:30.494Z"
   },
   {
    "duration": 115,
    "start_time": "2022-05-20T01:05:46.683Z"
   },
   {
    "duration": 107,
    "start_time": "2022-05-20T01:06:24.740Z"
   },
   {
    "duration": 117,
    "start_time": "2022-05-20T01:08:14.104Z"
   },
   {
    "duration": 20,
    "start_time": "2022-05-20T01:08:22.515Z"
   },
   {
    "duration": 33,
    "start_time": "2022-05-20T01:09:43.290Z"
   },
   {
    "duration": 630,
    "start_time": "2022-05-20T01:12:12.428Z"
   },
   {
    "duration": 6,
    "start_time": "2022-05-20T01:12:22.273Z"
   },
   {
    "duration": 35,
    "start_time": "2022-05-20T01:13:25.431Z"
   },
   {
    "duration": 37,
    "start_time": "2022-05-20T01:13:56.969Z"
   },
   {
    "duration": 2,
    "start_time": "2022-05-20T01:14:50.362Z"
   },
   {
    "duration": 1385,
    "start_time": "2022-05-20T11:42:38.975Z"
   },
   {
    "duration": 228,
    "start_time": "2022-05-20T11:42:40.362Z"
   },
   {
    "duration": 18,
    "start_time": "2022-05-20T11:42:40.592Z"
   },
   {
    "duration": 5,
    "start_time": "2022-05-20T11:42:40.612Z"
   },
   {
    "duration": 26,
    "start_time": "2022-05-20T11:42:40.618Z"
   },
   {
    "duration": 12,
    "start_time": "2022-05-20T11:42:40.645Z"
   },
   {
    "duration": 42,
    "start_time": "2022-05-20T11:42:40.658Z"
   },
   {
    "duration": 17,
    "start_time": "2022-05-20T11:42:40.702Z"
   },
   {
    "duration": 19,
    "start_time": "2022-05-20T11:42:40.721Z"
   },
   {
    "duration": 10,
    "start_time": "2022-05-20T11:42:40.742Z"
   },
   {
    "duration": 12,
    "start_time": "2022-05-20T11:42:40.753Z"
   },
   {
    "duration": 17,
    "start_time": "2022-05-20T11:42:40.767Z"
   },
   {
    "duration": 18,
    "start_time": "2022-05-20T11:42:40.786Z"
   },
   {
    "duration": 17,
    "start_time": "2022-05-20T11:42:40.806Z"
   },
   {
    "duration": 15,
    "start_time": "2022-05-20T11:42:40.824Z"
   },
   {
    "duration": 22,
    "start_time": "2022-05-20T11:42:40.841Z"
   },
   {
    "duration": 18,
    "start_time": "2022-05-20T11:42:40.864Z"
   },
   {
    "duration": 34,
    "start_time": "2022-05-20T11:42:40.883Z"
   },
   {
    "duration": 15,
    "start_time": "2022-05-20T11:42:40.918Z"
   },
   {
    "duration": 25,
    "start_time": "2022-05-20T11:42:40.934Z"
   },
   {
    "duration": 15,
    "start_time": "2022-05-20T11:42:40.960Z"
   },
   {
    "duration": 24,
    "start_time": "2022-05-20T11:42:40.977Z"
   },
   {
    "duration": 22,
    "start_time": "2022-05-20T11:42:41.002Z"
   },
   {
    "duration": 292,
    "start_time": "2022-05-20T11:42:41.025Z"
   },
   {
    "duration": 6,
    "start_time": "2022-05-20T11:42:41.319Z"
   },
   {
    "duration": 13,
    "start_time": "2022-05-20T11:42:41.327Z"
   },
   {
    "duration": 19,
    "start_time": "2022-05-20T11:42:41.341Z"
   },
   {
    "duration": 455,
    "start_time": "2022-05-20T11:42:41.363Z"
   },
   {
    "duration": 231,
    "start_time": "2022-05-20T11:42:41.820Z"
   },
   {
    "duration": 302,
    "start_time": "2022-05-20T11:42:42.053Z"
   },
   {
    "duration": 215,
    "start_time": "2022-05-20T11:42:42.357Z"
   },
   {
    "duration": 319,
    "start_time": "2022-05-20T11:42:42.573Z"
   },
   {
    "duration": 22,
    "start_time": "2022-05-20T11:42:42.893Z"
   },
   {
    "duration": 8,
    "start_time": "2022-05-20T11:42:42.917Z"
   },
   {
    "duration": 153,
    "start_time": "2022-05-20T11:42:42.926Z"
   },
   {
    "duration": 4,
    "start_time": "2022-05-20T11:42:43.081Z"
   },
   {
    "duration": 10,
    "start_time": "2022-05-20T11:42:43.086Z"
   },
   {
    "duration": 134,
    "start_time": "2022-05-20T11:42:43.111Z"
   },
   {
    "duration": 137,
    "start_time": "2022-05-20T11:42:43.247Z"
   },
   {
    "duration": 5,
    "start_time": "2022-05-20T11:42:43.386Z"
   },
   {
    "duration": 235,
    "start_time": "2022-05-20T11:42:43.393Z"
   },
   {
    "duration": 129,
    "start_time": "2022-05-20T11:42:43.629Z"
   },
   {
    "duration": 32,
    "start_time": "2022-05-20T11:42:43.759Z"
   },
   {
    "duration": 29,
    "start_time": "2022-05-20T11:42:43.792Z"
   },
   {
    "duration": 17,
    "start_time": "2022-05-20T11:42:43.823Z"
   },
   {
    "duration": 32,
    "start_time": "2022-05-20T11:42:43.842Z"
   },
   {
    "duration": 14,
    "start_time": "2022-05-20T11:42:43.875Z"
   },
   {
    "duration": 640,
    "start_time": "2022-05-20T11:42:43.912Z"
   },
   {
    "duration": 20,
    "start_time": "2022-05-20T11:42:44.553Z"
   },
   {
    "duration": 7,
    "start_time": "2022-05-20T11:42:44.575Z"
   },
   {
    "duration": 4,
    "start_time": "2022-05-20T11:42:44.584Z"
   },
   {
    "duration": 17,
    "start_time": "2022-05-20T11:42:44.589Z"
   },
   {
    "duration": 59,
    "start_time": "2022-05-20T11:42:44.612Z"
   },
   {
    "duration": 78,
    "start_time": "2022-05-20T11:42:44.673Z"
   },
   {
    "duration": 145,
    "start_time": "2022-05-20T11:42:44.752Z"
   },
   {
    "duration": 5,
    "start_time": "2022-05-20T11:42:44.899Z"
   },
   {
    "duration": 22,
    "start_time": "2022-05-20T11:42:44.912Z"
   },
   {
    "duration": 10,
    "start_time": "2022-05-20T11:42:44.936Z"
   },
   {
    "duration": 44,
    "start_time": "2022-05-20T11:42:44.948Z"
   },
   {
    "duration": 8,
    "start_time": "2022-05-20T11:42:45.012Z"
   },
   {
    "duration": 29,
    "start_time": "2022-05-20T11:42:45.022Z"
   },
   {
    "duration": 313,
    "start_time": "2022-05-20T11:42:45.053Z"
   },
   {
    "duration": 279,
    "start_time": "2022-05-20T11:42:45.368Z"
   },
   {
    "duration": 17,
    "start_time": "2022-05-20T11:42:45.648Z"
   },
   {
    "duration": 245,
    "start_time": "2022-05-20T11:42:45.667Z"
   },
   {
    "duration": 100,
    "start_time": "2022-05-20T11:42:45.913Z"
   },
   {
    "duration": 21,
    "start_time": "2022-05-20T11:42:46.014Z"
   },
   {
    "duration": 35,
    "start_time": "2022-05-20T11:42:46.037Z"
   },
   {
    "duration": 47,
    "start_time": "2022-05-20T11:45:44.872Z"
   },
   {
    "duration": 29,
    "start_time": "2022-05-20T11:45:58.915Z"
   },
   {
    "duration": 23,
    "start_time": "2022-05-20T11:46:27.803Z"
   },
   {
    "duration": 45,
    "start_time": "2022-05-20T11:47:13.096Z"
   },
   {
    "duration": 29,
    "start_time": "2022-05-20T11:47:22.561Z"
   },
   {
    "duration": 43,
    "start_time": "2022-05-20T11:56:37.742Z"
   },
   {
    "duration": 303,
    "start_time": "2022-05-20T12:00:08.824Z"
   },
   {
    "duration": 56,
    "start_time": "2022-05-20T12:03:15.997Z"
   },
   {
    "duration": 61,
    "start_time": "2022-05-20T12:03:25.777Z"
   },
   {
    "duration": 68,
    "start_time": "2022-05-20T12:03:42.435Z"
   },
   {
    "duration": 50,
    "start_time": "2022-05-20T12:03:48.114Z"
   },
   {
    "duration": 55,
    "start_time": "2022-05-20T12:06:36.038Z"
   },
   {
    "duration": 9,
    "start_time": "2022-05-20T12:29:24.792Z"
   },
   {
    "duration": 12,
    "start_time": "2022-05-20T12:29:29.470Z"
   },
   {
    "duration": 12,
    "start_time": "2022-05-20T12:29:38.904Z"
   },
   {
    "duration": 58,
    "start_time": "2022-05-20T12:31:09.031Z"
   },
   {
    "duration": 78,
    "start_time": "2022-05-20T12:32:51.625Z"
   },
   {
    "duration": 4,
    "start_time": "2022-05-20T12:38:28.052Z"
   },
   {
    "duration": 5,
    "start_time": "2022-05-20T12:39:07.239Z"
   },
   {
    "duration": 106,
    "start_time": "2022-05-20T13:42:43.062Z"
   },
   {
    "duration": 9,
    "start_time": "2022-05-20T13:45:23.266Z"
   },
   {
    "duration": 212,
    "start_time": "2022-05-20T13:45:34.080Z"
   },
   {
    "duration": 121,
    "start_time": "2022-05-20T13:45:39.472Z"
   },
   {
    "duration": 12,
    "start_time": "2022-05-20T13:45:50.086Z"
   },
   {
    "duration": 128,
    "start_time": "2022-05-20T13:46:02.717Z"
   },
   {
    "duration": 4,
    "start_time": "2022-05-20T14:31:06.949Z"
   },
   {
    "duration": 10,
    "start_time": "2022-05-20T14:31:15.024Z"
   },
   {
    "duration": 4,
    "start_time": "2022-05-20T14:32:44.596Z"
   },
   {
    "duration": 10,
    "start_time": "2022-05-20T14:32:51.123Z"
   },
   {
    "duration": 10,
    "start_time": "2022-05-20T14:33:17.506Z"
   },
   {
    "duration": 10,
    "start_time": "2022-05-20T14:33:26.400Z"
   },
   {
    "duration": 11,
    "start_time": "2022-05-20T14:33:30.537Z"
   },
   {
    "duration": 10,
    "start_time": "2022-05-20T14:33:33.956Z"
   },
   {
    "duration": 9,
    "start_time": "2022-05-20T14:33:42.942Z"
   },
   {
    "duration": 10,
    "start_time": "2022-05-20T14:34:01.065Z"
   },
   {
    "duration": 11,
    "start_time": "2022-05-20T14:35:40.266Z"
   },
   {
    "duration": 1130,
    "start_time": "2022-05-20T14:35:50.121Z"
   },
   {
    "duration": 74,
    "start_time": "2022-05-20T14:35:51.253Z"
   },
   {
    "duration": 18,
    "start_time": "2022-05-20T14:35:51.329Z"
   },
   {
    "duration": 2,
    "start_time": "2022-05-20T14:35:51.349Z"
   },
   {
    "duration": 11,
    "start_time": "2022-05-20T14:35:51.353Z"
   },
   {
    "duration": 4,
    "start_time": "2022-05-20T14:35:51.366Z"
   },
   {
    "duration": 16,
    "start_time": "2022-05-20T14:35:51.372Z"
   },
   {
    "duration": 5,
    "start_time": "2022-05-20T14:35:51.390Z"
   },
   {
    "duration": 25,
    "start_time": "2022-05-20T14:35:51.397Z"
   },
   {
    "duration": 13,
    "start_time": "2022-05-20T14:35:51.425Z"
   },
   {
    "duration": 6,
    "start_time": "2022-05-20T14:35:51.440Z"
   },
   {
    "duration": 35,
    "start_time": "2022-05-20T14:35:51.447Z"
   },
   {
    "duration": 29,
    "start_time": "2022-05-20T14:35:51.484Z"
   },
   {
    "duration": 12,
    "start_time": "2022-05-20T14:35:51.515Z"
   },
   {
    "duration": 26,
    "start_time": "2022-05-20T14:35:51.529Z"
   },
   {
    "duration": 25,
    "start_time": "2022-05-20T14:35:51.557Z"
   },
   {
    "duration": 23,
    "start_time": "2022-05-20T14:35:51.584Z"
   },
   {
    "duration": 21,
    "start_time": "2022-05-20T14:35:51.609Z"
   },
   {
    "duration": 8,
    "start_time": "2022-05-20T14:35:51.632Z"
   },
   {
    "duration": 17,
    "start_time": "2022-05-20T14:35:51.642Z"
   },
   {
    "duration": 8,
    "start_time": "2022-05-20T14:35:51.661Z"
   },
   {
    "duration": 21,
    "start_time": "2022-05-20T14:35:51.671Z"
   },
   {
    "duration": 31,
    "start_time": "2022-05-20T14:35:51.693Z"
   },
   {
    "duration": 270,
    "start_time": "2022-05-20T14:35:51.726Z"
   },
   {
    "duration": 5,
    "start_time": "2022-05-20T14:35:51.998Z"
   },
   {
    "duration": 7,
    "start_time": "2022-05-20T14:35:52.011Z"
   },
   {
    "duration": 10,
    "start_time": "2022-05-20T14:35:52.019Z"
   },
   {
    "duration": 420,
    "start_time": "2022-05-20T14:35:52.034Z"
   },
   {
    "duration": 235,
    "start_time": "2022-05-20T14:35:52.456Z"
   },
   {
    "duration": 313,
    "start_time": "2022-05-20T14:35:52.693Z"
   },
   {
    "duration": 220,
    "start_time": "2022-05-20T14:35:53.012Z"
   },
   {
    "duration": 329,
    "start_time": "2022-05-20T14:35:53.233Z"
   },
   {
    "duration": 12,
    "start_time": "2022-05-20T14:35:53.563Z"
   },
   {
    "duration": 8,
    "start_time": "2022-05-20T14:35:53.576Z"
   },
   {
    "duration": 156,
    "start_time": "2022-05-20T14:35:53.586Z"
   },
   {
    "duration": 4,
    "start_time": "2022-05-20T14:35:53.744Z"
   },
   {
    "duration": 13,
    "start_time": "2022-05-20T14:35:53.750Z"
   },
   {
    "duration": 147,
    "start_time": "2022-05-20T14:35:53.765Z"
   },
   {
    "duration": 133,
    "start_time": "2022-05-20T14:35:53.913Z"
   },
   {
    "duration": 4,
    "start_time": "2022-05-20T14:35:54.048Z"
   },
   {
    "duration": 232,
    "start_time": "2022-05-20T14:35:54.053Z"
   },
   {
    "duration": 142,
    "start_time": "2022-05-20T14:35:54.287Z"
   },
   {
    "duration": 33,
    "start_time": "2022-05-20T14:35:54.431Z"
   },
   {
    "duration": 11,
    "start_time": "2022-05-20T14:35:54.465Z"
   },
   {
    "duration": 9,
    "start_time": "2022-05-20T14:35:54.478Z"
   },
   {
    "duration": 51,
    "start_time": "2022-05-20T14:35:54.489Z"
   },
   {
    "duration": 14,
    "start_time": "2022-05-20T14:35:54.542Z"
   },
   {
    "duration": 16,
    "start_time": "2022-05-20T14:35:54.557Z"
   },
   {
    "duration": 155,
    "start_time": "2022-05-20T14:35:54.574Z"
   },
   {
    "duration": 20,
    "start_time": "2022-05-20T14:35:54.730Z"
   },
   {
    "duration": 6,
    "start_time": "2022-05-20T14:35:54.752Z"
   },
   {
    "duration": 6,
    "start_time": "2022-05-20T14:35:54.760Z"
   },
   {
    "duration": 17,
    "start_time": "2022-05-20T14:35:54.767Z"
   },
   {
    "duration": 79,
    "start_time": "2022-05-20T14:35:54.786Z"
   },
   {
    "duration": 79,
    "start_time": "2022-05-20T14:35:54.866Z"
   },
   {
    "duration": 135,
    "start_time": "2022-05-20T14:35:54.947Z"
   },
   {
    "duration": 4,
    "start_time": "2022-05-20T14:35:55.083Z"
   },
   {
    "duration": 29,
    "start_time": "2022-05-20T14:35:55.089Z"
   },
   {
    "duration": 8,
    "start_time": "2022-05-20T14:35:55.120Z"
   },
   {
    "duration": 36,
    "start_time": "2022-05-20T14:35:55.129Z"
   },
   {
    "duration": 7,
    "start_time": "2022-05-20T14:35:55.167Z"
   },
   {
    "duration": 38,
    "start_time": "2022-05-20T14:35:55.176Z"
   },
   {
    "duration": 316,
    "start_time": "2022-05-20T14:35:55.216Z"
   },
   {
    "duration": 253,
    "start_time": "2022-05-20T14:35:55.533Z"
   },
   {
    "duration": 24,
    "start_time": "2022-05-20T14:35:55.788Z"
   },
   {
    "duration": 232,
    "start_time": "2022-05-20T14:35:55.813Z"
   },
   {
    "duration": 96,
    "start_time": "2022-05-20T14:35:56.046Z"
   },
   {
    "duration": 22,
    "start_time": "2022-05-20T14:35:56.144Z"
   },
   {
    "duration": 49,
    "start_time": "2022-05-20T14:35:56.167Z"
   },
   {
    "duration": 23,
    "start_time": "2022-05-20T14:35:56.217Z"
   },
   {
    "duration": 71,
    "start_time": "2022-05-20T14:35:56.241Z"
   },
   {
    "duration": 3,
    "start_time": "2022-05-20T14:35:56.313Z"
   },
   {
    "duration": 247,
    "start_time": "2022-05-20T14:35:56.318Z"
   },
   {
    "duration": 6,
    "start_time": "2022-05-20T14:35:56.566Z"
   },
   {
    "duration": 0,
    "start_time": "2022-05-20T14:35:56.573Z"
   },
   {
    "duration": 638,
    "start_time": "2022-05-20T14:37:58.606Z"
   },
   {
    "duration": 14,
    "start_time": "2022-05-20T14:38:10.761Z"
   },
   {
    "duration": 5,
    "start_time": "2022-05-20T14:40:19.823Z"
   },
   {
    "duration": 10,
    "start_time": "2022-05-20T14:40:24.041Z"
   },
   {
    "duration": 5,
    "start_time": "2022-05-20T14:45:49.469Z"
   },
   {
    "duration": 4,
    "start_time": "2022-05-20T14:46:08.021Z"
   },
   {
    "duration": 3,
    "start_time": "2022-05-20T14:47:14.602Z"
   },
   {
    "duration": 4,
    "start_time": "2022-05-20T15:15:52.362Z"
   },
   {
    "duration": 36,
    "start_time": "2022-05-20T15:16:49.963Z"
   },
   {
    "duration": 50,
    "start_time": "2022-05-20T15:56:15.812Z"
   },
   {
    "duration": 9,
    "start_time": "2022-05-20T15:56:40.504Z"
   },
   {
    "duration": 49,
    "start_time": "2022-05-20T15:57:07.592Z"
   },
   {
    "duration": 94,
    "start_time": "2022-05-20T15:57:23.912Z"
   },
   {
    "duration": 30,
    "start_time": "2022-05-20T16:12:34.977Z"
   },
   {
    "duration": 32,
    "start_time": "2022-05-20T16:12:37.669Z"
   },
   {
    "duration": 656,
    "start_time": "2022-05-20T16:13:15.003Z"
   },
   {
    "duration": 695,
    "start_time": "2022-05-20T16:13:59.438Z"
   },
   {
    "duration": 44,
    "start_time": "2022-05-20T16:14:16.796Z"
   },
   {
    "duration": 37,
    "start_time": "2022-05-20T16:14:59.133Z"
   },
   {
    "duration": 52,
    "start_time": "2022-05-20T16:15:04.237Z"
   },
   {
    "duration": 33,
    "start_time": "2022-05-20T16:15:09.230Z"
   },
   {
    "duration": 38,
    "start_time": "2022-05-20T16:15:15.004Z"
   },
   {
    "duration": 34,
    "start_time": "2022-05-20T16:15:18.778Z"
   },
   {
    "duration": 702,
    "start_time": "2022-05-20T16:15:32.171Z"
   },
   {
    "duration": 35,
    "start_time": "2022-05-20T16:15:52.056Z"
   },
   {
    "duration": 31,
    "start_time": "2022-05-20T16:15:56.866Z"
   },
   {
    "duration": 32,
    "start_time": "2022-05-20T16:15:59.934Z"
   },
   {
    "duration": 36,
    "start_time": "2022-05-20T16:16:02.057Z"
   },
   {
    "duration": 795,
    "start_time": "2022-05-20T16:16:05.211Z"
   },
   {
    "duration": 6,
    "start_time": "2022-05-20T16:16:11.095Z"
   },
   {
    "duration": 5,
    "start_time": "2022-05-20T16:16:50.791Z"
   },
   {
    "duration": 63,
    "start_time": "2022-05-20T16:17:45.200Z"
   },
   {
    "duration": 63,
    "start_time": "2022-05-20T16:24:42.224Z"
   },
   {
    "duration": 83,
    "start_time": "2022-05-20T16:25:40.388Z"
   },
   {
    "duration": 78,
    "start_time": "2022-05-20T16:25:46.205Z"
   },
   {
    "duration": 1539,
    "start_time": "2022-05-20T18:23:59.858Z"
   },
   {
    "duration": 133,
    "start_time": "2022-05-20T18:24:01.400Z"
   },
   {
    "duration": 24,
    "start_time": "2022-05-20T18:24:01.534Z"
   },
   {
    "duration": 37,
    "start_time": "2022-05-20T18:24:01.560Z"
   },
   {
    "duration": 34,
    "start_time": "2022-05-20T18:24:01.600Z"
   },
   {
    "duration": 25,
    "start_time": "2022-05-20T18:24:01.636Z"
   },
   {
    "duration": 45,
    "start_time": "2022-05-20T18:24:01.663Z"
   },
   {
    "duration": 8,
    "start_time": "2022-05-20T18:24:01.710Z"
   },
   {
    "duration": 20,
    "start_time": "2022-05-20T18:24:01.720Z"
   },
   {
    "duration": 16,
    "start_time": "2022-05-20T18:24:01.743Z"
   },
   {
    "duration": 21,
    "start_time": "2022-05-20T18:24:01.761Z"
   },
   {
    "duration": 27,
    "start_time": "2022-05-20T18:24:01.784Z"
   },
   {
    "duration": 10,
    "start_time": "2022-05-20T18:24:01.813Z"
   },
   {
    "duration": 7,
    "start_time": "2022-05-20T18:24:01.825Z"
   },
   {
    "duration": 35,
    "start_time": "2022-05-20T18:24:01.834Z"
   },
   {
    "duration": 16,
    "start_time": "2022-05-20T18:24:01.883Z"
   },
   {
    "duration": 18,
    "start_time": "2022-05-20T18:24:01.901Z"
   },
   {
    "duration": 38,
    "start_time": "2022-05-20T18:24:01.921Z"
   },
   {
    "duration": 20,
    "start_time": "2022-05-20T18:24:01.962Z"
   },
   {
    "duration": 14,
    "start_time": "2022-05-20T18:24:01.985Z"
   },
   {
    "duration": 12,
    "start_time": "2022-05-20T18:24:02.001Z"
   },
   {
    "duration": 14,
    "start_time": "2022-05-20T18:24:02.015Z"
   },
   {
    "duration": 17,
    "start_time": "2022-05-20T18:24:02.030Z"
   },
   {
    "duration": 339,
    "start_time": "2022-05-20T18:24:02.049Z"
   },
   {
    "duration": 7,
    "start_time": "2022-05-20T18:24:02.390Z"
   },
   {
    "duration": 8,
    "start_time": "2022-05-20T18:24:02.399Z"
   },
   {
    "duration": 8,
    "start_time": "2022-05-20T18:24:02.408Z"
   },
   {
    "duration": 476,
    "start_time": "2022-05-20T18:24:02.420Z"
   },
   {
    "duration": 276,
    "start_time": "2022-05-20T18:24:02.898Z"
   },
   {
    "duration": 398,
    "start_time": "2022-05-20T18:24:03.179Z"
   },
   {
    "duration": 270,
    "start_time": "2022-05-20T18:24:03.578Z"
   },
   {
    "duration": 356,
    "start_time": "2022-05-20T18:24:03.850Z"
   },
   {
    "duration": 11,
    "start_time": "2022-05-20T18:24:04.208Z"
   },
   {
    "duration": 7,
    "start_time": "2022-05-20T18:24:04.221Z"
   },
   {
    "duration": 180,
    "start_time": "2022-05-20T18:24:04.229Z"
   },
   {
    "duration": 5,
    "start_time": "2022-05-20T18:24:04.411Z"
   },
   {
    "duration": 15,
    "start_time": "2022-05-20T18:24:04.418Z"
   },
   {
    "duration": 172,
    "start_time": "2022-05-20T18:24:04.435Z"
   },
   {
    "duration": 140,
    "start_time": "2022-05-20T18:24:04.609Z"
   },
   {
    "duration": 17,
    "start_time": "2022-05-20T18:24:04.751Z"
   },
   {
    "duration": 256,
    "start_time": "2022-05-20T18:24:04.770Z"
   },
   {
    "duration": 149,
    "start_time": "2022-05-20T18:24:05.028Z"
   },
   {
    "duration": 37,
    "start_time": "2022-05-20T18:24:05.179Z"
   },
   {
    "duration": 11,
    "start_time": "2022-05-20T18:24:05.217Z"
   },
   {
    "duration": 17,
    "start_time": "2022-05-20T18:24:05.229Z"
   },
   {
    "duration": 52,
    "start_time": "2022-05-20T18:24:05.248Z"
   },
   {
    "duration": 13,
    "start_time": "2022-05-20T18:24:05.302Z"
   },
   {
    "duration": 5,
    "start_time": "2022-05-20T18:24:05.317Z"
   },
   {
    "duration": 538,
    "start_time": "2022-05-20T18:24:05.323Z"
   },
   {
    "duration": 29,
    "start_time": "2022-05-20T18:24:05.863Z"
   },
   {
    "duration": 8,
    "start_time": "2022-05-20T18:24:05.893Z"
   },
   {
    "duration": 6,
    "start_time": "2022-05-20T18:24:05.902Z"
   },
   {
    "duration": 24,
    "start_time": "2022-05-20T18:24:05.909Z"
   },
   {
    "duration": 83,
    "start_time": "2022-05-20T18:24:05.935Z"
   },
   {
    "duration": 88,
    "start_time": "2022-05-20T18:24:06.020Z"
   },
   {
    "duration": 148,
    "start_time": "2022-05-20T18:24:06.110Z"
   },
   {
    "duration": 19,
    "start_time": "2022-05-20T18:24:06.260Z"
   },
   {
    "duration": 28,
    "start_time": "2022-05-20T18:24:06.280Z"
   },
   {
    "duration": 9,
    "start_time": "2022-05-20T18:24:06.310Z"
   },
   {
    "duration": 58,
    "start_time": "2022-05-20T18:24:06.320Z"
   },
   {
    "duration": 9,
    "start_time": "2022-05-20T18:24:06.380Z"
   },
   {
    "duration": 18,
    "start_time": "2022-05-20T18:24:06.391Z"
   },
   {
    "duration": 408,
    "start_time": "2022-05-20T18:24:06.411Z"
   },
   {
    "duration": 296,
    "start_time": "2022-05-20T18:24:06.821Z"
   },
   {
    "duration": 18,
    "start_time": "2022-05-20T18:24:07.119Z"
   },
   {
    "duration": 291,
    "start_time": "2022-05-20T18:24:07.138Z"
   },
   {
    "duration": 130,
    "start_time": "2022-05-20T18:24:07.431Z"
   },
   {
    "duration": 29,
    "start_time": "2022-05-20T18:24:07.563Z"
   },
   {
    "duration": 33,
    "start_time": "2022-05-20T18:24:07.593Z"
   },
   {
    "duration": 43,
    "start_time": "2022-05-20T18:24:07.627Z"
   },
   {
    "duration": 71,
    "start_time": "2022-05-20T18:24:07.671Z"
   },
   {
    "duration": 3,
    "start_time": "2022-05-20T18:24:07.744Z"
   },
   {
    "duration": 31,
    "start_time": "2022-05-20T18:24:07.749Z"
   },
   {
    "duration": 242,
    "start_time": "2022-05-20T18:24:07.782Z"
   },
   {
    "duration": 4,
    "start_time": "2022-05-20T18:24:08.027Z"
   },
   {
    "duration": 9,
    "start_time": "2022-05-20T18:24:08.032Z"
   },
   {
    "duration": 0,
    "start_time": "2022-05-20T18:24:08.042Z"
   },
   {
    "duration": 0,
    "start_time": "2022-05-20T18:24:08.043Z"
   },
   {
    "duration": 0,
    "start_time": "2022-05-20T18:24:08.045Z"
   },
   {
    "duration": 0,
    "start_time": "2022-05-20T18:24:08.046Z"
   },
   {
    "duration": 9,
    "start_time": "2022-05-20T18:26:09.702Z"
   },
   {
    "duration": 25,
    "start_time": "2022-05-20T18:26:22.584Z"
   },
   {
    "duration": 170,
    "start_time": "2022-05-20T18:41:19.260Z"
   },
   {
    "duration": 47,
    "start_time": "2022-05-20T18:42:39.166Z"
   },
   {
    "duration": 61,
    "start_time": "2022-05-20T18:43:05.628Z"
   },
   {
    "duration": 50,
    "start_time": "2022-05-20T18:43:09.877Z"
   },
   {
    "duration": 54,
    "start_time": "2022-05-20T18:43:15.782Z"
   },
   {
    "duration": 4,
    "start_time": "2022-05-20T18:44:11.355Z"
   },
   {
    "duration": 54,
    "start_time": "2022-05-20T18:44:14.789Z"
   },
   {
    "duration": 36,
    "start_time": "2022-05-20T18:44:36.520Z"
   },
   {
    "duration": 50,
    "start_time": "2022-05-20T18:44:40.009Z"
   },
   {
    "duration": 49,
    "start_time": "2022-05-20T18:44:46.737Z"
   },
   {
    "duration": 59,
    "start_time": "2022-05-20T18:44:56.157Z"
   },
   {
    "duration": 62,
    "start_time": "2022-05-20T18:45:05.764Z"
   },
   {
    "duration": 59,
    "start_time": "2022-05-20T18:45:22.363Z"
   },
   {
    "duration": 62,
    "start_time": "2022-05-20T19:01:03.429Z"
   },
   {
    "duration": 75,
    "start_time": "2022-05-20T19:01:54.220Z"
   },
   {
    "duration": 52,
    "start_time": "2022-05-20T19:02:13.079Z"
   },
   {
    "duration": 10,
    "start_time": "2022-05-20T19:02:49.493Z"
   },
   {
    "duration": 22,
    "start_time": "2022-05-20T19:03:19.893Z"
   },
   {
    "duration": 45,
    "start_time": "2022-05-20T19:08:11.722Z"
   },
   {
    "duration": 1294,
    "start_time": "2022-05-20T19:08:47.987Z"
   },
   {
    "duration": 42,
    "start_time": "2022-05-20T19:08:49.283Z"
   },
   {
    "duration": 21,
    "start_time": "2022-05-20T19:08:49.327Z"
   },
   {
    "duration": 5,
    "start_time": "2022-05-20T19:08:49.350Z"
   },
   {
    "duration": 11,
    "start_time": "2022-05-20T19:08:49.356Z"
   },
   {
    "duration": 12,
    "start_time": "2022-05-20T19:08:49.368Z"
   },
   {
    "duration": 19,
    "start_time": "2022-05-20T19:08:49.381Z"
   },
   {
    "duration": 3,
    "start_time": "2022-05-20T19:08:49.402Z"
   },
   {
    "duration": 8,
    "start_time": "2022-05-20T19:08:49.407Z"
   },
   {
    "duration": 9,
    "start_time": "2022-05-20T19:08:49.418Z"
   },
   {
    "duration": 3,
    "start_time": "2022-05-20T19:08:49.428Z"
   },
   {
    "duration": 44,
    "start_time": "2022-05-20T19:08:49.433Z"
   },
   {
    "duration": 6,
    "start_time": "2022-05-20T19:08:49.479Z"
   },
   {
    "duration": 8,
    "start_time": "2022-05-20T19:08:49.486Z"
   },
   {
    "duration": 8,
    "start_time": "2022-05-20T19:08:49.495Z"
   },
   {
    "duration": 16,
    "start_time": "2022-05-20T19:08:49.505Z"
   },
   {
    "duration": 17,
    "start_time": "2022-05-20T19:08:49.522Z"
   },
   {
    "duration": 13,
    "start_time": "2022-05-20T19:08:49.564Z"
   },
   {
    "duration": 8,
    "start_time": "2022-05-20T19:08:49.578Z"
   },
   {
    "duration": 8,
    "start_time": "2022-05-20T19:08:49.587Z"
   },
   {
    "duration": 8,
    "start_time": "2022-05-20T19:08:49.596Z"
   },
   {
    "duration": 8,
    "start_time": "2022-05-20T19:08:49.606Z"
   },
   {
    "duration": 11,
    "start_time": "2022-05-20T19:08:49.615Z"
   },
   {
    "duration": 328,
    "start_time": "2022-05-20T19:08:49.627Z"
   },
   {
    "duration": 11,
    "start_time": "2022-05-20T19:08:49.957Z"
   },
   {
    "duration": 14,
    "start_time": "2022-05-20T19:08:49.970Z"
   },
   {
    "duration": 9,
    "start_time": "2022-05-20T19:08:49.986Z"
   },
   {
    "duration": 436,
    "start_time": "2022-05-20T19:08:49.999Z"
   },
   {
    "duration": 231,
    "start_time": "2022-05-20T19:08:50.437Z"
   },
   {
    "duration": 331,
    "start_time": "2022-05-20T19:08:50.670Z"
   },
   {
    "duration": 241,
    "start_time": "2022-05-20T19:08:51.003Z"
   },
   {
    "duration": 351,
    "start_time": "2022-05-20T19:08:51.245Z"
   },
   {
    "duration": 12,
    "start_time": "2022-05-20T19:08:51.598Z"
   },
   {
    "duration": 8,
    "start_time": "2022-05-20T19:08:51.611Z"
   },
   {
    "duration": 169,
    "start_time": "2022-05-20T19:08:51.620Z"
   },
   {
    "duration": 4,
    "start_time": "2022-05-20T19:08:51.791Z"
   },
   {
    "duration": 11,
    "start_time": "2022-05-20T19:08:51.796Z"
   },
   {
    "duration": 157,
    "start_time": "2022-05-20T19:08:51.809Z"
   },
   {
    "duration": 144,
    "start_time": "2022-05-20T19:08:51.968Z"
   },
   {
    "duration": 5,
    "start_time": "2022-05-20T19:08:52.113Z"
   },
   {
    "duration": 264,
    "start_time": "2022-05-20T19:08:52.119Z"
   },
   {
    "duration": 138,
    "start_time": "2022-05-20T19:08:52.384Z"
   },
   {
    "duration": 44,
    "start_time": "2022-05-20T19:08:52.524Z"
   },
   {
    "duration": 13,
    "start_time": "2022-05-20T19:08:52.570Z"
   },
   {
    "duration": 10,
    "start_time": "2022-05-20T19:08:52.585Z"
   },
   {
    "duration": 68,
    "start_time": "2022-05-20T19:08:52.597Z"
   },
   {
    "duration": 15,
    "start_time": "2022-05-20T19:08:52.667Z"
   },
   {
    "duration": 5,
    "start_time": "2022-05-20T19:08:52.684Z"
   },
   {
    "duration": 168,
    "start_time": "2022-05-20T19:08:52.690Z"
   },
   {
    "duration": 22,
    "start_time": "2022-05-20T19:08:52.860Z"
   },
   {
    "duration": 7,
    "start_time": "2022-05-20T19:08:52.884Z"
   },
   {
    "duration": 5,
    "start_time": "2022-05-20T19:08:52.892Z"
   },
   {
    "duration": 20,
    "start_time": "2022-05-20T19:08:52.899Z"
   },
   {
    "duration": 92,
    "start_time": "2022-05-20T19:08:52.922Z"
   },
   {
    "duration": 84,
    "start_time": "2022-05-20T19:08:53.017Z"
   },
   {
    "duration": 143,
    "start_time": "2022-05-20T19:08:53.103Z"
   },
   {
    "duration": 4,
    "start_time": "2022-05-20T19:08:53.248Z"
   },
   {
    "duration": 29,
    "start_time": "2022-05-20T19:08:53.254Z"
   },
   {
    "duration": 8,
    "start_time": "2022-05-20T19:08:53.284Z"
   },
   {
    "duration": 48,
    "start_time": "2022-05-20T19:08:53.294Z"
   },
   {
    "duration": 22,
    "start_time": "2022-05-20T19:08:53.344Z"
   },
   {
    "duration": 16,
    "start_time": "2022-05-20T19:08:53.368Z"
   },
   {
    "duration": 364,
    "start_time": "2022-05-20T19:08:53.385Z"
   },
   {
    "duration": 284,
    "start_time": "2022-05-20T19:08:53.751Z"
   },
   {
    "duration": 16,
    "start_time": "2022-05-20T19:08:54.037Z"
   },
   {
    "duration": 265,
    "start_time": "2022-05-20T19:08:54.055Z"
   },
   {
    "duration": 114,
    "start_time": "2022-05-20T19:08:54.323Z"
   },
   {
    "duration": 36,
    "start_time": "2022-05-20T19:08:54.439Z"
   },
   {
    "duration": 42,
    "start_time": "2022-05-20T19:08:54.477Z"
   },
   {
    "duration": 22,
    "start_time": "2022-05-20T19:08:54.521Z"
   },
   {
    "duration": 81,
    "start_time": "2022-05-20T19:08:54.545Z"
   },
   {
    "duration": 3,
    "start_time": "2022-05-20T19:08:54.627Z"
   },
   {
    "duration": 14,
    "start_time": "2022-05-20T19:08:54.632Z"
   },
   {
    "duration": 246,
    "start_time": "2022-05-20T19:08:54.647Z"
   },
   {
    "duration": 4,
    "start_time": "2022-05-20T19:08:54.894Z"
   },
   {
    "duration": 67,
    "start_time": "2022-05-20T19:08:54.900Z"
   },
   {
    "duration": 5,
    "start_time": "2022-05-20T19:08:54.969Z"
   },
   {
    "duration": 123,
    "start_time": "2022-05-20T19:08:54.975Z"
   },
   {
    "duration": 52,
    "start_time": "2022-05-20T19:08:55.099Z"
   },
   {
    "duration": 29,
    "start_time": "2022-05-20T19:08:55.152Z"
   },
   {
    "duration": 42,
    "start_time": "2022-05-20T19:08:55.183Z"
   },
   {
    "duration": 249,
    "start_time": "2022-05-20T20:42:15.652Z"
   },
   {
    "duration": 138,
    "start_time": "2022-05-20T20:42:32.698Z"
   },
   {
    "duration": 128,
    "start_time": "2022-05-20T20:43:11.360Z"
   },
   {
    "duration": 49,
    "start_time": "2022-05-20T20:45:10.707Z"
   },
   {
    "duration": 93,
    "start_time": "2022-05-20T20:46:16.681Z"
   },
   {
    "duration": 89,
    "start_time": "2022-05-20T20:46:40.610Z"
   },
   {
    "duration": 80,
    "start_time": "2022-05-20T20:46:47.475Z"
   },
   {
    "duration": 88,
    "start_time": "2022-05-20T20:46:54.556Z"
   },
   {
    "duration": 83,
    "start_time": "2022-05-20T20:47:05.160Z"
   },
   {
    "duration": 85,
    "start_time": "2022-05-20T20:47:46.413Z"
   },
   {
    "duration": 88,
    "start_time": "2022-05-20T20:47:49.649Z"
   },
   {
    "duration": 662,
    "start_time": "2022-05-20T20:48:06.046Z"
   },
   {
    "duration": 89,
    "start_time": "2022-05-20T20:48:20.413Z"
   },
   {
    "duration": 587,
    "start_time": "2022-05-20T20:50:11.457Z"
   },
   {
    "duration": 85,
    "start_time": "2022-05-20T20:50:34.762Z"
   },
   {
    "duration": 93,
    "start_time": "2022-05-20T20:50:40.022Z"
   },
   {
    "duration": 6,
    "start_time": "2022-05-20T20:50:46.296Z"
   },
   {
    "duration": 5,
    "start_time": "2022-05-20T20:50:53.983Z"
   },
   {
    "duration": 10,
    "start_time": "2022-05-20T20:51:02.703Z"
   },
   {
    "duration": 15,
    "start_time": "2022-05-20T20:51:55.800Z"
   },
   {
    "duration": 87,
    "start_time": "2022-05-20T20:51:57.699Z"
   },
   {
    "duration": 8,
    "start_time": "2022-05-20T20:52:20.003Z"
   },
   {
    "duration": 42,
    "start_time": "2022-05-20T20:53:09.222Z"
   },
   {
    "duration": 89,
    "start_time": "2022-05-20T21:00:03.059Z"
   },
   {
    "duration": 8,
    "start_time": "2022-05-20T21:03:25.101Z"
   },
   {
    "duration": 9,
    "start_time": "2022-05-20T21:10:56.653Z"
   },
   {
    "duration": 6,
    "start_time": "2022-05-20T21:11:00.237Z"
   },
   {
    "duration": 599,
    "start_time": "2022-05-20T21:11:02.252Z"
   },
   {
    "duration": 18,
    "start_time": "2022-05-20T21:11:25.191Z"
   },
   {
    "duration": 10,
    "start_time": "2022-05-20T21:12:28.181Z"
   },
   {
    "duration": 13,
    "start_time": "2022-05-20T21:12:59.205Z"
   },
   {
    "duration": 548,
    "start_time": "2022-05-20T21:14:30.533Z"
   },
   {
    "duration": 38,
    "start_time": "2022-05-20T21:20:49.506Z"
   },
   {
    "duration": 348,
    "start_time": "2022-05-20T21:20:53.644Z"
   },
   {
    "duration": 9,
    "start_time": "2022-05-20T21:21:58.906Z"
   },
   {
    "duration": 447,
    "start_time": "2022-05-20T21:22:02.134Z"
   },
   {
    "duration": 8,
    "start_time": "2022-05-20T22:15:15.841Z"
   },
   {
    "duration": 347,
    "start_time": "2022-05-20T22:15:37.455Z"
   },
   {
    "duration": 427,
    "start_time": "2022-05-20T22:15:54.989Z"
   },
   {
    "duration": 4,
    "start_time": "2022-05-20T22:17:18.438Z"
   },
   {
    "duration": 359,
    "start_time": "2022-05-20T22:17:32.456Z"
   },
   {
    "duration": 10,
    "start_time": "2022-05-20T22:21:00.622Z"
   },
   {
    "duration": 484,
    "start_time": "2022-05-20T22:21:05.949Z"
   },
   {
    "duration": 19,
    "start_time": "2022-05-20T22:21:19.982Z"
   },
   {
    "duration": 6,
    "start_time": "2022-05-20T22:21:36.745Z"
   },
   {
    "duration": 8,
    "start_time": "2022-05-20T22:21:46.237Z"
   },
   {
    "duration": 18,
    "start_time": "2022-05-20T22:21:49.345Z"
   },
   {
    "duration": 4,
    "start_time": "2022-05-20T22:22:58.491Z"
   },
   {
    "duration": 4,
    "start_time": "2022-05-20T22:23:25.783Z"
   },
   {
    "duration": 470,
    "start_time": "2022-05-20T22:23:58.503Z"
   },
   {
    "duration": 15,
    "start_time": "2022-05-20T22:24:05.388Z"
   },
   {
    "duration": 20,
    "start_time": "2022-05-20T22:25:31.239Z"
   },
   {
    "duration": 18,
    "start_time": "2022-05-20T22:25:34.686Z"
   },
   {
    "duration": 3,
    "start_time": "2022-05-20T22:25:58.459Z"
   },
   {
    "duration": 517,
    "start_time": "2022-05-20T22:26:22.210Z"
   },
   {
    "duration": 567,
    "start_time": "2022-05-20T22:36:10.149Z"
   },
   {
    "duration": 772,
    "start_time": "2022-05-20T22:36:26.874Z"
   },
   {
    "duration": 4,
    "start_time": "2022-05-20T22:36:44.639Z"
   },
   {
    "duration": 3,
    "start_time": "2022-05-20T22:37:32.730Z"
   },
   {
    "duration": 7,
    "start_time": "2022-05-20T22:37:41.620Z"
   },
   {
    "duration": 15,
    "start_time": "2022-05-20T22:38:03.725Z"
   },
   {
    "duration": 5,
    "start_time": "2022-05-20T22:40:22.987Z"
   },
   {
    "duration": 7,
    "start_time": "2022-05-20T22:41:00.670Z"
   },
   {
    "duration": 19,
    "start_time": "2022-05-20T22:41:02.413Z"
   },
   {
    "duration": 4,
    "start_time": "2022-05-20T22:41:58.433Z"
   },
   {
    "duration": 5,
    "start_time": "2022-05-20T22:43:26.868Z"
   },
   {
    "duration": 14,
    "start_time": "2022-05-20T22:46:47.068Z"
   },
   {
    "duration": 15,
    "start_time": "2022-05-20T22:46:53.790Z"
   },
   {
    "duration": 3,
    "start_time": "2022-05-20T22:49:28.419Z"
   },
   {
    "duration": 6,
    "start_time": "2022-05-20T22:49:33.648Z"
   },
   {
    "duration": 8,
    "start_time": "2022-05-20T22:49:50.378Z"
   },
   {
    "duration": 14,
    "start_time": "2022-05-20T22:50:10.985Z"
   },
   {
    "duration": 5,
    "start_time": "2022-05-20T22:50:57.908Z"
   },
   {
    "duration": 7,
    "start_time": "2022-05-20T22:51:02.528Z"
   },
   {
    "duration": 7,
    "start_time": "2022-05-20T22:52:03.347Z"
   },
   {
    "duration": 1256,
    "start_time": "2022-05-20T22:52:09.489Z"
   },
   {
    "duration": 42,
    "start_time": "2022-05-20T22:52:10.746Z"
   },
   {
    "duration": 21,
    "start_time": "2022-05-20T22:52:10.790Z"
   },
   {
    "duration": 3,
    "start_time": "2022-05-20T22:52:10.813Z"
   },
   {
    "duration": 14,
    "start_time": "2022-05-20T22:52:10.818Z"
   },
   {
    "duration": 6,
    "start_time": "2022-05-20T22:52:10.833Z"
   },
   {
    "duration": 27,
    "start_time": "2022-05-20T22:52:10.840Z"
   },
   {
    "duration": 3,
    "start_time": "2022-05-20T22:52:10.869Z"
   },
   {
    "duration": 11,
    "start_time": "2022-05-20T22:52:10.874Z"
   },
   {
    "duration": 7,
    "start_time": "2022-05-20T22:52:10.887Z"
   },
   {
    "duration": 5,
    "start_time": "2022-05-20T22:52:10.896Z"
   },
   {
    "duration": 27,
    "start_time": "2022-05-20T22:52:10.902Z"
   },
   {
    "duration": 15,
    "start_time": "2022-05-20T22:52:10.930Z"
   },
   {
    "duration": 13,
    "start_time": "2022-05-20T22:52:10.946Z"
   },
   {
    "duration": 5,
    "start_time": "2022-05-20T22:52:10.965Z"
   },
   {
    "duration": 16,
    "start_time": "2022-05-20T22:52:10.972Z"
   },
   {
    "duration": 16,
    "start_time": "2022-05-20T22:52:10.990Z"
   },
   {
    "duration": 15,
    "start_time": "2022-05-20T22:52:11.007Z"
   },
   {
    "duration": 7,
    "start_time": "2022-05-20T22:52:11.024Z"
   },
   {
    "duration": 38,
    "start_time": "2022-05-20T22:52:11.032Z"
   },
   {
    "duration": 7,
    "start_time": "2022-05-20T22:52:11.072Z"
   },
   {
    "duration": 9,
    "start_time": "2022-05-20T22:52:11.081Z"
   },
   {
    "duration": 15,
    "start_time": "2022-05-20T22:52:11.091Z"
   },
   {
    "duration": 315,
    "start_time": "2022-05-20T22:52:11.108Z"
   },
   {
    "duration": 6,
    "start_time": "2022-05-20T22:52:11.424Z"
   },
   {
    "duration": 11,
    "start_time": "2022-05-20T22:52:11.432Z"
   },
   {
    "duration": 7,
    "start_time": "2022-05-20T22:52:11.445Z"
   },
   {
    "duration": 416,
    "start_time": "2022-05-20T22:52:11.467Z"
   },
   {
    "duration": 232,
    "start_time": "2022-05-20T22:52:11.885Z"
   },
   {
    "duration": 299,
    "start_time": "2022-05-20T22:52:12.118Z"
   },
   {
    "duration": 238,
    "start_time": "2022-05-20T22:52:12.419Z"
   },
   {
    "duration": 351,
    "start_time": "2022-05-20T22:52:12.659Z"
   },
   {
    "duration": 13,
    "start_time": "2022-05-20T22:52:13.012Z"
   },
   {
    "duration": 9,
    "start_time": "2022-05-20T22:52:13.026Z"
   },
   {
    "duration": 171,
    "start_time": "2022-05-20T22:52:13.036Z"
   },
   {
    "duration": 4,
    "start_time": "2022-05-20T22:52:13.208Z"
   },
   {
    "duration": 10,
    "start_time": "2022-05-20T22:52:13.214Z"
   },
   {
    "duration": 154,
    "start_time": "2022-05-20T22:52:13.226Z"
   },
   {
    "duration": 146,
    "start_time": "2022-05-20T22:52:13.381Z"
   },
   {
    "duration": 5,
    "start_time": "2022-05-20T22:52:13.529Z"
   },
   {
    "duration": 278,
    "start_time": "2022-05-20T22:52:13.536Z"
   },
   {
    "duration": 166,
    "start_time": "2022-05-20T22:52:13.816Z"
   },
   {
    "duration": 42,
    "start_time": "2022-05-20T22:52:13.984Z"
   },
   {
    "duration": 12,
    "start_time": "2022-05-20T22:52:14.028Z"
   },
   {
    "duration": 25,
    "start_time": "2022-05-20T22:52:14.041Z"
   },
   {
    "duration": 36,
    "start_time": "2022-05-20T22:52:14.068Z"
   },
   {
    "duration": 15,
    "start_time": "2022-05-20T22:52:14.106Z"
   },
   {
    "duration": 8,
    "start_time": "2022-05-20T22:52:14.123Z"
   },
   {
    "duration": 177,
    "start_time": "2022-05-20T22:52:14.133Z"
   },
   {
    "duration": 22,
    "start_time": "2022-05-20T22:52:14.312Z"
   },
   {
    "duration": 7,
    "start_time": "2022-05-20T22:52:14.336Z"
   },
   {
    "duration": 20,
    "start_time": "2022-05-20T22:52:14.345Z"
   },
   {
    "duration": 19,
    "start_time": "2022-05-20T22:52:14.367Z"
   },
   {
    "duration": 86,
    "start_time": "2022-05-20T22:52:14.387Z"
   },
   {
    "duration": 74,
    "start_time": "2022-05-20T22:52:14.475Z"
   },
   {
    "duration": 164,
    "start_time": "2022-05-20T22:52:14.550Z"
   },
   {
    "duration": 4,
    "start_time": "2022-05-20T22:52:14.716Z"
   },
   {
    "duration": 23,
    "start_time": "2022-05-20T22:52:14.722Z"
   },
   {
    "duration": 10,
    "start_time": "2022-05-20T22:52:14.765Z"
   },
   {
    "duration": 47,
    "start_time": "2022-05-20T22:52:14.776Z"
   },
   {
    "duration": 8,
    "start_time": "2022-05-20T22:52:14.825Z"
   },
   {
    "duration": 34,
    "start_time": "2022-05-20T22:52:14.835Z"
   },
   {
    "duration": 343,
    "start_time": "2022-05-20T22:52:14.871Z"
   },
   {
    "duration": 283,
    "start_time": "2022-05-20T22:52:15.215Z"
   },
   {
    "duration": 19,
    "start_time": "2022-05-20T22:52:15.500Z"
   },
   {
    "duration": 255,
    "start_time": "2022-05-20T22:52:15.521Z"
   },
   {
    "duration": 106,
    "start_time": "2022-05-20T22:52:15.777Z"
   },
   {
    "duration": 23,
    "start_time": "2022-05-20T22:52:15.885Z"
   },
   {
    "duration": 34,
    "start_time": "2022-05-20T22:52:15.909Z"
   },
   {
    "duration": 42,
    "start_time": "2022-05-20T22:52:15.945Z"
   },
   {
    "duration": 84,
    "start_time": "2022-05-20T22:52:15.989Z"
   },
   {
    "duration": 3,
    "start_time": "2022-05-20T22:52:16.075Z"
   },
   {
    "duration": 124,
    "start_time": "2022-05-20T22:52:16.080Z"
   },
   {
    "duration": 154,
    "start_time": "2022-05-20T22:52:16.206Z"
   },
   {
    "duration": 5,
    "start_time": "2022-05-20T22:52:16.361Z"
   },
   {
    "duration": 42,
    "start_time": "2022-05-20T22:52:16.368Z"
   },
   {
    "duration": 54,
    "start_time": "2022-05-20T22:52:16.412Z"
   },
   {
    "duration": 107,
    "start_time": "2022-05-20T22:52:16.467Z"
   },
   {
    "duration": 90,
    "start_time": "2022-05-20T22:52:16.576Z"
   },
   {
    "duration": 14,
    "start_time": "2022-05-20T22:52:16.668Z"
   },
   {
    "duration": 5,
    "start_time": "2022-05-20T22:52:16.684Z"
   },
   {
    "duration": 6,
    "start_time": "2022-05-20T22:52:16.695Z"
   },
   {
    "duration": 151,
    "start_time": "2022-05-20T22:52:16.703Z"
   },
   {
    "duration": 0,
    "start_time": "2022-05-20T22:52:16.856Z"
   },
   {
    "duration": 0,
    "start_time": "2022-05-20T22:52:16.857Z"
   },
   {
    "duration": 0,
    "start_time": "2022-05-20T22:52:16.864Z"
   },
   {
    "duration": 0,
    "start_time": "2022-05-20T22:52:16.866Z"
   },
   {
    "duration": 0,
    "start_time": "2022-05-20T22:52:16.867Z"
   },
   {
    "duration": 0,
    "start_time": "2022-05-20T22:52:16.868Z"
   },
   {
    "duration": 0,
    "start_time": "2022-05-20T22:52:16.869Z"
   },
   {
    "duration": 0,
    "start_time": "2022-05-20T22:52:16.870Z"
   },
   {
    "duration": 0,
    "start_time": "2022-05-20T22:52:16.871Z"
   },
   {
    "duration": 4,
    "start_time": "2022-05-20T22:52:58.169Z"
   },
   {
    "duration": 4,
    "start_time": "2022-05-20T22:53:00.835Z"
   },
   {
    "duration": 6,
    "start_time": "2022-05-20T22:53:10.996Z"
   },
   {
    "duration": 9,
    "start_time": "2022-05-20T22:53:12.896Z"
   },
   {
    "duration": 14,
    "start_time": "2022-05-20T22:53:32.654Z"
   },
   {
    "duration": 3,
    "start_time": "2022-05-20T22:55:03.603Z"
   },
   {
    "duration": 8,
    "start_time": "2022-05-20T22:55:07.919Z"
   },
   {
    "duration": 723,
    "start_time": "2022-05-20T22:55:22.198Z"
   },
   {
    "duration": 440,
    "start_time": "2022-05-20T22:55:43.295Z"
   },
   {
    "duration": 5,
    "start_time": "2022-05-20T22:55:48.034Z"
   },
   {
    "duration": 13,
    "start_time": "2022-05-20T22:56:13.538Z"
   },
   {
    "duration": 16,
    "start_time": "2022-05-20T22:56:27.543Z"
   },
   {
    "duration": 4,
    "start_time": "2022-05-20T22:56:36.515Z"
   },
   {
    "duration": 486,
    "start_time": "2022-05-20T22:57:20.038Z"
   },
   {
    "duration": 30,
    "start_time": "2022-05-20T22:57:27.462Z"
   },
   {
    "duration": 35,
    "start_time": "2022-05-20T22:57:35.443Z"
   },
   {
    "duration": 4,
    "start_time": "2022-05-20T22:58:07.421Z"
   },
   {
    "duration": 1293,
    "start_time": "2022-05-20T22:58:31.931Z"
   },
   {
    "duration": 43,
    "start_time": "2022-05-20T22:58:33.226Z"
   },
   {
    "duration": 22,
    "start_time": "2022-05-20T22:58:33.271Z"
   },
   {
    "duration": 3,
    "start_time": "2022-05-20T22:58:33.295Z"
   },
   {
    "duration": 10,
    "start_time": "2022-05-20T22:58:33.299Z"
   },
   {
    "duration": 5,
    "start_time": "2022-05-20T22:58:33.311Z"
   },
   {
    "duration": 17,
    "start_time": "2022-05-20T22:58:33.318Z"
   },
   {
    "duration": 31,
    "start_time": "2022-05-20T22:58:33.336Z"
   },
   {
    "duration": 11,
    "start_time": "2022-05-20T22:58:33.369Z"
   },
   {
    "duration": 8,
    "start_time": "2022-05-20T22:58:33.383Z"
   },
   {
    "duration": 2,
    "start_time": "2022-05-20T22:58:33.393Z"
   },
   {
    "duration": 16,
    "start_time": "2022-05-20T22:58:33.397Z"
   },
   {
    "duration": 12,
    "start_time": "2022-05-20T22:58:33.415Z"
   },
   {
    "duration": 36,
    "start_time": "2022-05-20T22:58:33.429Z"
   },
   {
    "duration": 6,
    "start_time": "2022-05-20T22:58:33.467Z"
   },
   {
    "duration": 15,
    "start_time": "2022-05-20T22:58:33.475Z"
   },
   {
    "duration": 17,
    "start_time": "2022-05-20T22:58:33.491Z"
   },
   {
    "duration": 13,
    "start_time": "2022-05-20T22:58:33.509Z"
   },
   {
    "duration": 7,
    "start_time": "2022-05-20T22:58:33.524Z"
   },
   {
    "duration": 36,
    "start_time": "2022-05-20T22:58:33.532Z"
   },
   {
    "duration": 4,
    "start_time": "2022-05-20T22:58:33.569Z"
   },
   {
    "duration": 11,
    "start_time": "2022-05-20T22:58:33.575Z"
   },
   {
    "duration": 14,
    "start_time": "2022-05-20T22:58:33.588Z"
   },
   {
    "duration": 326,
    "start_time": "2022-05-20T22:58:33.604Z"
   },
   {
    "duration": 6,
    "start_time": "2022-05-20T22:58:33.932Z"
   },
   {
    "duration": 9,
    "start_time": "2022-05-20T22:58:33.940Z"
   },
   {
    "duration": 18,
    "start_time": "2022-05-20T22:58:33.951Z"
   },
   {
    "duration": 419,
    "start_time": "2022-05-20T22:58:33.974Z"
   },
   {
    "duration": 242,
    "start_time": "2022-05-20T22:58:34.394Z"
   },
   {
    "duration": 365,
    "start_time": "2022-05-20T22:58:34.638Z"
   },
   {
    "duration": 243,
    "start_time": "2022-05-20T22:58:35.005Z"
   },
   {
    "duration": 364,
    "start_time": "2022-05-20T22:58:35.250Z"
   },
   {
    "duration": 12,
    "start_time": "2022-05-20T22:58:35.615Z"
   },
   {
    "duration": 8,
    "start_time": "2022-05-20T22:58:35.628Z"
   },
   {
    "duration": 168,
    "start_time": "2022-05-20T22:58:35.637Z"
   },
   {
    "duration": 4,
    "start_time": "2022-05-20T22:58:35.807Z"
   },
   {
    "duration": 11,
    "start_time": "2022-05-20T22:58:35.812Z"
   },
   {
    "duration": 150,
    "start_time": "2022-05-20T22:58:35.825Z"
   },
   {
    "duration": 141,
    "start_time": "2022-05-20T22:58:35.977Z"
   },
   {
    "duration": 5,
    "start_time": "2022-05-20T22:58:36.119Z"
   },
   {
    "duration": 257,
    "start_time": "2022-05-20T22:58:36.126Z"
   },
   {
    "duration": 140,
    "start_time": "2022-05-20T22:58:36.385Z"
   },
   {
    "duration": 43,
    "start_time": "2022-05-20T22:58:36.527Z"
   },
   {
    "duration": 11,
    "start_time": "2022-05-20T22:58:36.573Z"
   },
   {
    "duration": 10,
    "start_time": "2022-05-20T22:58:36.586Z"
   },
   {
    "duration": 32,
    "start_time": "2022-05-20T22:58:36.598Z"
   },
   {
    "duration": 41,
    "start_time": "2022-05-20T22:58:36.632Z"
   },
   {
    "duration": 7,
    "start_time": "2022-05-20T22:58:36.675Z"
   },
   {
    "duration": 162,
    "start_time": "2022-05-20T22:58:36.684Z"
   },
   {
    "duration": 25,
    "start_time": "2022-05-20T22:58:36.848Z"
   },
   {
    "duration": 7,
    "start_time": "2022-05-20T22:58:36.875Z"
   },
   {
    "duration": 5,
    "start_time": "2022-05-20T22:58:36.883Z"
   },
   {
    "duration": 19,
    "start_time": "2022-05-20T22:58:36.889Z"
   },
   {
    "duration": 93,
    "start_time": "2022-05-20T22:58:36.910Z"
   },
   {
    "duration": 86,
    "start_time": "2022-05-20T22:58:37.004Z"
   },
   {
    "duration": 149,
    "start_time": "2022-05-20T22:58:37.093Z"
   },
   {
    "duration": 4,
    "start_time": "2022-05-20T22:58:37.244Z"
   },
   {
    "duration": 34,
    "start_time": "2022-05-20T22:58:37.250Z"
   },
   {
    "duration": 9,
    "start_time": "2022-05-20T22:58:37.285Z"
   },
   {
    "duration": 42,
    "start_time": "2022-05-20T22:58:37.296Z"
   },
   {
    "duration": 31,
    "start_time": "2022-05-20T22:58:37.340Z"
   },
   {
    "duration": 19,
    "start_time": "2022-05-20T22:58:37.373Z"
   },
   {
    "duration": 351,
    "start_time": "2022-05-20T22:58:37.394Z"
   },
   {
    "duration": 280,
    "start_time": "2022-05-20T22:58:37.746Z"
   },
   {
    "duration": 18,
    "start_time": "2022-05-20T22:58:38.027Z"
   },
   {
    "duration": 266,
    "start_time": "2022-05-20T22:58:38.047Z"
   },
   {
    "duration": 107,
    "start_time": "2022-05-20T22:58:38.315Z"
   },
   {
    "duration": 22,
    "start_time": "2022-05-20T22:58:38.424Z"
   },
   {
    "duration": 45,
    "start_time": "2022-05-20T22:58:38.448Z"
   },
   {
    "duration": 21,
    "start_time": "2022-05-20T22:58:38.495Z"
   },
   {
    "duration": 75,
    "start_time": "2022-05-20T22:58:38.518Z"
   },
   {
    "duration": 3,
    "start_time": "2022-05-20T22:58:38.595Z"
   },
   {
    "duration": 114,
    "start_time": "2022-05-20T22:58:38.600Z"
   },
   {
    "duration": 148,
    "start_time": "2022-05-20T22:58:38.716Z"
   },
   {
    "duration": 4,
    "start_time": "2022-05-20T22:58:38.866Z"
   },
   {
    "duration": 101,
    "start_time": "2022-05-20T22:58:38.872Z"
   },
   {
    "duration": 6,
    "start_time": "2022-05-20T22:58:38.975Z"
   },
   {
    "duration": 132,
    "start_time": "2022-05-20T22:58:38.983Z"
   },
   {
    "duration": 93,
    "start_time": "2022-05-20T22:58:39.117Z"
   },
   {
    "duration": 15,
    "start_time": "2022-05-20T22:58:39.212Z"
   },
   {
    "duration": 6,
    "start_time": "2022-05-20T22:58:39.228Z"
   },
   {
    "duration": 30,
    "start_time": "2022-05-20T22:58:39.239Z"
   },
   {
    "duration": 149,
    "start_time": "2022-05-20T22:58:39.270Z"
   },
   {
    "duration": 0,
    "start_time": "2022-05-20T22:58:39.421Z"
   },
   {
    "duration": 0,
    "start_time": "2022-05-20T22:58:39.422Z"
   },
   {
    "duration": 0,
    "start_time": "2022-05-20T22:58:39.423Z"
   },
   {
    "duration": 0,
    "start_time": "2022-05-20T22:58:39.425Z"
   },
   {
    "duration": 0,
    "start_time": "2022-05-20T22:58:39.426Z"
   },
   {
    "duration": 0,
    "start_time": "2022-05-20T22:58:39.427Z"
   },
   {
    "duration": 0,
    "start_time": "2022-05-20T22:58:39.428Z"
   },
   {
    "duration": 5,
    "start_time": "2022-05-20T22:59:56.981Z"
   },
   {
    "duration": 7,
    "start_time": "2022-05-20T22:59:58.984Z"
   },
   {
    "duration": 6,
    "start_time": "2022-05-20T23:00:43.738Z"
   },
   {
    "duration": 13,
    "start_time": "2022-05-20T23:00:44.577Z"
   },
   {
    "duration": 11,
    "start_time": "2022-05-20T23:02:07.168Z"
   },
   {
    "duration": 10,
    "start_time": "2022-05-20T23:02:29.948Z"
   },
   {
    "duration": 3,
    "start_time": "2022-05-20T23:02:34.702Z"
   },
   {
    "duration": 14,
    "start_time": "2022-05-20T23:02:51.885Z"
   },
   {
    "duration": 6,
    "start_time": "2022-05-20T23:05:57.775Z"
   },
   {
    "duration": 13,
    "start_time": "2022-05-20T23:06:03.571Z"
   },
   {
    "duration": 13,
    "start_time": "2022-05-20T23:06:37.216Z"
   },
   {
    "duration": 8,
    "start_time": "2022-05-20T23:07:09.904Z"
   },
   {
    "duration": 13,
    "start_time": "2022-05-20T23:07:12.089Z"
   },
   {
    "duration": 3,
    "start_time": "2022-05-20T23:08:14.608Z"
   },
   {
    "duration": 9,
    "start_time": "2022-05-20T23:10:45.201Z"
   },
   {
    "duration": 1165,
    "start_time": "2022-05-20T23:11:14.819Z"
   },
   {
    "duration": 43,
    "start_time": "2022-05-20T23:11:15.986Z"
   },
   {
    "duration": 22,
    "start_time": "2022-05-20T23:11:16.030Z"
   },
   {
    "duration": 3,
    "start_time": "2022-05-20T23:11:16.054Z"
   },
   {
    "duration": 11,
    "start_time": "2022-05-20T23:11:16.059Z"
   },
   {
    "duration": 6,
    "start_time": "2022-05-20T23:11:16.072Z"
   },
   {
    "duration": 17,
    "start_time": "2022-05-20T23:11:16.080Z"
   },
   {
    "duration": 3,
    "start_time": "2022-05-20T23:11:16.100Z"
   },
   {
    "duration": 9,
    "start_time": "2022-05-20T23:11:16.105Z"
   },
   {
    "duration": 6,
    "start_time": "2022-05-20T23:11:16.118Z"
   },
   {
    "duration": 38,
    "start_time": "2022-05-20T23:11:16.126Z"
   },
   {
    "duration": 16,
    "start_time": "2022-05-20T23:11:16.167Z"
   },
   {
    "duration": 7,
    "start_time": "2022-05-20T23:11:16.185Z"
   },
   {
    "duration": 7,
    "start_time": "2022-05-20T23:11:16.194Z"
   },
   {
    "duration": 8,
    "start_time": "2022-05-20T23:11:16.202Z"
   },
   {
    "duration": 15,
    "start_time": "2022-05-20T23:11:16.212Z"
   },
   {
    "duration": 16,
    "start_time": "2022-05-20T23:11:16.266Z"
   },
   {
    "duration": 14,
    "start_time": "2022-05-20T23:11:16.283Z"
   },
   {
    "duration": 8,
    "start_time": "2022-05-20T23:11:16.298Z"
   },
   {
    "duration": 7,
    "start_time": "2022-05-20T23:11:16.308Z"
   },
   {
    "duration": 7,
    "start_time": "2022-05-20T23:11:16.316Z"
   },
   {
    "duration": 42,
    "start_time": "2022-05-20T23:11:16.324Z"
   },
   {
    "duration": 12,
    "start_time": "2022-05-20T23:11:16.368Z"
   },
   {
    "duration": 305,
    "start_time": "2022-05-20T23:11:16.382Z"
   },
   {
    "duration": 6,
    "start_time": "2022-05-20T23:11:16.688Z"
   },
   {
    "duration": 10,
    "start_time": "2022-05-20T23:11:16.696Z"
   },
   {
    "duration": 7,
    "start_time": "2022-05-20T23:11:16.707Z"
   },
   {
    "duration": 421,
    "start_time": "2022-05-20T23:11:16.718Z"
   },
   {
    "duration": 242,
    "start_time": "2022-05-20T23:11:17.140Z"
   },
   {
    "duration": 309,
    "start_time": "2022-05-20T23:11:17.384Z"
   },
   {
    "duration": 235,
    "start_time": "2022-05-20T23:11:17.695Z"
   },
   {
    "duration": 381,
    "start_time": "2022-05-20T23:11:17.932Z"
   },
   {
    "duration": 12,
    "start_time": "2022-05-20T23:11:18.314Z"
   },
   {
    "duration": 8,
    "start_time": "2022-05-20T23:11:18.327Z"
   },
   {
    "duration": 167,
    "start_time": "2022-05-20T23:11:18.336Z"
   },
   {
    "duration": 5,
    "start_time": "2022-05-20T23:11:18.504Z"
   },
   {
    "duration": 10,
    "start_time": "2022-05-20T23:11:18.510Z"
   },
   {
    "duration": 152,
    "start_time": "2022-05-20T23:11:18.521Z"
   },
   {
    "duration": 137,
    "start_time": "2022-05-20T23:11:18.675Z"
   },
   {
    "duration": 4,
    "start_time": "2022-05-20T23:11:18.814Z"
   },
   {
    "duration": 284,
    "start_time": "2022-05-20T23:11:18.820Z"
   },
   {
    "duration": 137,
    "start_time": "2022-05-20T23:11:19.106Z"
   },
   {
    "duration": 47,
    "start_time": "2022-05-20T23:11:19.245Z"
   },
   {
    "duration": 10,
    "start_time": "2022-05-20T23:11:19.294Z"
   },
   {
    "duration": 8,
    "start_time": "2022-05-20T23:11:19.306Z"
   },
   {
    "duration": 55,
    "start_time": "2022-05-20T23:11:19.316Z"
   },
   {
    "duration": 17,
    "start_time": "2022-05-20T23:11:19.373Z"
   },
   {
    "duration": 6,
    "start_time": "2022-05-20T23:11:19.391Z"
   },
   {
    "duration": 161,
    "start_time": "2022-05-20T23:11:19.398Z"
   },
   {
    "duration": 23,
    "start_time": "2022-05-20T23:11:19.560Z"
   },
   {
    "duration": 7,
    "start_time": "2022-05-20T23:11:19.585Z"
   },
   {
    "duration": 4,
    "start_time": "2022-05-20T23:11:19.594Z"
   },
   {
    "duration": 17,
    "start_time": "2022-05-20T23:11:19.599Z"
   },
   {
    "duration": 83,
    "start_time": "2022-05-20T23:11:19.618Z"
   },
   {
    "duration": 81,
    "start_time": "2022-05-20T23:11:19.703Z"
   },
   {
    "duration": 142,
    "start_time": "2022-05-20T23:11:19.785Z"
   },
   {
    "duration": 6,
    "start_time": "2022-05-20T23:11:19.929Z"
   },
   {
    "duration": 37,
    "start_time": "2022-05-20T23:11:19.937Z"
   },
   {
    "duration": 9,
    "start_time": "2022-05-20T23:11:19.976Z"
   },
   {
    "duration": 46,
    "start_time": "2022-05-20T23:11:19.987Z"
   },
   {
    "duration": 30,
    "start_time": "2022-05-20T23:11:20.035Z"
   },
   {
    "duration": 18,
    "start_time": "2022-05-20T23:11:20.067Z"
   },
   {
    "duration": 342,
    "start_time": "2022-05-20T23:11:20.087Z"
   },
   {
    "duration": 277,
    "start_time": "2022-05-20T23:11:20.431Z"
   },
   {
    "duration": 19,
    "start_time": "2022-05-20T23:11:20.709Z"
   },
   {
    "duration": 266,
    "start_time": "2022-05-20T23:11:20.729Z"
   },
   {
    "duration": 111,
    "start_time": "2022-05-20T23:11:20.997Z"
   },
   {
    "duration": 23,
    "start_time": "2022-05-20T23:11:21.110Z"
   },
   {
    "duration": 49,
    "start_time": "2022-05-20T23:11:21.135Z"
   },
   {
    "duration": 23,
    "start_time": "2022-05-20T23:11:21.186Z"
   },
   {
    "duration": 75,
    "start_time": "2022-05-20T23:11:21.210Z"
   },
   {
    "duration": 4,
    "start_time": "2022-05-20T23:11:21.286Z"
   },
   {
    "duration": 120,
    "start_time": "2022-05-20T23:11:21.291Z"
   },
   {
    "duration": 127,
    "start_time": "2022-05-20T23:11:21.413Z"
   },
   {
    "duration": 3,
    "start_time": "2022-05-20T23:11:21.542Z"
   },
   {
    "duration": 51,
    "start_time": "2022-05-20T23:11:21.546Z"
   },
   {
    "duration": 5,
    "start_time": "2022-05-20T23:11:21.598Z"
   },
   {
    "duration": 113,
    "start_time": "2022-05-20T23:11:21.604Z"
   },
   {
    "duration": 116,
    "start_time": "2022-05-20T23:11:21.718Z"
   },
   {
    "duration": 33,
    "start_time": "2022-05-20T23:11:21.836Z"
   },
   {
    "duration": 6,
    "start_time": "2022-05-20T23:11:21.871Z"
   },
   {
    "duration": 7,
    "start_time": "2022-05-20T23:11:21.884Z"
   },
   {
    "duration": 7,
    "start_time": "2022-05-20T23:11:21.892Z"
   },
   {
    "duration": 6,
    "start_time": "2022-05-20T23:11:21.900Z"
   },
   {
    "duration": 8,
    "start_time": "2022-05-20T23:11:21.907Z"
   },
   {
    "duration": 154,
    "start_time": "2022-05-20T23:11:21.916Z"
   },
   {
    "duration": 0,
    "start_time": "2022-05-20T23:11:22.072Z"
   },
   {
    "duration": 0,
    "start_time": "2022-05-20T23:11:22.073Z"
   },
   {
    "duration": 0,
    "start_time": "2022-05-20T23:11:22.074Z"
   },
   {
    "duration": 0,
    "start_time": "2022-05-20T23:11:22.075Z"
   },
   {
    "duration": 499,
    "start_time": "2022-05-20T23:12:36.400Z"
   },
   {
    "duration": 3,
    "start_time": "2022-05-20T23:13:30.385Z"
   },
   {
    "duration": 7,
    "start_time": "2022-05-20T23:14:02.595Z"
   },
   {
    "duration": 13,
    "start_time": "2022-05-20T23:14:04.642Z"
   },
   {
    "duration": 9,
    "start_time": "2022-05-20T23:31:24.182Z"
   },
   {
    "duration": 11,
    "start_time": "2022-05-20T23:31:34.573Z"
   },
   {
    "duration": 899,
    "start_time": "2022-05-20T23:31:46.786Z"
   },
   {
    "duration": 1182,
    "start_time": "2022-05-20T23:32:39.501Z"
   },
   {
    "duration": 573,
    "start_time": "2022-05-20T23:33:04.545Z"
   },
   {
    "duration": 9,
    "start_time": "2022-05-20T23:33:40.044Z"
   },
   {
    "duration": 8,
    "start_time": "2022-05-20T23:33:50.472Z"
   },
   {
    "duration": 13,
    "start_time": "2022-05-20T23:34:03.658Z"
   },
   {
    "duration": 9,
    "start_time": "2022-05-20T23:34:07.448Z"
   },
   {
    "duration": 7,
    "start_time": "2022-05-20T23:34:28.985Z"
   },
   {
    "duration": 7,
    "start_time": "2022-05-20T23:36:58.242Z"
   },
   {
    "duration": 14,
    "start_time": "2022-05-20T23:37:21.923Z"
   },
   {
    "duration": 6,
    "start_time": "2022-05-20T23:37:48.866Z"
   },
   {
    "duration": 12,
    "start_time": "2022-05-21T00:08:12.981Z"
   },
   {
    "duration": 12,
    "start_time": "2022-05-21T00:08:37.498Z"
   },
   {
    "duration": 17,
    "start_time": "2022-05-21T00:08:42.052Z"
   },
   {
    "duration": 50,
    "start_time": "2022-05-21T00:08:48.340Z"
   },
   {
    "duration": 105,
    "start_time": "2022-05-21T00:08:55.476Z"
   },
   {
    "duration": 18,
    "start_time": "2022-05-21T00:08:58.563Z"
   },
   {
    "duration": 3,
    "start_time": "2022-05-21T00:09:36.062Z"
   },
   {
    "duration": 17,
    "start_time": "2022-05-21T00:09:48.374Z"
   },
   {
    "duration": 16,
    "start_time": "2022-05-21T00:09:52.415Z"
   },
   {
    "duration": 101,
    "start_time": "2022-05-21T00:09:55.139Z"
   },
   {
    "duration": 14,
    "start_time": "2022-05-21T00:09:56.698Z"
   },
   {
    "duration": 99,
    "start_time": "2022-05-21T00:10:36.595Z"
   },
   {
    "duration": 15,
    "start_time": "2022-05-21T00:10:38.196Z"
   },
   {
    "duration": 10,
    "start_time": "2022-05-21T00:18:39.108Z"
   },
   {
    "duration": 81,
    "start_time": "2022-05-21T00:19:05.899Z"
   },
   {
    "duration": 7,
    "start_time": "2022-05-21T00:19:55.215Z"
   },
   {
    "duration": 39,
    "start_time": "2022-05-21T00:20:20.623Z"
   },
   {
    "duration": 5,
    "start_time": "2022-05-21T00:20:27.797Z"
   },
   {
    "duration": 528,
    "start_time": "2022-05-21T00:20:29.798Z"
   },
   {
    "duration": 6,
    "start_time": "2022-05-21T00:20:51.585Z"
   },
   {
    "duration": 16,
    "start_time": "2022-05-21T00:20:53.852Z"
   },
   {
    "duration": 3,
    "start_time": "2022-05-21T00:21:27.444Z"
   },
   {
    "duration": 5,
    "start_time": "2022-05-21T00:21:32.082Z"
   },
   {
    "duration": 11,
    "start_time": "2022-05-21T00:21:33.460Z"
   },
   {
    "duration": 9,
    "start_time": "2022-05-21T00:24:06.461Z"
   },
   {
    "duration": 9,
    "start_time": "2022-05-21T00:24:13.778Z"
   },
   {
    "duration": 397,
    "start_time": "2022-05-21T00:24:36.059Z"
   },
   {
    "duration": 4,
    "start_time": "2022-05-21T00:24:59.145Z"
   },
   {
    "duration": 11,
    "start_time": "2022-05-21T00:25:02.148Z"
   },
   {
    "duration": 8,
    "start_time": "2022-05-21T00:25:05.981Z"
   },
   {
    "duration": 347,
    "start_time": "2022-05-21T00:25:09.148Z"
   },
   {
    "duration": 345,
    "start_time": "2022-05-21T00:25:24.220Z"
   },
   {
    "duration": 4,
    "start_time": "2022-05-21T00:25:30.650Z"
   },
   {
    "duration": 385,
    "start_time": "2022-05-21T00:25:32.884Z"
   },
   {
    "duration": 8,
    "start_time": "2022-05-21T00:25:37.051Z"
   },
   {
    "duration": 1304,
    "start_time": "2022-05-21T12:10:30.263Z"
   },
   {
    "duration": 219,
    "start_time": "2022-05-21T12:10:31.569Z"
   },
   {
    "duration": 24,
    "start_time": "2022-05-21T12:10:31.791Z"
   },
   {
    "duration": 4,
    "start_time": "2022-05-21T12:10:31.816Z"
   },
   {
    "duration": 46,
    "start_time": "2022-05-21T12:10:31.821Z"
   },
   {
    "duration": 31,
    "start_time": "2022-05-21T12:10:31.869Z"
   },
   {
    "duration": 43,
    "start_time": "2022-05-21T12:10:31.902Z"
   },
   {
    "duration": 33,
    "start_time": "2022-05-21T12:10:31.947Z"
   },
   {
    "duration": 31,
    "start_time": "2022-05-21T12:10:31.982Z"
   },
   {
    "duration": 41,
    "start_time": "2022-05-21T12:10:32.015Z"
   },
   {
    "duration": 23,
    "start_time": "2022-05-21T12:10:32.058Z"
   },
   {
    "duration": 38,
    "start_time": "2022-05-21T12:10:32.083Z"
   },
   {
    "duration": 37,
    "start_time": "2022-05-21T12:10:32.123Z"
   },
   {
    "duration": 31,
    "start_time": "2022-05-21T12:10:32.164Z"
   },
   {
    "duration": 26,
    "start_time": "2022-05-21T12:10:32.197Z"
   },
   {
    "duration": 48,
    "start_time": "2022-05-21T12:10:32.224Z"
   },
   {
    "duration": 47,
    "start_time": "2022-05-21T12:10:32.273Z"
   },
   {
    "duration": 52,
    "start_time": "2022-05-21T12:10:32.322Z"
   },
   {
    "duration": 23,
    "start_time": "2022-05-21T12:10:32.376Z"
   },
   {
    "duration": 17,
    "start_time": "2022-05-21T12:10:32.401Z"
   },
   {
    "duration": 21,
    "start_time": "2022-05-21T12:10:32.419Z"
   },
   {
    "duration": 28,
    "start_time": "2022-05-21T12:10:32.441Z"
   },
   {
    "duration": 53,
    "start_time": "2022-05-21T12:10:32.471Z"
   },
   {
    "duration": 301,
    "start_time": "2022-05-21T12:10:32.526Z"
   },
   {
    "duration": 6,
    "start_time": "2022-05-21T12:10:32.829Z"
   },
   {
    "duration": 55,
    "start_time": "2022-05-21T12:10:32.837Z"
   },
   {
    "duration": 28,
    "start_time": "2022-05-21T12:10:32.894Z"
   },
   {
    "duration": 426,
    "start_time": "2022-05-21T12:10:32.923Z"
   },
   {
    "duration": 235,
    "start_time": "2022-05-21T12:10:33.350Z"
   },
   {
    "duration": 341,
    "start_time": "2022-05-21T12:10:33.587Z"
   },
   {
    "duration": 234,
    "start_time": "2022-05-21T12:10:33.930Z"
   },
   {
    "duration": 365,
    "start_time": "2022-05-21T12:10:34.165Z"
   },
   {
    "duration": 14,
    "start_time": "2022-05-21T12:10:34.534Z"
   },
   {
    "duration": 11,
    "start_time": "2022-05-21T12:10:34.550Z"
   },
   {
    "duration": 168,
    "start_time": "2022-05-21T12:10:34.562Z"
   },
   {
    "duration": 4,
    "start_time": "2022-05-21T12:10:34.732Z"
   },
   {
    "duration": 46,
    "start_time": "2022-05-21T12:10:34.738Z"
   },
   {
    "duration": 169,
    "start_time": "2022-05-21T12:10:34.786Z"
   },
   {
    "duration": 163,
    "start_time": "2022-05-21T12:10:34.957Z"
   },
   {
    "duration": 4,
    "start_time": "2022-05-21T12:10:35.122Z"
   },
   {
    "duration": 262,
    "start_time": "2022-05-21T12:10:35.130Z"
   },
   {
    "duration": 172,
    "start_time": "2022-05-21T12:10:35.395Z"
   },
   {
    "duration": 47,
    "start_time": "2022-05-21T12:10:35.568Z"
   },
   {
    "duration": 11,
    "start_time": "2022-05-21T12:10:35.617Z"
   },
   {
    "duration": 46,
    "start_time": "2022-05-21T12:10:35.629Z"
   },
   {
    "duration": 65,
    "start_time": "2022-05-21T12:10:35.677Z"
   },
   {
    "duration": 17,
    "start_time": "2022-05-21T12:10:35.744Z"
   },
   {
    "duration": 37,
    "start_time": "2022-05-21T12:10:35.762Z"
   },
   {
    "duration": 741,
    "start_time": "2022-05-21T12:10:35.801Z"
   },
   {
    "duration": 18,
    "start_time": "2022-05-21T12:10:36.544Z"
   },
   {
    "duration": 11,
    "start_time": "2022-05-21T12:10:36.563Z"
   },
   {
    "duration": 15,
    "start_time": "2022-05-21T12:10:36.576Z"
   },
   {
    "duration": 27,
    "start_time": "2022-05-21T12:10:36.593Z"
   },
   {
    "duration": 89,
    "start_time": "2022-05-21T12:10:36.621Z"
   },
   {
    "duration": 95,
    "start_time": "2022-05-21T12:10:36.711Z"
   },
   {
    "duration": 161,
    "start_time": "2022-05-21T12:10:36.807Z"
   },
   {
    "duration": 6,
    "start_time": "2022-05-21T12:10:36.970Z"
   },
   {
    "duration": 28,
    "start_time": "2022-05-21T12:10:36.991Z"
   },
   {
    "duration": 9,
    "start_time": "2022-05-21T12:10:37.021Z"
   },
   {
    "duration": 75,
    "start_time": "2022-05-21T12:10:37.032Z"
   },
   {
    "duration": 8,
    "start_time": "2022-05-21T12:10:37.108Z"
   },
   {
    "duration": 37,
    "start_time": "2022-05-21T12:10:37.117Z"
   },
   {
    "duration": 348,
    "start_time": "2022-05-21T12:10:37.156Z"
   },
   {
    "duration": 277,
    "start_time": "2022-05-21T12:10:37.506Z"
   },
   {
    "duration": 20,
    "start_time": "2022-05-21T12:10:37.786Z"
   },
   {
    "duration": 338,
    "start_time": "2022-05-21T12:10:37.808Z"
   },
   {
    "duration": 124,
    "start_time": "2022-05-21T12:10:38.148Z"
   },
   {
    "duration": 35,
    "start_time": "2022-05-21T12:10:38.274Z"
   },
   {
    "duration": 32,
    "start_time": "2022-05-21T12:10:38.310Z"
   },
   {
    "duration": 21,
    "start_time": "2022-05-21T12:10:38.344Z"
   },
   {
    "duration": 88,
    "start_time": "2022-05-21T12:10:38.366Z"
   },
   {
    "duration": 4,
    "start_time": "2022-05-21T12:10:38.456Z"
   },
   {
    "duration": 22,
    "start_time": "2022-05-21T12:10:38.461Z"
   },
   {
    "duration": 276,
    "start_time": "2022-05-21T12:10:38.485Z"
   },
   {
    "duration": 3,
    "start_time": "2022-05-21T12:10:38.764Z"
   },
   {
    "duration": 54,
    "start_time": "2022-05-21T12:10:38.769Z"
   },
   {
    "duration": 5,
    "start_time": "2022-05-21T12:10:38.824Z"
   },
   {
    "duration": 116,
    "start_time": "2022-05-21T12:10:38.883Z"
   },
   {
    "duration": 86,
    "start_time": "2022-05-21T12:10:39.001Z"
   },
   {
    "duration": 19,
    "start_time": "2022-05-21T12:10:39.089Z"
   },
   {
    "duration": 106,
    "start_time": "2022-05-21T12:10:39.109Z"
   },
   {
    "duration": 5,
    "start_time": "2022-05-21T12:10:39.217Z"
   },
   {
    "duration": 16,
    "start_time": "2022-05-21T12:10:39.224Z"
   },
   {
    "duration": 131,
    "start_time": "2022-05-21T12:10:39.242Z"
   },
   {
    "duration": 0,
    "start_time": "2022-05-21T12:10:39.375Z"
   },
   {
    "duration": 0,
    "start_time": "2022-05-21T12:10:39.376Z"
   },
   {
    "duration": 0,
    "start_time": "2022-05-21T12:10:39.377Z"
   },
   {
    "duration": 0,
    "start_time": "2022-05-21T12:10:39.378Z"
   },
   {
    "duration": 0,
    "start_time": "2022-05-21T12:10:39.379Z"
   },
   {
    "duration": 0,
    "start_time": "2022-05-21T12:10:39.394Z"
   },
   {
    "duration": 5,
    "start_time": "2022-05-21T12:11:17.464Z"
   },
   {
    "duration": 28,
    "start_time": "2022-05-21T12:11:20.881Z"
   },
   {
    "duration": 6,
    "start_time": "2022-05-21T12:17:13.264Z"
   },
   {
    "duration": 19,
    "start_time": "2022-05-21T12:17:14.334Z"
   },
   {
    "duration": 15,
    "start_time": "2022-05-21T12:19:42.716Z"
   },
   {
    "duration": 14,
    "start_time": "2022-05-21T12:19:49.163Z"
   },
   {
    "duration": 33,
    "start_time": "2022-05-21T12:20:16.579Z"
   },
   {
    "duration": 48,
    "start_time": "2022-05-21T12:20:23.629Z"
   },
   {
    "duration": 35,
    "start_time": "2022-05-21T12:20:35.241Z"
   },
   {
    "duration": 34,
    "start_time": "2022-05-21T12:20:40.183Z"
   },
   {
    "duration": 49,
    "start_time": "2022-05-21T12:20:49.288Z"
   },
   {
    "duration": 5,
    "start_time": "2022-05-21T12:20:58.700Z"
   },
   {
    "duration": 8,
    "start_time": "2022-05-21T12:21:00.676Z"
   },
   {
    "duration": 12,
    "start_time": "2022-05-21T12:21:04.023Z"
   },
   {
    "duration": 31,
    "start_time": "2022-05-21T12:22:15.970Z"
   },
   {
    "duration": 6,
    "start_time": "2022-05-21T12:22:25.120Z"
   },
   {
    "duration": 6,
    "start_time": "2022-05-21T12:22:49.903Z"
   },
   {
    "duration": 12,
    "start_time": "2022-05-21T12:22:52.787Z"
   },
   {
    "duration": 13,
    "start_time": "2022-05-21T12:24:45.860Z"
   },
   {
    "duration": 12,
    "start_time": "2022-05-21T12:25:10.702Z"
   },
   {
    "duration": 12,
    "start_time": "2022-05-21T12:25:13.207Z"
   },
   {
    "duration": 6,
    "start_time": "2022-05-21T12:25:21.007Z"
   },
   {
    "duration": 12,
    "start_time": "2022-05-21T12:25:26.196Z"
   },
   {
    "duration": 9,
    "start_time": "2022-05-21T12:25:37.772Z"
   },
   {
    "duration": 11,
    "start_time": "2022-05-21T12:26:07.322Z"
   },
   {
    "duration": 11,
    "start_time": "2022-05-21T12:26:20.814Z"
   },
   {
    "duration": 46,
    "start_time": "2022-05-21T12:27:17.534Z"
   },
   {
    "duration": 9,
    "start_time": "2022-05-21T12:27:22.135Z"
   },
   {
    "duration": 10,
    "start_time": "2022-05-21T12:27:33.323Z"
   },
   {
    "duration": 512,
    "start_time": "2022-05-21T12:27:40.023Z"
   },
   {
    "duration": 10,
    "start_time": "2022-05-21T12:27:50.422Z"
   },
   {
    "duration": 1109,
    "start_time": "2022-05-21T12:28:02.831Z"
   },
   {
    "duration": 67,
    "start_time": "2022-05-21T12:28:03.942Z"
   },
   {
    "duration": 20,
    "start_time": "2022-05-21T12:28:04.011Z"
   },
   {
    "duration": 3,
    "start_time": "2022-05-21T12:28:04.032Z"
   },
   {
    "duration": 9,
    "start_time": "2022-05-21T12:28:04.037Z"
   },
   {
    "duration": 7,
    "start_time": "2022-05-21T12:28:04.047Z"
   },
   {
    "duration": 15,
    "start_time": "2022-05-21T12:28:04.055Z"
   },
   {
    "duration": 14,
    "start_time": "2022-05-21T12:28:04.071Z"
   },
   {
    "duration": 12,
    "start_time": "2022-05-21T12:28:04.087Z"
   },
   {
    "duration": 7,
    "start_time": "2022-05-21T12:28:04.101Z"
   },
   {
    "duration": 12,
    "start_time": "2022-05-21T12:28:04.110Z"
   },
   {
    "duration": 17,
    "start_time": "2022-05-21T12:28:04.123Z"
   },
   {
    "duration": 6,
    "start_time": "2022-05-21T12:28:04.142Z"
   },
   {
    "duration": 9,
    "start_time": "2022-05-21T12:28:04.151Z"
   },
   {
    "duration": 6,
    "start_time": "2022-05-21T12:28:04.161Z"
   },
   {
    "duration": 11,
    "start_time": "2022-05-21T12:28:04.183Z"
   },
   {
    "duration": 15,
    "start_time": "2022-05-21T12:28:04.196Z"
   },
   {
    "duration": 14,
    "start_time": "2022-05-21T12:28:04.212Z"
   },
   {
    "duration": 8,
    "start_time": "2022-05-21T12:28:04.227Z"
   },
   {
    "duration": 13,
    "start_time": "2022-05-21T12:28:04.236Z"
   },
   {
    "duration": 6,
    "start_time": "2022-05-21T12:28:04.250Z"
   },
   {
    "duration": 31,
    "start_time": "2022-05-21T12:28:04.258Z"
   },
   {
    "duration": 11,
    "start_time": "2022-05-21T12:28:04.291Z"
   },
   {
    "duration": 290,
    "start_time": "2022-05-21T12:28:04.303Z"
   },
   {
    "duration": 6,
    "start_time": "2022-05-21T12:28:04.594Z"
   },
   {
    "duration": 8,
    "start_time": "2022-05-21T12:28:04.602Z"
   },
   {
    "duration": 7,
    "start_time": "2022-05-21T12:28:04.612Z"
   },
   {
    "duration": 428,
    "start_time": "2022-05-21T12:28:04.621Z"
   },
   {
    "duration": 230,
    "start_time": "2022-05-21T12:28:05.051Z"
   },
   {
    "duration": 308,
    "start_time": "2022-05-21T12:28:05.283Z"
   },
   {
    "duration": 244,
    "start_time": "2022-05-21T12:28:05.593Z"
   },
   {
    "duration": 318,
    "start_time": "2022-05-21T12:28:05.839Z"
   },
   {
    "duration": 12,
    "start_time": "2022-05-21T12:28:06.159Z"
   },
   {
    "duration": 17,
    "start_time": "2022-05-21T12:28:06.172Z"
   },
   {
    "duration": 160,
    "start_time": "2022-05-21T12:28:06.191Z"
   },
   {
    "duration": 4,
    "start_time": "2022-05-21T12:28:06.353Z"
   },
   {
    "duration": 12,
    "start_time": "2022-05-21T12:28:06.359Z"
   },
   {
    "duration": 139,
    "start_time": "2022-05-21T12:28:06.384Z"
   },
   {
    "duration": 137,
    "start_time": "2022-05-21T12:28:06.525Z"
   },
   {
    "duration": 6,
    "start_time": "2022-05-21T12:28:06.663Z"
   },
   {
    "duration": 260,
    "start_time": "2022-05-21T12:28:06.688Z"
   },
   {
    "duration": 159,
    "start_time": "2022-05-21T12:28:06.950Z"
   },
   {
    "duration": 33,
    "start_time": "2022-05-21T12:28:07.110Z"
   },
   {
    "duration": 12,
    "start_time": "2022-05-21T12:28:07.145Z"
   },
   {
    "duration": 33,
    "start_time": "2022-05-21T12:28:07.158Z"
   },
   {
    "duration": 31,
    "start_time": "2022-05-21T12:28:07.193Z"
   },
   {
    "duration": 15,
    "start_time": "2022-05-21T12:28:07.226Z"
   },
   {
    "duration": 5,
    "start_time": "2022-05-21T12:28:07.243Z"
   },
   {
    "duration": 177,
    "start_time": "2022-05-21T12:28:07.249Z"
   },
   {
    "duration": 22,
    "start_time": "2022-05-21T12:28:07.428Z"
   },
   {
    "duration": 6,
    "start_time": "2022-05-21T12:28:07.452Z"
   },
   {
    "duration": 4,
    "start_time": "2022-05-21T12:28:07.460Z"
   },
   {
    "duration": 15,
    "start_time": "2022-05-21T12:28:07.484Z"
   },
   {
    "duration": 61,
    "start_time": "2022-05-21T12:28:07.500Z"
   },
   {
    "duration": 79,
    "start_time": "2022-05-21T12:28:07.563Z"
   },
   {
    "duration": 148,
    "start_time": "2022-05-21T12:28:07.644Z"
   },
   {
    "duration": 5,
    "start_time": "2022-05-21T12:28:07.794Z"
   },
   {
    "duration": 23,
    "start_time": "2022-05-21T12:28:07.800Z"
   },
   {
    "duration": 10,
    "start_time": "2022-05-21T12:28:07.825Z"
   },
   {
    "duration": 65,
    "start_time": "2022-05-21T12:28:07.837Z"
   },
   {
    "duration": 10,
    "start_time": "2022-05-21T12:28:07.904Z"
   },
   {
    "duration": 20,
    "start_time": "2022-05-21T12:28:07.915Z"
   },
   {
    "duration": 385,
    "start_time": "2022-05-21T12:28:07.937Z"
   },
   {
    "duration": 268,
    "start_time": "2022-05-21T12:28:08.324Z"
   },
   {
    "duration": 18,
    "start_time": "2022-05-21T12:28:08.594Z"
   },
   {
    "duration": 248,
    "start_time": "2022-05-21T12:28:08.614Z"
   },
   {
    "duration": 103,
    "start_time": "2022-05-21T12:28:08.864Z"
   },
   {
    "duration": 29,
    "start_time": "2022-05-21T12:28:08.969Z"
   },
   {
    "duration": 36,
    "start_time": "2022-05-21T12:28:09.000Z"
   },
   {
    "duration": 23,
    "start_time": "2022-05-21T12:28:09.038Z"
   },
   {
    "duration": 79,
    "start_time": "2022-05-21T12:28:09.063Z"
   },
   {
    "duration": 3,
    "start_time": "2022-05-21T12:28:09.144Z"
   },
   {
    "duration": 14,
    "start_time": "2022-05-21T12:28:09.149Z"
   },
   {
    "duration": 1239,
    "start_time": "2022-05-21T12:41:37.615Z"
   },
   {
    "duration": 67,
    "start_time": "2022-05-21T12:41:38.856Z"
   },
   {
    "duration": 24,
    "start_time": "2022-05-21T12:41:38.925Z"
   },
   {
    "duration": 4,
    "start_time": "2022-05-21T12:41:38.951Z"
   },
   {
    "duration": 14,
    "start_time": "2022-05-21T12:41:38.957Z"
   },
   {
    "duration": 6,
    "start_time": "2022-05-21T12:41:38.973Z"
   },
   {
    "duration": 19,
    "start_time": "2022-05-21T12:41:38.981Z"
   },
   {
    "duration": 3,
    "start_time": "2022-05-21T12:41:39.003Z"
   },
   {
    "duration": 11,
    "start_time": "2022-05-21T12:41:39.008Z"
   },
   {
    "duration": 9,
    "start_time": "2022-05-21T12:41:39.021Z"
   },
   {
    "duration": 3,
    "start_time": "2022-05-21T12:41:39.032Z"
   },
   {
    "duration": 18,
    "start_time": "2022-05-21T12:41:39.037Z"
   },
   {
    "duration": 8,
    "start_time": "2022-05-21T12:41:39.084Z"
   },
   {
    "duration": 9,
    "start_time": "2022-05-21T12:41:39.094Z"
   },
   {
    "duration": 10,
    "start_time": "2022-05-21T12:41:39.104Z"
   },
   {
    "duration": 15,
    "start_time": "2022-05-21T12:41:39.115Z"
   },
   {
    "duration": 18,
    "start_time": "2022-05-21T12:41:39.132Z"
   },
   {
    "duration": 48,
    "start_time": "2022-05-21T12:41:39.152Z"
   },
   {
    "duration": 11,
    "start_time": "2022-05-21T12:41:39.202Z"
   },
   {
    "duration": 22,
    "start_time": "2022-05-21T12:41:39.215Z"
   },
   {
    "duration": 6,
    "start_time": "2022-05-21T12:41:39.239Z"
   },
   {
    "duration": 19,
    "start_time": "2022-05-21T12:41:39.247Z"
   },
   {
    "duration": 25,
    "start_time": "2022-05-21T12:41:39.268Z"
   },
   {
    "duration": 310,
    "start_time": "2022-05-21T12:41:39.295Z"
   },
   {
    "duration": 6,
    "start_time": "2022-05-21T12:41:39.607Z"
   },
   {
    "duration": 9,
    "start_time": "2022-05-21T12:41:39.615Z"
   },
   {
    "duration": 8,
    "start_time": "2022-05-21T12:41:39.625Z"
   },
   {
    "duration": 432,
    "start_time": "2022-05-21T12:41:39.637Z"
   },
   {
    "duration": 234,
    "start_time": "2022-05-21T12:41:40.071Z"
   },
   {
    "duration": 307,
    "start_time": "2022-05-21T12:41:40.307Z"
   },
   {
    "duration": 235,
    "start_time": "2022-05-21T12:41:40.615Z"
   },
   {
    "duration": 389,
    "start_time": "2022-05-21T12:41:40.851Z"
   },
   {
    "duration": 12,
    "start_time": "2022-05-21T12:41:41.242Z"
   },
   {
    "duration": 29,
    "start_time": "2022-05-21T12:41:41.256Z"
   },
   {
    "duration": 154,
    "start_time": "2022-05-21T12:41:41.287Z"
   },
   {
    "duration": 4,
    "start_time": "2022-05-21T12:41:41.443Z"
   },
   {
    "duration": 13,
    "start_time": "2022-05-21T12:41:41.448Z"
   },
   {
    "duration": 199,
    "start_time": "2022-05-21T12:41:41.463Z"
   },
   {
    "duration": 160,
    "start_time": "2022-05-21T12:41:41.664Z"
   },
   {
    "duration": 7,
    "start_time": "2022-05-21T12:41:41.825Z"
   },
   {
    "duration": 284,
    "start_time": "2022-05-21T12:41:41.834Z"
   },
   {
    "duration": 191,
    "start_time": "2022-05-21T12:41:42.119Z"
   },
   {
    "duration": 38,
    "start_time": "2022-05-21T12:41:42.312Z"
   },
   {
    "duration": 35,
    "start_time": "2022-05-21T12:41:42.351Z"
   },
   {
    "duration": 10,
    "start_time": "2022-05-21T12:41:42.388Z"
   },
   {
    "duration": 52,
    "start_time": "2022-05-21T12:41:42.400Z"
   },
   {
    "duration": 44,
    "start_time": "2022-05-21T12:41:42.454Z"
   },
   {
    "duration": 6,
    "start_time": "2022-05-21T12:41:42.500Z"
   },
   {
    "duration": 178,
    "start_time": "2022-05-21T12:41:42.508Z"
   },
   {
    "duration": 21,
    "start_time": "2022-05-21T12:41:42.688Z"
   },
   {
    "duration": 8,
    "start_time": "2022-05-21T12:41:42.711Z"
   },
   {
    "duration": 6,
    "start_time": "2022-05-21T12:41:42.721Z"
   },
   {
    "duration": 55,
    "start_time": "2022-05-21T12:41:42.729Z"
   },
   {
    "duration": 75,
    "start_time": "2022-05-21T12:41:42.786Z"
   },
   {
    "duration": 100,
    "start_time": "2022-05-21T12:41:42.863Z"
   },
   {
    "duration": 144,
    "start_time": "2022-05-21T12:41:42.965Z"
   },
   {
    "duration": 4,
    "start_time": "2022-05-21T12:41:43.111Z"
   },
   {
    "duration": 31,
    "start_time": "2022-05-21T12:41:43.116Z"
   },
   {
    "duration": 9,
    "start_time": "2022-05-21T12:41:43.149Z"
   },
   {
    "duration": 59,
    "start_time": "2022-05-21T12:41:43.160Z"
   },
   {
    "duration": 7,
    "start_time": "2022-05-21T12:41:43.221Z"
   },
   {
    "duration": 15,
    "start_time": "2022-05-21T12:41:43.230Z"
   },
   {
    "duration": 348,
    "start_time": "2022-05-21T12:41:43.247Z"
   },
   {
    "duration": 299,
    "start_time": "2022-05-21T12:41:43.596Z"
   },
   {
    "duration": 17,
    "start_time": "2022-05-21T12:41:43.897Z"
   },
   {
    "duration": 257,
    "start_time": "2022-05-21T12:41:43.916Z"
   },
   {
    "duration": 95,
    "start_time": "2022-05-21T12:41:44.175Z"
   },
   {
    "duration": 39,
    "start_time": "2022-05-21T12:41:44.272Z"
   },
   {
    "duration": 34,
    "start_time": "2022-05-21T12:41:44.313Z"
   },
   {
    "duration": 47,
    "start_time": "2022-05-21T12:41:44.348Z"
   },
   {
    "duration": 61,
    "start_time": "2022-05-21T12:41:44.397Z"
   },
   {
    "duration": 25,
    "start_time": "2022-05-21T12:41:44.460Z"
   },
   {
    "duration": 137,
    "start_time": "2022-05-21T12:41:44.487Z"
   },
   {
    "duration": 167,
    "start_time": "2022-05-21T12:41:44.626Z"
   },
   {
    "duration": 3,
    "start_time": "2022-05-21T12:41:44.795Z"
   },
   {
    "duration": 92,
    "start_time": "2022-05-21T12:41:44.800Z"
   },
   {
    "duration": 249,
    "start_time": "2022-05-21T12:41:44.894Z"
   },
   {
    "duration": 0,
    "start_time": "2022-05-21T12:41:45.145Z"
   },
   {
    "duration": 0,
    "start_time": "2022-05-21T12:41:45.147Z"
   },
   {
    "duration": 0,
    "start_time": "2022-05-21T12:41:45.148Z"
   },
   {
    "duration": 0,
    "start_time": "2022-05-21T12:41:45.149Z"
   },
   {
    "duration": 0,
    "start_time": "2022-05-21T12:41:45.150Z"
   },
   {
    "duration": 0,
    "start_time": "2022-05-21T12:41:45.151Z"
   },
   {
    "duration": 0,
    "start_time": "2022-05-21T12:41:45.152Z"
   },
   {
    "duration": 0,
    "start_time": "2022-05-21T12:41:45.153Z"
   },
   {
    "duration": 0,
    "start_time": "2022-05-21T12:41:45.155Z"
   },
   {
    "duration": 0,
    "start_time": "2022-05-21T12:41:45.156Z"
   },
   {
    "duration": 0,
    "start_time": "2022-05-21T12:41:45.157Z"
   },
   {
    "duration": 0,
    "start_time": "2022-05-21T12:41:45.158Z"
   },
   {
    "duration": 0,
    "start_time": "2022-05-21T12:41:45.183Z"
   },
   {
    "duration": 43,
    "start_time": "2022-05-21T12:42:20.111Z"
   },
   {
    "duration": 32,
    "start_time": "2022-05-21T12:42:41.397Z"
   },
   {
    "duration": 44,
    "start_time": "2022-05-21T12:42:47.694Z"
   },
   {
    "duration": 41,
    "start_time": "2022-05-21T12:43:09.906Z"
   },
   {
    "duration": 47,
    "start_time": "2022-05-21T12:43:18.610Z"
   },
   {
    "duration": 34,
    "start_time": "2022-05-21T12:55:06.400Z"
   },
   {
    "duration": 531,
    "start_time": "2022-05-21T12:55:22.172Z"
   },
   {
    "duration": 5,
    "start_time": "2022-05-21T13:02:45.825Z"
   },
   {
    "duration": 63,
    "start_time": "2022-05-21T13:02:52.442Z"
   },
   {
    "duration": 78,
    "start_time": "2022-05-21T13:02:56.114Z"
   },
   {
    "duration": 18,
    "start_time": "2022-05-21T13:03:03.701Z"
   },
   {
    "duration": 91,
    "start_time": "2022-05-21T13:03:07.798Z"
   },
   {
    "duration": 8,
    "start_time": "2022-05-21T13:03:10.384Z"
   },
   {
    "duration": 6,
    "start_time": "2022-05-21T13:03:13.087Z"
   },
   {
    "duration": 10,
    "start_time": "2022-05-21T13:03:15.144Z"
   },
   {
    "duration": 41,
    "start_time": "2022-05-21T13:04:33.402Z"
   },
   {
    "duration": 11,
    "start_time": "2022-05-21T13:04:43.413Z"
   },
   {
    "duration": 12,
    "start_time": "2022-05-21T13:04:45.725Z"
   },
   {
    "duration": 583,
    "start_time": "2022-05-21T13:04:47.967Z"
   },
   {
    "duration": 10,
    "start_time": "2022-05-21T13:05:22.176Z"
   },
   {
    "duration": 616,
    "start_time": "2022-05-21T13:05:29.175Z"
   },
   {
    "duration": 13,
    "start_time": "2022-05-21T13:06:11.168Z"
   },
   {
    "duration": 12,
    "start_time": "2022-05-21T13:06:19.016Z"
   },
   {
    "duration": 852,
    "start_time": "2022-05-21T13:06:23.716Z"
   },
   {
    "duration": 7,
    "start_time": "2022-05-21T13:07:13.182Z"
   },
   {
    "duration": 12,
    "start_time": "2022-05-21T13:07:53.063Z"
   },
   {
    "duration": 1236,
    "start_time": "2022-05-21T13:08:53.572Z"
   },
   {
    "duration": 68,
    "start_time": "2022-05-21T13:08:54.810Z"
   },
   {
    "duration": 19,
    "start_time": "2022-05-21T13:08:54.880Z"
   },
   {
    "duration": 3,
    "start_time": "2022-05-21T13:08:54.901Z"
   },
   {
    "duration": 10,
    "start_time": "2022-05-21T13:08:54.906Z"
   },
   {
    "duration": 5,
    "start_time": "2022-05-21T13:08:54.918Z"
   },
   {
    "duration": 29,
    "start_time": "2022-05-21T13:08:54.925Z"
   },
   {
    "duration": 5,
    "start_time": "2022-05-21T13:08:54.956Z"
   },
   {
    "duration": 7,
    "start_time": "2022-05-21T13:08:54.983Z"
   },
   {
    "duration": 10,
    "start_time": "2022-05-21T13:08:54.991Z"
   },
   {
    "duration": 2,
    "start_time": "2022-05-21T13:08:55.004Z"
   },
   {
    "duration": 19,
    "start_time": "2022-05-21T13:08:55.007Z"
   },
   {
    "duration": 7,
    "start_time": "2022-05-21T13:08:55.029Z"
   },
   {
    "duration": 7,
    "start_time": "2022-05-21T13:08:55.039Z"
   },
   {
    "duration": 38,
    "start_time": "2022-05-21T13:08:55.048Z"
   },
   {
    "duration": 12,
    "start_time": "2022-05-21T13:08:55.088Z"
   },
   {
    "duration": 16,
    "start_time": "2022-05-21T13:08:55.102Z"
   },
   {
    "duration": 13,
    "start_time": "2022-05-21T13:08:55.119Z"
   },
   {
    "duration": 7,
    "start_time": "2022-05-21T13:08:55.133Z"
   },
   {
    "duration": 12,
    "start_time": "2022-05-21T13:08:55.142Z"
   },
   {
    "duration": 5,
    "start_time": "2022-05-21T13:08:55.183Z"
   },
   {
    "duration": 10,
    "start_time": "2022-05-21T13:08:55.190Z"
   },
   {
    "duration": 11,
    "start_time": "2022-05-21T13:08:55.202Z"
   },
   {
    "duration": 305,
    "start_time": "2022-05-21T13:08:55.215Z"
   },
   {
    "duration": 5,
    "start_time": "2022-05-21T13:08:55.522Z"
   },
   {
    "duration": 9,
    "start_time": "2022-05-21T13:08:55.529Z"
   },
   {
    "duration": 8,
    "start_time": "2022-05-21T13:08:55.539Z"
   },
   {
    "duration": 431,
    "start_time": "2022-05-21T13:08:55.549Z"
   },
   {
    "duration": 224,
    "start_time": "2022-05-21T13:08:55.984Z"
   },
   {
    "duration": 307,
    "start_time": "2022-05-21T13:08:56.210Z"
   },
   {
    "duration": 239,
    "start_time": "2022-05-21T13:08:56.519Z"
   },
   {
    "duration": 359,
    "start_time": "2022-05-21T13:08:56.760Z"
   },
   {
    "duration": 11,
    "start_time": "2022-05-21T13:08:57.122Z"
   },
   {
    "duration": 8,
    "start_time": "2022-05-21T13:08:57.134Z"
   },
   {
    "duration": 186,
    "start_time": "2022-05-21T13:08:57.144Z"
   },
   {
    "duration": 5,
    "start_time": "2022-05-21T13:08:57.332Z"
   },
   {
    "duration": 11,
    "start_time": "2022-05-21T13:08:57.338Z"
   },
   {
    "duration": 156,
    "start_time": "2022-05-21T13:08:57.350Z"
   },
   {
    "duration": 143,
    "start_time": "2022-05-21T13:08:57.508Z"
   },
   {
    "duration": 5,
    "start_time": "2022-05-21T13:08:57.653Z"
   },
   {
    "duration": 283,
    "start_time": "2022-05-21T13:08:57.662Z"
   },
   {
    "duration": 191,
    "start_time": "2022-05-21T13:08:57.947Z"
   },
   {
    "duration": 33,
    "start_time": "2022-05-21T13:08:58.140Z"
   },
   {
    "duration": 11,
    "start_time": "2022-05-21T13:08:58.184Z"
   },
   {
    "duration": 9,
    "start_time": "2022-05-21T13:08:58.196Z"
   },
   {
    "duration": 33,
    "start_time": "2022-05-21T13:08:58.207Z"
   },
   {
    "duration": 42,
    "start_time": "2022-05-21T13:08:58.242Z"
   },
   {
    "duration": 7,
    "start_time": "2022-05-21T13:08:58.286Z"
   },
   {
    "duration": 168,
    "start_time": "2022-05-21T13:08:58.294Z"
   },
   {
    "duration": 25,
    "start_time": "2022-05-21T13:08:58.464Z"
   },
   {
    "duration": 7,
    "start_time": "2022-05-21T13:08:58.490Z"
   },
   {
    "duration": 4,
    "start_time": "2022-05-21T13:08:58.499Z"
   },
   {
    "duration": 17,
    "start_time": "2022-05-21T13:08:58.504Z"
   },
   {
    "duration": 98,
    "start_time": "2022-05-21T13:08:58.523Z"
   },
   {
    "duration": 84,
    "start_time": "2022-05-21T13:08:58.622Z"
   },
   {
    "duration": 135,
    "start_time": "2022-05-21T13:08:58.708Z"
   },
   {
    "duration": 6,
    "start_time": "2022-05-21T13:08:58.845Z"
   },
   {
    "duration": 38,
    "start_time": "2022-05-21T13:08:58.853Z"
   },
   {
    "duration": 8,
    "start_time": "2022-05-21T13:08:58.893Z"
   },
   {
    "duration": 44,
    "start_time": "2022-05-21T13:08:58.902Z"
   },
   {
    "duration": 10,
    "start_time": "2022-05-21T13:08:58.948Z"
   },
   {
    "duration": 39,
    "start_time": "2022-05-21T13:08:58.960Z"
   },
   {
    "duration": 322,
    "start_time": "2022-05-21T13:08:59.001Z"
   },
   {
    "duration": 264,
    "start_time": "2022-05-21T13:08:59.325Z"
   },
   {
    "duration": 17,
    "start_time": "2022-05-21T13:08:59.591Z"
   },
   {
    "duration": 264,
    "start_time": "2022-05-21T13:08:59.609Z"
   },
   {
    "duration": 95,
    "start_time": "2022-05-21T13:08:59.875Z"
   },
   {
    "duration": 35,
    "start_time": "2022-05-21T13:08:59.971Z"
   },
   {
    "duration": 34,
    "start_time": "2022-05-21T13:09:00.008Z"
   },
   {
    "duration": 45,
    "start_time": "2022-05-21T13:09:00.044Z"
   },
   {
    "duration": 60,
    "start_time": "2022-05-21T13:09:00.091Z"
   },
   {
    "duration": 3,
    "start_time": "2022-05-21T13:09:00.153Z"
   },
   {
    "duration": 34,
    "start_time": "2022-05-21T13:09:00.157Z"
   },
   {
    "duration": 252,
    "start_time": "2022-05-21T13:09:00.193Z"
   },
   {
    "duration": 3,
    "start_time": "2022-05-21T13:09:00.446Z"
   },
   {
    "duration": 58,
    "start_time": "2022-05-21T13:09:00.451Z"
   },
   {
    "duration": 5,
    "start_time": "2022-05-21T13:09:00.511Z"
   },
   {
    "duration": 120,
    "start_time": "2022-05-21T13:09:00.518Z"
   },
   {
    "duration": 115,
    "start_time": "2022-05-21T13:09:00.640Z"
   },
   {
    "duration": 29,
    "start_time": "2022-05-21T13:09:00.757Z"
   },
   {
    "duration": 97,
    "start_time": "2022-05-21T13:09:00.788Z"
   },
   {
    "duration": 6,
    "start_time": "2022-05-21T13:09:00.887Z"
   },
   {
    "duration": 15,
    "start_time": "2022-05-21T13:09:00.895Z"
   },
   {
    "duration": 46,
    "start_time": "2022-05-21T13:09:00.912Z"
   },
   {
    "duration": 72,
    "start_time": "2022-05-21T13:09:00.959Z"
   },
   {
    "duration": 12,
    "start_time": "2022-05-21T13:09:01.033Z"
   },
   {
    "duration": 17,
    "start_time": "2022-05-21T13:09:01.047Z"
   },
   {
    "duration": 29,
    "start_time": "2022-05-21T13:09:01.066Z"
   },
   {
    "duration": 28,
    "start_time": "2022-05-21T13:09:01.097Z"
   },
   {
    "duration": 165,
    "start_time": "2022-05-21T13:09:01.127Z"
   },
   {
    "duration": 697,
    "start_time": "2022-05-21T13:14:02.858Z"
   },
   {
    "duration": 10,
    "start_time": "2022-05-21T13:14:05.262Z"
   },
   {
    "duration": 8,
    "start_time": "2022-05-21T13:14:07.662Z"
   },
   {
    "duration": 15,
    "start_time": "2022-05-21T13:14:09.622Z"
   },
   {
    "duration": 11,
    "start_time": "2022-05-21T13:14:35.908Z"
   },
   {
    "duration": 20,
    "start_time": "2022-05-21T13:14:42.486Z"
   },
   {
    "duration": 1287,
    "start_time": "2022-05-21T13:16:07.775Z"
   },
   {
    "duration": 70,
    "start_time": "2022-05-21T13:16:09.064Z"
   },
   {
    "duration": 20,
    "start_time": "2022-05-21T13:16:09.136Z"
   },
   {
    "duration": 14,
    "start_time": "2022-05-21T13:16:09.158Z"
   },
   {
    "duration": 12,
    "start_time": "2022-05-21T13:16:09.174Z"
   },
   {
    "duration": 6,
    "start_time": "2022-05-21T13:16:09.188Z"
   },
   {
    "duration": 22,
    "start_time": "2022-05-21T13:16:09.196Z"
   },
   {
    "duration": 3,
    "start_time": "2022-05-21T13:16:09.221Z"
   },
   {
    "duration": 11,
    "start_time": "2022-05-21T13:16:09.226Z"
   },
   {
    "duration": 15,
    "start_time": "2022-05-21T13:16:09.240Z"
   },
   {
    "duration": 3,
    "start_time": "2022-05-21T13:16:09.257Z"
   },
   {
    "duration": 31,
    "start_time": "2022-05-21T13:16:09.285Z"
   },
   {
    "duration": 8,
    "start_time": "2022-05-21T13:16:09.317Z"
   },
   {
    "duration": 6,
    "start_time": "2022-05-21T13:16:09.326Z"
   },
   {
    "duration": 9,
    "start_time": "2022-05-21T13:16:09.334Z"
   },
   {
    "duration": 16,
    "start_time": "2022-05-21T13:16:09.345Z"
   },
   {
    "duration": 42,
    "start_time": "2022-05-21T13:16:09.363Z"
   },
   {
    "duration": 14,
    "start_time": "2022-05-21T13:16:09.407Z"
   },
   {
    "duration": 8,
    "start_time": "2022-05-21T13:16:09.423Z"
   },
   {
    "duration": 8,
    "start_time": "2022-05-21T13:16:09.432Z"
   },
   {
    "duration": 5,
    "start_time": "2022-05-21T13:16:09.442Z"
   },
   {
    "duration": 37,
    "start_time": "2022-05-21T13:16:09.449Z"
   },
   {
    "duration": 15,
    "start_time": "2022-05-21T13:16:09.488Z"
   },
   {
    "duration": 302,
    "start_time": "2022-05-21T13:16:09.505Z"
   },
   {
    "duration": 7,
    "start_time": "2022-05-21T13:16:09.809Z"
   },
   {
    "duration": 23,
    "start_time": "2022-05-21T13:16:09.817Z"
   },
   {
    "duration": 9,
    "start_time": "2022-05-21T13:16:09.843Z"
   },
   {
    "duration": 428,
    "start_time": "2022-05-21T13:16:09.856Z"
   },
   {
    "duration": 244,
    "start_time": "2022-05-21T13:16:10.286Z"
   },
   {
    "duration": 330,
    "start_time": "2022-05-21T13:16:10.532Z"
   },
   {
    "duration": 234,
    "start_time": "2022-05-21T13:16:10.863Z"
   },
   {
    "duration": 325,
    "start_time": "2022-05-21T13:16:11.099Z"
   },
   {
    "duration": 12,
    "start_time": "2022-05-21T13:16:11.426Z"
   },
   {
    "duration": 7,
    "start_time": "2022-05-21T13:16:11.440Z"
   },
   {
    "duration": 162,
    "start_time": "2022-05-21T13:16:11.448Z"
   },
   {
    "duration": 5,
    "start_time": "2022-05-21T13:16:11.612Z"
   },
   {
    "duration": 10,
    "start_time": "2022-05-21T13:16:11.618Z"
   },
   {
    "duration": 146,
    "start_time": "2022-05-21T13:16:11.629Z"
   },
   {
    "duration": 137,
    "start_time": "2022-05-21T13:16:11.784Z"
   },
   {
    "duration": 4,
    "start_time": "2022-05-21T13:16:11.923Z"
   },
   {
    "duration": 238,
    "start_time": "2022-05-21T13:16:11.929Z"
   },
   {
    "duration": 134,
    "start_time": "2022-05-21T13:16:12.169Z"
   },
   {
    "duration": 34,
    "start_time": "2022-05-21T13:16:12.304Z"
   },
   {
    "duration": 11,
    "start_time": "2022-05-21T13:16:12.341Z"
   },
   {
    "duration": 37,
    "start_time": "2022-05-21T13:16:12.354Z"
   },
   {
    "duration": 59,
    "start_time": "2022-05-21T13:16:12.393Z"
   },
   {
    "duration": 14,
    "start_time": "2022-05-21T13:16:12.453Z"
   },
   {
    "duration": 28,
    "start_time": "2022-05-21T13:16:12.469Z"
   },
   {
    "duration": 183,
    "start_time": "2022-05-21T13:16:12.499Z"
   },
   {
    "duration": 20,
    "start_time": "2022-05-21T13:16:12.684Z"
   },
   {
    "duration": 13,
    "start_time": "2022-05-21T13:16:12.705Z"
   },
   {
    "duration": 18,
    "start_time": "2022-05-21T13:16:12.719Z"
   },
   {
    "duration": 23,
    "start_time": "2022-05-21T13:16:12.739Z"
   },
   {
    "duration": 65,
    "start_time": "2022-05-21T13:16:12.764Z"
   },
   {
    "duration": 79,
    "start_time": "2022-05-21T13:16:12.830Z"
   },
   {
    "duration": 150,
    "start_time": "2022-05-21T13:16:12.910Z"
   },
   {
    "duration": 4,
    "start_time": "2022-05-21T13:16:13.062Z"
   },
   {
    "duration": 40,
    "start_time": "2022-05-21T13:16:13.067Z"
   },
   {
    "duration": 9,
    "start_time": "2022-05-21T13:16:13.108Z"
   },
   {
    "duration": 58,
    "start_time": "2022-05-21T13:16:13.118Z"
   },
   {
    "duration": 8,
    "start_time": "2022-05-21T13:16:13.178Z"
   },
   {
    "duration": 25,
    "start_time": "2022-05-21T13:16:13.187Z"
   },
   {
    "duration": 329,
    "start_time": "2022-05-21T13:16:13.213Z"
   },
   {
    "duration": 271,
    "start_time": "2022-05-21T13:16:13.544Z"
   },
   {
    "duration": 17,
    "start_time": "2022-05-21T13:16:13.816Z"
   },
   {
    "duration": 260,
    "start_time": "2022-05-21T13:16:13.835Z"
   },
   {
    "duration": 108,
    "start_time": "2022-05-21T13:16:14.098Z"
   },
   {
    "duration": 23,
    "start_time": "2022-05-21T13:16:14.207Z"
   },
   {
    "duration": 53,
    "start_time": "2022-05-21T13:16:14.232Z"
   },
   {
    "duration": 27,
    "start_time": "2022-05-21T13:16:14.286Z"
   },
   {
    "duration": 99,
    "start_time": "2022-05-21T13:16:14.315Z"
   },
   {
    "duration": 7,
    "start_time": "2022-05-21T13:16:14.416Z"
   },
   {
    "duration": 131,
    "start_time": "2022-05-21T13:16:14.425Z"
   },
   {
    "duration": 155,
    "start_time": "2022-05-21T13:16:14.558Z"
   },
   {
    "duration": 3,
    "start_time": "2022-05-21T13:16:14.715Z"
   },
   {
    "duration": 73,
    "start_time": "2022-05-21T13:16:14.720Z"
   },
   {
    "duration": 5,
    "start_time": "2022-05-21T13:16:14.795Z"
   },
   {
    "duration": 105,
    "start_time": "2022-05-21T13:16:14.802Z"
   },
   {
    "duration": 94,
    "start_time": "2022-05-21T13:16:14.909Z"
   },
   {
    "duration": 18,
    "start_time": "2022-05-21T13:16:15.005Z"
   },
   {
    "duration": 106,
    "start_time": "2022-05-21T13:16:15.025Z"
   },
   {
    "duration": 5,
    "start_time": "2022-05-21T13:16:15.138Z"
   },
   {
    "duration": 24,
    "start_time": "2022-05-21T13:16:15.145Z"
   },
   {
    "duration": 38,
    "start_time": "2022-05-21T13:16:15.171Z"
   },
   {
    "duration": 48,
    "start_time": "2022-05-21T13:16:15.212Z"
   },
   {
    "duration": 10,
    "start_time": "2022-05-21T13:16:15.262Z"
   },
   {
    "duration": 11,
    "start_time": "2022-05-21T13:16:15.274Z"
   },
   {
    "duration": 9,
    "start_time": "2022-05-21T13:16:15.286Z"
   },
   {
    "duration": 6,
    "start_time": "2022-05-21T13:16:15.296Z"
   },
   {
    "duration": 12,
    "start_time": "2022-05-21T13:16:15.304Z"
   },
   {
    "duration": 1573,
    "start_time": "2022-05-21T20:28:12.316Z"
   },
   {
    "duration": 114,
    "start_time": "2022-05-21T20:28:13.891Z"
   },
   {
    "duration": 30,
    "start_time": "2022-05-21T20:28:14.007Z"
   },
   {
    "duration": 3,
    "start_time": "2022-05-21T20:28:14.040Z"
   },
   {
    "duration": 11,
    "start_time": "2022-05-21T20:28:14.045Z"
   },
   {
    "duration": 9,
    "start_time": "2022-05-21T20:28:14.059Z"
   },
   {
    "duration": 21,
    "start_time": "2022-05-21T20:28:14.070Z"
   },
   {
    "duration": 5,
    "start_time": "2022-05-21T20:28:14.123Z"
   },
   {
    "duration": 16,
    "start_time": "2022-05-21T20:28:14.130Z"
   },
   {
    "duration": 10,
    "start_time": "2022-05-21T20:28:14.149Z"
   },
   {
    "duration": 8,
    "start_time": "2022-05-21T20:28:14.161Z"
   },
   {
    "duration": 19,
    "start_time": "2022-05-21T20:28:14.170Z"
   },
   {
    "duration": 34,
    "start_time": "2022-05-21T20:28:14.190Z"
   },
   {
    "duration": 6,
    "start_time": "2022-05-21T20:28:14.226Z"
   },
   {
    "duration": 8,
    "start_time": "2022-05-21T20:28:14.233Z"
   },
   {
    "duration": 17,
    "start_time": "2022-05-21T20:28:14.243Z"
   },
   {
    "duration": 18,
    "start_time": "2022-05-21T20:28:14.262Z"
   },
   {
    "duration": 43,
    "start_time": "2022-05-21T20:28:14.282Z"
   },
   {
    "duration": 11,
    "start_time": "2022-05-21T20:28:14.327Z"
   },
   {
    "duration": 10,
    "start_time": "2022-05-21T20:28:14.340Z"
   },
   {
    "duration": 7,
    "start_time": "2022-05-21T20:28:14.352Z"
   },
   {
    "duration": 9,
    "start_time": "2022-05-21T20:28:14.360Z"
   },
   {
    "duration": 12,
    "start_time": "2022-05-21T20:28:14.371Z"
   },
   {
    "duration": 417,
    "start_time": "2022-05-21T20:28:14.384Z"
   },
   {
    "duration": 7,
    "start_time": "2022-05-21T20:28:14.803Z"
   },
   {
    "duration": 6,
    "start_time": "2022-05-21T20:28:14.823Z"
   },
   {
    "duration": 9,
    "start_time": "2022-05-21T20:28:14.830Z"
   },
   {
    "duration": 372,
    "start_time": "2022-05-21T20:28:14.843Z"
   },
   {
    "duration": 253,
    "start_time": "2022-05-21T20:28:15.217Z"
   },
   {
    "duration": 384,
    "start_time": "2022-05-21T20:28:15.472Z"
   },
   {
    "duration": 242,
    "start_time": "2022-05-21T20:28:15.858Z"
   },
   {
    "duration": 351,
    "start_time": "2022-05-21T20:28:16.102Z"
   },
   {
    "duration": 12,
    "start_time": "2022-05-21T20:28:16.456Z"
   },
   {
    "duration": 8,
    "start_time": "2022-05-21T20:28:16.470Z"
   },
   {
    "duration": 172,
    "start_time": "2022-05-21T20:28:16.480Z"
   },
   {
    "duration": 5,
    "start_time": "2022-05-21T20:28:16.654Z"
   },
   {
    "duration": 10,
    "start_time": "2022-05-21T20:28:16.661Z"
   },
   {
    "duration": 157,
    "start_time": "2022-05-21T20:28:16.673Z"
   },
   {
    "duration": 155,
    "start_time": "2022-05-21T20:28:16.832Z"
   },
   {
    "duration": 6,
    "start_time": "2022-05-21T20:28:16.989Z"
   },
   {
    "duration": 260,
    "start_time": "2022-05-21T20:28:16.997Z"
   },
   {
    "duration": 130,
    "start_time": "2022-05-21T20:28:17.259Z"
   },
   {
    "duration": 46,
    "start_time": "2022-05-21T20:28:17.391Z"
   },
   {
    "duration": 11,
    "start_time": "2022-05-21T20:28:17.439Z"
   },
   {
    "duration": 11,
    "start_time": "2022-05-21T20:28:17.451Z"
   },
   {
    "duration": 33,
    "start_time": "2022-05-21T20:28:17.463Z"
   },
   {
    "duration": 39,
    "start_time": "2022-05-21T20:28:17.498Z"
   },
   {
    "duration": 6,
    "start_time": "2022-05-21T20:28:17.539Z"
   },
   {
    "duration": 524,
    "start_time": "2022-05-21T20:28:17.547Z"
   },
   {
    "duration": 22,
    "start_time": "2022-05-21T20:28:18.074Z"
   },
   {
    "duration": 10,
    "start_time": "2022-05-21T20:28:18.098Z"
   },
   {
    "duration": 14,
    "start_time": "2022-05-21T20:28:18.110Z"
   },
   {
    "duration": 29,
    "start_time": "2022-05-21T20:28:18.126Z"
   },
   {
    "duration": 82,
    "start_time": "2022-05-21T20:28:18.157Z"
   },
   {
    "duration": 84,
    "start_time": "2022-05-21T20:28:18.241Z"
   },
   {
    "duration": 144,
    "start_time": "2022-05-21T20:28:18.327Z"
   },
   {
    "duration": 5,
    "start_time": "2022-05-21T20:28:18.472Z"
   },
   {
    "duration": 22,
    "start_time": "2022-05-21T20:28:18.479Z"
   },
   {
    "duration": 8,
    "start_time": "2022-05-21T20:28:18.524Z"
   },
   {
    "duration": 41,
    "start_time": "2022-05-21T20:28:18.534Z"
   },
   {
    "duration": 8,
    "start_time": "2022-05-21T20:28:18.577Z"
   },
   {
    "duration": 37,
    "start_time": "2022-05-21T20:28:18.587Z"
   },
   {
    "duration": 336,
    "start_time": "2022-05-21T20:28:18.626Z"
   },
   {
    "duration": 283,
    "start_time": "2022-05-21T20:28:18.964Z"
   },
   {
    "duration": 22,
    "start_time": "2022-05-21T20:28:19.249Z"
   },
   {
    "duration": 379,
    "start_time": "2022-05-21T20:28:19.273Z"
   },
   {
    "duration": 111,
    "start_time": "2022-05-21T20:28:19.653Z"
   },
   {
    "duration": 23,
    "start_time": "2022-05-21T20:28:19.766Z"
   },
   {
    "duration": 55,
    "start_time": "2022-05-21T20:28:19.790Z"
   },
   {
    "duration": 23,
    "start_time": "2022-05-21T20:28:19.847Z"
   },
   {
    "duration": 74,
    "start_time": "2022-05-21T20:28:19.871Z"
   },
   {
    "duration": 4,
    "start_time": "2022-05-21T20:28:19.947Z"
   },
   {
    "duration": 51,
    "start_time": "2022-05-21T20:28:19.953Z"
   },
   {
    "duration": 190,
    "start_time": "2022-05-21T20:28:20.007Z"
   },
   {
    "duration": 5,
    "start_time": "2022-05-21T20:28:20.199Z"
   },
   {
    "duration": 54,
    "start_time": "2022-05-21T20:28:20.206Z"
   },
   {
    "duration": 6,
    "start_time": "2022-05-21T20:28:20.261Z"
   },
   {
    "duration": 71,
    "start_time": "2022-05-21T20:28:20.324Z"
   },
   {
    "duration": 101,
    "start_time": "2022-05-21T20:28:20.423Z"
   },
   {
    "duration": 15,
    "start_time": "2022-05-21T20:28:20.526Z"
   },
   {
    "duration": 103,
    "start_time": "2022-05-21T20:28:20.542Z"
   },
   {
    "duration": 6,
    "start_time": "2022-05-21T20:28:20.649Z"
   },
   {
    "duration": 6,
    "start_time": "2022-05-21T20:28:20.658Z"
   },
   {
    "duration": 14,
    "start_time": "2022-05-21T20:28:20.665Z"
   },
   {
    "duration": 66,
    "start_time": "2022-05-21T20:28:20.681Z"
   },
   {
    "duration": 11,
    "start_time": "2022-05-21T20:28:20.749Z"
   },
   {
    "duration": 12,
    "start_time": "2022-05-21T20:28:20.762Z"
   },
   {
    "duration": 9,
    "start_time": "2022-05-21T20:28:20.775Z"
   },
   {
    "duration": 13,
    "start_time": "2022-05-21T20:28:20.786Z"
   },
   {
    "duration": 11,
    "start_time": "2022-05-21T20:28:20.824Z"
   }
  ],
  "kernelspec": {
   "display_name": "Python 3 (ipykernel)",
   "language": "python",
   "name": "python3"
  },
  "language_info": {
   "codemirror_mode": {
    "name": "ipython",
    "version": 3
   },
   "file_extension": ".py",
   "mimetype": "text/x-python",
   "name": "python",
   "nbconvert_exporter": "python",
   "pygments_lexer": "ipython3",
   "version": "3.9.12"
  },
  "toc": {
   "base_numbering": 1,
   "nav_menu": {
    "height": "153.993px",
    "width": "279.427px"
   },
   "number_sections": true,
   "sideBar": true,
   "skip_h1_title": true,
   "title_cell": "Table of Contents",
   "title_sidebar": "Contents",
   "toc_cell": false,
   "toc_position": {
    "height": "calc(100% - 180px)",
    "left": "10px",
    "top": "150px",
    "width": "165px"
   },
   "toc_section_display": true,
   "toc_window_display": true
  }
 },
 "nbformat": 4,
 "nbformat_minor": 2
}
